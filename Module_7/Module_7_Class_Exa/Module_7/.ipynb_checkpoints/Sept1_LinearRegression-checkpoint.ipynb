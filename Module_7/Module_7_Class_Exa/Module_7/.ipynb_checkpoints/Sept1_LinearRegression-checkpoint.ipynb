{
 "cells": [
  {
   "cell_type": "code",
   "execution_count": 59,
   "metadata": {},
   "outputs": [],
   "source": [
    "import numpy as np\n",
    "import matplotlib.pyplot as plt\n",
    "import pandas as pd\n",
    "import warnings\n",
    "warnings.simplefilter(action='ignore', category=FutureWarning)"
   ]
  },
  {
   "cell_type": "code",
   "execution_count": 60,
   "metadata": {},
   "outputs": [
    {
     "data": {
      "text/plain": [
       "(24, 24)"
      ]
     },
     "execution_count": 60,
     "metadata": {},
     "output_type": "execute_result"
    }
   ],
   "source": [
    "# step 1: prepare the data\n",
    "# .. I would take two random lists\n",
    "xs = list(np.arange(2,26))\n",
    "ys = [10, 12, 20, 22, 21, 25, 30, 21, 32, 34, 35, 30, 50, 45, 55, 60, 66, 64, 67, 72, 74, 80, 79, 84]\n",
    "len(xs),len(ys)"
   ]
  },
  {
   "cell_type": "code",
   "execution_count": 61,
   "metadata": {},
   "outputs": [
    {
     "data": {
      "text/plain": [
       "Text(0,0.5,'Y-dependent variable')"
      ]
     },
     "execution_count": 61,
     "metadata": {},
     "output_type": "execute_result"
    },
    {
     "data": {
      "image/png": "[encoded data removed]",
      "text/plain": [
       "<Figure size 432x288 with 1 Axes>"
      ]
     },
     "metadata": {},
     "output_type": "display_data"
    }
   ],
   "source": [
    "# step 2: lets see how does our data look like\n",
    "\n",
    "plt.scatter(xs,ys)\n",
    "plt.xlabel('X-Independent variable')\n",
    "plt.ylabel('Y-dependent variable')"
   ]
  },
  {
   "cell_type": "raw",
   "metadata": {},
   "source": [
    "# Step 3\n",
    "we will solve this with the help of Linear Regression and the equation would be\n",
    "Y = mX + c\n",
    "Oridinary least square OLS method and Gradient Descent approach\n",
    "OLS:\n",
    "slope m = ((mean(x).mean(y) - mean(xy))/(mean(x)^2 - mean(x^2))\n",
    "intercept c = mean(y) - mean(x)*m"
   ]
  },
  {
   "cell_type": "code",
   "execution_count": 62,
   "metadata": {},
   "outputs": [],
   "source": [
    "# step 4: lets write a function to calculate slope and intercept\n",
    "def calculate_slope_and_intercept(x_idv, y_dv):\n",
    "    x = np.array(x_idv)\n",
    "    y = np.array(y_dv)\n",
    "    #m\n",
    "    m = ( np.mean(x)*np.mean(y) - np.mean(x*y))/(\n",
    "    (np.mean(x)*np.mean(x)) - np.mean(x*x))\n",
    "    m = round(m,2)\n",
    "    \n",
    "    #intercept c\n",
    "    c = np.mean(y) - np.mean(x)*m\n",
    "    c = round(c,2)\n",
    "    return m,c"
   ]
  },
  {
   "cell_type": "code",
   "execution_count": 63,
   "metadata": {},
   "outputs": [],
   "source": [
    "# step 5:\n",
    "m,c = calculate_slope_and_intercept(xs,ys)"
   ]
  },
  {
   "cell_type": "code",
   "execution_count": 64,
   "metadata": {},
   "outputs": [],
   "source": [
    "# create the equation\n",
    "# Y = mX + c\n",
    "#Y = 3.29X + 0.92\n"
   ]
  },
  {
   "cell_type": "code",
   "execution_count": 66,
   "metadata": {},
   "outputs": [
    {
     "data": {
      "image/png": "[encoded data removed]",
      "text/plain": [
       "<Figure size 432x288 with 1 Axes>"
      ]
     },
     "metadata": {},
     "output_type": "display_data"
    }
   ],
   "source": [
    "# step 7: let's plot the regression line\n",
    "regression_line = [3.29*elem + 0.92 for elem in xs]\n",
    "plt.scatter(xs,ys, color='red')\n",
    "plt.plot(xs,regression_line)\n",
    "plt.xlabel('independent variable')\n",
    "plt.ylabel('dependent variable')\n",
    "plt.title(\"Simple Linear regression\")\n",
    "plt.show()\n"
   ]
  },
  {
   "cell_type": "code",
   "execution_count": 67,
   "metadata": {},
   "outputs": [
    {
     "data": {
      "text/plain": [
       "[7.5,\n",
       " 10.790000000000001,\n",
       " 14.08,\n",
       " 17.37,\n",
       " 20.660000000000004,\n",
       " 23.950000000000003,\n",
       " 27.240000000000002,\n",
       " 30.53,\n",
       " 33.82,\n",
       " 37.11,\n",
       " 40.400000000000006,\n",
       " 43.690000000000005,\n",
       " 46.980000000000004,\n",
       " 50.27,\n",
       " 53.56,\n",
       " 56.85,\n",
       " 60.14,\n",
       " 63.43,\n",
       " 66.72,\n",
       " 70.01,\n",
       " 73.3,\n",
       " 76.59,\n",
       " 79.88000000000001,\n",
       " 83.17]"
      ]
     },
     "execution_count": 67,
     "metadata": {},
     "output_type": "execute_result"
    }
   ],
   "source": [
    "# RMSE:, root mean squared error\n",
    "#sqrt((Y_actual - Y_prediction)**2)\n",
    "y_pred = [3.29*elem + 0.92 for elem in xs]\n",
    "y_actual = ys\n"
   ]
  },
  {
   "cell_type": "code",
   "execution_count": null,
   "metadata": {},
   "outputs": [],
   "source": []
  }
 ],
 "metadata": {
  "kernelspec": {
   "display_name": "Python 3",
   "language": "python",
   "name": "python3"
  },
  "language_info": {
   "codemirror_mode": {
    "name": "ipython",
    "version": 3
   },
   "file_extension": ".py",
   "mimetype": "text/x-python",
   "name": "python",
   "nbconvert_exporter": "python",
   "pygments_lexer": "ipython3",
   "version": "3.6.5"
  }
 },
 "nbformat": 4,
 "nbformat_minor": 2
}
