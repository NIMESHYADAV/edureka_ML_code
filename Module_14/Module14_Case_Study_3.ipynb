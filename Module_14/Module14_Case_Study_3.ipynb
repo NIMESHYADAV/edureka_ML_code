{
 "cells": [
  {
   "cell_type": "code",
   "execution_count": 38,
   "metadata": {},
   "outputs": [],
   "source": [
    "import numpy as np\n",
    "import pandas as pd\n",
    "import matplotlib.pyplot as plt\n",
    "from sklearn.model_selection import train_test_split"
   ]
  },
  {
   "cell_type": "markdown",
   "metadata": {},
   "source": [
    "## 1.The data file contains numerical attributes that describe a letter and its corresponding class. Read the datafile “letterCG.data” and set all the numerical attributes as features. Split the data in to train and test sets. "
   ]
  },
  {
   "cell_type": "code",
   "execution_count": 39,
   "metadata": {},
   "outputs": [],
   "source": [
    "records = pd.read_csv('letterCG.bin',sep=' ')"
   ]
  },
  {
   "cell_type": "code",
   "execution_count": 40,
   "metadata": {},
   "outputs": [
    {
     "data": {
      "text/html": [
       "<div>\n",
       "<style scoped>\n",
       "    .dataframe tbody tr th:only-of-type {\n",
       "        vertical-align: middle;\n",
       "    }\n",
       "\n",
       "    .dataframe tbody tr th {\n",
       "        vertical-align: top;\n",
       "    }\n",
       "\n",
       "    .dataframe thead th {\n",
       "        text-align: right;\n",
       "    }\n",
       "</style>\n",
       "<table border=\"1\" class=\"dataframe\">\n",
       "  <thead>\n",
       "    <tr style=\"text-align: right;\">\n",
       "      <th></th>\n",
       "      <th>Class</th>\n",
       "      <th>x-box</th>\n",
       "      <th>y-box</th>\n",
       "      <th>width</th>\n",
       "      <th>high</th>\n",
       "      <th>onpix</th>\n",
       "      <th>x-bar</th>\n",
       "      <th>y-bar</th>\n",
       "      <th>x2bar</th>\n",
       "      <th>y2bar</th>\n",
       "      <th>xybar</th>\n",
       "      <th>x2ybr</th>\n",
       "      <th>xy2br</th>\n",
       "      <th>x-ege</th>\n",
       "      <th>xegvy</th>\n",
       "      <th>y-ege</th>\n",
       "      <th>yegvx</th>\n",
       "    </tr>\n",
       "  </thead>\n",
       "  <tbody>\n",
       "    <tr>\n",
       "      <th>0</th>\n",
       "      <td>C</td>\n",
       "      <td>4</td>\n",
       "      <td>10</td>\n",
       "      <td>5</td>\n",
       "      <td>8</td>\n",
       "      <td>2</td>\n",
       "      <td>5</td>\n",
       "      <td>7</td>\n",
       "      <td>7</td>\n",
       "      <td>10</td>\n",
       "      <td>7</td>\n",
       "      <td>6</td>\n",
       "      <td>13</td>\n",
       "      <td>1</td>\n",
       "      <td>8</td>\n",
       "      <td>4</td>\n",
       "      <td>9</td>\n",
       "    </tr>\n",
       "    <tr>\n",
       "      <th>1</th>\n",
       "      <td>C</td>\n",
       "      <td>3</td>\n",
       "      <td>5</td>\n",
       "      <td>4</td>\n",
       "      <td>4</td>\n",
       "      <td>2</td>\n",
       "      <td>4</td>\n",
       "      <td>8</td>\n",
       "      <td>5</td>\n",
       "      <td>7</td>\n",
       "      <td>12</td>\n",
       "      <td>9</td>\n",
       "      <td>11</td>\n",
       "      <td>1</td>\n",
       "      <td>10</td>\n",
       "      <td>2</td>\n",
       "      <td>7</td>\n",
       "    </tr>\n",
       "    <tr>\n",
       "      <th>2</th>\n",
       "      <td>G</td>\n",
       "      <td>5</td>\n",
       "      <td>10</td>\n",
       "      <td>6</td>\n",
       "      <td>7</td>\n",
       "      <td>3</td>\n",
       "      <td>8</td>\n",
       "      <td>7</td>\n",
       "      <td>8</td>\n",
       "      <td>8</td>\n",
       "      <td>6</td>\n",
       "      <td>7</td>\n",
       "      <td>9</td>\n",
       "      <td>2</td>\n",
       "      <td>7</td>\n",
       "      <td>5</td>\n",
       "      <td>10</td>\n",
       "    </tr>\n",
       "    <tr>\n",
       "      <th>3</th>\n",
       "      <td>C</td>\n",
       "      <td>5</td>\n",
       "      <td>9</td>\n",
       "      <td>6</td>\n",
       "      <td>7</td>\n",
       "      <td>4</td>\n",
       "      <td>3</td>\n",
       "      <td>8</td>\n",
       "      <td>6</td>\n",
       "      <td>7</td>\n",
       "      <td>12</td>\n",
       "      <td>10</td>\n",
       "      <td>13</td>\n",
       "      <td>1</td>\n",
       "      <td>9</td>\n",
       "      <td>3</td>\n",
       "      <td>7</td>\n",
       "    </tr>\n",
       "    <tr>\n",
       "      <th>4</th>\n",
       "      <td>G</td>\n",
       "      <td>4</td>\n",
       "      <td>8</td>\n",
       "      <td>5</td>\n",
       "      <td>6</td>\n",
       "      <td>3</td>\n",
       "      <td>6</td>\n",
       "      <td>6</td>\n",
       "      <td>7</td>\n",
       "      <td>6</td>\n",
       "      <td>10</td>\n",
       "      <td>7</td>\n",
       "      <td>12</td>\n",
       "      <td>2</td>\n",
       "      <td>9</td>\n",
       "      <td>4</td>\n",
       "      <td>9</td>\n",
       "    </tr>\n",
       "  </tbody>\n",
       "</table>\n",
       "</div>"
      ],
      "text/plain": [
       "  Class  x-box  y-box  width  high  onpix  x-bar  y-bar  x2bar  y2bar  xybar  \\\n",
       "0     C      4     10      5     8      2      5      7      7     10      7   \n",
       "1     C      3      5      4     4      2      4      8      5      7     12   \n",
       "2     G      5     10      6     7      3      8      7      8      8      6   \n",
       "3     C      5      9      6     7      4      3      8      6      7     12   \n",
       "4     G      4      8      5     6      3      6      6      7      6     10   \n",
       "\n",
       "   x2ybr  xy2br  x-ege  xegvy  y-ege  yegvx  \n",
       "0      6     13      1      8      4      9  \n",
       "1      9     11      1     10      2      7  \n",
       "2      7      9      2      7      5     10  \n",
       "3     10     13      1      9      3      7  \n",
       "4      7     12      2      9      4      9  "
      ]
     },
     "execution_count": 40,
     "metadata": {},
     "output_type": "execute_result"
    }
   ],
   "source": [
    "records.head()"
   ]
  },
  {
   "cell_type": "code",
   "execution_count": 41,
   "metadata": {},
   "outputs": [
    {
     "data": {
      "text/plain": [
       "(1509, 17)"
      ]
     },
     "execution_count": 41,
     "metadata": {},
     "output_type": "execute_result"
    }
   ],
   "source": [
    "records.shape"
   ]
  },
  {
   "cell_type": "code",
   "execution_count": 42,
   "metadata": {},
   "outputs": [
    {
     "name": "stdout",
     "output_type": "stream",
     "text": [
      "<class 'pandas.core.frame.DataFrame'>\n",
      "RangeIndex: 1509 entries, 0 to 1508\n",
      "Data columns (total 17 columns):\n",
      "Class    1509 non-null object\n",
      "x-box    1509 non-null int64\n",
      "y-box    1509 non-null int64\n",
      "width    1509 non-null int64\n",
      "high     1509 non-null int64\n",
      "onpix    1509 non-null int64\n",
      "x-bar    1509 non-null int64\n",
      "y-bar    1509 non-null int64\n",
      "x2bar    1509 non-null int64\n",
      "y2bar    1509 non-null int64\n",
      "xybar    1509 non-null int64\n",
      "x2ybr    1509 non-null int64\n",
      "xy2br    1509 non-null int64\n",
      "x-ege    1509 non-null int64\n",
      "xegvy    1509 non-null int64\n",
      "y-ege    1509 non-null int64\n",
      "yegvx    1509 non-null int64\n",
      "dtypes: int64(16), object(1)\n",
      "memory usage: 200.5+ KB\n"
     ]
    }
   ],
   "source": [
    "records.info()"
   ]
  },
  {
   "cell_type": "code",
   "execution_count": 43,
   "metadata": {},
   "outputs": [
    {
     "data": {
      "text/html": [
       "<div>\n",
       "<style scoped>\n",
       "    .dataframe tbody tr th:only-of-type {\n",
       "        vertical-align: middle;\n",
       "    }\n",
       "\n",
       "    .dataframe tbody tr th {\n",
       "        vertical-align: top;\n",
       "    }\n",
       "\n",
       "    .dataframe thead th {\n",
       "        text-align: right;\n",
       "    }\n",
       "</style>\n",
       "<table border=\"1\" class=\"dataframe\">\n",
       "  <thead>\n",
       "    <tr style=\"text-align: right;\">\n",
       "      <th></th>\n",
       "      <th>x-box</th>\n",
       "      <th>y-box</th>\n",
       "      <th>width</th>\n",
       "      <th>high</th>\n",
       "      <th>onpix</th>\n",
       "      <th>x-bar</th>\n",
       "      <th>y-bar</th>\n",
       "      <th>x2bar</th>\n",
       "      <th>y2bar</th>\n",
       "      <th>xybar</th>\n",
       "      <th>x2ybr</th>\n",
       "      <th>xy2br</th>\n",
       "      <th>x-ege</th>\n",
       "      <th>xegvy</th>\n",
       "      <th>y-ege</th>\n",
       "      <th>yegvx</th>\n",
       "    </tr>\n",
       "  </thead>\n",
       "  <tbody>\n",
       "    <tr>\n",
       "      <th>count</th>\n",
       "      <td>1509.000000</td>\n",
       "      <td>1509.000000</td>\n",
       "      <td>1509.000000</td>\n",
       "      <td>1509.000000</td>\n",
       "      <td>1509.000000</td>\n",
       "      <td>1509.000000</td>\n",
       "      <td>1509.000000</td>\n",
       "      <td>1509.000000</td>\n",
       "      <td>1509.000000</td>\n",
       "      <td>1509.000000</td>\n",
       "      <td>1509.000000</td>\n",
       "      <td>1509.000000</td>\n",
       "      <td>1509.000000</td>\n",
       "      <td>1509.000000</td>\n",
       "      <td>1509.000000</td>\n",
       "      <td>1509.000000</td>\n",
       "    </tr>\n",
       "    <tr>\n",
       "      <th>mean</th>\n",
       "      <td>4.059642</td>\n",
       "      <td>7.025182</td>\n",
       "      <td>4.848244</td>\n",
       "      <td>5.288933</td>\n",
       "      <td>3.180915</td>\n",
       "      <td>6.169649</td>\n",
       "      <td>7.094102</td>\n",
       "      <td>5.947647</td>\n",
       "      <td>6.235255</td>\n",
       "      <td>8.084824</td>\n",
       "      <td>6.809808</td>\n",
       "      <td>10.737575</td>\n",
       "      <td>2.422797</td>\n",
       "      <td>8.616965</td>\n",
       "      <td>4.626243</td>\n",
       "      <td>8.893970</td>\n",
       "    </tr>\n",
       "    <tr>\n",
       "      <th>std</th>\n",
       "      <td>1.744379</td>\n",
       "      <td>3.327707</td>\n",
       "      <td>1.612338</td>\n",
       "      <td>2.156974</td>\n",
       "      <td>1.934883</td>\n",
       "      <td>1.296437</td>\n",
       "      <td>1.138498</td>\n",
       "      <td>1.268069</td>\n",
       "      <td>2.071898</td>\n",
       "      <td>2.059967</td>\n",
       "      <td>1.443088</td>\n",
       "      <td>2.022762</td>\n",
       "      <td>1.768471</td>\n",
       "      <td>1.081741</td>\n",
       "      <td>1.578873</td>\n",
       "      <td>1.397002</td>\n",
       "    </tr>\n",
       "    <tr>\n",
       "      <th>min</th>\n",
       "      <td>0.000000</td>\n",
       "      <td>0.000000</td>\n",
       "      <td>1.000000</td>\n",
       "      <td>0.000000</td>\n",
       "      <td>0.000000</td>\n",
       "      <td>2.000000</td>\n",
       "      <td>3.000000</td>\n",
       "      <td>2.000000</td>\n",
       "      <td>1.000000</td>\n",
       "      <td>4.000000</td>\n",
       "      <td>2.000000</td>\n",
       "      <td>4.000000</td>\n",
       "      <td>0.000000</td>\n",
       "      <td>5.000000</td>\n",
       "      <td>2.000000</td>\n",
       "      <td>4.000000</td>\n",
       "    </tr>\n",
       "    <tr>\n",
       "      <th>25%</th>\n",
       "      <td>3.000000</td>\n",
       "      <td>5.000000</td>\n",
       "      <td>4.000000</td>\n",
       "      <td>4.000000</td>\n",
       "      <td>2.000000</td>\n",
       "      <td>5.000000</td>\n",
       "      <td>6.000000</td>\n",
       "      <td>5.000000</td>\n",
       "      <td>5.000000</td>\n",
       "      <td>6.000000</td>\n",
       "      <td>6.000000</td>\n",
       "      <td>9.000000</td>\n",
       "      <td>1.000000</td>\n",
       "      <td>8.000000</td>\n",
       "      <td>4.000000</td>\n",
       "      <td>8.000000</td>\n",
       "    </tr>\n",
       "    <tr>\n",
       "      <th>50%</th>\n",
       "      <td>4.000000</td>\n",
       "      <td>7.000000</td>\n",
       "      <td>5.000000</td>\n",
       "      <td>6.000000</td>\n",
       "      <td>3.000000</td>\n",
       "      <td>6.000000</td>\n",
       "      <td>7.000000</td>\n",
       "      <td>6.000000</td>\n",
       "      <td>6.000000</td>\n",
       "      <td>8.000000</td>\n",
       "      <td>7.000000</td>\n",
       "      <td>11.000000</td>\n",
       "      <td>2.000000</td>\n",
       "      <td>9.000000</td>\n",
       "      <td>4.000000</td>\n",
       "      <td>9.000000</td>\n",
       "    </tr>\n",
       "    <tr>\n",
       "      <th>75%</th>\n",
       "      <td>5.000000</td>\n",
       "      <td>9.000000</td>\n",
       "      <td>6.000000</td>\n",
       "      <td>7.000000</td>\n",
       "      <td>4.000000</td>\n",
       "      <td>7.000000</td>\n",
       "      <td>8.000000</td>\n",
       "      <td>7.000000</td>\n",
       "      <td>8.000000</td>\n",
       "      <td>9.000000</td>\n",
       "      <td>8.000000</td>\n",
       "      <td>12.000000</td>\n",
       "      <td>3.000000</td>\n",
       "      <td>9.000000</td>\n",
       "      <td>5.000000</td>\n",
       "      <td>10.000000</td>\n",
       "    </tr>\n",
       "    <tr>\n",
       "      <th>max</th>\n",
       "      <td>10.000000</td>\n",
       "      <td>15.000000</td>\n",
       "      <td>10.000000</td>\n",
       "      <td>9.000000</td>\n",
       "      <td>12.000000</td>\n",
       "      <td>11.000000</td>\n",
       "      <td>11.000000</td>\n",
       "      <td>10.000000</td>\n",
       "      <td>12.000000</td>\n",
       "      <td>13.000000</td>\n",
       "      <td>11.000000</td>\n",
       "      <td>15.000000</td>\n",
       "      <td>11.000000</td>\n",
       "      <td>13.000000</td>\n",
       "      <td>10.000000</td>\n",
       "      <td>14.000000</td>\n",
       "    </tr>\n",
       "  </tbody>\n",
       "</table>\n",
       "</div>"
      ],
      "text/plain": [
       "             x-box        y-box        width         high        onpix  \\\n",
       "count  1509.000000  1509.000000  1509.000000  1509.000000  1509.000000   \n",
       "mean      4.059642     7.025182     4.848244     5.288933     3.180915   \n",
       "std       1.744379     3.327707     1.612338     2.156974     1.934883   \n",
       "min       0.000000     0.000000     1.000000     0.000000     0.000000   \n",
       "25%       3.000000     5.000000     4.000000     4.000000     2.000000   \n",
       "50%       4.000000     7.000000     5.000000     6.000000     3.000000   \n",
       "75%       5.000000     9.000000     6.000000     7.000000     4.000000   \n",
       "max      10.000000    15.000000    10.000000     9.000000    12.000000   \n",
       "\n",
       "             x-bar        y-bar        x2bar        y2bar        xybar  \\\n",
       "count  1509.000000  1509.000000  1509.000000  1509.000000  1509.000000   \n",
       "mean      6.169649     7.094102     5.947647     6.235255     8.084824   \n",
       "std       1.296437     1.138498     1.268069     2.071898     2.059967   \n",
       "min       2.000000     3.000000     2.000000     1.000000     4.000000   \n",
       "25%       5.000000     6.000000     5.000000     5.000000     6.000000   \n",
       "50%       6.000000     7.000000     6.000000     6.000000     8.000000   \n",
       "75%       7.000000     8.000000     7.000000     8.000000     9.000000   \n",
       "max      11.000000    11.000000    10.000000    12.000000    13.000000   \n",
       "\n",
       "             x2ybr        xy2br        x-ege        xegvy        y-ege  \\\n",
       "count  1509.000000  1509.000000  1509.000000  1509.000000  1509.000000   \n",
       "mean      6.809808    10.737575     2.422797     8.616965     4.626243   \n",
       "std       1.443088     2.022762     1.768471     1.081741     1.578873   \n",
       "min       2.000000     4.000000     0.000000     5.000000     2.000000   \n",
       "25%       6.000000     9.000000     1.000000     8.000000     4.000000   \n",
       "50%       7.000000    11.000000     2.000000     9.000000     4.000000   \n",
       "75%       8.000000    12.000000     3.000000     9.000000     5.000000   \n",
       "max      11.000000    15.000000    11.000000    13.000000    10.000000   \n",
       "\n",
       "             yegvx  \n",
       "count  1509.000000  \n",
       "mean      8.893970  \n",
       "std       1.397002  \n",
       "min       4.000000  \n",
       "25%       8.000000  \n",
       "50%       9.000000  \n",
       "75%      10.000000  \n",
       "max      14.000000  "
      ]
     },
     "execution_count": 43,
     "metadata": {},
     "output_type": "execute_result"
    }
   ],
   "source": [
    "records.describe()"
   ]
  },
  {
   "cell_type": "code",
   "execution_count": 44,
   "metadata": {},
   "outputs": [
    {
     "data": {
      "text/plain": [
       "Class    object\n",
       "x-box     int64\n",
       "y-box     int64\n",
       "width     int64\n",
       "high      int64\n",
       "onpix     int64\n",
       "x-bar     int64\n",
       "y-bar     int64\n",
       "x2bar     int64\n",
       "y2bar     int64\n",
       "xybar     int64\n",
       "x2ybr     int64\n",
       "xy2br     int64\n",
       "x-ege     int64\n",
       "xegvy     int64\n",
       "y-ege     int64\n",
       "yegvx     int64\n",
       "dtype: object"
      ]
     },
     "execution_count": 44,
     "metadata": {},
     "output_type": "execute_result"
    }
   ],
   "source": [
    "records.dtypes"
   ]
  },
  {
   "cell_type": "code",
   "execution_count": 45,
   "metadata": {},
   "outputs": [],
   "source": [
    "X = records.iloc[:,1:]\n",
    "Y = records['Class']"
   ]
  },
  {
   "cell_type": "code",
   "execution_count": 46,
   "metadata": {},
   "outputs": [],
   "source": [
    "x_train,x_test,y_train,y_test = train_test_split(X,Y,test_size = 0.2, random_state = 85)"
   ]
  },
  {
   "cell_type": "code",
   "execution_count": 47,
   "metadata": {},
   "outputs": [
    {
     "data": {
      "text/plain": [
       "(1207, 16)"
      ]
     },
     "execution_count": 47,
     "metadata": {},
     "output_type": "execute_result"
    }
   ],
   "source": [
    "x_train.shape"
   ]
  },
  {
   "cell_type": "code",
   "execution_count": 48,
   "metadata": {},
   "outputs": [
    {
     "data": {
      "text/plain": [
       "(1207,)"
      ]
     },
     "execution_count": 48,
     "metadata": {},
     "output_type": "execute_result"
    }
   ],
   "source": [
    "y_train.shape"
   ]
  },
  {
   "cell_type": "code",
   "execution_count": 49,
   "metadata": {},
   "outputs": [
    {
     "data": {
      "text/plain": [
       "(302, 16)"
      ]
     },
     "execution_count": 49,
     "metadata": {},
     "output_type": "execute_result"
    }
   ],
   "source": [
    "x_test.shape"
   ]
  },
  {
   "cell_type": "code",
   "execution_count": 50,
   "metadata": {},
   "outputs": [
    {
     "data": {
      "text/plain": [
       "(302,)"
      ]
     },
     "execution_count": 50,
     "metadata": {},
     "output_type": "execute_result"
    }
   ],
   "source": [
    "y_test.shape"
   ]
  },
  {
   "cell_type": "markdown",
   "metadata": {},
   "source": [
    "## 2. Fit a sequence of AdaBoostClassifier with varying number of weak learners ranging from 1 to 16, keeping the max_depth as 1. Plot the accuracy on test set against the number of weak learners. Use decision tree classifier as the base classifier. "
   ]
  },
  {
   "cell_type": "code",
   "execution_count": 51,
   "metadata": {},
   "outputs": [],
   "source": [
    "from sklearn.ensemble import AdaBoostClassifier\n",
    "from sklearn.tree import DecisionTreeClassifier\n",
    "from sklearn import metrics"
   ]
  },
  {
   "cell_type": "code",
   "execution_count": 52,
   "metadata": {},
   "outputs": [],
   "source": [
    "acc = []\n",
    "model = DecisionTreeClassifier(max_depth=1)\n",
    "for i in range(1,17):\n",
    "    abc = AdaBoostClassifier(n_estimators=50,base_estimator=model,learning_rate=i)\n",
    "    pred = abc.fit(x_train,y_train).predict(x_test)\n",
    "    acc.append(metrics.accuracy_score(y_test,pred))"
   ]
  },
  {
   "cell_type": "code",
   "execution_count": 53,
   "metadata": {},
   "outputs": [
    {
     "data": {
      "image/png": "[encoded data removed]",
      "text/plain": [
       "<Figure size 432x288 with 1 Axes>"
      ]
     },
     "metadata": {},
     "output_type": "display_data"
    }
   ],
   "source": [
    "plt.plot(range(1,17),acc)\n",
    "plt.xlabel('Weak Learners')\n",
    "plt.ylabel('Accuracy score')\n",
    "plt.title('Accuracy agains Weak Learners while MAX_DEPTH = 1')\n",
    "plt.show()"
   ]
  },
  {
   "cell_type": "markdown",
   "metadata": {},
   "source": [
    "## 3.Repeat step2 with max_depth set as 2. "
   ]
  },
  {
   "cell_type": "code",
   "execution_count": 54,
   "metadata": {},
   "outputs": [],
   "source": [
    "acc1 = []\n",
    "model_2 = DecisionTreeClassifier(max_depth=2)\n",
    "for i in range(1,17):\n",
    "    abc = AdaBoostClassifier(n_estimators=50,base_estimator=model_2,learning_rate=i)\n",
    "    pred = abc.fit(x_train,y_train).predict(x_test)\n",
    "    acc1.append(metrics.accuracy_score(y_test,pred))"
   ]
  },
  {
   "cell_type": "code",
   "execution_count": 55,
   "metadata": {},
   "outputs": [
    {
     "data": {
      "image/png": "[encoded data removed]",
      "text/plain": [
       "<Figure size 432x288 with 1 Axes>"
      ]
     },
     "metadata": {},
     "output_type": "display_data"
    }
   ],
   "source": [
    "plt.plot(range(1,17),acc1)\n",
    "plt.xlabel('Weak Learners')\n",
    "plt.ylabel('Accuracy score')\n",
    "plt.title('Accuracy agains Weak Learners while MAX_DEPTH = 2')\n",
    "plt.show()"
   ]
  },
  {
   "cell_type": "code",
   "execution_count": null,
   "metadata": {},
   "outputs": [],
   "source": []
  }
 ],
 "metadata": {
  "kernelspec": {
   "display_name": "Python 3",
   "language": "python",
   "name": "python3"
  },
  "language_info": {
   "codemirror_mode": {
    "name": "ipython",
    "version": 3
   },
   "file_extension": ".py",
   "mimetype": "text/x-python",
   "name": "python",
   "nbconvert_exporter": "python",
   "pygments_lexer": "ipython3",
   "version": "3.6.5"
  }
 },
 "nbformat": 4,
 "nbformat_minor": 2
}
