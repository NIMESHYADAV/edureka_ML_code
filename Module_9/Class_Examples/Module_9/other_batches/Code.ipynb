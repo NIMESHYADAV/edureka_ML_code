{
 "cells": [
  {
   "cell_type": "code",
   "execution_count": 1,
   "metadata": {},
   "outputs": [],
   "source": [
    "import pandas as pd # data processing, CSV file I/O (e.g. pd.read_csv), data manipulation as in SQL\n",
    "#import matplotlib.pyplot as plt\n",
    "import matplotlib\n",
    "%matplotlib inline\n",
    "#matplotlib.use(\"Agg\")\n",
    "# used for plot interactive graph. I like it most for plot"
   ]
  },
  {
   "cell_type": "code",
   "execution_count": 2,
   "metadata": {},
   "outputs": [],
   "source": [
    "from sklearn.naive_bayes import MultinomialNB\n",
    "import seaborn as sns # this is used for the plot the graph\n",
    "from sklearn.model_selection import train_test_split # to split the data into two parts\n",
    "from sklearn import metrics # for the check the error and accuracy of the model\n",
    "from sklearn import tree"
   ]
  },
  {
   "cell_type": "code",
   "execution_count": 3,
   "metadata": {},
   "outputs": [],
   "source": [
    "from sklearn.ensemble import RandomForestClassifier\n",
    "from sklearn.naive_bayes import GaussianNB\n",
    "from sklearn.metrics import confusion_matrix"
   ]
  },
  {
   "cell_type": "code",
   "execution_count": 4,
   "metadata": {},
   "outputs": [
    {
     "name": "stdout",
     "output_type": "stream",
     "text": [
      "         ID                 Name      Date  Time Event Status Latitude  \\\n",
      "0  EP011949              UNNAMED  19490611     0           TS    20.2N   \n",
      "1  EP011949              UNNAMED  19490611   600           TS    20.2N   \n",
      "2  EP011949              UNNAMED  19490611  1200           TS    20.2N   \n",
      "3  EP011949              UNNAMED  19490611  1800           TS    20.3N   \n",
      "4  EP011949              UNNAMED  19490612     0           TS    20.4N   \n",
      "5  EP011949              UNNAMED  19490612   600           TS    20.5N   \n",
      "\n",
      "  Longitude  Maximum Wind  Minimum Pressure      ...       Low Wind SW  \\\n",
      "0    106.3W            45              -999      ...              -999   \n",
      "1    106.4W            45              -999      ...              -999   \n",
      "2    106.7W            45              -999      ...              -999   \n",
      "3    107.7W            45              -999      ...              -999   \n",
      "4    108.6W            45              -999      ...              -999   \n",
      "5    109.4W            45              -999      ...              -999   \n",
      "\n",
      "   Low Wind NW  Moderate Wind NE  Moderate Wind SE  Moderate Wind SW  \\\n",
      "0         -999              -999              -999              -999   \n",
      "1         -999              -999              -999              -999   \n",
      "2         -999              -999              -999              -999   \n",
      "3         -999              -999              -999              -999   \n",
      "4         -999              -999              -999              -999   \n",
      "5         -999              -999              -999              -999   \n",
      "\n",
      "   Moderate Wind NW  High Wind NE  High Wind SE  High Wind SW  High Wind NW  \n",
      "0              -999          -999          -999          -999          -999  \n",
      "1              -999          -999          -999          -999          -999  \n",
      "2              -999          -999          -999          -999          -999  \n",
      "3              -999          -999          -999          -999          -999  \n",
      "4              -999          -999          -999          -999          -999  \n",
      "5              -999          -999          -999          -999          -999  \n",
      "\n",
      "[6 rows x 22 columns]\n"
     ]
    }
   ],
   "source": [
    "from sklearn.metrics import accuracy_score\n",
    "from sklearn import svm    \t\t# To import the svm classifier\n",
    "\n",
    "import random\n",
    "data = pd.read_csv('pacific.csv')\n",
    "print(data.head(6))"
   ]
  },
  {
   "cell_type": "code",
   "execution_count": 5,
   "metadata": {},
   "outputs": [
    {
     "name": "stdout",
     "output_type": "stream",
     "text": [
      "         ID                 Name      Date  Time Event  Status Latitude  \\\n",
      "0  EP011949              UNNAMED  19490611     0            11    20.2N   \n",
      "1  EP011949              UNNAMED  19490611   600            11    20.2N   \n",
      "2  EP011949              UNNAMED  19490611  1200            11    20.2N   \n",
      "3  EP011949              UNNAMED  19490611  1800            11    20.3N   \n",
      "4  EP011949              UNNAMED  19490612     0            11    20.4N   \n",
      "\n",
      "  Longitude  Maximum Wind  Minimum Pressure      ...       Low Wind SW  \\\n",
      "0    106.3W            45              -999      ...              -999   \n",
      "1    106.4W            45              -999      ...              -999   \n",
      "2    106.7W            45              -999      ...              -999   \n",
      "3    107.7W            45              -999      ...              -999   \n",
      "4    108.6W            45              -999      ...              -999   \n",
      "\n",
      "   Low Wind NW  Moderate Wind NE  Moderate Wind SE  Moderate Wind SW  \\\n",
      "0         -999              -999              -999              -999   \n",
      "1         -999              -999              -999              -999   \n",
      "2         -999              -999              -999              -999   \n",
      "3         -999              -999              -999              -999   \n",
      "4         -999              -999              -999              -999   \n",
      "\n",
      "   Moderate Wind NW  High Wind NE  High Wind SE  High Wind SW  High Wind NW  \n",
      "0              -999          -999          -999          -999          -999  \n",
      "1              -999          -999          -999          -999          -999  \n",
      "2              -999          -999          -999          -999          -999  \n",
      "3              -999          -999          -999          -999          -999  \n",
      "4              -999          -999          -999          -999          -999  \n",
      "\n",
      "[5 rows x 22 columns]\n"
     ]
    }
   ],
   "source": [
    "#print(data.info())\n",
    "\n",
    "#data['Status'] = data['Status'].map({'TS':1,'HU':0})\n",
    "\n",
    "#data.describe() # this will describe the all statistical function of our data\n",
    "\n",
    "data.Status = pd.Categorical(data.Status)\n",
    "data['Status'] = data.Status.cat.codes\n",
    "print(data.head())"
   ]
  },
  {
   "cell_type": "code",
   "execution_count": 6,
   "metadata": {},
   "outputs": [
    {
     "data": {
      "text/plain": [
       "<matplotlib.axes._subplots.AxesSubplot at 0x102fbbe80>"
      ]
     },
     "execution_count": 6,
     "metadata": {},
     "output_type": "execute_result"
    },
    {
     "data": {
      "image/png": "[encoded data removed]",
      "text/plain": [
       "<Figure size 432x288 with 1 Axes>"
      ]
     },
     "metadata": {},
     "output_type": "display_data"
    }
   ],
   "source": [
    "# lets get the frequency of different typhoons\n",
    "sns.countplot(data['Status'],label=\"Count\")\n",
    "#plt.show()"
   ]
  },
  {
   "cell_type": "code",
   "execution_count": 7,
   "metadata": {},
   "outputs": [
    {
     "name": "stderr",
     "output_type": "stream",
     "text": [
      "/anaconda3/lib/python3.6/site-packages/pandas/core/frame.py:3694: SettingWithCopyWarning: \n",
      "A value is trying to be set on a copy of a slice from a DataFrame\n",
      "\n",
      "See the caveats in the documentation: http://pandas.pydata.org/pandas-docs/stable/indexing.html#indexing-view-versus-copy\n",
      "  errors=errors)\n"
     ]
    },
    {
     "name": "stdout",
     "output_type": "stream",
     "text": [
      "['Maximum Wind', 'Minimum Pressure', 'Low Wind NE', 'Low Wind SE', 'Low Wind SW', 'Low Wind NW', 'Moderate Wind NE', 'Moderate Wind SE', 'Moderate Wind SW', 'Moderate Wind NW', 'High Wind NE', 'High Wind SE', 'High Wind SW', 'High Wind NW']\n"
     ]
    }
   ],
   "source": [
    "random.seed(2)\n",
    "pred_columns = data[:]\n",
    "pred_columns.drop(['Status'],axis=1,inplace=True)\n",
    "pred_columns.drop(['Event'],axis=1,inplace=True)\n",
    "pred_columns.drop(['Latitude'],axis=1,inplace=True)\n",
    "pred_columns.drop(['Longitude'],axis=1,inplace=True)\n",
    "pred_columns.drop(['ID'],axis=1,inplace=True)\n",
    "pred_columns.drop(['Name'],axis=1,inplace=True)\n",
    "pred_columns.drop(['Date'],axis=1,inplace=True)\n",
    "pred_columns.drop(['Time'],axis=1,inplace=True)\n",
    "prediction_var = pred_columns.columns\n",
    "print(list(prediction_var))"
   ]
  },
  {
   "cell_type": "code",
   "execution_count": 8,
   "metadata": {},
   "outputs": [
    {
     "name": "stdout",
     "output_type": "stream",
     "text": [
      "(18295, 22)\n",
      "(7842, 22)\n"
     ]
    }
   ],
   "source": [
    "# now these are the variables which will use for prediction\n",
    "#now split our data into train and test\n",
    "\n",
    "train, test = train_test_split(data, test_size = 0.3)# in this our main data is splitted into train and test\n",
    "# we can check their dimension\n",
    "print(train.shape)\n",
    "print(test.shape)"
   ]
  },
  {
   "cell_type": "code",
   "execution_count": 9,
   "metadata": {},
   "outputs": [
    {
     "name": "stdout",
     "output_type": "stream",
     "text": [
      "['ID', 'Name', 'Date', 'Time', 'Event', 'Status', 'Latitude', 'Longitude', 'Maximum Wind', 'Minimum Pressure', 'Low Wind NE', 'Low Wind SE', 'Low Wind SW', 'Low Wind NW', 'Moderate Wind NE', 'Moderate Wind SE', 'Moderate Wind SW', 'Moderate Wind NW', 'High Wind NE', 'High Wind SE', 'High Wind SW', 'High Wind NW']\n"
     ]
    }
   ],
   "source": [
    "train_X = train[prediction_var]# taking the training data input\n",
    "train_y= train['Status']# This is output of our training data\n",
    "#print(list(data.columns))\n",
    "print(list(train.columns))"
   ]
  },
  {
   "cell_type": "code",
   "execution_count": 10,
   "metadata": {},
   "outputs": [],
   "source": [
    "# same we have to do for test\n",
    "test_X= test[prediction_var] # taking test data inputs\n",
    "test_y =test['Status']   #output value of test dat"
   ]
  },
  {
   "cell_type": "code",
   "execution_count": 11,
   "metadata": {},
   "outputs": [
    {
     "name": "stdout",
     "output_type": "stream",
     "text": [
      "0.9558786023973476\n"
     ]
    }
   ],
   "source": [
    "#RandomForest classifier\n",
    "model=RandomForestClassifier(n_estimators=100)# a simple random forest model\n",
    "model.fit(train_X,train_y)# now fit our model for traiing data\n",
    "prediction=model.predict(test_X)# predict for the test data\n",
    "# prediction will contain the predicted value by our model predicted values of diagnosis column for test inputs\n",
    "print(metrics.accuracy_score(prediction,test_y)) # to check the accuracy\n",
    "# here we will use accuracy measurement between our predicted value and our test output values"
   ]
  },
  {
   "cell_type": "code",
   "execution_count": 12,
   "metadata": {},
   "outputs": [],
   "source": [
    "#Decision Tree\n",
    "model = tree.DecisionTreeClassifier()\n",
    "model.fit(train_X,train_y)# now fit our model for traiing data\n",
    "prediction=model.predict(test_X)# predict for the test data\n",
    "# prediction will contain the predicted value by our model predicted values of diagnosis column for test inputs"
   ]
  },
  {
   "cell_type": "code",
   "execution_count": 13,
   "metadata": {},
   "outputs": [
    {
     "name": "stdout",
     "output_type": "stream",
     "text": [
      "         0\n",
      "Status    \n",
      "3        3\n",
      "3        3\n",
      "3        3\n",
      "11      11\n",
      "10      10\n",
      "5        5\n",
      "3        3\n",
      "11      11\n",
      "3        3\n",
      "11      11\n",
      "3        3\n",
      "5       10\n",
      "11      11\n",
      "11      11\n",
      "11      11\n",
      "3        3\n",
      "10      10\n",
      "3        3\n",
      "10      10\n",
      "3        3\n",
      "3        3\n",
      "11      11\n",
      "10      10\n",
      "3        3\n",
      "5        5\n",
      "11      11\n",
      "11      11\n",
      "10      10\n",
      "11      11\n",
      "5        5\n",
      "...     ..\n",
      "11      11\n",
      "11      11\n",
      "3        3\n",
      "11      11\n",
      "3        3\n",
      "3        3\n",
      "3        3\n",
      "11      11\n",
      "11      11\n",
      "10      10\n",
      "11      11\n",
      "11      11\n",
      "11      11\n",
      "5        5\n",
      "11      11\n",
      "10      10\n",
      "3        3\n",
      "11      11\n",
      "10      10\n",
      "11       8\n",
      "11      11\n",
      "10      10\n",
      "5       10\n",
      "5        5\n",
      "3        3\n",
      "10      10\n",
      "11      11\n",
      "10      10\n",
      "10      10\n",
      "10      10\n",
      "\n",
      "[7842 rows x 1 columns]\n",
      "0.9538383065544503\n",
      "0.058530986993114\n",
      "Number of mislabeled points out of a total 26137 points : 7383\n",
      "0.058530986993114\n"
     ]
    }
   ],
   "source": [
    "df=pd.DataFrame(prediction,test_y)\n",
    "print(df)\n",
    "\n",
    "print(metrics.accuracy_score(prediction,test_y)) # to check the accuracy\n",
    "#here we will use accuracy measurement between our predicted value and our test output values\n",
    "\n",
    "gnb = GaussianNB()\n",
    "#y_pred_gnb = gnb.fit(train_X, train_y)\n",
    "gnb.fit(train_X, train_y)\n",
    "target_pred = gnb.predict(test_X)\n",
    "y_pred_gnb = target_pred\n",
    "#cnf_matrix_gnb = confusion_matrix(test_y, y_pred_gnb)\n",
    "#print(cnf_matrix_gnb)\n",
    "print(metrics.accuracy_score(y_pred_gnb,test_y)) # to check the accuracy\n",
    "print(\"Number of mislabeled points out of a total %d points : %d\"\n",
    "%(data.shape[0],(test_y != y_pred_gnb).sum()))\n",
    "print(accuracy_score(test_y, target_pred))"
   ]
  },
  {
   "cell_type": "code",
   "execution_count": 14,
   "metadata": {},
   "outputs": [
    {
     "name": "stdout",
     "output_type": "stream",
     "text": [
      "(7842,)\n",
      "(7842,)\n",
      "(7842,)\n",
      "(7842, 14)\n",
      "(18295, 14)\n"
     ]
    },
    {
     "data": {
      "image/png": "[encoded data removed]",
      "text/plain": [
       "<Figure size 432x288 with 1 Axes>"
      ]
     },
     "metadata": {},
     "output_type": "display_data"
    }
   ],
   "source": [
    "labels = gnb.predict(test_X)\n",
    "mat = confusion_matrix(test_y, target_pred)\n",
    "print(test_y.shape)\n",
    "print(target_pred.shape)\n",
    "print(labels.shape)\n",
    "print(test_X.shape)\n",
    "print(train_X.shape)\n",
    "sns.heatmap(mat.T, square=True, annot=True, fmt='d', cbar=False,\n",
    "            xticklabels=prediction_var, yticklabels=prediction_var)\n",
    "#matplotlib.xlabel('true label')\n",
    "matplotlib.pyplot.show()"
   ]
  },
  {
   "cell_type": "code",
   "execution_count": 15,
   "metadata": {},
   "outputs": [
    {
     "name": "stdout",
     "output_type": "stream",
     "text": [
      "0.058530986993114\n",
      "[[  66    0    0    0    0    0    0    0    0    0    0    0]\n",
      " [   0   51    0    0    0    0    0    0    0    0    0    0]\n",
      " [   4   20    0    0    0    2    1    0    0    0    0    0]\n",
      " [   0 1592    0  334    0    0    0    0    0   41    0    0]\n",
      " [   0    0    0    0    0    0    0    0    0    1    0    0]\n",
      " [ 523   38    0    0    0    0    1    9   11    0    0    0]\n",
      " [   2    0    0    0    0    0    1    0    0    0    0    0]\n",
      " [   2    0    0    0    0    0    0    1    0    0    0    0]\n",
      " [   0    0    0    0    0    0    0    0    2    0    0    0]\n",
      " [   0    0    0    0    0    0    0    0    0    2    0    0]\n",
      " [ 357 1752    0    0    0    0    1    1    0    0    0    0]\n",
      " [   0 2382    0    1    0    1   64    0  577    0    0    2]]\n",
      "0.058530986993114\n"
     ]
    }
   ],
   "source": [
    "#matplotlib('predicted label')\n",
    "gnb = GaussianNB()\n",
    "mnb = MultinomialNB()\n",
    "y_pred_gnb = gnb.fit(train_X, train_y).predict(test_X)\n",
    "#target_pred = y_pred_mnb.predict(test_X)\n",
    "print(accuracy_score(test_y, y_pred_gnb))\n",
    "cnf_matrix_gnb = confusion_matrix(test_y, y_pred_gnb)\n",
    "print(cnf_matrix_gnb)\n",
    "print(metrics.accuracy_score(y_pred_gnb,test_y)) # to check the accuracy"
   ]
  },
  {
   "cell_type": "code",
   "execution_count": 16,
   "metadata": {},
   "outputs": [
    {
     "name": "stdout",
     "output_type": "stream",
     "text": [
      "Number of mislabeled points out of a total 26137 points : 7383\n"
     ]
    }
   ],
   "source": [
    "print(\"Number of mislabeled points out of a total %d points : %d\"\n",
    "%(data.shape[0],(test_y != y_pred_gnb).sum()))"
   ]
  },
  {
   "cell_type": "code",
   "execution_count": 17,
   "metadata": {},
   "outputs": [
    {
     "name": "stdout",
     "output_type": "stream",
     "text": [
      "0.058530986993114\n"
     ]
    }
   ],
   "source": [
    "print(accuracy_score(test_y, y_pred_gnb))"
   ]
  },
  {
   "cell_type": "code",
   "execution_count": 18,
   "metadata": {},
   "outputs": [
    {
     "name": "stdout",
     "output_type": "stream",
     "text": [
      "SVM accuray: 0.9529456771231829\n"
     ]
    }
   ],
   "source": [
    "model = svm.SVC(kernel='linear')\n",
    "model.fit(train_X,train_y)\n",
    "#Predict Output\n",
    "predicted= model.predict(test_X)\n",
    "print(\"SVM accuray:\",accuracy_score(test_y, predicted))"
   ]
  },
  {
   "cell_type": "code",
   "execution_count": null,
   "metadata": {},
   "outputs": [],
   "source": []
  }
 ],
 "metadata": {
  "kernelspec": {
   "display_name": "Python 3",
   "language": "python",
   "name": "python3"
  },
  "language_info": {
   "codemirror_mode": {
    "name": "ipython",
    "version": 3
   },
   "file_extension": ".py",
   "mimetype": "text/x-python",
   "name": "python",
   "nbconvert_exporter": "python",
   "pygments_lexer": "ipython3",
   "version": "3.6.5"
  }
 },
 "nbformat": 4,
 "nbformat_minor": 2
}
