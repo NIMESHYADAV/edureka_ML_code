{
 "cells": [
  {
   "cell_type": "markdown",
   "metadata": {},
   "source": [
    "# Data Manipulation"
   ]
  },
  {
   "cell_type": "code",
   "execution_count": 1,
   "metadata": {},
   "outputs": [],
   "source": [
    "import pandas as pd\n",
    "import numpy as np"
   ]
  },
  {
   "cell_type": "code",
   "execution_count": 2,
   "metadata": {},
   "outputs": [
    {
     "data": {
      "text/plain": [
       "1"
      ]
     },
     "execution_count": 2,
     "metadata": {},
     "output_type": "execute_result"
    }
   ],
   "source": [
    "# ndim()\n",
    "ser = pd.Series([11,22,33])\n",
    "ser.ndim"
   ]
  },
  {
   "cell_type": "code",
   "execution_count": 3,
   "metadata": {},
   "outputs": [
    {
     "data": {
      "text/plain": [
       "[RangeIndex(start=0, stop=20, step=1)]"
      ]
     },
     "execution_count": 3,
     "metadata": {},
     "output_type": "execute_result"
    }
   ],
   "source": [
    "# axes() returns the list of the indexes for the row label\n",
    "ser = pd.Series(np.arange(20,60,2)) ##[20,22,24...58]\n",
    "ser.axes"
   ]
  },
  {
   "cell_type": "code",
   "execution_count": 4,
   "metadata": {},
   "outputs": [
    {
     "data": {
      "text/plain": [
       "array([20, 22, 24, 26, 28, 30, 32, 34, 36, 38, 40, 42, 44, 46, 48, 50, 52,\n",
       "       54, 56, 58])"
      ]
     },
     "execution_count": 4,
     "metadata": {},
     "output_type": "execute_result"
    }
   ],
   "source": [
    "# values: returns actual value stored in the data set\n",
    "ser.values"
   ]
  },
  {
   "cell_type": "code",
   "execution_count": 5,
   "metadata": {},
   "outputs": [
    {
     "data": {
      "text/plain": [
       "0     20\n",
       "1     22\n",
       "2     24\n",
       "3     26\n",
       "4     28\n",
       "5     30\n",
       "6     32\n",
       "7     34\n",
       "8     36\n",
       "9     38\n",
       "10    40\n",
       "11    42\n",
       "12    44\n",
       "13    46\n",
       "14    48\n",
       "15    50\n",
       "16    52\n",
       "17    54\n",
       "18    56\n",
       "19    58\n",
       "dtype: int64"
      ]
     },
     "execution_count": 5,
     "metadata": {},
     "output_type": "execute_result"
    }
   ],
   "source": [
    "ser"
   ]
  },
  {
   "cell_type": "code",
   "execution_count": 6,
   "metadata": {},
   "outputs": [
    {
     "data": {
      "text/plain": [
       "0    20\n",
       "1    22\n",
       "2    24\n",
       "3    26\n",
       "4    28\n",
       "dtype: int64"
      ]
     },
     "execution_count": 6,
     "metadata": {},
     "output_type": "execute_result"
    }
   ],
   "source": [
    "# head(n): if n is given then that many rows from the top would be returned\n",
    "# ...else top 5 rows would be returned\n",
    "\n",
    "ser.head()"
   ]
  },
  {
   "cell_type": "code",
   "execution_count": 7,
   "metadata": {},
   "outputs": [
    {
     "data": {
      "text/plain": [
       "0    20\n",
       "1    22\n",
       "dtype: int64"
      ]
     },
     "execution_count": 7,
     "metadata": {},
     "output_type": "execute_result"
    }
   ],
   "source": [
    "ser.head(2)"
   ]
  },
  {
   "cell_type": "code",
   "execution_count": 8,
   "metadata": {},
   "outputs": [
    {
     "data": {
      "text/plain": [
       "15    50\n",
       "16    52\n",
       "17    54\n",
       "18    56\n",
       "19    58\n",
       "dtype: int64"
      ]
     },
     "execution_count": 8,
     "metadata": {},
     "output_type": "execute_result"
    }
   ],
   "source": [
    "# tail(n): if n is given then that many rows from the end would be returned\n",
    "# ...else last 5 rows would be returned\n",
    "ser.tail()"
   ]
  },
  {
   "cell_type": "code",
   "execution_count": 9,
   "metadata": {},
   "outputs": [
    {
     "data": {
      "text/plain": [
       "18    56\n",
       "19    58\n",
       "dtype: int64"
      ]
     },
     "execution_count": 9,
     "metadata": {},
     "output_type": "execute_result"
    }
   ],
   "source": [
    "ser.tail(2)"
   ]
  },
  {
   "cell_type": "code",
   "execution_count": 10,
   "metadata": {},
   "outputs": [
    {
     "data": {
      "text/plain": [
       "0    20\n",
       "1    22\n",
       "2    24\n",
       "3    26\n",
       "4    28\n",
       "5    30\n",
       "6    32\n",
       "7    34\n",
       "8    36\n",
       "9    38\n",
       "dtype: int64"
      ]
     },
     "execution_count": 10,
     "metadata": {},
     "output_type": "execute_result"
    }
   ],
   "source": [
    "ser.head(10)"
   ]
  },
  {
   "cell_type": "code",
   "execution_count": 11,
   "metadata": {},
   "outputs": [
    {
     "data": {
      "text/plain": [
       "10    40\n",
       "11    42\n",
       "12    44\n",
       "13    46\n",
       "14    48\n",
       "15    50\n",
       "16    52\n",
       "17    54\n",
       "18    56\n",
       "19    58\n",
       "dtype: int64"
      ]
     },
     "execution_count": 11,
     "metadata": {},
     "output_type": "execute_result"
    }
   ],
   "source": [
    "ser.tail(10)"
   ]
  },
  {
   "cell_type": "code",
   "execution_count": 13,
   "metadata": {},
   "outputs": [
    {
     "data": {
      "text/html": [
       "<div>\n",
       "<style scoped>\n",
       "    .dataframe tbody tr th:only-of-type {\n",
       "        vertical-align: middle;\n",
       "    }\n",
       "\n",
       "    .dataframe tbody tr th {\n",
       "        vertical-align: top;\n",
       "    }\n",
       "\n",
       "    .dataframe thead th {\n",
       "        text-align: right;\n",
       "    }\n",
       "</style>\n",
       "<table border=\"1\" class=\"dataframe\">\n",
       "  <thead>\n",
       "    <tr style=\"text-align: right;\">\n",
       "      <th></th>\n",
       "      <th>odd</th>\n",
       "      <th>even</th>\n",
       "    </tr>\n",
       "  </thead>\n",
       "  <tbody>\n",
       "    <tr>\n",
       "      <th>0</th>\n",
       "      <td>1</td>\n",
       "      <td>0</td>\n",
       "    </tr>\n",
       "    <tr>\n",
       "      <th>1</th>\n",
       "      <td>3</td>\n",
       "      <td>2</td>\n",
       "    </tr>\n",
       "    <tr>\n",
       "      <th>2</th>\n",
       "      <td>5</td>\n",
       "      <td>4</td>\n",
       "    </tr>\n",
       "    <tr>\n",
       "      <th>3</th>\n",
       "      <td>7</td>\n",
       "      <td>6</td>\n",
       "    </tr>\n",
       "    <tr>\n",
       "      <th>4</th>\n",
       "      <td>9</td>\n",
       "      <td>8</td>\n",
       "    </tr>\n",
       "  </tbody>\n",
       "</table>\n",
       "</div>"
      ],
      "text/plain": [
       "   odd  even\n",
       "0    1     0\n",
       "1    3     2\n",
       "2    5     4\n",
       "3    7     6\n",
       "4    9     8"
      ]
     },
     "execution_count": 13,
     "metadata": {},
     "output_type": "execute_result"
    }
   ],
   "source": [
    "# sum() on DataFrame\n",
    "data = {'odd': np.arange(1,100,2),\n",
    "       'even': np.arange(0,100,2)}\n",
    "df = pd.DataFrame(data)\n",
    "df.head()"
   ]
  },
  {
   "cell_type": "code",
   "execution_count": 14,
   "metadata": {},
   "outputs": [
    {
     "data": {
      "text/plain": [
       "odd     2500\n",
       "even    2450\n",
       "dtype: int64"
      ]
     },
     "execution_count": 14,
     "metadata": {},
     "output_type": "execute_result"
    }
   ],
   "source": [
    "# sum()\n",
    "df.sum()"
   ]
  },
  {
   "cell_type": "code",
   "execution_count": 15,
   "metadata": {},
   "outputs": [
    {
     "data": {
      "text/plain": [
       "odd     29.154759\n",
       "even    29.154759\n",
       "dtype: float64"
      ]
     },
     "execution_count": 15,
     "metadata": {},
     "output_type": "execute_result"
    }
   ],
   "source": [
    "# std()\n",
    "df.std()"
   ]
  },
  {
   "cell_type": "code",
   "execution_count": 16,
   "metadata": {},
   "outputs": [
    {
     "data": {
      "text/plain": [
       "odd     29.154759\n",
       "even    29.154759\n",
       "dtype: float64"
      ]
     },
     "execution_count": 16,
     "metadata": {},
     "output_type": "execute_result"
    }
   ],
   "source": [
    "# default axis value is 0 i.e column wise here\n",
    "df.std(axis=0)"
   ]
  },
  {
   "cell_type": "code",
   "execution_count": 17,
   "metadata": {},
   "outputs": [
    {
     "data": {
      "text/plain": [
       "0       1\n",
       "1       5\n",
       "2       9\n",
       "3      13\n",
       "4      17\n",
       "5      21\n",
       "6      25\n",
       "7      29\n",
       "8      33\n",
       "9      37\n",
       "10     41\n",
       "11     45\n",
       "12     49\n",
       "13     53\n",
       "14     57\n",
       "15     61\n",
       "16     65\n",
       "17     69\n",
       "18     73\n",
       "19     77\n",
       "20     81\n",
       "21     85\n",
       "22     89\n",
       "23     93\n",
       "24     97\n",
       "25    101\n",
       "26    105\n",
       "27    109\n",
       "28    113\n",
       "29    117\n",
       "30    121\n",
       "31    125\n",
       "32    129\n",
       "33    133\n",
       "34    137\n",
       "35    141\n",
       "36    145\n",
       "37    149\n",
       "38    153\n",
       "39    157\n",
       "40    161\n",
       "41    165\n",
       "42    169\n",
       "43    173\n",
       "44    177\n",
       "45    181\n",
       "46    185\n",
       "47    189\n",
       "48    193\n",
       "49    197\n",
       "dtype: int64"
      ]
     },
     "execution_count": 17,
     "metadata": {},
     "output_type": "execute_result"
    }
   ],
   "source": [
    "# row wise addition of values in a DF can be done by providing axis=1\n",
    "df.sum(axis=1)"
   ]
  },
  {
   "cell_type": "code",
   "execution_count": 28,
   "metadata": {},
   "outputs": [
    {
     "data": {
      "text/html": [
       "<div>\n",
       "<style scoped>\n",
       "    .dataframe tbody tr th:only-of-type {\n",
       "        vertical-align: middle;\n",
       "    }\n",
       "\n",
       "    .dataframe tbody tr th {\n",
       "        vertical-align: top;\n",
       "    }\n",
       "\n",
       "    .dataframe thead th {\n",
       "        text-align: right;\n",
       "    }\n",
       "</style>\n",
       "<table border=\"1\" class=\"dataframe\">\n",
       "  <thead>\n",
       "    <tr style=\"text-align: right;\">\n",
       "      <th></th>\n",
       "      <th>col1</th>\n",
       "      <th>col2</th>\n",
       "      <th>col3</th>\n",
       "      <th>col4</th>\n",
       "    </tr>\n",
       "  </thead>\n",
       "  <tbody>\n",
       "    <tr>\n",
       "      <th>0</th>\n",
       "      <td>1.115173</td>\n",
       "      <td>-0.596415</td>\n",
       "      <td>0.633069</td>\n",
       "      <td>1.033213</td>\n",
       "    </tr>\n",
       "    <tr>\n",
       "      <th>1</th>\n",
       "      <td>0.030176</td>\n",
       "      <td>0.265409</td>\n",
       "      <td>0.298346</td>\n",
       "      <td>0.780963</td>\n",
       "    </tr>\n",
       "    <tr>\n",
       "      <th>2</th>\n",
       "      <td>1.298930</td>\n",
       "      <td>2.357994</td>\n",
       "      <td>-0.009889</td>\n",
       "      <td>0.743076</td>\n",
       "    </tr>\n",
       "    <tr>\n",
       "      <th>3</th>\n",
       "      <td>-0.390457</td>\n",
       "      <td>-1.054971</td>\n",
       "      <td>-0.867760</td>\n",
       "      <td>-0.498024</td>\n",
       "    </tr>\n",
       "    <tr>\n",
       "      <th>4</th>\n",
       "      <td>-1.102586</td>\n",
       "      <td>0.486171</td>\n",
       "      <td>-1.118178</td>\n",
       "      <td>-0.453491</td>\n",
       "    </tr>\n",
       "  </tbody>\n",
       "</table>\n",
       "</div>"
      ],
      "text/plain": [
       "       col1      col2      col3      col4\n",
       "0  1.115173 -0.596415  0.633069  1.033213\n",
       "1  0.030176  0.265409  0.298346  0.780963\n",
       "2  1.298930  2.357994 -0.009889  0.743076\n",
       "3 -0.390457 -1.054971 -0.867760 -0.498024\n",
       "4 -1.102586  0.486171 -1.118178 -0.453491"
      ]
     },
     "execution_count": 28,
     "metadata": {},
     "output_type": "execute_result"
    }
   ],
   "source": [
    "# iterating a DataFrame - iteritems()\n",
    "df = pd.DataFrame(np.random.randn(5,4),\n",
    "                 columns=['col1', 'col2', 'col3', 'col4'])\n",
    "\n",
    "df\n"
   ]
  },
  {
   "cell_type": "code",
   "execution_count": 29,
   "metadata": {},
   "outputs": [
    {
     "name": "stdout",
     "output_type": "stream",
     "text": [
      "col1\n",
      "0    1.115173\n",
      "1    0.030176\n",
      "2    1.298930\n",
      "3   -0.390457\n",
      "4   -1.102586\n",
      "Name: col1, dtype: float64\n",
      "####################\n",
      "col2\n",
      "0   -0.596415\n",
      "1    0.265409\n",
      "2    2.357994\n",
      "3   -1.054971\n",
      "4    0.486171\n",
      "Name: col2, dtype: float64\n",
      "####################\n",
      "col3\n",
      "0    0.633069\n",
      "1    0.298346\n",
      "2   -0.009889\n",
      "3   -0.867760\n",
      "4   -1.118178\n",
      "Name: col3, dtype: float64\n",
      "####################\n",
      "col4\n",
      "0    1.033213\n",
      "1    0.780963\n",
      "2    0.743076\n",
      "3   -0.498024\n",
      "4   -0.453491\n",
      "Name: col4, dtype: float64\n",
      "####################\n"
     ]
    }
   ],
   "source": [
    "# getting values as column wise\n",
    "for col_name, column_value in df.iteritems():\n",
    "    print(col_name)\n",
    "    print(column_value)\n",
    "    print(\"#\"*20)"
   ]
  },
  {
   "cell_type": "code",
   "execution_count": 30,
   "metadata": {},
   "outputs": [
    {
     "data": {
      "text/plain": [
       "0    1.115173\n",
       "1    0.030176\n",
       "2    1.298930\n",
       "3   -0.390457\n",
       "4   -1.102586\n",
       "Name: col1, dtype: float64"
      ]
     },
     "execution_count": 30,
     "metadata": {},
     "output_type": "execute_result"
    }
   ],
   "source": [
    "# also column wise we can access in this way\n",
    "df['col1']"
   ]
  },
  {
   "cell_type": "code",
   "execution_count": 31,
   "metadata": {},
   "outputs": [
    {
     "data": {
      "text/html": [
       "<div>\n",
       "<style scoped>\n",
       "    .dataframe tbody tr th:only-of-type {\n",
       "        vertical-align: middle;\n",
       "    }\n",
       "\n",
       "    .dataframe tbody tr th {\n",
       "        vertical-align: top;\n",
       "    }\n",
       "\n",
       "    .dataframe thead th {\n",
       "        text-align: right;\n",
       "    }\n",
       "</style>\n",
       "<table border=\"1\" class=\"dataframe\">\n",
       "  <thead>\n",
       "    <tr style=\"text-align: right;\">\n",
       "      <th></th>\n",
       "      <th>col1</th>\n",
       "      <th>col2</th>\n",
       "      <th>col3</th>\n",
       "      <th>col4</th>\n",
       "    </tr>\n",
       "  </thead>\n",
       "  <tbody>\n",
       "    <tr>\n",
       "      <th>0</th>\n",
       "      <td>1.115173</td>\n",
       "      <td>-0.596415</td>\n",
       "      <td>0.633069</td>\n",
       "      <td>1.033213</td>\n",
       "    </tr>\n",
       "    <tr>\n",
       "      <th>1</th>\n",
       "      <td>0.030176</td>\n",
       "      <td>0.265409</td>\n",
       "      <td>0.298346</td>\n",
       "      <td>0.780963</td>\n",
       "    </tr>\n",
       "    <tr>\n",
       "      <th>2</th>\n",
       "      <td>1.298930</td>\n",
       "      <td>2.357994</td>\n",
       "      <td>-0.009889</td>\n",
       "      <td>0.743076</td>\n",
       "    </tr>\n",
       "    <tr>\n",
       "      <th>3</th>\n",
       "      <td>-0.390457</td>\n",
       "      <td>-1.054971</td>\n",
       "      <td>-0.867760</td>\n",
       "      <td>-0.498024</td>\n",
       "    </tr>\n",
       "    <tr>\n",
       "      <th>4</th>\n",
       "      <td>-1.102586</td>\n",
       "      <td>0.486171</td>\n",
       "      <td>-1.118178</td>\n",
       "      <td>-0.453491</td>\n",
       "    </tr>\n",
       "  </tbody>\n",
       "</table>\n",
       "</div>"
      ],
      "text/plain": [
       "       col1      col2      col3      col4\n",
       "0  1.115173 -0.596415  0.633069  1.033213\n",
       "1  0.030176  0.265409  0.298346  0.780963\n",
       "2  1.298930  2.357994 -0.009889  0.743076\n",
       "3 -0.390457 -1.054971 -0.867760 -0.498024\n",
       "4 -1.102586  0.486171 -1.118178 -0.453491"
      ]
     },
     "execution_count": 31,
     "metadata": {},
     "output_type": "execute_result"
    }
   ],
   "source": [
    "df.head()"
   ]
  },
  {
   "cell_type": "code",
   "execution_count": 33,
   "metadata": {},
   "outputs": [
    {
     "data": {
      "text/plain": [
       "col1    1.115173\n",
       "col2   -0.596415\n",
       "col3    0.633069\n",
       "col4    1.033213\n",
       "Name: 0, dtype: float64"
      ]
     },
     "execution_count": 33,
     "metadata": {},
     "output_type": "execute_result"
    }
   ],
   "source": [
    "# getting data row wise(more examples in Module 4 session)\n",
    "# ..without using the loop\n",
    "df.iloc[0]"
   ]
  },
  {
   "cell_type": "code",
   "execution_count": 37,
   "metadata": {},
   "outputs": [
    {
     "data": {
      "text/html": [
       "<div>\n",
       "<style scoped>\n",
       "    .dataframe tbody tr th:only-of-type {\n",
       "        vertical-align: middle;\n",
       "    }\n",
       "\n",
       "    .dataframe tbody tr th {\n",
       "        vertical-align: top;\n",
       "    }\n",
       "\n",
       "    .dataframe thead th {\n",
       "        text-align: right;\n",
       "    }\n",
       "</style>\n",
       "<table border=\"1\" class=\"dataframe\">\n",
       "  <thead>\n",
       "    <tr style=\"text-align: right;\">\n",
       "      <th></th>\n",
       "      <th>col1</th>\n",
       "      <th>col2</th>\n",
       "      <th>col3</th>\n",
       "      <th>col4</th>\n",
       "    </tr>\n",
       "  </thead>\n",
       "  <tbody>\n",
       "    <tr>\n",
       "      <th>0</th>\n",
       "      <td>0.796417</td>\n",
       "      <td>0.399145</td>\n",
       "      <td>0.578732</td>\n",
       "      <td>0.299599</td>\n",
       "    </tr>\n",
       "    <tr>\n",
       "      <th>1</th>\n",
       "      <td>0.525377</td>\n",
       "      <td>0.037440</td>\n",
       "      <td>0.659777</td>\n",
       "      <td>0.507786</td>\n",
       "    </tr>\n",
       "    <tr>\n",
       "      <th>2</th>\n",
       "      <td>0.510684</td>\n",
       "      <td>0.601857</td>\n",
       "      <td>0.843803</td>\n",
       "      <td>0.130637</td>\n",
       "    </tr>\n",
       "    <tr>\n",
       "      <th>3</th>\n",
       "      <td>0.526774</td>\n",
       "      <td>0.259295</td>\n",
       "      <td>0.877237</td>\n",
       "      <td>0.709427</td>\n",
       "    </tr>\n",
       "    <tr>\n",
       "      <th>4</th>\n",
       "      <td>0.678906</td>\n",
       "      <td>0.193296</td>\n",
       "      <td>0.549725</td>\n",
       "      <td>0.325014</td>\n",
       "    </tr>\n",
       "  </tbody>\n",
       "</table>\n",
       "</div>"
      ],
      "text/plain": [
       "       col1      col2      col3      col4\n",
       "0  0.796417  0.399145  0.578732  0.299599\n",
       "1  0.525377  0.037440  0.659777  0.507786\n",
       "2  0.510684  0.601857  0.843803  0.130637\n",
       "3  0.526774  0.259295  0.877237  0.709427\n",
       "4  0.678906  0.193296  0.549725  0.325014"
      ]
     },
     "execution_count": 37,
     "metadata": {},
     "output_type": "execute_result"
    }
   ],
   "source": [
    "# iterrows() :iterates over each row and col_name and value\n",
    "df = pd.DataFrame(np.random.rand(5,4),\n",
    "                 columns=['col1', 'col2', 'col3', 'col4'])\n",
    "df"
   ]
  },
  {
   "cell_type": "code",
   "execution_count": 39,
   "metadata": {},
   "outputs": [
    {
     "data": {
      "text/plain": [
       "<generator object DataFrame.iterrows at 0x11d4f0e58>"
      ]
     },
     "execution_count": 39,
     "metadata": {},
     "output_type": "execute_result"
    }
   ],
   "source": [
    "df.iterrows()"
   ]
  },
  {
   "cell_type": "code",
   "execution_count": 41,
   "metadata": {},
   "outputs": [
    {
     "name": "stdout",
     "output_type": "stream",
     "text": [
      "0\n",
      "col1    0.796417\n",
      "col2    0.399145\n",
      "col3    0.578732\n",
      "col4    0.299599\n",
      "Name: 0, dtype: float64\n",
      "####################\n",
      "1\n",
      "col1    0.525377\n",
      "col2    0.037440\n",
      "col3    0.659777\n",
      "col4    0.507786\n",
      "Name: 1, dtype: float64\n",
      "####################\n",
      "2\n",
      "col1    0.510684\n",
      "col2    0.601857\n",
      "col3    0.843803\n",
      "col4    0.130637\n",
      "Name: 2, dtype: float64\n",
      "####################\n",
      "3\n",
      "col1    0.526774\n",
      "col2    0.259295\n",
      "col3    0.877237\n",
      "col4    0.709427\n",
      "Name: 3, dtype: float64\n",
      "####################\n",
      "4\n",
      "col1    0.678906\n",
      "col2    0.193296\n",
      "col3    0.549725\n",
      "col4    0.325014\n",
      "Name: 4, dtype: float64\n",
      "####################\n"
     ]
    }
   ],
   "source": [
    "for row_index, row_value in df.iterrows():\n",
    "    print(row_index)\n",
    "    print(row_value)\n",
    "    print(\"#\"*20)"
   ]
  },
  {
   "cell_type": "code",
   "execution_count": 46,
   "metadata": {},
   "outputs": [
    {
     "data": {
      "text/html": [
       "<div>\n",
       "<style scoped>\n",
       "    .dataframe tbody tr th:only-of-type {\n",
       "        vertical-align: middle;\n",
       "    }\n",
       "\n",
       "    .dataframe tbody tr th {\n",
       "        vertical-align: top;\n",
       "    }\n",
       "\n",
       "    .dataframe thead th {\n",
       "        text-align: right;\n",
       "    }\n",
       "</style>\n",
       "<table border=\"1\" class=\"dataframe\">\n",
       "  <thead>\n",
       "    <tr style=\"text-align: right;\">\n",
       "      <th></th>\n",
       "      <th>col1</th>\n",
       "      <th>col2</th>\n",
       "      <th>col3</th>\n",
       "      <th>col4</th>\n",
       "    </tr>\n",
       "  </thead>\n",
       "  <tbody>\n",
       "    <tr>\n",
       "      <th>0</th>\n",
       "      <td>0.096104</td>\n",
       "      <td>0.908776</td>\n",
       "      <td>0.902382</td>\n",
       "      <td>0.160005</td>\n",
       "    </tr>\n",
       "    <tr>\n",
       "      <th>1</th>\n",
       "      <td>0.766322</td>\n",
       "      <td>0.881511</td>\n",
       "      <td>0.046323</td>\n",
       "      <td>0.112673</td>\n",
       "    </tr>\n",
       "    <tr>\n",
       "      <th>2</th>\n",
       "      <td>0.153797</td>\n",
       "      <td>0.314574</td>\n",
       "      <td>0.420909</td>\n",
       "      <td>0.621621</td>\n",
       "    </tr>\n",
       "    <tr>\n",
       "      <th>3</th>\n",
       "      <td>0.170464</td>\n",
       "      <td>0.754470</td>\n",
       "      <td>0.932564</td>\n",
       "      <td>0.503274</td>\n",
       "    </tr>\n",
       "    <tr>\n",
       "      <th>4</th>\n",
       "      <td>0.530026</td>\n",
       "      <td>0.581001</td>\n",
       "      <td>0.914930</td>\n",
       "      <td>0.467937</td>\n",
       "    </tr>\n",
       "  </tbody>\n",
       "</table>\n",
       "</div>"
      ],
      "text/plain": [
       "       col1      col2      col3      col4\n",
       "0  0.096104  0.908776  0.902382  0.160005\n",
       "1  0.766322  0.881511  0.046323  0.112673\n",
       "2  0.153797  0.314574  0.420909  0.621621\n",
       "3  0.170464  0.754470  0.932564  0.503274\n",
       "4  0.530026  0.581001  0.914930  0.467937"
      ]
     },
     "execution_count": 46,
     "metadata": {},
     "output_type": "execute_result"
    }
   ],
   "source": [
    "# itertuples: returns a named tuple\n",
    "df = pd.DataFrame(np.random.rand(5,4),\n",
    "                 columns=['col1', 'col2', 'col3', 'col4'])\n",
    "df\n"
   ]
  },
  {
   "cell_type": "code",
   "execution_count": 47,
   "metadata": {},
   "outputs": [
    {
     "name": "stdout",
     "output_type": "stream",
     "text": [
      "Pandas(Index=0, col1=0.09610384281933304, col2=0.9087763569533396, col3=0.9023823861354927, col4=0.16000511691609542)\n",
      "0.09610384281933304\n",
      "0.9087763569533396\n",
      "####################\n",
      "Pandas(Index=1, col1=0.7663215575775143, col2=0.8815113719773129, col3=0.046322696674615194, col4=0.11267314131839434)\n",
      "0.7663215575775143\n",
      "0.8815113719773129\n",
      "####################\n",
      "Pandas(Index=2, col1=0.15379736506356667, col2=0.3145737215530181, col3=0.4209091263821808, col4=0.6216213485627781)\n",
      "0.15379736506356667\n",
      "0.3145737215530181\n",
      "####################\n",
      "Pandas(Index=3, col1=0.17046373836968765, col2=0.7544702962109139, col3=0.9325636074704018, col4=0.5032743707161728)\n",
      "0.17046373836968765\n",
      "0.7544702962109139\n",
      "####################\n",
      "Pandas(Index=4, col1=0.5300257318357422, col2=0.5810006105706884, col3=0.9149300917401895, col4=0.4679368395500929)\n",
      "0.5300257318357422\n",
      "0.5810006105706884\n",
      "####################\n"
     ]
    }
   ],
   "source": [
    "for row_value in df.itertuples():\n",
    "    print(row_value)\n",
    "    print(row_value.col1)\n",
    "    print(row_value.col2)\n",
    "    print(\"#\"*20)"
   ]
  },
  {
   "cell_type": "markdown",
   "metadata": {},
   "source": [
    "# GroupBy operations"
   ]
  },
  {
   "cell_type": "code",
   "execution_count": 48,
   "metadata": {},
   "outputs": [
    {
     "data": {
      "text/html": [
       "<div>\n",
       "<style scoped>\n",
       "    .dataframe tbody tr th:only-of-type {\n",
       "        vertical-align: middle;\n",
       "    }\n",
       "\n",
       "    .dataframe tbody tr th {\n",
       "        vertical-align: top;\n",
       "    }\n",
       "\n",
       "    .dataframe thead th {\n",
       "        text-align: right;\n",
       "    }\n",
       "</style>\n",
       "<table border=\"1\" class=\"dataframe\">\n",
       "  <thead>\n",
       "    <tr style=\"text-align: right;\">\n",
       "      <th></th>\n",
       "      <th>Team</th>\n",
       "      <th>Rank</th>\n",
       "      <th>Year</th>\n",
       "    </tr>\n",
       "  </thead>\n",
       "  <tbody>\n",
       "    <tr>\n",
       "      <th>0</th>\n",
       "      <td>West Indies</td>\n",
       "      <td>7</td>\n",
       "      <td>1975</td>\n",
       "    </tr>\n",
       "    <tr>\n",
       "      <th>1</th>\n",
       "      <td>West Indies</td>\n",
       "      <td>7</td>\n",
       "      <td>1979</td>\n",
       "    </tr>\n",
       "    <tr>\n",
       "      <th>2</th>\n",
       "      <td>India</td>\n",
       "      <td>2</td>\n",
       "      <td>1983</td>\n",
       "    </tr>\n",
       "    <tr>\n",
       "      <th>3</th>\n",
       "      <td>Australia</td>\n",
       "      <td>1</td>\n",
       "      <td>1987</td>\n",
       "    </tr>\n",
       "    <tr>\n",
       "      <th>4</th>\n",
       "      <td>Pakistan</td>\n",
       "      <td>6</td>\n",
       "      <td>1992</td>\n",
       "    </tr>\n",
       "    <tr>\n",
       "      <th>5</th>\n",
       "      <td>Sri Lanka</td>\n",
       "      <td>4</td>\n",
       "      <td>1996</td>\n",
       "    </tr>\n",
       "    <tr>\n",
       "      <th>6</th>\n",
       "      <td>Australia</td>\n",
       "      <td>1</td>\n",
       "      <td>1999</td>\n",
       "    </tr>\n",
       "    <tr>\n",
       "      <th>7</th>\n",
       "      <td>Australia</td>\n",
       "      <td>1</td>\n",
       "      <td>2003</td>\n",
       "    </tr>\n",
       "    <tr>\n",
       "      <th>8</th>\n",
       "      <td>Australia</td>\n",
       "      <td>1</td>\n",
       "      <td>2007</td>\n",
       "    </tr>\n",
       "    <tr>\n",
       "      <th>9</th>\n",
       "      <td>India</td>\n",
       "      <td>2</td>\n",
       "      <td>2011</td>\n",
       "    </tr>\n",
       "    <tr>\n",
       "      <th>10</th>\n",
       "      <td>Australia</td>\n",
       "      <td>1</td>\n",
       "      <td>2015</td>\n",
       "    </tr>\n",
       "  </tbody>\n",
       "</table>\n",
       "</div>"
      ],
      "text/plain": [
       "           Team  Rank  Year\n",
       "0   West Indies     7  1975\n",
       "1   West Indies     7  1979\n",
       "2         India     2  1983\n",
       "3     Australia     1  1987\n",
       "4      Pakistan     6  1992\n",
       "5     Sri Lanka     4  1996\n",
       "6     Australia     1  1999\n",
       "7     Australia     1  2003\n",
       "8     Australia     1  2007\n",
       "9         India     2  2011\n",
       "10    Australia     1  2015"
      ]
     },
     "execution_count": 48,
     "metadata": {},
     "output_type": "execute_result"
    }
   ],
   "source": [
    "world_cup = {'Team':['West Indies', 'West Indies', 'India', 'Australia',\n",
    "                     'Pakistan', 'Sri Lanka', 'Australia', 'Australia','Australia',\n",
    "                     'India','Australia'],\n",
    "            'Rank':[7,7,2,1,6,4,1,1,1,2,1],\n",
    "            'Year':[1975, 1979, 1983, 1987, 1992, 1996, 1999,2003, 2007,2011, 2015]}\n",
    "df = pd.DataFrame(world_cup)\n",
    "df\n"
   ]
  },
  {
   "cell_type": "code",
   "execution_count": 49,
   "metadata": {},
   "outputs": [
    {
     "data": {
      "text/plain": [
       "<pandas.core.groupby.groupby.DataFrameGroupBy object at 0x11c06b6a0>"
      ]
     },
     "execution_count": 49,
     "metadata": {},
     "output_type": "execute_result"
    }
   ],
   "source": [
    "# groupby()\n",
    "df.groupby('Team')"
   ]
  },
  {
   "cell_type": "code",
   "execution_count": 51,
   "metadata": {},
   "outputs": [
    {
     "data": {
      "text/plain": [
       "{'Australia': Int64Index([3, 6, 7, 8, 10], dtype='int64'),\n",
       " 'India': Int64Index([2, 9], dtype='int64'),\n",
       " 'Pakistan': Int64Index([4], dtype='int64'),\n",
       " 'Sri Lanka': Int64Index([5], dtype='int64'),\n",
       " 'West Indies': Int64Index([0, 1], dtype='int64')}"
      ]
     },
     "execution_count": 51,
     "metadata": {},
     "output_type": "execute_result"
    }
   ],
   "source": [
    "# to see the grouped values in single shot\n",
    "df.groupby('Team').groups"
   ]
  },
  {
   "cell_type": "code",
   "execution_count": 53,
   "metadata": {},
   "outputs": [
    {
     "data": {
      "text/plain": [
       "{('Australia', 1): Int64Index([3, 6, 7, 8, 10], dtype='int64'),\n",
       " ('India', 2): Int64Index([2, 9], dtype='int64'),\n",
       " ('Pakistan', 6): Int64Index([4], dtype='int64'),\n",
       " ('Sri Lanka', 4): Int64Index([5], dtype='int64'),\n",
       " ('West Indies', 7): Int64Index([0, 1], dtype='int64')}"
      ]
     },
     "execution_count": 53,
     "metadata": {},
     "output_type": "execute_result"
    }
   ],
   "source": [
    "# multiple columns grouping\n",
    "df.groupby(['Team', 'Rank']).groups"
   ]
  },
  {
   "cell_type": "code",
   "execution_count": 55,
   "metadata": {},
   "outputs": [
    {
     "name": "stdout",
     "output_type": "stream",
     "text": [
      "Australia\n",
      "         Team  Rank  Year\n",
      "3   Australia     1  1987\n",
      "6   Australia     1  1999\n",
      "7   Australia     1  2003\n",
      "8   Australia     1  2007\n",
      "10  Australia     1  2015\n",
      "####################\n",
      "India\n",
      "    Team  Rank  Year\n",
      "2  India     2  1983\n",
      "9  India     2  2011\n",
      "####################\n",
      "Pakistan\n",
      "       Team  Rank  Year\n",
      "4  Pakistan     6  1992\n",
      "####################\n",
      "Sri Lanka\n",
      "        Team  Rank  Year\n",
      "5  Sri Lanka     4  1996\n",
      "####################\n",
      "West Indies\n",
      "          Team  Rank  Year\n",
      "0  West Indies     7  1975\n",
      "1  West Indies     7  1979\n",
      "####################\n"
     ]
    }
   ],
   "source": [
    "# groups can be iterated over just like using itertools\n",
    "for group_key, group_value in df.groupby('Team'):\n",
    "    print(group_key)\n",
    "    print(group_value)\n",
    "    print(\"#\"*20)"
   ]
  },
  {
   "cell_type": "code",
   "execution_count": 56,
   "metadata": {},
   "outputs": [
    {
     "data": {
      "text/html": [
       "<div>\n",
       "<style scoped>\n",
       "    .dataframe tbody tr th:only-of-type {\n",
       "        vertical-align: middle;\n",
       "    }\n",
       "\n",
       "    .dataframe tbody tr th {\n",
       "        vertical-align: top;\n",
       "    }\n",
       "\n",
       "    .dataframe thead th {\n",
       "        text-align: right;\n",
       "    }\n",
       "</style>\n",
       "<table border=\"1\" class=\"dataframe\">\n",
       "  <thead>\n",
       "    <tr style=\"text-align: right;\">\n",
       "      <th></th>\n",
       "      <th>Team</th>\n",
       "      <th>Rank</th>\n",
       "      <th>Year</th>\n",
       "    </tr>\n",
       "  </thead>\n",
       "  <tbody>\n",
       "    <tr>\n",
       "      <th>2</th>\n",
       "      <td>India</td>\n",
       "      <td>2</td>\n",
       "      <td>1983</td>\n",
       "    </tr>\n",
       "    <tr>\n",
       "      <th>9</th>\n",
       "      <td>India</td>\n",
       "      <td>2</td>\n",
       "      <td>2011</td>\n",
       "    </tr>\n",
       "  </tbody>\n",
       "</table>\n",
       "</div>"
      ],
      "text/plain": [
       "    Team  Rank  Year\n",
       "2  India     2  1983\n",
       "9  India     2  2011"
      ]
     },
     "execution_count": 56,
     "metadata": {},
     "output_type": "execute_result"
    }
   ],
   "source": [
    "# a single group can also be selected using get_group()\n",
    "grouped = df.groupby('Team')\n",
    "grouped.get_group('India')"
   ]
  },
  {
   "cell_type": "code",
   "execution_count": 59,
   "metadata": {},
   "outputs": [
    {
     "name": "stdout",
     "output_type": "stream",
     "text": [
      "<class 'pandas.core.frame.DataFrame'>\n",
      "       Rank        Year\n",
      "count   2.0     2.00000\n",
      "mean    2.0  1997.00000\n",
      "std     0.0    19.79899\n",
      "min     2.0  1983.00000\n",
      "25%     2.0  1990.00000\n",
      "50%     2.0  1997.00000\n",
      "75%     2.0  2004.00000\n",
      "max     2.0  2011.00000\n"
     ]
    }
   ],
   "source": [
    "# a single group can also be selected using get_group()\n",
    "grouped = df.groupby('Team')\n",
    "print(type(grouped.get_group('India')))\n",
    "# to get DF summary\n",
    "print(grouped.get_group('India').describe())"
   ]
  },
  {
   "cell_type": "markdown",
   "metadata": {},
   "source": [
    "## Concatenation\n",
    "- process of combining two or more data structures"
   ]
  },
  {
   "cell_type": "code",
   "execution_count": 60,
   "metadata": {},
   "outputs": [
    {
     "name": "stdout",
     "output_type": "stream",
     "text": [
      "DF1: World champions\n",
      "          Team  ICC_rank  World_champions_Year  Points\n",
      "0        India         2                  2011     874\n",
      "1    Australia         3                  2015     787\n",
      "2  West Indies         7                  1979     753\n",
      "3     Pakistan         8                  1992     673\n",
      "4    Sri Lanka         4                  1996     855\n",
      "####################\n",
      "DF2: Chokers\n",
      "           Team  ICC_rank  Points\n",
      "0  South Africa         1     895\n",
      "1   New Zealand         5     764\n",
      "2      Zimbabwe         9     656\n"
     ]
    }
   ],
   "source": [
    "import pandas as pd\n",
    "\n",
    "world_champions={'Team':['India','Australia','West Indies','Pakistan','Sri Lanka'],\n",
    "           'ICC_rank':[2,3,7,8,4],\n",
    "           'World_champions_Year':[2011,2015,1979,1992,1996],\n",
    "           'Points':[874,787,753,673,855]}\n",
    "\n",
    "chokers={'Team':['South Africa','New Zealand','Zimbabwe'],\n",
    "           'ICC_rank':[1,5,9],\n",
    "           'Points':[895,764,656]}\n",
    "df1 = pd.DataFrame(world_champions)\n",
    "df2 = pd.DataFrame(chokers)\n",
    "print(\"DF1: World champions\")\n",
    "print(df1)\n",
    "print(\"#\"*20)\n",
    "print(\"DF2: Chokers\")\n",
    "print(df2)"
   ]
  },
  {
   "cell_type": "code",
   "execution_count": 63,
   "metadata": {},
   "outputs": [
    {
     "data": {
      "text/html": [
       "<div>\n",
       "<style scoped>\n",
       "    .dataframe tbody tr th:only-of-type {\n",
       "        vertical-align: middle;\n",
       "    }\n",
       "\n",
       "    .dataframe tbody tr th {\n",
       "        vertical-align: top;\n",
       "    }\n",
       "\n",
       "    .dataframe thead th {\n",
       "        text-align: right;\n",
       "    }\n",
       "</style>\n",
       "<table border=\"1\" class=\"dataframe\">\n",
       "  <thead>\n",
       "    <tr style=\"text-align: right;\">\n",
       "      <th></th>\n",
       "      <th>ICC_rank</th>\n",
       "      <th>Points</th>\n",
       "      <th>Team</th>\n",
       "      <th>World_champions_Year</th>\n",
       "    </tr>\n",
       "  </thead>\n",
       "  <tbody>\n",
       "    <tr>\n",
       "      <th>0</th>\n",
       "      <td>2</td>\n",
       "      <td>874</td>\n",
       "      <td>India</td>\n",
       "      <td>2011.0</td>\n",
       "    </tr>\n",
       "    <tr>\n",
       "      <th>1</th>\n",
       "      <td>3</td>\n",
       "      <td>787</td>\n",
       "      <td>Australia</td>\n",
       "      <td>2015.0</td>\n",
       "    </tr>\n",
       "    <tr>\n",
       "      <th>2</th>\n",
       "      <td>7</td>\n",
       "      <td>753</td>\n",
       "      <td>West Indies</td>\n",
       "      <td>1979.0</td>\n",
       "    </tr>\n",
       "    <tr>\n",
       "      <th>3</th>\n",
       "      <td>8</td>\n",
       "      <td>673</td>\n",
       "      <td>Pakistan</td>\n",
       "      <td>1992.0</td>\n",
       "    </tr>\n",
       "    <tr>\n",
       "      <th>4</th>\n",
       "      <td>4</td>\n",
       "      <td>855</td>\n",
       "      <td>Sri Lanka</td>\n",
       "      <td>1996.0</td>\n",
       "    </tr>\n",
       "    <tr>\n",
       "      <th>0</th>\n",
       "      <td>1</td>\n",
       "      <td>895</td>\n",
       "      <td>South Africa</td>\n",
       "      <td>NaN</td>\n",
       "    </tr>\n",
       "    <tr>\n",
       "      <th>1</th>\n",
       "      <td>5</td>\n",
       "      <td>764</td>\n",
       "      <td>New Zealand</td>\n",
       "      <td>NaN</td>\n",
       "    </tr>\n",
       "    <tr>\n",
       "      <th>2</th>\n",
       "      <td>9</td>\n",
       "      <td>656</td>\n",
       "      <td>Zimbabwe</td>\n",
       "      <td>NaN</td>\n",
       "    </tr>\n",
       "  </tbody>\n",
       "</table>\n",
       "</div>"
      ],
      "text/plain": [
       "   ICC_rank  Points          Team  World_champions_Year\n",
       "0         2     874         India                2011.0\n",
       "1         3     787     Australia                2015.0\n",
       "2         7     753   West Indies                1979.0\n",
       "3         8     673      Pakistan                1992.0\n",
       "4         4     855     Sri Lanka                1996.0\n",
       "0         1     895  South Africa                   NaN\n",
       "1         5     764   New Zealand                   NaN\n",
       "2         9     656      Zimbabwe                   NaN"
      ]
     },
     "execution_count": 63,
     "metadata": {},
     "output_type": "execute_result"
    }
   ],
   "source": [
    "# concat()\n",
    "concatenated_df = pd.concat([df1, df2], sort=True)\n",
    "concatenated_df"
   ]
  },
  {
   "cell_type": "code",
   "execution_count": 64,
   "metadata": {},
   "outputs": [
    {
     "data": {
      "text/plain": [
       "ICC_rank                    2\n",
       "Points                    874\n",
       "Team                    India\n",
       "World_champions_Year     2011\n",
       "Name: 0, dtype: object"
      ]
     },
     "execution_count": 64,
     "metadata": {},
     "output_type": "execute_result"
    }
   ],
   "source": [
    "# iloc takes index postition from the top.\n",
    "concatenated_df.iloc[0]"
   ]
  },
  {
   "cell_type": "code",
   "execution_count": 65,
   "metadata": {},
   "outputs": [
    {
     "data": {
      "text/plain": [
       "ICC_rank                           1\n",
       "Points                           895\n",
       "Team                    South Africa\n",
       "World_champions_Year             NaN\n",
       "Name: 0, dtype: object"
      ]
     },
     "execution_count": 65,
     "metadata": {},
     "output_type": "execute_result"
    }
   ],
   "source": [
    "concatenated_df.iloc[5]"
   ]
  },
  {
   "cell_type": "code",
   "execution_count": 66,
   "metadata": {},
   "outputs": [
    {
     "data": {
      "text/html": [
       "<div>\n",
       "<style scoped>\n",
       "    .dataframe tbody tr th:only-of-type {\n",
       "        vertical-align: middle;\n",
       "    }\n",
       "\n",
       "    .dataframe tbody tr th {\n",
       "        vertical-align: top;\n",
       "    }\n",
       "\n",
       "    .dataframe thead th {\n",
       "        text-align: right;\n",
       "    }\n",
       "</style>\n",
       "<table border=\"1\" class=\"dataframe\">\n",
       "  <thead>\n",
       "    <tr style=\"text-align: right;\">\n",
       "      <th></th>\n",
       "      <th>ICC_rank</th>\n",
       "      <th>Points</th>\n",
       "      <th>Team</th>\n",
       "      <th>World_champions_Year</th>\n",
       "    </tr>\n",
       "  </thead>\n",
       "  <tbody>\n",
       "    <tr>\n",
       "      <th>0</th>\n",
       "      <td>2</td>\n",
       "      <td>874</td>\n",
       "      <td>India</td>\n",
       "      <td>2011.0</td>\n",
       "    </tr>\n",
       "    <tr>\n",
       "      <th>0</th>\n",
       "      <td>1</td>\n",
       "      <td>895</td>\n",
       "      <td>South Africa</td>\n",
       "      <td>NaN</td>\n",
       "    </tr>\n",
       "  </tbody>\n",
       "</table>\n",
       "</div>"
      ],
      "text/plain": [
       "   ICC_rank  Points          Team  World_champions_Year\n",
       "0         2     874         India                2011.0\n",
       "0         1     895  South Africa                   NaN"
      ]
     },
     "execution_count": 66,
     "metadata": {},
     "output_type": "execute_result"
    }
   ],
   "source": [
    "# access via index value\n",
    "concatenated_df.loc[0]"
   ]
  },
  {
   "cell_type": "code",
   "execution_count": 68,
   "metadata": {},
   "outputs": [
    {
     "name": "stdout",
     "output_type": "stream",
     "text": [
      "DF1: World champions\n",
      "          Team  ICC_rank  World_champions_Year  Points\n",
      "0        India         2                  2011     874\n",
      "1    Australia         3                  2015     787\n",
      "2  West Indies         7                  1979     753\n",
      "3     Pakistan         8                  1992     673\n",
      "4    Sri Lanka         4                  1996     855\n",
      "####################\n",
      "DF2: Chokers\n",
      "           Team  ICC_rank  Points\n",
      "0  South Africa         1     895\n",
      "1   New Zealand         5     764\n",
      "2      Zimbabwe         9     656\n",
      "********** Appending/concatenating *******\n",
      "   ICC_rank  Points          Team  World_champions_Year\n",
      "0         2     874         India                2011.0\n",
      "1         3     787     Australia                2015.0\n",
      "2         7     753   West Indies                1979.0\n",
      "3         8     673      Pakistan                1992.0\n",
      "4         4     855     Sri Lanka                1996.0\n",
      "0         1     895  South Africa                   NaN\n",
      "1         5     764   New Zealand                   NaN\n",
      "2         9     656      Zimbabwe                   NaN\n"
     ]
    }
   ],
   "source": [
    "# 2.concantenation can also be done with the df.append()\n",
    "\n",
    "import pandas as pd\n",
    "\n",
    "world_champions={'Team':['India','Australia','West Indies','Pakistan','Sri Lanka'],\n",
    "           'ICC_rank':[2,3,7,8,4],\n",
    "           'World_champions_Year':[2011,2015,1979,1992,1996],\n",
    "           'Points':[874,787,753,673,855]}\n",
    "\n",
    "chokers={'Team':['South Africa','New Zealand','Zimbabwe'],\n",
    "           'ICC_rank':[1,5,9],\n",
    "           'Points':[895,764,656]}\n",
    "df1 = pd.DataFrame(world_champions)\n",
    "df2 = pd.DataFrame(chokers)\n",
    "print(\"DF1: World champions\")\n",
    "print(df1)\n",
    "print(\"#\"*20)\n",
    "print(\"DF2: Chokers\")\n",
    "print(df2)\n",
    "\n",
    "print(\"********** Appending/concatenating *******\")\n",
    "new_df = df1.append(df2, sort=True)\n",
    "print(new_df)"
   ]
  },
  {
   "cell_type": "code",
   "execution_count": 69,
   "metadata": {},
   "outputs": [
    {
     "data": {
      "text/html": [
       "<div>\n",
       "<style scoped>\n",
       "    .dataframe tbody tr th:only-of-type {\n",
       "        vertical-align: middle;\n",
       "    }\n",
       "\n",
       "    .dataframe tbody tr th {\n",
       "        vertical-align: top;\n",
       "    }\n",
       "\n",
       "    .dataframe thead th {\n",
       "        text-align: right;\n",
       "    }\n",
       "</style>\n",
       "<table border=\"1\" class=\"dataframe\">\n",
       "  <thead>\n",
       "    <tr style=\"text-align: right;\">\n",
       "      <th></th>\n",
       "      <th>Team</th>\n",
       "      <th>ICC_rank</th>\n",
       "      <th>World_champions_Year</th>\n",
       "      <th>Points</th>\n",
       "      <th>Team</th>\n",
       "      <th>ICC_rank</th>\n",
       "      <th>Points</th>\n",
       "    </tr>\n",
       "  </thead>\n",
       "  <tbody>\n",
       "    <tr>\n",
       "      <th>0</th>\n",
       "      <td>India</td>\n",
       "      <td>2</td>\n",
       "      <td>2011</td>\n",
       "      <td>874</td>\n",
       "      <td>South Africa</td>\n",
       "      <td>1.0</td>\n",
       "      <td>895.0</td>\n",
       "    </tr>\n",
       "    <tr>\n",
       "      <th>1</th>\n",
       "      <td>Australia</td>\n",
       "      <td>3</td>\n",
       "      <td>2015</td>\n",
       "      <td>787</td>\n",
       "      <td>New Zealand</td>\n",
       "      <td>5.0</td>\n",
       "      <td>764.0</td>\n",
       "    </tr>\n",
       "    <tr>\n",
       "      <th>2</th>\n",
       "      <td>West Indies</td>\n",
       "      <td>7</td>\n",
       "      <td>1979</td>\n",
       "      <td>753</td>\n",
       "      <td>Zimbabwe</td>\n",
       "      <td>9.0</td>\n",
       "      <td>656.0</td>\n",
       "    </tr>\n",
       "    <tr>\n",
       "      <th>3</th>\n",
       "      <td>Pakistan</td>\n",
       "      <td>8</td>\n",
       "      <td>1992</td>\n",
       "      <td>673</td>\n",
       "      <td>NaN</td>\n",
       "      <td>NaN</td>\n",
       "      <td>NaN</td>\n",
       "    </tr>\n",
       "    <tr>\n",
       "      <th>4</th>\n",
       "      <td>Sri Lanka</td>\n",
       "      <td>4</td>\n",
       "      <td>1996</td>\n",
       "      <td>855</td>\n",
       "      <td>NaN</td>\n",
       "      <td>NaN</td>\n",
       "      <td>NaN</td>\n",
       "    </tr>\n",
       "  </tbody>\n",
       "</table>\n",
       "</div>"
      ],
      "text/plain": [
       "          Team  ICC_rank  World_champions_Year  Points          Team  \\\n",
       "0        India         2                  2011     874  South Africa   \n",
       "1    Australia         3                  2015     787   New Zealand   \n",
       "2  West Indies         7                  1979     753      Zimbabwe   \n",
       "3     Pakistan         8                  1992     673           NaN   \n",
       "4    Sri Lanka         4                  1996     855           NaN   \n",
       "\n",
       "   ICC_rank  Points  \n",
       "0       1.0   895.0  \n",
       "1       5.0   764.0  \n",
       "2       9.0   656.0  \n",
       "3       NaN     NaN  \n",
       "4       NaN     NaN  "
      ]
     },
     "execution_count": 69,
     "metadata": {},
     "output_type": "execute_result"
    }
   ],
   "source": [
    "# axis=1 puts the second df as new columns in concatenation process\n",
    "pd.concat([df1, df2], axis=1)"
   ]
  },
  {
   "cell_type": "code",
   "execution_count": 70,
   "metadata": {},
   "outputs": [
    {
     "name": "stdout",
     "output_type": "stream",
     "text": [
      "          Team  ICC_rank  World_champions_Year  Points          Team  \\\n",
      "0        India         2                  2011     874  South Africa   \n",
      "1    Australia         3                  2015     787   New Zealand   \n",
      "2  West Indies         7                  1979     753      Zimbabwe   \n",
      "3     Pakistan         8                  1992     673           NaN   \n",
      "4    Sri Lanka         4                  1996     855           NaN   \n",
      "\n",
      "   ICC_rank  Points  \n",
      "0       1.0   895.0  \n",
      "1       5.0   764.0  \n",
      "2       9.0   656.0  \n",
      "3       NaN     NaN  \n",
      "4       NaN     NaN  \n"
     ]
    }
   ],
   "source": [
    "new_df = pd.concat([df1, df2], axis=1)\n",
    "print(new_df)"
   ]
  },
  {
   "cell_type": "code",
   "execution_count": 71,
   "metadata": {},
   "outputs": [
    {
     "data": {
      "text/html": [
       "<div>\n",
       "<style scoped>\n",
       "    .dataframe tbody tr th:only-of-type {\n",
       "        vertical-align: middle;\n",
       "    }\n",
       "\n",
       "    .dataframe tbody tr th {\n",
       "        vertical-align: top;\n",
       "    }\n",
       "\n",
       "    .dataframe thead th {\n",
       "        text-align: right;\n",
       "    }\n",
       "</style>\n",
       "<table border=\"1\" class=\"dataframe\">\n",
       "  <thead>\n",
       "    <tr style=\"text-align: right;\">\n",
       "      <th></th>\n",
       "      <th>Team</th>\n",
       "      <th>Team</th>\n",
       "    </tr>\n",
       "  </thead>\n",
       "  <tbody>\n",
       "    <tr>\n",
       "      <th>0</th>\n",
       "      <td>India</td>\n",
       "      <td>South Africa</td>\n",
       "    </tr>\n",
       "    <tr>\n",
       "      <th>1</th>\n",
       "      <td>Australia</td>\n",
       "      <td>New Zealand</td>\n",
       "    </tr>\n",
       "    <tr>\n",
       "      <th>2</th>\n",
       "      <td>West Indies</td>\n",
       "      <td>Zimbabwe</td>\n",
       "    </tr>\n",
       "    <tr>\n",
       "      <th>3</th>\n",
       "      <td>Pakistan</td>\n",
       "      <td>NaN</td>\n",
       "    </tr>\n",
       "    <tr>\n",
       "      <th>4</th>\n",
       "      <td>Sri Lanka</td>\n",
       "      <td>NaN</td>\n",
       "    </tr>\n",
       "  </tbody>\n",
       "</table>\n",
       "</div>"
      ],
      "text/plain": [
       "          Team          Team\n",
       "0        India  South Africa\n",
       "1    Australia   New Zealand\n",
       "2  West Indies      Zimbabwe\n",
       "3     Pakistan           NaN\n",
       "4    Sri Lanka           NaN"
      ]
     },
     "execution_count": 71,
     "metadata": {},
     "output_type": "execute_result"
    }
   ],
   "source": [
    "new_df['Team']  # multiple columns with same name"
   ]
  },
  {
   "cell_type": "markdown",
   "metadata": {},
   "source": [
    "## acces a column using iloc\n"
   ]
  },
  {
   "cell_type": "code",
   "execution_count": 81,
   "metadata": {},
   "outputs": [
    {
     "name": "stdout",
     "output_type": "stream",
     "text": [
      "0          India\n",
      "1      Australia\n",
      "2    West Indies\n",
      "3       Pakistan\n",
      "4      Sri Lanka\n",
      "Name: Team, dtype: object\n",
      "0    South Africa\n",
      "1     New Zealand\n",
      "2        Zimbabwe\n",
      "3             NaN\n",
      "4             NaN\n",
      "Name: Team, dtype: object\n"
     ]
    }
   ],
   "source": [
    "\"\"\"\n",
    "# synatx: .iloc to access columns\n",
    "# 1.df.iloc[:,column_position]\n",
    "# 2.df.iloc[:,[list_of_column_index_positions]]\n",
    "\n",
    "synatx: .loc to access columns\n",
    "# df.loc[:,[list_of_column_names]]\n",
    "\"\"\"\n",
    "\n",
    "team_df = new_df['Team'] \n",
    "#team_df.iloc[:,[0,1]]\n",
    "#team_df.iloc[:,0]\n",
    "print(team_df.iloc[:,0])\n",
    "print(team_df.iloc[:,1])\n",
    "\n"
   ]
  },
  {
   "cell_type": "markdown",
   "metadata": {},
   "source": [
    "## Merging and Joining"
   ]
  },
  {
   "cell_type": "code",
   "execution_count": 88,
   "metadata": {},
   "outputs": [
    {
     "name": "stdout",
     "output_type": "stream",
     "text": [
      "DF1: World champions\n",
      "          Team  ICC_rank  World_champions_Year  Points\n",
      "0        India         2                  2011     874\n",
      "1    Australia         3                  2015     787\n",
      "2  West Indies         7                  1979     753\n",
      "3     Pakistan         8                  1992     673\n",
      "4    Sri Lanka         4                  1996     855\n",
      "####################\n",
      "DF2: Chokers\n",
      "          Team  ICC_rank  Points\n",
      "0        India         2     874\n",
      "1  New Zealand         5     764\n",
      "2     Zimbabwe         9     656\n",
      " *******Default is Inner Join Merge*********\n",
      "    Team  ICC_rank_x  World_champions_Year  Points_x  ICC_rank_y  Points_y\n",
      "0  India           2                  2011       874           2       874\n"
     ]
    }
   ],
   "source": [
    "# inner join returns intersection of two Dataframes.\n",
    "world_champions={'Team':['India','Australia','West Indies','Pakistan','Sri Lanka'],\n",
    "           'ICC_rank':[2,3,7,8,4],\n",
    "           'World_champions_Year':[2011,2015,1979,1992,1996],\n",
    "           'Points':[874,787,753,673,855]}\n",
    "\n",
    "chokers={'Team':['India','New Zealand','Zimbabwe'],\n",
    "           'ICC_rank':[2,5,9],\n",
    "           'Points':[874,764,656]}\n",
    "df1 = pd.DataFrame(world_champions)\n",
    "df2 = pd.DataFrame(chokers)\n",
    "print(\"DF1: World champions\")\n",
    "print(df1)\n",
    "print(\"#\"*20)\n",
    "print(\"DF2: Chokers\")\n",
    "print(df2)\n",
    "print(\" *******Default is Inner Join Merge*********\")\n",
    "print(pd.merge(df1, df2, on='Team'))\n"
   ]
  },
  {
   "cell_type": "code",
   "execution_count": 85,
   "metadata": {},
   "outputs": [
    {
     "name": "stdout",
     "output_type": "stream",
     "text": [
      "DF1: World champions\n",
      "          Team  ICC_rank  World_champions_Year  Points\n",
      "0        India         2                  2011     874\n",
      "1    Australia         3                  2015     787\n",
      "2  West Indies         7                  1979     753\n",
      "3     Pakistan         8                  1992     673\n",
      "4    Sri Lanka         4                  1996     855\n",
      "####################\n",
      "DF2: Chokers\n",
      "          Team  ICC_rank  Points\n",
      "0        India         2     874\n",
      "1  New Zealand         5     764\n",
      "2     Zimbabwe         9     656\n",
      " *******Right Join Merge*********\n",
      "          Team  ICC_rank_x  World_champions_Year  Points_x  ICC_rank_y  \\\n",
      "0        India         2.0                2011.0     874.0           2   \n",
      "1  New Zealand         NaN                   NaN       NaN           5   \n",
      "2     Zimbabwe         NaN                   NaN       NaN           9   \n",
      "\n",
      "   Points_y  \n",
      "0       874  \n",
      "1       764  \n",
      "2       656  \n"
     ]
    }
   ],
   "source": [
    "# right join merges two dataframes based on the keys of the right dataframe\n",
    "world_champions={'Team':['India','Australia','West Indies','Pakistan','Sri Lanka'],\n",
    "           'ICC_rank':[2,3,7,8,4],\n",
    "           'World_champions_Year':[2011,2015,1979,1992,1996],\n",
    "           'Points':[874,787,753,673,855]}\n",
    "\n",
    "chokers={'Team':['India','New Zealand','Zimbabwe'],\n",
    "           'ICC_rank':[2,5,9],\n",
    "           'Points':[874,764,656]}\n",
    "df1 = pd.DataFrame(world_champions)\n",
    "df2 = pd.DataFrame(chokers)\n",
    "print(\"DF1: World champions\")\n",
    "print(df1)\n",
    "print(\"#\"*20)\n",
    "print(\"DF2: Chokers\")\n",
    "print(df2)\n",
    "print(\" *******Right Join Merge*********\")\n",
    "print(pd.merge(df1, df2, on='Team', how='right'))\n"
   ]
  },
  {
   "cell_type": "code",
   "execution_count": 86,
   "metadata": {},
   "outputs": [
    {
     "name": "stdout",
     "output_type": "stream",
     "text": [
      "DF1: World champions\n",
      "          Team  ICC_rank  World_champions_Year  Points\n",
      "0        India         2                  2011     874\n",
      "1    Australia         3                  2015     787\n",
      "2  West Indies         7                  1979     753\n",
      "3     Pakistan         8                  1992     673\n",
      "4    Sri Lanka         4                  1996     855\n",
      "####################\n",
      "DF2: Chokers\n",
      "          Team  ICC_rank  Points\n",
      "0        India         2     874\n",
      "1  New Zealand         5     764\n",
      "2     Zimbabwe         9     656\n",
      " *******Left Join Merge*********\n",
      "          Team  ICC_rank_x  World_champions_Year  Points_x  ICC_rank_y  \\\n",
      "0        India           2                  2011       874         2.0   \n",
      "1    Australia           3                  2015       787         NaN   \n",
      "2  West Indies           7                  1979       753         NaN   \n",
      "3     Pakistan           8                  1992       673         NaN   \n",
      "4    Sri Lanka           4                  1996       855         NaN   \n",
      "\n",
      "   Points_y  \n",
      "0     874.0  \n",
      "1       NaN  \n",
      "2       NaN  \n",
      "3       NaN  \n",
      "4       NaN  \n"
     ]
    }
   ],
   "source": [
    "# left join merges two dataframes based on the keys of the left dataframe\n",
    "world_champions={'Team':['India','Australia','West Indies','Pakistan','Sri Lanka'],\n",
    "           'ICC_rank':[2,3,7,8,4],\n",
    "           'World_champions_Year':[2011,2015,1979,1992,1996],\n",
    "           'Points':[874,787,753,673,855]}\n",
    "\n",
    "chokers={'Team':['India','New Zealand','Zimbabwe'],\n",
    "           'ICC_rank':[2,5,9],\n",
    "           'Points':[874,764,656]}\n",
    "df1 = pd.DataFrame(world_champions)\n",
    "df2 = pd.DataFrame(chokers)\n",
    "print(\"DF1: World champions\")\n",
    "print(df1)\n",
    "print(\"#\"*20)\n",
    "print(\"DF2: Chokers\")\n",
    "print(df2)\n",
    "print(\" *******Left Join Merge*********\")\n",
    "print(pd.merge(df1, df2, on='Team', how='left'))\n"
   ]
  },
  {
   "cell_type": "code",
   "execution_count": 87,
   "metadata": {},
   "outputs": [
    {
     "name": "stdout",
     "output_type": "stream",
     "text": [
      "DF1: World champions\n",
      "          Team  ICC_rank  World_champions_Year  Points\n",
      "0        India         2                  2011     874\n",
      "1    Australia         3                  2015     787\n",
      "2  West Indies         7                  1979     753\n",
      "3     Pakistan         8                  1992     673\n",
      "4    Sri Lanka         4                  1996     855\n",
      "####################\n",
      "DF2: Chokers\n",
      "          Team  ICC_rank  Points\n",
      "0        India         2     874\n",
      "1  New Zealand         5     764\n",
      "2     Zimbabwe         9     656\n",
      " *******outer Join Merge*********\n",
      "          Team  ICC_rank_x  World_champions_Year  Points_x  ICC_rank_y  \\\n",
      "0        India         2.0                2011.0     874.0         2.0   \n",
      "1    Australia         3.0                2015.0     787.0         NaN   \n",
      "2  West Indies         7.0                1979.0     753.0         NaN   \n",
      "3     Pakistan         8.0                1992.0     673.0         NaN   \n",
      "4    Sri Lanka         4.0                1996.0     855.0         NaN   \n",
      "5  New Zealand         NaN                   NaN       NaN         5.0   \n",
      "6     Zimbabwe         NaN                   NaN       NaN         9.0   \n",
      "\n",
      "   Points_y  \n",
      "0     874.0  \n",
      "1       NaN  \n",
      "2       NaN  \n",
      "3       NaN  \n",
      "4       NaN  \n",
      "5     764.0  \n",
      "6     656.0  \n"
     ]
    }
   ],
   "source": [
    "# outer join merges two dataframes based on the full union\n",
    "world_champions={'Team':['India','Australia','West Indies','Pakistan','Sri Lanka'],\n",
    "           'ICC_rank':[2,3,7,8,4],\n",
    "           'World_champions_Year':[2011,2015,1979,1992,1996],\n",
    "           'Points':[874,787,753,673,855]}\n",
    "\n",
    "chokers={'Team':['India','New Zealand','Zimbabwe'],\n",
    "           'ICC_rank':[2,5,9],\n",
    "           'Points':[874,764,656]}\n",
    "df1 = pd.DataFrame(world_champions)\n",
    "df2 = pd.DataFrame(chokers)\n",
    "print(\"DF1: World champions\")\n",
    "print(df1)\n",
    "print(\"#\"*20)\n",
    "print(\"DF2: Chokers\")\n",
    "print(df2)\n",
    "print(\" *******outer Join Merge*********\")\n",
    "print(pd.merge(df1, df2, on='Team', how='outer'))\n"
   ]
  },
  {
   "cell_type": "code",
   "execution_count": 89,
   "metadata": {},
   "outputs": [
    {
     "name": "stdout",
     "output_type": "stream",
     "text": [
      "DF1: World champions\n",
      "          Team  ICC_rank  World_champions_Year  Points\n",
      "0        India         2                  2011     874\n",
      "1    Australia         3                  2015     787\n",
      "2  West Indies         7                  1979     753\n",
      "3     Pakistan         8                  1992     673\n",
      "4    Sri Lanka         4                  1996     855\n",
      "####################\n",
      "DF2: Chokers\n",
      "          Team  ICC_rank  Points\n",
      "0        India         2     874\n",
      "1  New Zealand         5     764\n",
      "2     Zimbabwe         9     656\n",
      " *******Inner Join Merge*********\n",
      "    Team  ICC_rank_x  World_champions_Year  Points_x  ICC_rank_y  Points_y\n",
      "0  India           2                  2011       874           2       874\n"
     ]
    }
   ],
   "source": [
    "# inner join returns intersection of two Dataframes.\n",
    "world_champions={'Team':['India','Australia','West Indies','Pakistan','Sri Lanka'],\n",
    "           'ICC_rank':[2,3,7,8,4],\n",
    "           'World_champions_Year':[2011,2015,1979,1992,1996],\n",
    "           'Points':[874,787,753,673,855]}\n",
    "\n",
    "chokers={'Team':['India','New Zealand','Zimbabwe'],\n",
    "           'ICC_rank':[2,5,9],\n",
    "           'Points':[874,764,656]}\n",
    "df1 = pd.DataFrame(world_champions)\n",
    "df2 = pd.DataFrame(chokers)\n",
    "print(\"DF1: World champions\")\n",
    "print(df1)\n",
    "print(\"#\"*20)\n",
    "print(\"DF2: Chokers\")\n",
    "print(df2)\n",
    "print(\" *******Inner Join Merge*********\")\n",
    "print(pd.merge(df1, df2, on='Team', how='inner'))\n"
   ]
  },
  {
   "cell_type": "code",
   "execution_count": null,
   "metadata": {},
   "outputs": [],
   "source": []
  }
 ],
 "metadata": {
  "kernelspec": {
   "display_name": "Python 3",
   "language": "python",
   "name": "python3"
  },
  "language_info": {
   "codemirror_mode": {
    "name": "ipython",
    "version": 3
   },
   "file_extension": ".py",
   "mimetype": "text/x-python",
   "name": "python",
   "nbconvert_exporter": "python",
   "pygments_lexer": "ipython3",
   "version": "3.7.1"
  }
 },
 "nbformat": 4,
 "nbformat_minor": 2
}
