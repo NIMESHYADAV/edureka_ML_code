{
 "cells": [
  {
   "cell_type": "markdown",
   "metadata": {},
   "source": [
    "# Data manipulation"
   ]
  },
  {
   "cell_type": "code",
   "execution_count": 22,
   "metadata": {},
   "outputs": [],
   "source": [
    "import pandas as pd\n",
    "import numpy as np"
   ]
  },
  {
   "cell_type": "markdown",
   "metadata": {},
   "source": [
    "### ndim\n",
    "returns the number of dataframe dimensions"
   ]
  },
  {
   "cell_type": "code",
   "execution_count": 23,
   "metadata": {},
   "outputs": [
    {
     "data": {
      "text/plain": [
       "1"
      ]
     },
     "execution_count": 23,
     "metadata": {},
     "output_type": "execute_result"
    }
   ],
   "source": [
    "ser = pd.Series([1, 2, 3, 4])\n",
    "ser.ndim"
   ]
  },
  {
   "cell_type": "markdown",
   "metadata": {},
   "source": [
    "### axes()\n",
    "returns a list if axes of the row labels"
   ]
  },
  {
   "cell_type": "code",
   "execution_count": 24,
   "metadata": {},
   "outputs": [
    {
     "data": {
      "text/plain": [
       "[RangeIndex(start=0, stop=4, step=1)]"
      ]
     },
     "execution_count": 24,
     "metadata": {},
     "output_type": "execute_result"
    }
   ],
   "source": [
    "ser.axes"
   ]
  },
  {
   "cell_type": "markdown",
   "metadata": {},
   "source": [
    "### values()\n",
    "returns the actual data in the series of array"
   ]
  },
  {
   "cell_type": "code",
   "execution_count": 25,
   "metadata": {},
   "outputs": [
    {
     "name": "stdout",
     "output_type": "stream",
     "text": [
      "<class 'pandas.core.series.Series'>\n",
      "<class 'numpy.ndarray'>\n",
      "[ 1  2  3  4  5  6  7  8  9 10 11 12 13 14 15 16 17 18 19 20 21 22 23 24\n",
      " 25 26 27 28 29]\n"
     ]
    }
   ],
   "source": [
    "ser = pd.Series(np.arange(1, 30))\n",
    "print(type(ser))\n",
    "val = ser.values\n",
    "print(type(val))\n",
    "print(val)"
   ]
  },
  {
   "cell_type": "markdown",
   "metadata": {},
   "source": [
    "### head(n=5)\n",
    "returns the first n rows of the dataframe or series"
   ]
  },
  {
   "cell_type": "code",
   "execution_count": 26,
   "metadata": {},
   "outputs": [
    {
     "data": {
      "text/plain": [
       "0    1\n",
       "1    2\n",
       "2    3\n",
       "3    4\n",
       "4    5\n",
       "dtype: int64"
      ]
     },
     "execution_count": 26,
     "metadata": {},
     "output_type": "execute_result"
    }
   ],
   "source": [
    "ser.head()"
   ]
  },
  {
   "cell_type": "code",
   "execution_count": 27,
   "metadata": {},
   "outputs": [
    {
     "data": {
      "text/plain": [
       "0    1\n",
       "1    2\n",
       "dtype: int64"
      ]
     },
     "execution_count": 27,
     "metadata": {},
     "output_type": "execute_result"
    }
   ],
   "source": [
    "ser.head(2)"
   ]
  },
  {
   "cell_type": "code",
   "execution_count": 28,
   "metadata": {},
   "outputs": [
    {
     "data": {
      "text/plain": [
       "0     1\n",
       "1     2\n",
       "2     3\n",
       "3     4\n",
       "4     5\n",
       "5     6\n",
       "6     7\n",
       "7     8\n",
       "8     9\n",
       "9    10\n",
       "dtype: int64"
      ]
     },
     "execution_count": 28,
     "metadata": {},
     "output_type": "execute_result"
    }
   ],
   "source": [
    "ser.head(10)"
   ]
  },
  {
   "cell_type": "markdown",
   "metadata": {},
   "source": [
    "### tail(n=5)\n",
    "returns the last five values of dataframe or series\n"
   ]
  },
  {
   "cell_type": "code",
   "execution_count": 29,
   "metadata": {},
   "outputs": [
    {
     "data": {
      "text/plain": [
       "24    25\n",
       "25    26\n",
       "26    27\n",
       "27    28\n",
       "28    29\n",
       "dtype: int64"
      ]
     },
     "execution_count": 29,
     "metadata": {},
     "output_type": "execute_result"
    }
   ],
   "source": [
    "ser.tail()"
   ]
  },
  {
   "cell_type": "code",
   "execution_count": 30,
   "metadata": {},
   "outputs": [
    {
     "data": {
      "text/plain": [
       "26    27\n",
       "27    28\n",
       "28    29\n",
       "dtype: int64"
      ]
     },
     "execution_count": 30,
     "metadata": {},
     "output_type": "execute_result"
    }
   ],
   "source": [
    "ser.tail(3)"
   ]
  },
  {
   "cell_type": "markdown",
   "metadata": {},
   "source": [
    "## sum()\n",
    "it returns the sum of the values for the requested axis\n"
   ]
  },
  {
   "cell_type": "code",
   "execution_count": 31,
   "metadata": {},
   "outputs": [
    {
     "data": {
      "text/html": [
       "<div>\n",
       "<style scoped>\n",
       "    .dataframe tbody tr th:only-of-type {\n",
       "        vertical-align: middle;\n",
       "    }\n",
       "\n",
       "    .dataframe tbody tr th {\n",
       "        vertical-align: top;\n",
       "    }\n",
       "\n",
       "    .dataframe thead th {\n",
       "        text-align: right;\n",
       "    }\n",
       "</style>\n",
       "<table border=\"1\" class=\"dataframe\">\n",
       "  <thead>\n",
       "    <tr style=\"text-align: right;\">\n",
       "      <th></th>\n",
       "      <th>odd</th>\n",
       "      <th>even</th>\n",
       "    </tr>\n",
       "  </thead>\n",
       "  <tbody>\n",
       "    <tr>\n",
       "      <th>0</th>\n",
       "      <td>1</td>\n",
       "      <td>0</td>\n",
       "    </tr>\n",
       "    <tr>\n",
       "      <th>1</th>\n",
       "      <td>3</td>\n",
       "      <td>2</td>\n",
       "    </tr>\n",
       "    <tr>\n",
       "      <th>2</th>\n",
       "      <td>5</td>\n",
       "      <td>4</td>\n",
       "    </tr>\n",
       "    <tr>\n",
       "      <th>3</th>\n",
       "      <td>7</td>\n",
       "      <td>6</td>\n",
       "    </tr>\n",
       "    <tr>\n",
       "      <th>4</th>\n",
       "      <td>9</td>\n",
       "      <td>8</td>\n",
       "    </tr>\n",
       "  </tbody>\n",
       "</table>\n",
       "</div>"
      ],
      "text/plain": [
       "   odd  even\n",
       "0    1     0\n",
       "1    3     2\n",
       "2    5     4\n",
       "3    7     6\n",
       "4    9     8"
      ]
     },
     "execution_count": 31,
     "metadata": {},
     "output_type": "execute_result"
    }
   ],
   "source": [
    "data = {'odd':np.arange(1,100,2),\n",
    "       'even':np.arange(0,100,2)}\n",
    "df = pd.DataFrame(data)\n",
    "df.head()"
   ]
  },
  {
   "cell_type": "code",
   "execution_count": 32,
   "metadata": {},
   "outputs": [
    {
     "data": {
      "text/plain": [
       "odd     2500\n",
       "even    2450\n",
       "dtype: int64"
      ]
     },
     "execution_count": 32,
     "metadata": {},
     "output_type": "execute_result"
    }
   ],
   "source": [
    "df.sum()  # by defaul axis=0 i.e add values of each column"
   ]
  },
  {
   "cell_type": "code",
   "execution_count": 33,
   "metadata": {},
   "outputs": [
    {
     "data": {
      "text/plain": [
       "0       1\n",
       "1       5\n",
       "2       9\n",
       "3      13\n",
       "4      17\n",
       "5      21\n",
       "6      25\n",
       "7      29\n",
       "8      33\n",
       "9      37\n",
       "10     41\n",
       "11     45\n",
       "12     49\n",
       "13     53\n",
       "14     57\n",
       "15     61\n",
       "16     65\n",
       "17     69\n",
       "18     73\n",
       "19     77\n",
       "20     81\n",
       "21     85\n",
       "22     89\n",
       "23     93\n",
       "24     97\n",
       "25    101\n",
       "26    105\n",
       "27    109\n",
       "28    113\n",
       "29    117\n",
       "30    121\n",
       "31    125\n",
       "32    129\n",
       "33    133\n",
       "34    137\n",
       "35    141\n",
       "36    145\n",
       "37    149\n",
       "38    153\n",
       "39    157\n",
       "40    161\n",
       "41    165\n",
       "42    169\n",
       "43    173\n",
       "44    177\n",
       "45    181\n",
       "46    185\n",
       "47    189\n",
       "48    193\n",
       "49    197\n",
       "dtype: int64"
      ]
     },
     "execution_count": 33,
     "metadata": {},
     "output_type": "execute_result"
    }
   ],
   "source": [
    "df.sum(axis=1)  # axis=1 means add values based on row"
   ]
  },
  {
   "cell_type": "markdown",
   "metadata": {},
   "source": [
    "### std()\n",
    "returns the standard deviation of the values for the requested axis"
   ]
  },
  {
   "cell_type": "code",
   "execution_count": 34,
   "metadata": {},
   "outputs": [
    {
     "data": {
      "text/plain": [
       "odd     29.154759\n",
       "even    29.154759\n",
       "dtype: float64"
      ]
     },
     "execution_count": 34,
     "metadata": {},
     "output_type": "execute_result"
    }
   ],
   "source": [
    "df.std() # axis=0,  by default"
   ]
  },
  {
   "cell_type": "code",
   "execution_count": 35,
   "metadata": {},
   "outputs": [
    {
     "data": {
      "text/plain": [
       "0     0.707107\n",
       "1     0.707107\n",
       "2     0.707107\n",
       "3     0.707107\n",
       "4     0.707107\n",
       "5     0.707107\n",
       "6     0.707107\n",
       "7     0.707107\n",
       "8     0.707107\n",
       "9     0.707107\n",
       "10    0.707107\n",
       "11    0.707107\n",
       "12    0.707107\n",
       "13    0.707107\n",
       "14    0.707107\n",
       "15    0.707107\n",
       "16    0.707107\n",
       "17    0.707107\n",
       "18    0.707107\n",
       "19    0.707107\n",
       "20    0.707107\n",
       "21    0.707107\n",
       "22    0.707107\n",
       "23    0.707107\n",
       "24    0.707107\n",
       "25    0.707107\n",
       "26    0.707107\n",
       "27    0.707107\n",
       "28    0.707107\n",
       "29    0.707107\n",
       "30    0.707107\n",
       "31    0.707107\n",
       "32    0.707107\n",
       "33    0.707107\n",
       "34    0.707107\n",
       "35    0.707107\n",
       "36    0.707107\n",
       "37    0.707107\n",
       "38    0.707107\n",
       "39    0.707107\n",
       "40    0.707107\n",
       "41    0.707107\n",
       "42    0.707107\n",
       "43    0.707107\n",
       "44    0.707107\n",
       "45    0.707107\n",
       "46    0.707107\n",
       "47    0.707107\n",
       "48    0.707107\n",
       "49    0.707107\n",
       "dtype: float64"
      ]
     },
     "execution_count": 35,
     "metadata": {},
     "output_type": "execute_result"
    }
   ],
   "source": [
    "df.std(axis=1)"
   ]
  },
  {
   "cell_type": "markdown",
   "metadata": {},
   "source": [
    "## Iterating over a Dataframe using iteritems()\n",
    "iterating column wise"
   ]
  },
  {
   "cell_type": "code",
   "execution_count": 38,
   "metadata": {},
   "outputs": [
    {
     "data": {
      "text/html": [
       "<div>\n",
       "<style scoped>\n",
       "    .dataframe tbody tr th:only-of-type {\n",
       "        vertical-align: middle;\n",
       "    }\n",
       "\n",
       "    .dataframe tbody tr th {\n",
       "        vertical-align: top;\n",
       "    }\n",
       "\n",
       "    .dataframe thead th {\n",
       "        text-align: right;\n",
       "    }\n",
       "</style>\n",
       "<table border=\"1\" class=\"dataframe\">\n",
       "  <thead>\n",
       "    <tr style=\"text-align: right;\">\n",
       "      <th></th>\n",
       "      <th>col1</th>\n",
       "      <th>col2</th>\n",
       "      <th>col3</th>\n",
       "      <th>col4</th>\n",
       "    </tr>\n",
       "  </thead>\n",
       "  <tbody>\n",
       "    <tr>\n",
       "      <th>0</th>\n",
       "      <td>0.550463</td>\n",
       "      <td>0.478495</td>\n",
       "      <td>0.305444</td>\n",
       "      <td>0.449910</td>\n",
       "    </tr>\n",
       "    <tr>\n",
       "      <th>1</th>\n",
       "      <td>0.027172</td>\n",
       "      <td>0.177021</td>\n",
       "      <td>0.154453</td>\n",
       "      <td>0.122646</td>\n",
       "    </tr>\n",
       "    <tr>\n",
       "      <th>2</th>\n",
       "      <td>0.645500</td>\n",
       "      <td>0.220227</td>\n",
       "      <td>0.719317</td>\n",
       "      <td>0.151217</td>\n",
       "    </tr>\n",
       "    <tr>\n",
       "      <th>3</th>\n",
       "      <td>0.837752</td>\n",
       "      <td>0.901408</td>\n",
       "      <td>0.677949</td>\n",
       "      <td>0.074830</td>\n",
       "    </tr>\n",
       "    <tr>\n",
       "      <th>4</th>\n",
       "      <td>0.490802</td>\n",
       "      <td>0.337905</td>\n",
       "      <td>0.931575</td>\n",
       "      <td>0.058662</td>\n",
       "    </tr>\n",
       "  </tbody>\n",
       "</table>\n",
       "</div>"
      ],
      "text/plain": [
       "       col1      col2      col3      col4\n",
       "0  0.550463  0.478495  0.305444  0.449910\n",
       "1  0.027172  0.177021  0.154453  0.122646\n",
       "2  0.645500  0.220227  0.719317  0.151217\n",
       "3  0.837752  0.901408  0.677949  0.074830\n",
       "4  0.490802  0.337905  0.931575  0.058662"
      ]
     },
     "execution_count": 38,
     "metadata": {},
     "output_type": "execute_result"
    }
   ],
   "source": [
    "import pandas as pd\n",
    "import numpy as np\n",
    "array_2d = np.random.rand(5,4)\n",
    "df = pd.DataFrame(array_2d, columns=['col1', 'col2', 'col3','col4'])\n",
    "df"
   ]
  },
  {
   "cell_type": "code",
   "execution_count": 42,
   "metadata": {},
   "outputs": [
    {
     "name": "stdout",
     "output_type": "stream",
     "text": [
      "Column name: col1\n",
      "0    0.550463\n",
      "1    0.027172\n",
      "2    0.645500\n",
      "3    0.837752\n",
      "4    0.490802\n",
      "Name: col1, dtype: float64\n",
      "####################\n",
      "Column name: col2\n",
      "0    0.478495\n",
      "1    0.177021\n",
      "2    0.220227\n",
      "3    0.901408\n",
      "4    0.337905\n",
      "Name: col2, dtype: float64\n",
      "####################\n",
      "Column name: col3\n",
      "0    0.305444\n",
      "1    0.154453\n",
      "2    0.719317\n",
      "3    0.677949\n",
      "4    0.931575\n",
      "Name: col3, dtype: float64\n",
      "####################\n",
      "Column name: col4\n",
      "0    0.449910\n",
      "1    0.122646\n",
      "2    0.151217\n",
      "3    0.074830\n",
      "4    0.058662\n",
      "Name: col4, dtype: float64\n",
      "####################\n"
     ]
    }
   ],
   "source": [
    "# iterating over a df and getting each column in each iteration\n",
    "for key, value in df.iteritems():\n",
    "    print(\"Column name:\", key)\n",
    "    print(value)\n",
    "    print(\"#\"*20)"
   ]
  },
  {
   "cell_type": "markdown",
   "metadata": {},
   "source": [
    "## Iterating over a Dataframe using iterrows()\n",
    "iterating row wise"
   ]
  },
  {
   "cell_type": "code",
   "execution_count": 49,
   "metadata": {},
   "outputs": [
    {
     "name": "stdout",
     "output_type": "stream",
     "text": [
      "       col1      col2      col3      col4\n",
      "0  0.521718  0.722050  0.601087  0.638895\n",
      "1  0.699529  0.252116  0.814161  0.777041\n",
      "2  0.736300  0.200019  0.021596  0.610516\n",
      "3  0.746539  0.068117  0.073008  0.207645\n",
      "4  0.781783  0.034615  0.633867  0.502297\n",
      "Row index: 0\n",
      "col1    0.521718\n",
      "col2    0.722050\n",
      "col3    0.601087\n",
      "col4    0.638895\n",
      "Name: 0, dtype: float64\n",
      "Row index: 1\n",
      "col1    0.699529\n",
      "col2    0.252116\n",
      "col3    0.814161\n",
      "col4    0.777041\n",
      "Name: 1, dtype: float64\n",
      "Row index: 2\n",
      "col1    0.736300\n",
      "col2    0.200019\n",
      "col3    0.021596\n",
      "col4    0.610516\n",
      "Name: 2, dtype: float64\n",
      "Row index: 3\n",
      "col1    0.746539\n",
      "col2    0.068117\n",
      "col3    0.073008\n",
      "col4    0.207645\n",
      "Name: 3, dtype: float64\n",
      "Row index: 4\n",
      "col1    0.781783\n",
      "col2    0.034615\n",
      "col3    0.633867\n",
      "col4    0.502297\n",
      "Name: 4, dtype: float64\n"
     ]
    }
   ],
   "source": [
    "import pandas as pd\n",
    "import numpy as np\n",
    "array_2d = np.random.rand(5,4)\n",
    "df = pd.DataFrame(array_2d, columns=['col1', 'col2', 'col3','col4'])\n",
    "print(df)\n",
    "for key, value in df.iterrows():\n",
    "    print(\"Row index:\", key)\n",
    "    print(value)  # access a particular column using value[<column_name>]"
   ]
  },
  {
   "cell_type": "markdown",
   "metadata": {},
   "source": [
    "## Iterating over a Dataframe using itertuples()\n",
    "iterator yielding a named tuple for each row"
   ]
  },
  {
   "cell_type": "code",
   "execution_count": 59,
   "metadata": {},
   "outputs": [
    {
     "name": "stdout",
     "output_type": "stream",
     "text": [
      "<class '__main__.Edureka'>\n",
      "Edureka(name='Ravi', age=25, gender='M')\n",
      "Ravi\n",
      "25\n",
      "Ravi\n",
      "25\n"
     ]
    }
   ],
   "source": [
    "# how named tuples work ?\n",
    "\n",
    "import collections\n",
    "Edureka = collections.namedtuple('Edureka', 'name age gender')\n",
    "print(Edureka) # this is a named tuple\n",
    "\n",
    "# how to put values in it\n",
    "ravi = Edureka(age=25, name='Ravi', gender='M')\n",
    "print(ravi)\n",
    "# how to access value from named tuple\n",
    "print(ravi.name)\n",
    "print(ravi.age)\n",
    "\n",
    "#indexing would continue to work in named tuple\n",
    "print(ravi[0])  # name\n",
    "print(ravi[1])  # age\n"
   ]
  },
  {
   "cell_type": "code",
   "execution_count": 61,
   "metadata": {},
   "outputs": [
    {
     "name": "stdout",
     "output_type": "stream",
     "text": [
      "       col1      col2      col3      col4\n",
      "0  0.916838  0.646793  0.596011  0.083617\n",
      "1  0.884756  0.743131  0.801376  0.213365\n",
      "2  0.879461  0.163635  0.870089  0.365947\n",
      "3  0.739521  0.344008  0.433985  0.748400\n",
      "4  0.278974  0.890763  0.111462  0.393776\n",
      "Pandas(Index=0, col1=0.9168376205252357, col2=0.6467927162970114, col3=0.5960111508265641, col4=0.08361716556764698)\n",
      "#####\n",
      "Pandas(Index=1, col1=0.8847563651320386, col2=0.7431309830311192, col3=0.8013759591994646, col4=0.21336507167978247)\n",
      "#####\n",
      "Pandas(Index=2, col1=0.87946101627468, col2=0.16363453127727123, col3=0.8700889842575817, col4=0.365946691160158)\n",
      "#####\n",
      "Pandas(Index=3, col1=0.7395213326517012, col2=0.34400767493968687, col3=0.43398459954713997, col4=0.7484003981176671)\n",
      "#####\n",
      "Pandas(Index=4, col1=0.27897426822980864, col2=0.8907633694250572, col3=0.1114621471930628, col4=0.393775932945578)\n",
      "#####\n"
     ]
    }
   ],
   "source": [
    "# let's see how itertuples() work\n",
    "import pandas as pd\n",
    "import numpy as np\n",
    "array_2d = np.random.rand(5,4)\n",
    "df = pd.DataFrame(array_2d, columns=['col1', 'col2', 'col3','col4'])\n",
    "print(df)\n",
    "for row in df.itertuples():\n",
    "    print(row) # this is named tuple\n",
    "    # you can access any colum using row.col1, row.col2 ..\n",
    "    print('#####')"
   ]
  },
  {
   "cell_type": "markdown",
   "metadata": {},
   "source": [
    "## GroupBy operation"
   ]
  },
  {
   "cell_type": "code",
   "execution_count": 62,
   "metadata": {},
   "outputs": [
    {
     "name": "stdout",
     "output_type": "stream",
     "text": [
      "           Team  Rank  Year\n",
      "0   West Indies     7  1975\n",
      "1   West indies     7  1979\n",
      "2         India     2  1983\n",
      "3     Australia     1  1987\n",
      "4      Pakistan     6  1992\n",
      "5     Sri Lanka     4  1996\n",
      "6     Australia     1  1999\n",
      "7     Australia     1  2003\n",
      "8     Australia     1  2007\n",
      "9         Insia     2  2011\n",
      "10    Australia     1  2015\n"
     ]
    }
   ],
   "source": [
    "import pandas as pd\n",
    "\n",
    "world_cup={'Team':['West Indies','West indies','India','Australia','Pakistan','Sri Lanka','Australia','Australia','Australia','Insia','Australia'],\n",
    "           'Rank':[7,7,2,1,6,4,1,1,1,2,1],\n",
    "           'Year':[1975,1979,1983,1987,1992,1996,1999,2003,2007,2011,2015]}\n",
    "df=pd.DataFrame(world_cup)\n",
    "print(df)"
   ]
  },
  {
   "cell_type": "code",
   "execution_count": 64,
   "metadata": {},
   "outputs": [
    {
     "data": {
      "text/plain": [
       "{'Australia': Int64Index([3, 6, 7, 8, 10], dtype='int64'),\n",
       " 'India': Int64Index([2], dtype='int64'),\n",
       " 'Insia': Int64Index([9], dtype='int64'),\n",
       " 'Pakistan': Int64Index([4], dtype='int64'),\n",
       " 'Sri Lanka': Int64Index([5], dtype='int64'),\n",
       " 'West Indies': Int64Index([0], dtype='int64'),\n",
       " 'West indies': Int64Index([1], dtype='int64')}"
      ]
     },
     "execution_count": 64,
     "metadata": {},
     "output_type": "execute_result"
    }
   ],
   "source": [
    "# grouping based on 'Team' column\n",
    "df.groupby('Team').groups"
   ]
  },
  {
   "cell_type": "code",
   "execution_count": 65,
   "metadata": {},
   "outputs": [
    {
     "data": {
      "text/plain": [
       "{('Australia', 1): Int64Index([3, 6, 7, 8, 10], dtype='int64'),\n",
       " ('India', 2): Int64Index([2], dtype='int64'),\n",
       " ('Insia', 2): Int64Index([9], dtype='int64'),\n",
       " ('Pakistan', 6): Int64Index([4], dtype='int64'),\n",
       " ('Sri Lanka', 4): Int64Index([5], dtype='int64'),\n",
       " ('West Indies', 7): Int64Index([0], dtype='int64'),\n",
       " ('West indies', 7): Int64Index([1], dtype='int64')}"
      ]
     },
     "execution_count": 65,
     "metadata": {},
     "output_type": "execute_result"
    }
   ],
   "source": [
    "# grouping based on Team and ICC_Rank\n",
    "df.groupby(['Team', 'Rank']).groups"
   ]
  },
  {
   "cell_type": "code",
   "execution_count": 69,
   "metadata": {},
   "outputs": [
    {
     "name": "stdout",
     "output_type": "stream",
     "text": [
      "Australia\n",
      "India\n",
      "Insia\n",
      "Pakistan\n",
      "Sri Lanka\n",
      "West Indies\n",
      "West indies\n"
     ]
    }
   ],
   "source": [
    "# groups can be iterated over just like ising itertools\n",
    "\n",
    "grouped_val = df.groupby('Team')\n",
    "\n",
    "for name, group in grouped_val:\n",
    "    print(name)"
   ]
  },
  {
   "cell_type": "code",
   "execution_count": 70,
   "metadata": {},
   "outputs": [
    {
     "name": "stdout",
     "output_type": "stream",
     "text": [
      "         Team  Rank  Year\n",
      "3   Australia     1  1987\n",
      "6   Australia     1  1999\n",
      "7   Australia     1  2003\n",
      "8   Australia     1  2007\n",
      "10  Australia     1  2015\n"
     ]
    }
   ],
   "source": [
    "# a single group can also be selected using get_group()\n",
    "grouped_val = df.groupby('Team')\n",
    "print(grouped_val.get_group('Australia'))"
   ]
  },
  {
   "cell_type": "markdown",
   "metadata": {},
   "source": [
    "## Concatenation\n",
    "it is the process of combining two or more data frames"
   ]
  },
  {
   "cell_type": "code",
   "execution_count": 75,
   "metadata": {},
   "outputs": [
    {
     "name": "stdout",
     "output_type": "stream",
     "text": [
      "DF1: World champions\n",
      "          Team  ICC_rank  World_champions_Year  Points\n",
      "0        India         2                  2011     874\n",
      "1    Australia         3                  2015     787\n",
      "2  West Indies         7                  1979     753\n",
      "3     Pakistan         8                  1992     673\n",
      "4    Sri Lanka         4                  1996     855\n",
      "####################\n",
      "DF2: Chokers\n",
      "           Team  ICC_rank  Points\n",
      "0  South Africa         1     895\n",
      "1   New Zealand         5     764\n",
      "2      Zimbabwe         9     656\n",
      "Concatenated dfs\n",
      "   ICC_rank  Points          Team  World_champions_Year\n",
      "0         2     874         India                2011.0\n",
      "1         3     787     Australia                2015.0\n",
      "2         7     753   West Indies                1979.0\n",
      "3         8     673      Pakistan                1992.0\n",
      "4         4     855     Sri Lanka                1996.0\n",
      "0         1     895  South Africa                   NaN\n",
      "1         5     764   New Zealand                   NaN\n",
      "2         9     656      Zimbabwe                   NaN\n"
     ]
    }
   ],
   "source": [
    "# method 1\n",
    "import pandas as pd\n",
    "\n",
    "world_champions={'Team':['India','Australia','West Indies','Pakistan','Sri Lanka'],\n",
    "           'ICC_rank':[2,3,7,8,4],\n",
    "           'World_champions_Year':[2011,2015,1979,1992,1996],\n",
    "           'Points':[874,787,753,673,855]}\n",
    "\n",
    "chokers={'Team':['South Africa','New Zealand','Zimbabwe'],\n",
    "           'ICC_rank':[1,5,9],\n",
    "           'Points':[895,764,656]}\n",
    "df1 = pd.DataFrame(world_champions)\n",
    "df2 = pd.DataFrame(chokers)\n",
    "print(\"DF1: World champions\")\n",
    "print(df1)\n",
    "print(\"#\"*20)\n",
    "print(\"DF2: Chokers\")\n",
    "print(df2)\n",
    "\n",
    "print(\"Concatenated dfs\")\n",
    "print(pd.concat([df1, df2], sort=True))\n"
   ]
  },
  {
   "cell_type": "code",
   "execution_count": 79,
   "metadata": {},
   "outputs": [
    {
     "name": "stdout",
     "output_type": "stream",
     "text": [
      "   ICC_rank  Points          Team  World_champions_Year\n",
      "0         2     874         India                2011.0\n",
      "1         3     787     Australia                2015.0\n",
      "2         7     753   West Indies                1979.0\n",
      "3         8     673      Pakistan                1992.0\n",
      "4         4     855     Sri Lanka                1996.0\n",
      "0         1     895  South Africa                   NaN\n",
      "1         5     764   New Zealand                   NaN\n",
      "2         9     656      Zimbabwe                   NaN\n"
     ]
    }
   ],
   "source": [
    "# method 2\n",
    "# appending the dataframes\n",
    "world_champions={'Team':['India','Australia','West Indies','Pakistan','Sri Lanka'],\n",
    "           'ICC_rank':[2,3,7,8,4],\n",
    "           'World_champions_Year':[2011,2015,1979,1992,1996],\n",
    "           'Points':[874,787,753,673,855]}\n",
    "\n",
    "chokers={'Team':['South Africa','New Zealand','Zimbabwe'],\n",
    "           'ICC_rank':[1,5,9],\n",
    "           'Points':[895,764,656]}\n",
    "df1 = pd.DataFrame(world_champions)\n",
    "df2 = pd.DataFrame(chokers)\n",
    "print(df1.append(df2, sort=True))"
   ]
  },
  {
   "cell_type": "code",
   "execution_count": 80,
   "metadata": {},
   "outputs": [
    {
     "name": "stdout",
     "output_type": "stream",
     "text": [
      "DF1: World champions\n",
      "          Team  ICC_rank  World_champions_Year  Points\n",
      "0        India         2                  2011     874\n",
      "1    Australia         3                  2015     787\n",
      "2  West Indies         7                  1979     753\n",
      "3     Pakistan         8                  1992     673\n",
      "4    Sri Lanka         4                  1996     855\n",
      "####################\n",
      "DF2: Chokers\n",
      "           Team  ICC_rank  Points\n",
      "0  South Africa         1     895\n",
      "1   New Zealand         5     764\n",
      "2      Zimbabwe         9     656\n",
      "Concatenated dfs\n",
      "          Team  ICC_rank  World_champions_Year  Points          Team  \\\n",
      "0        India         2                  2011     874  South Africa   \n",
      "1    Australia         3                  2015     787   New Zealand   \n",
      "2  West Indies         7                  1979     753      Zimbabwe   \n",
      "3     Pakistan         8                  1992     673           NaN   \n",
      "4    Sri Lanka         4                  1996     855           NaN   \n",
      "\n",
      "   ICC_rank  Points  \n",
      "0       1.0   895.0  \n",
      "1       5.0   764.0  \n",
      "2       9.0   656.0  \n",
      "3       NaN     NaN  \n",
      "4       NaN     NaN  \n"
     ]
    }
   ],
   "source": [
    "# concatenation by changing the default axis\n",
    "# method 1\n",
    "import pandas as pd\n",
    "\n",
    "world_champions={'Team':['India','Australia','West Indies','Pakistan','Sri Lanka'],\n",
    "           'ICC_rank':[2,3,7,8,4],\n",
    "           'World_champions_Year':[2011,2015,1979,1992,1996],\n",
    "           'Points':[874,787,753,673,855]}\n",
    "\n",
    "chokers={'Team':['South Africa','New Zealand','Zimbabwe'],\n",
    "           'ICC_rank':[1,5,9],\n",
    "           'Points':[895,764,656]}\n",
    "df1 = pd.DataFrame(world_champions)\n",
    "df2 = pd.DataFrame(chokers)\n",
    "print(\"DF1: World champions\")\n",
    "print(df1)\n",
    "print(\"#\"*20)\n",
    "print(\"DF2: Chokers\")\n",
    "print(df2)\n",
    "\n",
    "print(\"Concatenated dfs\")\n",
    "print(pd.concat([df1, df2], sort=True, axis=1))\n"
   ]
  },
  {
   "cell_type": "markdown",
   "metadata": {},
   "source": [
    "# Merging and Joining\n",
    "merging is the pandas operation that performs database joins"
   ]
  },
  {
   "cell_type": "code",
   "execution_count": 82,
   "metadata": {},
   "outputs": [
    {
     "name": "stdout",
     "output_type": "stream",
     "text": [
      "          Team  ICC_rank  World_champions_Year  Points\n",
      "0        India         2                  2011     874\n",
      "1    Australia         3                  2015     787\n",
      "2  West Indies         7                  1979     753\n",
      "3     Pakistan         8                  1992     673\n",
      "4    Sri Lanka         4                  1996     855\n",
      "          Team  World_cup_played  ODIs_played\n",
      "0        India                11          733\n",
      "1    Australia                10          988\n",
      "2  West Indies                11          712\n",
      "3     Pakistan                 9          679\n",
      "4    Sri Lanka                 8          662\n"
     ]
    }
   ],
   "source": [
    "import pandas as pd\n",
    "\n",
    "champion_stats={'Team':['India','Australia','West Indies','Pakistan','Sri Lanka'],\n",
    "           'ICC_rank':[2,3,7,8,4],\n",
    "           'World_champions_Year':[2011,2015,1979,1992,1996],\n",
    "           'Points':[874,787,753,673,855]}\n",
    "\n",
    "match_stats={'Team':['India','Australia','West Indies','Pakistan','Sri Lanka'],\n",
    "             'World_cup_played':[11,10,11,9,8],\n",
    "             'ODIs_played':[733,988,712,679,662]}\n",
    "\n",
    "\n",
    "df1=pd.DataFrame(champion_stats)\n",
    "df2=pd.DataFrame(match_stats)\n",
    "print(df1)\n",
    "print(df2)\n"
   ]
  },
  {
   "cell_type": "code",
   "execution_count": 83,
   "metadata": {},
   "outputs": [
    {
     "data": {
      "text/html": [
       "<div>\n",
       "<style scoped>\n",
       "    .dataframe tbody tr th:only-of-type {\n",
       "        vertical-align: middle;\n",
       "    }\n",
       "\n",
       "    .dataframe tbody tr th {\n",
       "        vertical-align: top;\n",
       "    }\n",
       "\n",
       "    .dataframe thead th {\n",
       "        text-align: right;\n",
       "    }\n",
       "</style>\n",
       "<table border=\"1\" class=\"dataframe\">\n",
       "  <thead>\n",
       "    <tr style=\"text-align: right;\">\n",
       "      <th></th>\n",
       "      <th>Team</th>\n",
       "      <th>ICC_rank</th>\n",
       "      <th>World_champions_Year</th>\n",
       "      <th>Points</th>\n",
       "      <th>World_cup_played</th>\n",
       "      <th>ODIs_played</th>\n",
       "    </tr>\n",
       "  </thead>\n",
       "  <tbody>\n",
       "    <tr>\n",
       "      <th>0</th>\n",
       "      <td>India</td>\n",
       "      <td>2</td>\n",
       "      <td>2011</td>\n",
       "      <td>874</td>\n",
       "      <td>11</td>\n",
       "      <td>733</td>\n",
       "    </tr>\n",
       "    <tr>\n",
       "      <th>1</th>\n",
       "      <td>Australia</td>\n",
       "      <td>3</td>\n",
       "      <td>2015</td>\n",
       "      <td>787</td>\n",
       "      <td>10</td>\n",
       "      <td>988</td>\n",
       "    </tr>\n",
       "    <tr>\n",
       "      <th>2</th>\n",
       "      <td>West Indies</td>\n",
       "      <td>7</td>\n",
       "      <td>1979</td>\n",
       "      <td>753</td>\n",
       "      <td>11</td>\n",
       "      <td>712</td>\n",
       "    </tr>\n",
       "    <tr>\n",
       "      <th>3</th>\n",
       "      <td>Pakistan</td>\n",
       "      <td>8</td>\n",
       "      <td>1992</td>\n",
       "      <td>673</td>\n",
       "      <td>9</td>\n",
       "      <td>679</td>\n",
       "    </tr>\n",
       "    <tr>\n",
       "      <th>4</th>\n",
       "      <td>Sri Lanka</td>\n",
       "      <td>4</td>\n",
       "      <td>1996</td>\n",
       "      <td>855</td>\n",
       "      <td>8</td>\n",
       "      <td>662</td>\n",
       "    </tr>\n",
       "  </tbody>\n",
       "</table>\n",
       "</div>"
      ],
      "text/plain": [
       "          Team  ICC_rank  World_champions_Year  Points  World_cup_played  \\\n",
       "0        India         2                  2011     874                11   \n",
       "1    Australia         3                  2015     787                10   \n",
       "2  West Indies         7                  1979     753                11   \n",
       "3     Pakistan         8                  1992     673                 9   \n",
       "4    Sri Lanka         4                  1996     855                 8   \n",
       "\n",
       "   ODIs_played  \n",
       "0          733  \n",
       "1          988  \n",
       "2          712  \n",
       "3          679  \n",
       "4          662  "
      ]
     },
     "execution_count": 83,
     "metadata": {},
     "output_type": "execute_result"
    }
   ],
   "source": [
    "# merging on the basis of a column 'Team'\n",
    "pd.merge(df1, df2, on='Team')"
   ]
  },
  {
   "cell_type": "markdown",
   "metadata": {},
   "source": [
    "### Left join\n",
    "it merges two objects based on the keys from the left object"
   ]
  },
  {
   "cell_type": "code",
   "execution_count": 88,
   "metadata": {},
   "outputs": [
    {
     "name": "stdout",
     "output_type": "stream",
     "text": [
      "          Team  ICC_rank  World_champions_Year  Points\n",
      "0        India         2                  2011     874\n",
      "1    Australia         3                  2015     787\n",
      "2  West Indies         7                  1979     753\n",
      "3     Pakistan         8                  1992     673\n",
      "4    Sri Lanka         4                  1996     855\n",
      "           Team  ICC_rank  Points\n",
      "0  South Africa         1     895\n",
      "1   New Zealand         5     764\n",
      "2      Zimbabwe         9     656\n"
     ]
    },
    {
     "data": {
      "text/html": [
       "<div>\n",
       "<style scoped>\n",
       "    .dataframe tbody tr th:only-of-type {\n",
       "        vertical-align: middle;\n",
       "    }\n",
       "\n",
       "    .dataframe tbody tr th {\n",
       "        vertical-align: top;\n",
       "    }\n",
       "\n",
       "    .dataframe thead th {\n",
       "        text-align: right;\n",
       "    }\n",
       "</style>\n",
       "<table border=\"1\" class=\"dataframe\">\n",
       "  <thead>\n",
       "    <tr style=\"text-align: right;\">\n",
       "      <th></th>\n",
       "      <th>Team</th>\n",
       "      <th>ICC_rank_x</th>\n",
       "      <th>World_champions_Year</th>\n",
       "      <th>Points_x</th>\n",
       "      <th>ICC_rank_y</th>\n",
       "      <th>Points_y</th>\n",
       "    </tr>\n",
       "  </thead>\n",
       "  <tbody>\n",
       "    <tr>\n",
       "      <th>0</th>\n",
       "      <td>India</td>\n",
       "      <td>2</td>\n",
       "      <td>2011</td>\n",
       "      <td>874</td>\n",
       "      <td>NaN</td>\n",
       "      <td>NaN</td>\n",
       "    </tr>\n",
       "    <tr>\n",
       "      <th>1</th>\n",
       "      <td>Australia</td>\n",
       "      <td>3</td>\n",
       "      <td>2015</td>\n",
       "      <td>787</td>\n",
       "      <td>NaN</td>\n",
       "      <td>NaN</td>\n",
       "    </tr>\n",
       "    <tr>\n",
       "      <th>2</th>\n",
       "      <td>West Indies</td>\n",
       "      <td>7</td>\n",
       "      <td>1979</td>\n",
       "      <td>753</td>\n",
       "      <td>NaN</td>\n",
       "      <td>NaN</td>\n",
       "    </tr>\n",
       "    <tr>\n",
       "      <th>3</th>\n",
       "      <td>Pakistan</td>\n",
       "      <td>8</td>\n",
       "      <td>1992</td>\n",
       "      <td>673</td>\n",
       "      <td>NaN</td>\n",
       "      <td>NaN</td>\n",
       "    </tr>\n",
       "    <tr>\n",
       "      <th>4</th>\n",
       "      <td>Sri Lanka</td>\n",
       "      <td>4</td>\n",
       "      <td>1996</td>\n",
       "      <td>855</td>\n",
       "      <td>NaN</td>\n",
       "      <td>NaN</td>\n",
       "    </tr>\n",
       "  </tbody>\n",
       "</table>\n",
       "</div>"
      ],
      "text/plain": [
       "          Team  ICC_rank_x  World_champions_Year  Points_x  ICC_rank_y  \\\n",
       "0        India           2                  2011       874         NaN   \n",
       "1    Australia           3                  2015       787         NaN   \n",
       "2  West Indies           7                  1979       753         NaN   \n",
       "3     Pakistan           8                  1992       673         NaN   \n",
       "4    Sri Lanka           4                  1996       855         NaN   \n",
       "\n",
       "   Points_y  \n",
       "0       NaN  \n",
       "1       NaN  \n",
       "2       NaN  \n",
       "3       NaN  \n",
       "4       NaN  "
      ]
     },
     "execution_count": 88,
     "metadata": {},
     "output_type": "execute_result"
    }
   ],
   "source": [
    "import pandas as pd\n",
    "\n",
    "champion_stats={'Team':['India','Australia','West Indies','Pakistan','Sri Lanka'],\n",
    "           'ICC_rank':[2,3,7,8,4],\n",
    "           'World_champions_Year':[2011,2015,1979,1992,1996],\n",
    "           'Points':[874,787,753,673,855]}\n",
    "chokers={'Team':['South Africa','New Zealand','Zimbabwe'],\n",
    "           'ICC_rank':[1,5,9],\n",
    "           'Points':[895,764,656]}\n",
    "df1=pd.DataFrame(champion_stats)\n",
    "df2=pd.DataFrame(chokers)\n",
    "print(df1)\n",
    "print(df2)\n",
    "pd.merge(df1, df2, on='Team', how='left')"
   ]
  },
  {
   "cell_type": "markdown",
   "metadata": {},
   "source": [
    "## Right join"
   ]
  },
  {
   "cell_type": "code",
   "execution_count": 89,
   "metadata": {},
   "outputs": [
    {
     "name": "stdout",
     "output_type": "stream",
     "text": [
      "          Team  ICC_rank  World_champions_Year  Points\n",
      "0        India         2                  2011     874\n",
      "1    Australia         3                  2015     787\n",
      "2  West Indies         7                  1979     753\n",
      "3     Pakistan         8                  1992     673\n",
      "4    Sri Lanka         4                  1996     855\n",
      "           Team  ICC_rank  Points\n",
      "0  South Africa         1     895\n",
      "1   New Zealand         5     764\n",
      "2      Zimbabwe         9     656\n"
     ]
    },
    {
     "data": {
      "text/html": [
       "<div>\n",
       "<style scoped>\n",
       "    .dataframe tbody tr th:only-of-type {\n",
       "        vertical-align: middle;\n",
       "    }\n",
       "\n",
       "    .dataframe tbody tr th {\n",
       "        vertical-align: top;\n",
       "    }\n",
       "\n",
       "    .dataframe thead th {\n",
       "        text-align: right;\n",
       "    }\n",
       "</style>\n",
       "<table border=\"1\" class=\"dataframe\">\n",
       "  <thead>\n",
       "    <tr style=\"text-align: right;\">\n",
       "      <th></th>\n",
       "      <th>Team</th>\n",
       "      <th>ICC_rank_x</th>\n",
       "      <th>World_champions_Year</th>\n",
       "      <th>Points_x</th>\n",
       "      <th>ICC_rank_y</th>\n",
       "      <th>Points_y</th>\n",
       "    </tr>\n",
       "  </thead>\n",
       "  <tbody>\n",
       "    <tr>\n",
       "      <th>0</th>\n",
       "      <td>South Africa</td>\n",
       "      <td>NaN</td>\n",
       "      <td>NaN</td>\n",
       "      <td>NaN</td>\n",
       "      <td>1</td>\n",
       "      <td>895</td>\n",
       "    </tr>\n",
       "    <tr>\n",
       "      <th>1</th>\n",
       "      <td>New Zealand</td>\n",
       "      <td>NaN</td>\n",
       "      <td>NaN</td>\n",
       "      <td>NaN</td>\n",
       "      <td>5</td>\n",
       "      <td>764</td>\n",
       "    </tr>\n",
       "    <tr>\n",
       "      <th>2</th>\n",
       "      <td>Zimbabwe</td>\n",
       "      <td>NaN</td>\n",
       "      <td>NaN</td>\n",
       "      <td>NaN</td>\n",
       "      <td>9</td>\n",
       "      <td>656</td>\n",
       "    </tr>\n",
       "  </tbody>\n",
       "</table>\n",
       "</div>"
      ],
      "text/plain": [
       "           Team  ICC_rank_x  World_champions_Year  Points_x  ICC_rank_y  \\\n",
       "0  South Africa         NaN                   NaN       NaN           1   \n",
       "1   New Zealand         NaN                   NaN       NaN           5   \n",
       "2      Zimbabwe         NaN                   NaN       NaN           9   \n",
       "\n",
       "   Points_y  \n",
       "0       895  \n",
       "1       764  \n",
       "2       656  "
      ]
     },
     "execution_count": 89,
     "metadata": {},
     "output_type": "execute_result"
    }
   ],
   "source": [
    "\n",
    "import pandas as pd\n",
    "\n",
    "champion_stats={'Team':['India','Australia','West Indies','Pakistan','Sri Lanka'],\n",
    "           'ICC_rank':[2,3,7,8,4],\n",
    "           'World_champions_Year':[2011,2015,1979,1992,1996],\n",
    "           'Points':[874,787,753,673,855]}\n",
    "chokers={'Team':['South Africa','New Zealand','Zimbabwe'],\n",
    "           'ICC_rank':[1,5,9],\n",
    "           'Points':[895,764,656]}\n",
    "df1=pd.DataFrame(champion_stats)\n",
    "df2=pd.DataFrame(chokers)\n",
    "print(df1)\n",
    "print(df2)\n",
    "pd.merge(df1, df2, on='Team', how='right')"
   ]
  },
  {
   "cell_type": "markdown",
   "metadata": {},
   "source": [
    "## Outer join\n",
    "merges two dfs based on the full union of the columns of both the objects"
   ]
  },
  {
   "cell_type": "code",
   "execution_count": 90,
   "metadata": {},
   "outputs": [
    {
     "name": "stdout",
     "output_type": "stream",
     "text": [
      "          Team  ICC_rank  World_champions_Year  Points\n",
      "0        India         2                  2011     874\n",
      "1    Australia         3                  2015     787\n",
      "2  West Indies         7                  1979     753\n",
      "3     Pakistan         8                  1992     673\n",
      "4    Sri Lanka         4                  1996     855\n",
      "           Team  ICC_rank  Points\n",
      "0  South Africa         1     895\n",
      "1   New Zealand         5     764\n",
      "2      Zimbabwe         9     656\n"
     ]
    },
    {
     "data": {
      "text/html": [
       "<div>\n",
       "<style scoped>\n",
       "    .dataframe tbody tr th:only-of-type {\n",
       "        vertical-align: middle;\n",
       "    }\n",
       "\n",
       "    .dataframe tbody tr th {\n",
       "        vertical-align: top;\n",
       "    }\n",
       "\n",
       "    .dataframe thead th {\n",
       "        text-align: right;\n",
       "    }\n",
       "</style>\n",
       "<table border=\"1\" class=\"dataframe\">\n",
       "  <thead>\n",
       "    <tr style=\"text-align: right;\">\n",
       "      <th></th>\n",
       "      <th>Team</th>\n",
       "      <th>ICC_rank_x</th>\n",
       "      <th>World_champions_Year</th>\n",
       "      <th>Points_x</th>\n",
       "      <th>ICC_rank_y</th>\n",
       "      <th>Points_y</th>\n",
       "    </tr>\n",
       "  </thead>\n",
       "  <tbody>\n",
       "    <tr>\n",
       "      <th>0</th>\n",
       "      <td>India</td>\n",
       "      <td>2.0</td>\n",
       "      <td>2011.0</td>\n",
       "      <td>874.0</td>\n",
       "      <td>NaN</td>\n",
       "      <td>NaN</td>\n",
       "    </tr>\n",
       "    <tr>\n",
       "      <th>1</th>\n",
       "      <td>Australia</td>\n",
       "      <td>3.0</td>\n",
       "      <td>2015.0</td>\n",
       "      <td>787.0</td>\n",
       "      <td>NaN</td>\n",
       "      <td>NaN</td>\n",
       "    </tr>\n",
       "    <tr>\n",
       "      <th>2</th>\n",
       "      <td>West Indies</td>\n",
       "      <td>7.0</td>\n",
       "      <td>1979.0</td>\n",
       "      <td>753.0</td>\n",
       "      <td>NaN</td>\n",
       "      <td>NaN</td>\n",
       "    </tr>\n",
       "    <tr>\n",
       "      <th>3</th>\n",
       "      <td>Pakistan</td>\n",
       "      <td>8.0</td>\n",
       "      <td>1992.0</td>\n",
       "      <td>673.0</td>\n",
       "      <td>NaN</td>\n",
       "      <td>NaN</td>\n",
       "    </tr>\n",
       "    <tr>\n",
       "      <th>4</th>\n",
       "      <td>Sri Lanka</td>\n",
       "      <td>4.0</td>\n",
       "      <td>1996.0</td>\n",
       "      <td>855.0</td>\n",
       "      <td>NaN</td>\n",
       "      <td>NaN</td>\n",
       "    </tr>\n",
       "    <tr>\n",
       "      <th>5</th>\n",
       "      <td>South Africa</td>\n",
       "      <td>NaN</td>\n",
       "      <td>NaN</td>\n",
       "      <td>NaN</td>\n",
       "      <td>1.0</td>\n",
       "      <td>895.0</td>\n",
       "    </tr>\n",
       "    <tr>\n",
       "      <th>6</th>\n",
       "      <td>New Zealand</td>\n",
       "      <td>NaN</td>\n",
       "      <td>NaN</td>\n",
       "      <td>NaN</td>\n",
       "      <td>5.0</td>\n",
       "      <td>764.0</td>\n",
       "    </tr>\n",
       "    <tr>\n",
       "      <th>7</th>\n",
       "      <td>Zimbabwe</td>\n",
       "      <td>NaN</td>\n",
       "      <td>NaN</td>\n",
       "      <td>NaN</td>\n",
       "      <td>9.0</td>\n",
       "      <td>656.0</td>\n",
       "    </tr>\n",
       "  </tbody>\n",
       "</table>\n",
       "</div>"
      ],
      "text/plain": [
       "           Team  ICC_rank_x  World_champions_Year  Points_x  ICC_rank_y  \\\n",
       "0         India         2.0                2011.0     874.0         NaN   \n",
       "1     Australia         3.0                2015.0     787.0         NaN   \n",
       "2   West Indies         7.0                1979.0     753.0         NaN   \n",
       "3      Pakistan         8.0                1992.0     673.0         NaN   \n",
       "4     Sri Lanka         4.0                1996.0     855.0         NaN   \n",
       "5  South Africa         NaN                   NaN       NaN         1.0   \n",
       "6   New Zealand         NaN                   NaN       NaN         5.0   \n",
       "7      Zimbabwe         NaN                   NaN       NaN         9.0   \n",
       "\n",
       "   Points_y  \n",
       "0       NaN  \n",
       "1       NaN  \n",
       "2       NaN  \n",
       "3       NaN  \n",
       "4       NaN  \n",
       "5     895.0  \n",
       "6     764.0  \n",
       "7     656.0  "
      ]
     },
     "execution_count": 90,
     "metadata": {},
     "output_type": "execute_result"
    }
   ],
   "source": [
    "\n",
    "import pandas as pd\n",
    "\n",
    "champion_stats={'Team':['India','Australia','West Indies','Pakistan','Sri Lanka'],\n",
    "           'ICC_rank':[2,3,7,8,4],\n",
    "           'World_champions_Year':[2011,2015,1979,1992,1996],\n",
    "           'Points':[874,787,753,673,855]}\n",
    "chokers={'Team':['South Africa','New Zealand','Zimbabwe'],\n",
    "           'ICC_rank':[1,5,9],\n",
    "           'Points':[895,764,656]}\n",
    "df1=pd.DataFrame(champion_stats)\n",
    "df2=pd.DataFrame(chokers)\n",
    "print(df1)\n",
    "print(df2)\n",
    "pd.merge(df1, df2, on='Team', how='outer')"
   ]
  },
  {
   "cell_type": "markdown",
   "metadata": {},
   "source": [
    "## Inner join\n",
    "intersection of two objects"
   ]
  },
  {
   "cell_type": "code",
   "execution_count": 92,
   "metadata": {},
   "outputs": [
    {
     "name": "stdout",
     "output_type": "stream",
     "text": [
      "          Team  ICC_rank  World_champions_Year  Points\n",
      "0        India         2                  2011     874\n",
      "1    Australia         3                  2015     787\n",
      "2  West Indies         7                  1979     753\n",
      "3     Pakistan         8                  1992     673\n",
      "4    Sri Lanka         4                  1996     855\n",
      "          Team  ICC_rank  Points\n",
      "0        India         1     895\n",
      "1  New Zealand         5     764\n",
      "2     Zimbabwe         9     656\n"
     ]
    },
    {
     "data": {
      "text/html": [
       "<div>\n",
       "<style scoped>\n",
       "    .dataframe tbody tr th:only-of-type {\n",
       "        vertical-align: middle;\n",
       "    }\n",
       "\n",
       "    .dataframe tbody tr th {\n",
       "        vertical-align: top;\n",
       "    }\n",
       "\n",
       "    .dataframe thead th {\n",
       "        text-align: right;\n",
       "    }\n",
       "</style>\n",
       "<table border=\"1\" class=\"dataframe\">\n",
       "  <thead>\n",
       "    <tr style=\"text-align: right;\">\n",
       "      <th></th>\n",
       "      <th>Team</th>\n",
       "      <th>ICC_rank_x</th>\n",
       "      <th>World_champions_Year</th>\n",
       "      <th>Points_x</th>\n",
       "      <th>ICC_rank_y</th>\n",
       "      <th>Points_y</th>\n",
       "    </tr>\n",
       "  </thead>\n",
       "  <tbody>\n",
       "    <tr>\n",
       "      <th>0</th>\n",
       "      <td>India</td>\n",
       "      <td>2</td>\n",
       "      <td>2011</td>\n",
       "      <td>874</td>\n",
       "      <td>1</td>\n",
       "      <td>895</td>\n",
       "    </tr>\n",
       "  </tbody>\n",
       "</table>\n",
       "</div>"
      ],
      "text/plain": [
       "    Team  ICC_rank_x  World_champions_Year  Points_x  ICC_rank_y  Points_y\n",
       "0  India           2                  2011       874           1       895"
      ]
     },
     "execution_count": 92,
     "metadata": {},
     "output_type": "execute_result"
    }
   ],
   "source": [
    "\n",
    "import pandas as pd\n",
    "\n",
    "champion_stats={'Team':['India','Australia','West Indies','Pakistan','Sri Lanka'],\n",
    "           'ICC_rank':[2,3,7,8,4],\n",
    "           'World_champions_Year':[2011,2015,1979,1992,1996],\n",
    "           'Points':[874,787,753,673,855]}\n",
    "chokers={'Team':['India','New Zealand','Zimbabwe'],\n",
    "           'ICC_rank':[1,5,9],\n",
    "           'Points':[895,764,656]}\n",
    "df1=pd.DataFrame(champion_stats)\n",
    "df2=pd.DataFrame(chokers)\n",
    "print(df1)\n",
    "print(df2)\n",
    "pd.merge(df1, df2, on='Team', how='inner')"
   ]
  },
  {
   "cell_type": "markdown",
   "metadata": {},
   "source": [
    "# Use case\n",
    "Allcountries.csv slide no 40"
   ]
  },
  {
   "cell_type": "code",
   "execution_count": 93,
   "metadata": {},
   "outputs": [
    {
     "data": {
      "text/plain": [
       "Country            object\n",
       "LandArea          float64\n",
       "Population        float64\n",
       "GDP               float64\n",
       "Rural             float64\n",
       "Internet          float64\n",
       "BirthRate         float64\n",
       "DeathRate         float64\n",
       "ElderlyPop        float64\n",
       "LifeExpectancy    float64\n",
       "FemaleLabor       float64\n",
       "Unemployment      float64\n",
       "dtype: object"
      ]
     },
     "execution_count": 93,
     "metadata": {},
     "output_type": "execute_result"
    }
   ],
   "source": [
    "import pandas as pd\n",
    "dataset = pd.read_csv(r'/Users/gyanendra/Desktop/PyDataScience_venv/Module5/gyan/AllCountries.csv')\n",
    "dataset.dtypes"
   ]
  },
  {
   "cell_type": "code",
   "execution_count": 94,
   "metadata": {},
   "outputs": [
    {
     "data": {
      "text/html": [
       "<div>\n",
       "<style scoped>\n",
       "    .dataframe tbody tr th:only-of-type {\n",
       "        vertical-align: middle;\n",
       "    }\n",
       "\n",
       "    .dataframe tbody tr th {\n",
       "        vertical-align: top;\n",
       "    }\n",
       "\n",
       "    .dataframe thead th {\n",
       "        text-align: right;\n",
       "    }\n",
       "</style>\n",
       "<table border=\"1\" class=\"dataframe\">\n",
       "  <thead>\n",
       "    <tr style=\"text-align: right;\">\n",
       "      <th></th>\n",
       "      <th>Country</th>\n",
       "      <th>LandArea</th>\n",
       "      <th>Population</th>\n",
       "      <th>GDP</th>\n",
       "      <th>Rural</th>\n",
       "      <th>Internet</th>\n",
       "      <th>BirthRate</th>\n",
       "      <th>DeathRate</th>\n",
       "      <th>ElderlyPop</th>\n",
       "      <th>LifeExpectancy</th>\n",
       "      <th>FemaleLabor</th>\n",
       "      <th>Unemployment</th>\n",
       "    </tr>\n",
       "  </thead>\n",
       "  <tbody>\n",
       "    <tr>\n",
       "      <th>0</th>\n",
       "      <td>Afghanistan</td>\n",
       "      <td>652.86</td>\n",
       "      <td>30.552</td>\n",
       "      <td>665.0</td>\n",
       "      <td>74.1</td>\n",
       "      <td>5.9</td>\n",
       "      <td>34.1</td>\n",
       "      <td>7.8</td>\n",
       "      <td>2.3</td>\n",
       "      <td>60.9</td>\n",
       "      <td>16.2</td>\n",
       "      <td>NaN</td>\n",
       "    </tr>\n",
       "    <tr>\n",
       "      <th>1</th>\n",
       "      <td>Albania</td>\n",
       "      <td>27.40</td>\n",
       "      <td>2.897</td>\n",
       "      <td>4460.0</td>\n",
       "      <td>44.6</td>\n",
       "      <td>60.1</td>\n",
       "      <td>12.9</td>\n",
       "      <td>6.9</td>\n",
       "      <td>10.7</td>\n",
       "      <td>77.5</td>\n",
       "      <td>51.7</td>\n",
       "      <td>13.4</td>\n",
       "    </tr>\n",
       "    <tr>\n",
       "      <th>2</th>\n",
       "      <td>Algeria</td>\n",
       "      <td>2381.74</td>\n",
       "      <td>39.208</td>\n",
       "      <td>5361.0</td>\n",
       "      <td>30.5</td>\n",
       "      <td>16.5</td>\n",
       "      <td>24.3</td>\n",
       "      <td>5.9</td>\n",
       "      <td>4.6</td>\n",
       "      <td>71.0</td>\n",
       "      <td>16.2</td>\n",
       "      <td>11.0</td>\n",
       "    </tr>\n",
       "    <tr>\n",
       "      <th>3</th>\n",
       "      <td>American Samoa</td>\n",
       "      <td>0.20</td>\n",
       "      <td>0.055</td>\n",
       "      <td>NaN</td>\n",
       "      <td>12.7</td>\n",
       "      <td>NaN</td>\n",
       "      <td>NaN</td>\n",
       "      <td>NaN</td>\n",
       "      <td>NaN</td>\n",
       "      <td>NaN</td>\n",
       "      <td>NaN</td>\n",
       "      <td>NaN</td>\n",
       "    </tr>\n",
       "    <tr>\n",
       "      <th>4</th>\n",
       "      <td>Andorra</td>\n",
       "      <td>0.47</td>\n",
       "      <td>0.079</td>\n",
       "      <td>NaN</td>\n",
       "      <td>13.8</td>\n",
       "      <td>94.0</td>\n",
       "      <td>NaN</td>\n",
       "      <td>NaN</td>\n",
       "      <td>NaN</td>\n",
       "      <td>NaN</td>\n",
       "      <td>NaN</td>\n",
       "      <td>NaN</td>\n",
       "    </tr>\n",
       "  </tbody>\n",
       "</table>\n",
       "</div>"
      ],
      "text/plain": [
       "          Country  LandArea  Population     GDP  Rural  Internet  BirthRate  \\\n",
       "0     Afghanistan    652.86      30.552   665.0   74.1       5.9       34.1   \n",
       "1         Albania     27.40       2.897  4460.0   44.6      60.1       12.9   \n",
       "2         Algeria   2381.74      39.208  5361.0   30.5      16.5       24.3   \n",
       "3  American Samoa      0.20       0.055     NaN   12.7       NaN        NaN   \n",
       "4         Andorra      0.47       0.079     NaN   13.8      94.0        NaN   \n",
       "\n",
       "   DeathRate  ElderlyPop  LifeExpectancy  FemaleLabor  Unemployment  \n",
       "0        7.8         2.3            60.9         16.2           NaN  \n",
       "1        6.9        10.7            77.5         51.7          13.4  \n",
       "2        5.9         4.6            71.0         16.2          11.0  \n",
       "3        NaN         NaN             NaN          NaN           NaN  \n",
       "4        NaN         NaN             NaN          NaN           NaN  "
      ]
     },
     "execution_count": 94,
     "metadata": {},
     "output_type": "execute_result"
    }
   ],
   "source": [
    "dataset.head(5)"
   ]
  },
  {
   "cell_type": "code",
   "execution_count": 95,
   "metadata": {},
   "outputs": [
    {
     "data": {
      "text/html": [
       "<div>\n",
       "<style scoped>\n",
       "    .dataframe tbody tr th:only-of-type {\n",
       "        vertical-align: middle;\n",
       "    }\n",
       "\n",
       "    .dataframe tbody tr th {\n",
       "        vertical-align: top;\n",
       "    }\n",
       "\n",
       "    .dataframe thead th {\n",
       "        text-align: right;\n",
       "    }\n",
       "</style>\n",
       "<table border=\"1\" class=\"dataframe\">\n",
       "  <thead>\n",
       "    <tr style=\"text-align: right;\">\n",
       "      <th></th>\n",
       "      <th>LandArea</th>\n",
       "      <th>Population</th>\n",
       "      <th>GDP</th>\n",
       "      <th>Rural</th>\n",
       "      <th>Internet</th>\n",
       "      <th>BirthRate</th>\n",
       "      <th>DeathRate</th>\n",
       "      <th>ElderlyPop</th>\n",
       "      <th>LifeExpectancy</th>\n",
       "      <th>FemaleLabor</th>\n",
       "      <th>Unemployment</th>\n",
       "    </tr>\n",
       "  </thead>\n",
       "  <tbody>\n",
       "    <tr>\n",
       "      <th>count</th>\n",
       "      <td>215.000000</td>\n",
       "      <td>215.000000</td>\n",
       "      <td>186.000000</td>\n",
       "      <td>215.000000</td>\n",
       "      <td>203.000000</td>\n",
       "      <td>202.000000</td>\n",
       "      <td>203.000000</td>\n",
       "      <td>195.000000</td>\n",
       "      <td>199.000000</td>\n",
       "      <td>186.000000</td>\n",
       "      <td>108.000000</td>\n",
       "    </tr>\n",
       "    <tr>\n",
       "      <th>mean</th>\n",
       "      <td>604.660335</td>\n",
       "      <td>33.042014</td>\n",
       "      <td>14333.672043</td>\n",
       "      <td>41.228372</td>\n",
       "      <td>43.024138</td>\n",
       "      <td>21.250990</td>\n",
       "      <td>8.072906</td>\n",
       "      <td>7.976923</td>\n",
       "      <td>70.841709</td>\n",
       "      <td>58.076882</td>\n",
       "      <td>9.687963</td>\n",
       "    </tr>\n",
       "    <tr>\n",
       "      <th>std</th>\n",
       "      <td>1759.001021</td>\n",
       "      <td>130.424120</td>\n",
       "      <td>20501.708730</td>\n",
       "      <td>24.478096</td>\n",
       "      <td>29.258941</td>\n",
       "      <td>10.513622</td>\n",
       "      <td>3.133041</td>\n",
       "      <td>5.512164</td>\n",
       "      <td>9.096521</td>\n",
       "      <td>17.079121</td>\n",
       "      <td>6.681859</td>\n",
       "    </tr>\n",
       "    <tr>\n",
       "      <th>min</th>\n",
       "      <td>0.002000</td>\n",
       "      <td>0.010000</td>\n",
       "      <td>226.000000</td>\n",
       "      <td>0.000000</td>\n",
       "      <td>0.900000</td>\n",
       "      <td>7.900000</td>\n",
       "      <td>1.000000</td>\n",
       "      <td>0.400000</td>\n",
       "      <td>45.600000</td>\n",
       "      <td>14.300000</td>\n",
       "      <td>0.200000</td>\n",
       "    </tr>\n",
       "    <tr>\n",
       "      <th>25%</th>\n",
       "      <td>10.858500</td>\n",
       "      <td>0.836500</td>\n",
       "      <td>1846.500000</td>\n",
       "      <td>21.550000</td>\n",
       "      <td>15.350000</td>\n",
       "      <td>12.225000</td>\n",
       "      <td>5.950000</td>\n",
       "      <td>3.400000</td>\n",
       "      <td>65.300000</td>\n",
       "      <td>49.725000</td>\n",
       "      <td>5.175000</td>\n",
       "    </tr>\n",
       "    <tr>\n",
       "      <th>50%</th>\n",
       "      <td>94.280000</td>\n",
       "      <td>6.202000</td>\n",
       "      <td>5736.000000</td>\n",
       "      <td>41.600000</td>\n",
       "      <td>43.500000</td>\n",
       "      <td>19.350000</td>\n",
       "      <td>7.500000</td>\n",
       "      <td>5.500000</td>\n",
       "      <td>73.800000</td>\n",
       "      <td>60.350000</td>\n",
       "      <td>7.800000</td>\n",
       "    </tr>\n",
       "    <tr>\n",
       "      <th>75%</th>\n",
       "      <td>440.310000</td>\n",
       "      <td>21.863000</td>\n",
       "      <td>16072.500000</td>\n",
       "      <td>61.200000</td>\n",
       "      <td>66.600000</td>\n",
       "      <td>27.500000</td>\n",
       "      <td>9.700000</td>\n",
       "      <td>12.300000</td>\n",
       "      <td>77.250000</td>\n",
       "      <td>70.175000</td>\n",
       "      <td>13.400000</td>\n",
       "    </tr>\n",
       "    <tr>\n",
       "      <th>max</th>\n",
       "      <td>16376.870000</td>\n",
       "      <td>1357.380000</td>\n",
       "      <td>110665.000000</td>\n",
       "      <td>91.300000</td>\n",
       "      <td>96.500000</td>\n",
       "      <td>49.700000</td>\n",
       "      <td>17.200000</td>\n",
       "      <td>25.100000</td>\n",
       "      <td>83.800000</td>\n",
       "      <td>89.900000</td>\n",
       "      <td>31.000000</td>\n",
       "    </tr>\n",
       "  </tbody>\n",
       "</table>\n",
       "</div>"
      ],
      "text/plain": [
       "           LandArea   Population            GDP       Rural    Internet  \\\n",
       "count    215.000000   215.000000     186.000000  215.000000  203.000000   \n",
       "mean     604.660335    33.042014   14333.672043   41.228372   43.024138   \n",
       "std     1759.001021   130.424120   20501.708730   24.478096   29.258941   \n",
       "min        0.002000     0.010000     226.000000    0.000000    0.900000   \n",
       "25%       10.858500     0.836500    1846.500000   21.550000   15.350000   \n",
       "50%       94.280000     6.202000    5736.000000   41.600000   43.500000   \n",
       "75%      440.310000    21.863000   16072.500000   61.200000   66.600000   \n",
       "max    16376.870000  1357.380000  110665.000000   91.300000   96.500000   \n",
       "\n",
       "        BirthRate   DeathRate  ElderlyPop  LifeExpectancy  FemaleLabor  \\\n",
       "count  202.000000  203.000000  195.000000      199.000000   186.000000   \n",
       "mean    21.250990    8.072906    7.976923       70.841709    58.076882   \n",
       "std     10.513622    3.133041    5.512164        9.096521    17.079121   \n",
       "min      7.900000    1.000000    0.400000       45.600000    14.300000   \n",
       "25%     12.225000    5.950000    3.400000       65.300000    49.725000   \n",
       "50%     19.350000    7.500000    5.500000       73.800000    60.350000   \n",
       "75%     27.500000    9.700000   12.300000       77.250000    70.175000   \n",
       "max     49.700000   17.200000   25.100000       83.800000    89.900000   \n",
       "\n",
       "       Unemployment  \n",
       "count    108.000000  \n",
       "mean       9.687963  \n",
       "std        6.681859  \n",
       "min        0.200000  \n",
       "25%        5.175000  \n",
       "50%        7.800000  \n",
       "75%       13.400000  \n",
       "max       31.000000  "
      ]
     },
     "execution_count": 95,
     "metadata": {},
     "output_type": "execute_result"
    }
   ],
   "source": [
    "# summary statistics\n",
    "dataset.describe()"
   ]
  },
  {
   "cell_type": "markdown",
   "metadata": {},
   "source": [
    "### 1. find the coutries having LandArea greater than 2000 sqKM"
   ]
  },
  {
   "cell_type": "code",
   "execution_count": 97,
   "metadata": {},
   "outputs": [
    {
     "name": "stdout",
     "output_type": "stream",
     "text": [
      "Algeria\n",
      "Argentina\n",
      "Australia\n",
      "Brazil\n",
      "Canada\n",
      "China\n",
      "Congo, Dem. Rep.\n",
      "India\n",
      "Kazakhstan\n",
      "Russian Federation\n",
      "Saudi Arabia\n",
      "Sudan\n",
      "United States\n"
     ]
    }
   ],
   "source": [
    "selected_data = dataset.loc[:,['Country', 'LandArea']]\n",
    "\n",
    "for i in selected_data.itertuples():\n",
    "    if i.LandArea > 2000:\n",
    "        print(i.Country)"
   ]
  },
  {
   "cell_type": "markdown",
   "metadata": {},
   "source": [
    "### 2. is there a correlation between GDP per capita of countries and their birth rates?"
   ]
  },
  {
   "cell_type": "code",
   "execution_count": 103,
   "metadata": {},
   "outputs": [
    {
     "data": {
      "image/png": "[encoded data removed]",
      "text/plain": [
       "<Figure size 1440x1440 with 1 Axes>"
      ]
     },
     "metadata": {},
     "output_type": "display_data"
    }
   ],
   "source": [
    "import pandas\n",
    "import numpy\n",
    "import matplotlib.pyplot as plt\n",
    "\n",
    "plt.figure(figsize=(20,20))\n",
    "dataset = pd.read_csv(r'/Users/gyanendra/Desktop/PyDataScience_venv/Module5/gyan/AllCountries.csv')\n",
    "selected_data = dataset.loc[:,['Country', 'GDP', 'BirthRate']]\n",
    "x = selected_data['GDP']\n",
    "y = selected_data['BirthRate']\n",
    "plt.scatter(x,y)\n",
    "plt.xlim(0,20000)\n",
    "plt.xlabel('GDP')\n",
    "plt.ylabel('BirthRate')\n",
    "plt.show()"
   ]
  },
  {
   "cell_type": "markdown",
   "metadata": {},
   "source": [
    "### 3. GDPs of ten richest countries"
   ]
  },
  {
   "cell_type": "code",
   "execution_count": 107,
   "metadata": {},
   "outputs": [
    {
     "name": "stdout",
     "output_type": "stream",
     "text": [
      "              Country       GDP  BirthRate\n",
      "113        Luxembourg  110665.0       11.3\n",
      "143            Norway  100898.0       11.6\n",
      "156             Qatar   93714.0       11.0\n",
      "114  Macao SAR, China   91376.0       10.2\n",
      "186       Switzerland   84748.0       10.2\n",
      "10          Australia   67463.0       13.2\n",
      "185            Sweden   60381.0       11.8\n",
      "52            Denmark   59819.0       10.0\n",
      "168         Singapore   55182.0        9.3\n",
      "204     United States   53042.0       12.5\n"
     ]
    },
    {
     "name": "stderr",
     "output_type": "stream",
     "text": [
      "/anaconda3/lib/python3.6/site-packages/ipykernel_launcher.py:8: FutureWarning: by argument to sort_index is deprecated, please use .sort_values(by=...)\n",
      "  \n"
     ]
    },
    {
     "data": {
      "image/png": "[encoded data removed]",
      "text/plain": [
       "<Figure size 360x360 with 1 Axes>"
      ]
     },
     "metadata": {},
     "output_type": "display_data"
    }
   ],
   "source": [
    "import pandas\n",
    "import numpy\n",
    "import matplotlib.pyplot as plt\n",
    "\n",
    "plt.figure(figsize=(5,5))\n",
    "dataset = pd.read_csv(r'/Users/gyanendra/Desktop/PyDataScience_venv/Module5/gyan/AllCountries.csv')\n",
    "selected_data = dataset.loc[:,['Country', 'GDP', 'BirthRate']]\n",
    "sorted_data = selected_data.sort_index(by='GDP', ascending=False)\n",
    "output_data = sorted_data.iloc[:10]\n",
    "print(output_data)\n",
    "plt.pie(output_data['GDP'],\n",
    "        labels=output_data['Country'],\n",
    "        autopct='%1.1f%%')\n",
    "plt.show()"
   ]
  },
  {
   "cell_type": "code",
   "execution_count": null,
   "metadata": {},
   "outputs": [],
   "source": []
  }
 ],
 "metadata": {
  "kernelspec": {
   "display_name": "Python 3",
   "language": "python",
   "name": "python3"
  },
  "language_info": {
   "codemirror_mode": {
    "name": "ipython",
    "version": 3
   },
   "file_extension": ".py",
   "mimetype": "text/x-python",
   "name": "python",
   "nbconvert_exporter": "python",
   "pygments_lexer": "ipython3",
   "version": "3.6.5"
  }
 },
 "nbformat": 4,
 "nbformat_minor": 2
}
