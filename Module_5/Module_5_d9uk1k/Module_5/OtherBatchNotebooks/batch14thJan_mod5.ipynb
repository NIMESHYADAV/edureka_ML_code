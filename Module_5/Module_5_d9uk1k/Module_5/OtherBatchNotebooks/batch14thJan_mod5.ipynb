{
 "cells": [
  {
   "cell_type": "markdown",
   "metadata": {},
   "source": [
    "# Data Manipulation"
   ]
  },
  {
   "cell_type": "code",
   "execution_count": 1,
   "metadata": {},
   "outputs": [],
   "source": [
    "import pandas as pd\n",
    "import numpy as np"
   ]
  },
  {
   "cell_type": "code",
   "execution_count": 2,
   "metadata": {},
   "outputs": [
    {
     "data": {
      "text/plain": [
       "1"
      ]
     },
     "execution_count": 2,
     "metadata": {},
     "output_type": "execute_result"
    }
   ],
   "source": [
    "# ndim()\n",
    "ser = pd.Series([11,22,33])\n",
    "ser.ndim"
   ]
  },
  {
   "cell_type": "code",
   "execution_count": 3,
   "metadata": {},
   "outputs": [
    {
     "data": {
      "text/plain": [
       "[RangeIndex(start=0, stop=20, step=1)]"
      ]
     },
     "execution_count": 3,
     "metadata": {},
     "output_type": "execute_result"
    }
   ],
   "source": [
    "# axes() returns the list of the indexes for the row label\n",
    "ser = pd.Series(np.arange(20,60,2)) ##[20,22,24...58]\n",
    "ser.axes"
   ]
  },
  {
   "cell_type": "code",
   "execution_count": 4,
   "metadata": {},
   "outputs": [
    {
     "data": {
      "text/plain": [
       "array([20, 22, 24, 26, 28, 30, 32, 34, 36, 38, 40, 42, 44, 46, 48, 50, 52,\n",
       "       54, 56, 58])"
      ]
     },
     "execution_count": 4,
     "metadata": {},
     "output_type": "execute_result"
    }
   ],
   "source": [
    "# values: returns actual value stored in the data set\n",
    "ser.values"
   ]
  },
  {
   "cell_type": "code",
   "execution_count": 5,
   "metadata": {},
   "outputs": [
    {
     "data": {
      "text/plain": [
       "0     20\n",
       "1     22\n",
       "2     24\n",
       "3     26\n",
       "4     28\n",
       "5     30\n",
       "6     32\n",
       "7     34\n",
       "8     36\n",
       "9     38\n",
       "10    40\n",
       "11    42\n",
       "12    44\n",
       "13    46\n",
       "14    48\n",
       "15    50\n",
       "16    52\n",
       "17    54\n",
       "18    56\n",
       "19    58\n",
       "dtype: int64"
      ]
     },
     "execution_count": 5,
     "metadata": {},
     "output_type": "execute_result"
    }
   ],
   "source": [
    "ser"
   ]
  },
  {
   "cell_type": "code",
   "execution_count": 6,
   "metadata": {},
   "outputs": [
    {
     "data": {
      "text/plain": [
       "0    20\n",
       "1    22\n",
       "2    24\n",
       "3    26\n",
       "4    28\n",
       "dtype: int64"
      ]
     },
     "execution_count": 6,
     "metadata": {},
     "output_type": "execute_result"
    }
   ],
   "source": [
    "# head(n): if n is given then that many rows from the top would be returned\n",
    "# ...else top 5 rows would be returned\n",
    "\n",
    "ser.head()"
   ]
  },
  {
   "cell_type": "code",
   "execution_count": 7,
   "metadata": {},
   "outputs": [
    {
     "data": {
      "text/plain": [
       "0    20\n",
       "1    22\n",
       "dtype: int64"
      ]
     },
     "execution_count": 7,
     "metadata": {},
     "output_type": "execute_result"
    }
   ],
   "source": [
    "ser.head(2)"
   ]
  },
  {
   "cell_type": "code",
   "execution_count": 8,
   "metadata": {},
   "outputs": [
    {
     "data": {
      "text/plain": [
       "15    50\n",
       "16    52\n",
       "17    54\n",
       "18    56\n",
       "19    58\n",
       "dtype: int64"
      ]
     },
     "execution_count": 8,
     "metadata": {},
     "output_type": "execute_result"
    }
   ],
   "source": [
    "# tail(n): if n is given then that many rows from the end would be returned\n",
    "# ...else last 5 rows would be returned\n",
    "ser.tail()"
   ]
  },
  {
   "cell_type": "code",
   "execution_count": 9,
   "metadata": {},
   "outputs": [
    {
     "data": {
      "text/plain": [
       "18    56\n",
       "19    58\n",
       "dtype: int64"
      ]
     },
     "execution_count": 9,
     "metadata": {},
     "output_type": "execute_result"
    }
   ],
   "source": [
    "ser.tail(2)"
   ]
  },
  {
   "cell_type": "code",
   "execution_count": 10,
   "metadata": {},
   "outputs": [
    {
     "data": {
      "text/plain": [
       "0    20\n",
       "1    22\n",
       "2    24\n",
       "3    26\n",
       "4    28\n",
       "5    30\n",
       "6    32\n",
       "7    34\n",
       "8    36\n",
       "9    38\n",
       "dtype: int64"
      ]
     },
     "execution_count": 10,
     "metadata": {},
     "output_type": "execute_result"
    }
   ],
   "source": [
    "ser.head(10)"
   ]
  },
  {
   "cell_type": "code",
   "execution_count": 11,
   "metadata": {},
   "outputs": [
    {
     "data": {
      "text/plain": [
       "10    40\n",
       "11    42\n",
       "12    44\n",
       "13    46\n",
       "14    48\n",
       "15    50\n",
       "16    52\n",
       "17    54\n",
       "18    56\n",
       "19    58\n",
       "dtype: int64"
      ]
     },
     "execution_count": 11,
     "metadata": {},
     "output_type": "execute_result"
    }
   ],
   "source": [
    "ser.tail(10)"
   ]
  },
  {
   "cell_type": "code",
   "execution_count": 13,
   "metadata": {},
   "outputs": [
    {
     "data": {
      "text/html": [
       "<div>\n",
       "<style scoped>\n",
       "    .dataframe tbody tr th:only-of-type {\n",
       "        vertical-align: middle;\n",
       "    }\n",
       "\n",
       "    .dataframe tbody tr th {\n",
       "        vertical-align: top;\n",
       "    }\n",
       "\n",
       "    .dataframe thead th {\n",
       "        text-align: right;\n",
       "    }\n",
       "</style>\n",
       "<table border=\"1\" class=\"dataframe\">\n",
       "  <thead>\n",
       "    <tr style=\"text-align: right;\">\n",
       "      <th></th>\n",
       "      <th>odd</th>\n",
       "      <th>even</th>\n",
       "    </tr>\n",
       "  </thead>\n",
       "  <tbody>\n",
       "    <tr>\n",
       "      <th>0</th>\n",
       "      <td>1</td>\n",
       "      <td>0</td>\n",
       "    </tr>\n",
       "    <tr>\n",
       "      <th>1</th>\n",
       "      <td>3</td>\n",
       "      <td>2</td>\n",
       "    </tr>\n",
       "    <tr>\n",
       "      <th>2</th>\n",
       "      <td>5</td>\n",
       "      <td>4</td>\n",
       "    </tr>\n",
       "    <tr>\n",
       "      <th>3</th>\n",
       "      <td>7</td>\n",
       "      <td>6</td>\n",
       "    </tr>\n",
       "    <tr>\n",
       "      <th>4</th>\n",
       "      <td>9</td>\n",
       "      <td>8</td>\n",
       "    </tr>\n",
       "  </tbody>\n",
       "</table>\n",
       "</div>"
      ],
      "text/plain": [
       "   odd  even\n",
       "0    1     0\n",
       "1    3     2\n",
       "2    5     4\n",
       "3    7     6\n",
       "4    9     8"
      ]
     },
     "execution_count": 13,
     "metadata": {},
     "output_type": "execute_result"
    }
   ],
   "source": [
    "# sum() on DataFrame\n",
    "data = {'odd': np.arange(1,100,2),\n",
    "       'even': np.arange(0,100,2)}\n",
    "df = pd.DataFrame(data)\n",
    "df.head()"
   ]
  },
  {
   "cell_type": "code",
   "execution_count": 14,
   "metadata": {},
   "outputs": [
    {
     "data": {
      "text/plain": [
       "odd     2500\n",
       "even    2450\n",
       "dtype: int64"
      ]
     },
     "execution_count": 14,
     "metadata": {},
     "output_type": "execute_result"
    }
   ],
   "source": [
    "# sum()\n",
    "df.sum()"
   ]
  },
  {
   "cell_type": "code",
   "execution_count": 15,
   "metadata": {},
   "outputs": [
    {
     "data": {
      "text/plain": [
       "odd     29.154759\n",
       "even    29.154759\n",
       "dtype: float64"
      ]
     },
     "execution_count": 15,
     "metadata": {},
     "output_type": "execute_result"
    }
   ],
   "source": [
    "# std()\n",
    "df.std()"
   ]
  },
  {
   "cell_type": "code",
   "execution_count": 16,
   "metadata": {},
   "outputs": [
    {
     "data": {
      "text/plain": [
       "odd     29.154759\n",
       "even    29.154759\n",
       "dtype: float64"
      ]
     },
     "execution_count": 16,
     "metadata": {},
     "output_type": "execute_result"
    }
   ],
   "source": [
    "# default axis value is 0 i.e column wise here\n",
    "df.std(axis=0)"
   ]
  },
  {
   "cell_type": "code",
   "execution_count": 17,
   "metadata": {},
   "outputs": [
    {
     "data": {
      "text/plain": [
       "0       1\n",
       "1       5\n",
       "2       9\n",
       "3      13\n",
       "4      17\n",
       "5      21\n",
       "6      25\n",
       "7      29\n",
       "8      33\n",
       "9      37\n",
       "10     41\n",
       "11     45\n",
       "12     49\n",
       "13     53\n",
       "14     57\n",
       "15     61\n",
       "16     65\n",
       "17     69\n",
       "18     73\n",
       "19     77\n",
       "20     81\n",
       "21     85\n",
       "22     89\n",
       "23     93\n",
       "24     97\n",
       "25    101\n",
       "26    105\n",
       "27    109\n",
       "28    113\n",
       "29    117\n",
       "30    121\n",
       "31    125\n",
       "32    129\n",
       "33    133\n",
       "34    137\n",
       "35    141\n",
       "36    145\n",
       "37    149\n",
       "38    153\n",
       "39    157\n",
       "40    161\n",
       "41    165\n",
       "42    169\n",
       "43    173\n",
       "44    177\n",
       "45    181\n",
       "46    185\n",
       "47    189\n",
       "48    193\n",
       "49    197\n",
       "dtype: int64"
      ]
     },
     "execution_count": 17,
     "metadata": {},
     "output_type": "execute_result"
    }
   ],
   "source": [
    "# row wise addition of values in a DF can be done by providing axis=1\n",
    "df.sum(axis=1)"
   ]
  },
  {
   "cell_type": "code",
   "execution_count": 28,
   "metadata": {},
   "outputs": [
    {
     "data": {
      "text/html": [
       "<div>\n",
       "<style scoped>\n",
       "    .dataframe tbody tr th:only-of-type {\n",
       "        vertical-align: middle;\n",
       "    }\n",
       "\n",
       "    .dataframe tbody tr th {\n",
       "        vertical-align: top;\n",
       "    }\n",
       "\n",
       "    .dataframe thead th {\n",
       "        text-align: right;\n",
       "    }\n",
       "</style>\n",
       "<table border=\"1\" class=\"dataframe\">\n",
       "  <thead>\n",
       "    <tr style=\"text-align: right;\">\n",
       "      <th></th>\n",
       "      <th>col1</th>\n",
       "      <th>col2</th>\n",
       "      <th>col3</th>\n",
       "      <th>col4</th>\n",
       "    </tr>\n",
       "  </thead>\n",
       "  <tbody>\n",
       "    <tr>\n",
       "      <th>0</th>\n",
       "      <td>1.115173</td>\n",
       "      <td>-0.596415</td>\n",
       "      <td>0.633069</td>\n",
       "      <td>1.033213</td>\n",
       "    </tr>\n",
       "    <tr>\n",
       "      <th>1</th>\n",
       "      <td>0.030176</td>\n",
       "      <td>0.265409</td>\n",
       "      <td>0.298346</td>\n",
       "      <td>0.780963</td>\n",
       "    </tr>\n",
       "    <tr>\n",
       "      <th>2</th>\n",
       "      <td>1.298930</td>\n",
       "      <td>2.357994</td>\n",
       "      <td>-0.009889</td>\n",
       "      <td>0.743076</td>\n",
       "    </tr>\n",
       "    <tr>\n",
       "      <th>3</th>\n",
       "      <td>-0.390457</td>\n",
       "      <td>-1.054971</td>\n",
       "      <td>-0.867760</td>\n",
       "      <td>-0.498024</td>\n",
       "    </tr>\n",
       "    <tr>\n",
       "      <th>4</th>\n",
       "      <td>-1.102586</td>\n",
       "      <td>0.486171</td>\n",
       "      <td>-1.118178</td>\n",
       "      <td>-0.453491</td>\n",
       "    </tr>\n",
       "  </tbody>\n",
       "</table>\n",
       "</div>"
      ],
      "text/plain": [
       "       col1      col2      col3      col4\n",
       "0  1.115173 -0.596415  0.633069  1.033213\n",
       "1  0.030176  0.265409  0.298346  0.780963\n",
       "2  1.298930  2.357994 -0.009889  0.743076\n",
       "3 -0.390457 -1.054971 -0.867760 -0.498024\n",
       "4 -1.102586  0.486171 -1.118178 -0.453491"
      ]
     },
     "execution_count": 28,
     "metadata": {},
     "output_type": "execute_result"
    }
   ],
   "source": [
    "# iterating a DataFrame - iteritems()\n",
    "df = pd.DataFrame(np.random.randn(5,4),\n",
    "                 columns=['col1', 'col2', 'col3', 'col4'])\n",
    "\n",
    "df\n"
   ]
  },
  {
   "cell_type": "code",
   "execution_count": 29,
   "metadata": {},
   "outputs": [
    {
     "name": "stdout",
     "output_type": "stream",
     "text": [
      "col1\n",
      "0    1.115173\n",
      "1    0.030176\n",
      "2    1.298930\n",
      "3   -0.390457\n",
      "4   -1.102586\n",
      "Name: col1, dtype: float64\n",
      "####################\n",
      "col2\n",
      "0   -0.596415\n",
      "1    0.265409\n",
      "2    2.357994\n",
      "3   -1.054971\n",
      "4    0.486171\n",
      "Name: col2, dtype: float64\n",
      "####################\n",
      "col3\n",
      "0    0.633069\n",
      "1    0.298346\n",
      "2   -0.009889\n",
      "3   -0.867760\n",
      "4   -1.118178\n",
      "Name: col3, dtype: float64\n",
      "####################\n",
      "col4\n",
      "0    1.033213\n",
      "1    0.780963\n",
      "2    0.743076\n",
      "3   -0.498024\n",
      "4   -0.453491\n",
      "Name: col4, dtype: float64\n",
      "####################\n"
     ]
    }
   ],
   "source": [
    "# getting values as column wise\n",
    "for col_name, column_value in df.iteritems():\n",
    "    print(col_name)\n",
    "    print(column_value)\n",
    "    print(\"#\"*20)"
   ]
  },
  {
   "cell_type": "code",
   "execution_count": 30,
   "metadata": {},
   "outputs": [
    {
     "data": {
      "text/plain": [
       "0    1.115173\n",
       "1    0.030176\n",
       "2    1.298930\n",
       "3   -0.390457\n",
       "4   -1.102586\n",
       "Name: col1, dtype: float64"
      ]
     },
     "execution_count": 30,
     "metadata": {},
     "output_type": "execute_result"
    }
   ],
   "source": [
    "# also column wise we can access in this way\n",
    "df['col1']"
   ]
  },
  {
   "cell_type": "code",
   "execution_count": 31,
   "metadata": {},
   "outputs": [
    {
     "data": {
      "text/html": [
       "<div>\n",
       "<style scoped>\n",
       "    .dataframe tbody tr th:only-of-type {\n",
       "        vertical-align: middle;\n",
       "    }\n",
       "\n",
       "    .dataframe tbody tr th {\n",
       "        vertical-align: top;\n",
       "    }\n",
       "\n",
       "    .dataframe thead th {\n",
       "        text-align: right;\n",
       "    }\n",
       "</style>\n",
       "<table border=\"1\" class=\"dataframe\">\n",
       "  <thead>\n",
       "    <tr style=\"text-align: right;\">\n",
       "      <th></th>\n",
       "      <th>col1</th>\n",
       "      <th>col2</th>\n",
       "      <th>col3</th>\n",
       "      <th>col4</th>\n",
       "    </tr>\n",
       "  </thead>\n",
       "  <tbody>\n",
       "    <tr>\n",
       "      <th>0</th>\n",
       "      <td>1.115173</td>\n",
       "      <td>-0.596415</td>\n",
       "      <td>0.633069</td>\n",
       "      <td>1.033213</td>\n",
       "    </tr>\n",
       "    <tr>\n",
       "      <th>1</th>\n",
       "      <td>0.030176</td>\n",
       "      <td>0.265409</td>\n",
       "      <td>0.298346</td>\n",
       "      <td>0.780963</td>\n",
       "    </tr>\n",
       "    <tr>\n",
       "      <th>2</th>\n",
       "      <td>1.298930</td>\n",
       "      <td>2.357994</td>\n",
       "      <td>-0.009889</td>\n",
       "      <td>0.743076</td>\n",
       "    </tr>\n",
       "    <tr>\n",
       "      <th>3</th>\n",
       "      <td>-0.390457</td>\n",
       "      <td>-1.054971</td>\n",
       "      <td>-0.867760</td>\n",
       "      <td>-0.498024</td>\n",
       "    </tr>\n",
       "    <tr>\n",
       "      <th>4</th>\n",
       "      <td>-1.102586</td>\n",
       "      <td>0.486171</td>\n",
       "      <td>-1.118178</td>\n",
       "      <td>-0.453491</td>\n",
       "    </tr>\n",
       "  </tbody>\n",
       "</table>\n",
       "</div>"
      ],
      "text/plain": [
       "       col1      col2      col3      col4\n",
       "0  1.115173 -0.596415  0.633069  1.033213\n",
       "1  0.030176  0.265409  0.298346  0.780963\n",
       "2  1.298930  2.357994 -0.009889  0.743076\n",
       "3 -0.390457 -1.054971 -0.867760 -0.498024\n",
       "4 -1.102586  0.486171 -1.118178 -0.453491"
      ]
     },
     "execution_count": 31,
     "metadata": {},
     "output_type": "execute_result"
    }
   ],
   "source": [
    "df.head()"
   ]
  },
  {
   "cell_type": "code",
   "execution_count": 33,
   "metadata": {},
   "outputs": [
    {
     "data": {
      "text/plain": [
       "col1    1.115173\n",
       "col2   -0.596415\n",
       "col3    0.633069\n",
       "col4    1.033213\n",
       "Name: 0, dtype: float64"
      ]
     },
     "execution_count": 33,
     "metadata": {},
     "output_type": "execute_result"
    }
   ],
   "source": [
    "# getting data row wise(more examples in Module 4 session)\n",
    "# ..without using the loop\n",
    "df.iloc[0]"
   ]
  },
  {
   "cell_type": "code",
   "execution_count": 37,
   "metadata": {},
   "outputs": [
    {
     "data": {
      "text/html": [
       "<div>\n",
       "<style scoped>\n",
       "    .dataframe tbody tr th:only-of-type {\n",
       "        vertical-align: middle;\n",
       "    }\n",
       "\n",
       "    .dataframe tbody tr th {\n",
       "        vertical-align: top;\n",
       "    }\n",
       "\n",
       "    .dataframe thead th {\n",
       "        text-align: right;\n",
       "    }\n",
       "</style>\n",
       "<table border=\"1\" class=\"dataframe\">\n",
       "  <thead>\n",
       "    <tr style=\"text-align: right;\">\n",
       "      <th></th>\n",
       "      <th>col1</th>\n",
       "      <th>col2</th>\n",
       "      <th>col3</th>\n",
       "      <th>col4</th>\n",
       "    </tr>\n",
       "  </thead>\n",
       "  <tbody>\n",
       "    <tr>\n",
       "      <th>0</th>\n",
       "      <td>0.796417</td>\n",
       "      <td>0.399145</td>\n",
       "      <td>0.578732</td>\n",
       "      <td>0.299599</td>\n",
       "    </tr>\n",
       "    <tr>\n",
       "      <th>1</th>\n",
       "      <td>0.525377</td>\n",
       "      <td>0.037440</td>\n",
       "      <td>0.659777</td>\n",
       "      <td>0.507786</td>\n",
       "    </tr>\n",
       "    <tr>\n",
       "      <th>2</th>\n",
       "      <td>0.510684</td>\n",
       "      <td>0.601857</td>\n",
       "      <td>0.843803</td>\n",
       "      <td>0.130637</td>\n",
       "    </tr>\n",
       "    <tr>\n",
       "      <th>3</th>\n",
       "      <td>0.526774</td>\n",
       "      <td>0.259295</td>\n",
       "      <td>0.877237</td>\n",
       "      <td>0.709427</td>\n",
       "    </tr>\n",
       "    <tr>\n",
       "      <th>4</th>\n",
       "      <td>0.678906</td>\n",
       "      <td>0.193296</td>\n",
       "      <td>0.549725</td>\n",
       "      <td>0.325014</td>\n",
       "    </tr>\n",
       "  </tbody>\n",
       "</table>\n",
       "</div>"
      ],
      "text/plain": [
       "       col1      col2      col3      col4\n",
       "0  0.796417  0.399145  0.578732  0.299599\n",
       "1  0.525377  0.037440  0.659777  0.507786\n",
       "2  0.510684  0.601857  0.843803  0.130637\n",
       "3  0.526774  0.259295  0.877237  0.709427\n",
       "4  0.678906  0.193296  0.549725  0.325014"
      ]
     },
     "execution_count": 37,
     "metadata": {},
     "output_type": "execute_result"
    }
   ],
   "source": [
    "# iterrows() :iterates over each row and col_name and value\n",
    "df = pd.DataFrame(np.random.rand(5,4),\n",
    "                 columns=['col1', 'col2', 'col3', 'col4'])\n",
    "df"
   ]
  },
  {
   "cell_type": "code",
   "execution_count": 39,
   "metadata": {},
   "outputs": [
    {
     "data": {
      "text/plain": [
       "<generator object DataFrame.iterrows at 0x11d4f0e58>"
      ]
     },
     "execution_count": 39,
     "metadata": {},
     "output_type": "execute_result"
    }
   ],
   "source": [
    "df.iterrows()"
   ]
  },
  {
   "cell_type": "code",
   "execution_count": 41,
   "metadata": {},
   "outputs": [
    {
     "name": "stdout",
     "output_type": "stream",
     "text": [
      "0\n",
      "col1    0.796417\n",
      "col2    0.399145\n",
      "col3    0.578732\n",
      "col4    0.299599\n",
      "Name: 0, dtype: float64\n",
      "####################\n",
      "1\n",
      "col1    0.525377\n",
      "col2    0.037440\n",
      "col3    0.659777\n",
      "col4    0.507786\n",
      "Name: 1, dtype: float64\n",
      "####################\n",
      "2\n",
      "col1    0.510684\n",
      "col2    0.601857\n",
      "col3    0.843803\n",
      "col4    0.130637\n",
      "Name: 2, dtype: float64\n",
      "####################\n",
      "3\n",
      "col1    0.526774\n",
      "col2    0.259295\n",
      "col3    0.877237\n",
      "col4    0.709427\n",
      "Name: 3, dtype: float64\n",
      "####################\n",
      "4\n",
      "col1    0.678906\n",
      "col2    0.193296\n",
      "col3    0.549725\n",
      "col4    0.325014\n",
      "Name: 4, dtype: float64\n",
      "####################\n"
     ]
    }
   ],
   "source": [
    "for row_index, row_value in df.iterrows():\n",
    "    print(row_index)\n",
    "    print(row_value)\n",
    "    print(\"#\"*20)"
   ]
  },
  {
   "cell_type": "code",
   "execution_count": 46,
   "metadata": {},
   "outputs": [
    {
     "data": {
      "text/html": [
       "<div>\n",
       "<style scoped>\n",
       "    .dataframe tbody tr th:only-of-type {\n",
       "        vertical-align: middle;\n",
       "    }\n",
       "\n",
       "    .dataframe tbody tr th {\n",
       "        vertical-align: top;\n",
       "    }\n",
       "\n",
       "    .dataframe thead th {\n",
       "        text-align: right;\n",
       "    }\n",
       "</style>\n",
       "<table border=\"1\" class=\"dataframe\">\n",
       "  <thead>\n",
       "    <tr style=\"text-align: right;\">\n",
       "      <th></th>\n",
       "      <th>col1</th>\n",
       "      <th>col2</th>\n",
       "      <th>col3</th>\n",
       "      <th>col4</th>\n",
       "    </tr>\n",
       "  </thead>\n",
       "  <tbody>\n",
       "    <tr>\n",
       "      <th>0</th>\n",
       "      <td>0.096104</td>\n",
       "      <td>0.908776</td>\n",
       "      <td>0.902382</td>\n",
       "      <td>0.160005</td>\n",
       "    </tr>\n",
       "    <tr>\n",
       "      <th>1</th>\n",
       "      <td>0.766322</td>\n",
       "      <td>0.881511</td>\n",
       "      <td>0.046323</td>\n",
       "      <td>0.112673</td>\n",
       "    </tr>\n",
       "    <tr>\n",
       "      <th>2</th>\n",
       "      <td>0.153797</td>\n",
       "      <td>0.314574</td>\n",
       "      <td>0.420909</td>\n",
       "      <td>0.621621</td>\n",
       "    </tr>\n",
       "    <tr>\n",
       "      <th>3</th>\n",
       "      <td>0.170464</td>\n",
       "      <td>0.754470</td>\n",
       "      <td>0.932564</td>\n",
       "      <td>0.503274</td>\n",
       "    </tr>\n",
       "    <tr>\n",
       "      <th>4</th>\n",
       "      <td>0.530026</td>\n",
       "      <td>0.581001</td>\n",
       "      <td>0.914930</td>\n",
       "      <td>0.467937</td>\n",
       "    </tr>\n",
       "  </tbody>\n",
       "</table>\n",
       "</div>"
      ],
      "text/plain": [
       "       col1      col2      col3      col4\n",
       "0  0.096104  0.908776  0.902382  0.160005\n",
       "1  0.766322  0.881511  0.046323  0.112673\n",
       "2  0.153797  0.314574  0.420909  0.621621\n",
       "3  0.170464  0.754470  0.932564  0.503274\n",
       "4  0.530026  0.581001  0.914930  0.467937"
      ]
     },
     "execution_count": 46,
     "metadata": {},
     "output_type": "execute_result"
    }
   ],
   "source": [
    "# itertuples: returns a named tuple\n",
    "df = pd.DataFrame(np.random.rand(5,4),\n",
    "                 columns=['col1', 'col2', 'col3', 'col4'])\n",
    "df\n"
   ]
  },
  {
   "cell_type": "code",
   "execution_count": 47,
   "metadata": {},
   "outputs": [
    {
     "name": "stdout",
     "output_type": "stream",
     "text": [
      "Pandas(Index=0, col1=0.09610384281933304, col2=0.9087763569533396, col3=0.9023823861354927, col4=0.16000511691609542)\n",
      "0.09610384281933304\n",
      "0.9087763569533396\n",
      "####################\n",
      "Pandas(Index=1, col1=0.7663215575775143, col2=0.8815113719773129, col3=0.046322696674615194, col4=0.11267314131839434)\n",
      "0.7663215575775143\n",
      "0.8815113719773129\n",
      "####################\n",
      "Pandas(Index=2, col1=0.15379736506356667, col2=0.3145737215530181, col3=0.4209091263821808, col4=0.6216213485627781)\n",
      "0.15379736506356667\n",
      "0.3145737215530181\n",
      "####################\n",
      "Pandas(Index=3, col1=0.17046373836968765, col2=0.7544702962109139, col3=0.9325636074704018, col4=0.5032743707161728)\n",
      "0.17046373836968765\n",
      "0.7544702962109139\n",
      "####################\n",
      "Pandas(Index=4, col1=0.5300257318357422, col2=0.5810006105706884, col3=0.9149300917401895, col4=0.4679368395500929)\n",
      "0.5300257318357422\n",
      "0.5810006105706884\n",
      "####################\n"
     ]
    }
   ],
   "source": [
    "for row_value in df.itertuples():\n",
    "    print(row_value)\n",
    "    print(row_value.col1)\n",
    "    print(row_value.col2)\n",
    "    print(\"#\"*20)"
   ]
  },
  {
   "cell_type": "markdown",
   "metadata": {},
   "source": [
    "# GroupBy operations"
   ]
  },
  {
   "cell_type": "code",
   "execution_count": 48,
   "metadata": {},
   "outputs": [
    {
     "data": {
      "text/html": [
       "<div>\n",
       "<style scoped>\n",
       "    .dataframe tbody tr th:only-of-type {\n",
       "        vertical-align: middle;\n",
       "    }\n",
       "\n",
       "    .dataframe tbody tr th {\n",
       "        vertical-align: top;\n",
       "    }\n",
       "\n",
       "    .dataframe thead th {\n",
       "        text-align: right;\n",
       "    }\n",
       "</style>\n",
       "<table border=\"1\" class=\"dataframe\">\n",
       "  <thead>\n",
       "    <tr style=\"text-align: right;\">\n",
       "      <th></th>\n",
       "      <th>Team</th>\n",
       "      <th>Rank</th>\n",
       "      <th>Year</th>\n",
       "    </tr>\n",
       "  </thead>\n",
       "  <tbody>\n",
       "    <tr>\n",
       "      <th>0</th>\n",
       "      <td>West Indies</td>\n",
       "      <td>7</td>\n",
       "      <td>1975</td>\n",
       "    </tr>\n",
       "    <tr>\n",
       "      <th>1</th>\n",
       "      <td>West Indies</td>\n",
       "      <td>7</td>\n",
       "      <td>1979</td>\n",
       "    </tr>\n",
       "    <tr>\n",
       "      <th>2</th>\n",
       "      <td>India</td>\n",
       "      <td>2</td>\n",
       "      <td>1983</td>\n",
       "    </tr>\n",
       "    <tr>\n",
       "      <th>3</th>\n",
       "      <td>Australia</td>\n",
       "      <td>1</td>\n",
       "      <td>1987</td>\n",
       "    </tr>\n",
       "    <tr>\n",
       "      <th>4</th>\n",
       "      <td>Pakistan</td>\n",
       "      <td>6</td>\n",
       "      <td>1992</td>\n",
       "    </tr>\n",
       "    <tr>\n",
       "      <th>5</th>\n",
       "      <td>Sri Lanka</td>\n",
       "      <td>4</td>\n",
       "      <td>1996</td>\n",
       "    </tr>\n",
       "    <tr>\n",
       "      <th>6</th>\n",
       "      <td>Australia</td>\n",
       "      <td>1</td>\n",
       "      <td>1999</td>\n",
       "    </tr>\n",
       "    <tr>\n",
       "      <th>7</th>\n",
       "      <td>Australia</td>\n",
       "      <td>1</td>\n",
       "      <td>2003</td>\n",
       "    </tr>\n",
       "    <tr>\n",
       "      <th>8</th>\n",
       "      <td>Australia</td>\n",
       "      <td>1</td>\n",
       "      <td>2007</td>\n",
       "    </tr>\n",
       "    <tr>\n",
       "      <th>9</th>\n",
       "      <td>India</td>\n",
       "      <td>2</td>\n",
       "      <td>2011</td>\n",
       "    </tr>\n",
       "    <tr>\n",
       "      <th>10</th>\n",
       "      <td>Australia</td>\n",
       "      <td>1</td>\n",
       "      <td>2015</td>\n",
       "    </tr>\n",
       "  </tbody>\n",
       "</table>\n",
       "</div>"
      ],
      "text/plain": [
       "           Team  Rank  Year\n",
       "0   West Indies     7  1975\n",
       "1   West Indies     7  1979\n",
       "2         India     2  1983\n",
       "3     Australia     1  1987\n",
       "4      Pakistan     6  1992\n",
       "5     Sri Lanka     4  1996\n",
       "6     Australia     1  1999\n",
       "7     Australia     1  2003\n",
       "8     Australia     1  2007\n",
       "9         India     2  2011\n",
       "10    Australia     1  2015"
      ]
     },
     "execution_count": 48,
     "metadata": {},
     "output_type": "execute_result"
    }
   ],
   "source": [
    "world_cup = {'Team':['West Indies', 'West Indies', 'India', 'Australia',\n",
    "                     'Pakistan', 'Sri Lanka', 'Australia', 'Australia','Australia',\n",
    "                     'India','Australia'],\n",
    "            'Rank':[7,7,2,1,6,4,1,1,1,2,1],\n",
    "            'Year':[1975, 1979, 1983, 1987, 1992, 1996, 1999,2003, 2007,2011, 2015]}\n",
    "df = pd.DataFrame(world_cup)\n",
    "df\n"
   ]
  },
  {
   "cell_type": "code",
   "execution_count": 49,
   "metadata": {},
   "outputs": [
    {
     "data": {
      "text/plain": [
       "<pandas.core.groupby.groupby.DataFrameGroupBy object at 0x11c06b6a0>"
      ]
     },
     "execution_count": 49,
     "metadata": {},
     "output_type": "execute_result"
    }
   ],
   "source": [
    "# groupby()\n",
    "df.groupby('Team')"
   ]
  },
  {
   "cell_type": "code",
   "execution_count": 51,
   "metadata": {},
   "outputs": [
    {
     "data": {
      "text/plain": [
       "{'Australia': Int64Index([3, 6, 7, 8, 10], dtype='int64'),\n",
       " 'India': Int64Index([2, 9], dtype='int64'),\n",
       " 'Pakistan': Int64Index([4], dtype='int64'),\n",
       " 'Sri Lanka': Int64Index([5], dtype='int64'),\n",
       " 'West Indies': Int64Index([0, 1], dtype='int64')}"
      ]
     },
     "execution_count": 51,
     "metadata": {},
     "output_type": "execute_result"
    }
   ],
   "source": [
    "# to see the grouped values in single shot\n",
    "df.groupby('Team').groups"
   ]
  },
  {
   "cell_type": "code",
   "execution_count": 53,
   "metadata": {},
   "outputs": [
    {
     "data": {
      "text/plain": [
       "{('Australia', 1): Int64Index([3, 6, 7, 8, 10], dtype='int64'),\n",
       " ('India', 2): Int64Index([2, 9], dtype='int64'),\n",
       " ('Pakistan', 6): Int64Index([4], dtype='int64'),\n",
       " ('Sri Lanka', 4): Int64Index([5], dtype='int64'),\n",
       " ('West Indies', 7): Int64Index([0, 1], dtype='int64')}"
      ]
     },
     "execution_count": 53,
     "metadata": {},
     "output_type": "execute_result"
    }
   ],
   "source": [
    "# multiple columns grouping\n",
    "df.groupby(['Team', 'Rank']).groups"
   ]
  },
  {
   "cell_type": "code",
   "execution_count": 55,
   "metadata": {},
   "outputs": [
    {
     "name": "stdout",
     "output_type": "stream",
     "text": [
      "Australia\n",
      "         Team  Rank  Year\n",
      "3   Australia     1  1987\n",
      "6   Australia     1  1999\n",
      "7   Australia     1  2003\n",
      "8   Australia     1  2007\n",
      "10  Australia     1  2015\n",
      "####################\n",
      "India\n",
      "    Team  Rank  Year\n",
      "2  India     2  1983\n",
      "9  India     2  2011\n",
      "####################\n",
      "Pakistan\n",
      "       Team  Rank  Year\n",
      "4  Pakistan     6  1992\n",
      "####################\n",
      "Sri Lanka\n",
      "        Team  Rank  Year\n",
      "5  Sri Lanka     4  1996\n",
      "####################\n",
      "West Indies\n",
      "          Team  Rank  Year\n",
      "0  West Indies     7  1975\n",
      "1  West Indies     7  1979\n",
      "####################\n"
     ]
    }
   ],
   "source": [
    "# groups can be iterated over just like using itertools\n",
    "for group_key, group_value in df.groupby('Team'):\n",
    "    print(group_key)\n",
    "    print(group_value)\n",
    "    print(\"#\"*20)"
   ]
  },
  {
   "cell_type": "code",
   "execution_count": 56,
   "metadata": {},
   "outputs": [
    {
     "data": {
      "text/html": [
       "<div>\n",
       "<style scoped>\n",
       "    .dataframe tbody tr th:only-of-type {\n",
       "        vertical-align: middle;\n",
       "    }\n",
       "\n",
       "    .dataframe tbody tr th {\n",
       "        vertical-align: top;\n",
       "    }\n",
       "\n",
       "    .dataframe thead th {\n",
       "        text-align: right;\n",
       "    }\n",
       "</style>\n",
       "<table border=\"1\" class=\"dataframe\">\n",
       "  <thead>\n",
       "    <tr style=\"text-align: right;\">\n",
       "      <th></th>\n",
       "      <th>Team</th>\n",
       "      <th>Rank</th>\n",
       "      <th>Year</th>\n",
       "    </tr>\n",
       "  </thead>\n",
       "  <tbody>\n",
       "    <tr>\n",
       "      <th>2</th>\n",
       "      <td>India</td>\n",
       "      <td>2</td>\n",
       "      <td>1983</td>\n",
       "    </tr>\n",
       "    <tr>\n",
       "      <th>9</th>\n",
       "      <td>India</td>\n",
       "      <td>2</td>\n",
       "      <td>2011</td>\n",
       "    </tr>\n",
       "  </tbody>\n",
       "</table>\n",
       "</div>"
      ],
      "text/plain": [
       "    Team  Rank  Year\n",
       "2  India     2  1983\n",
       "9  India     2  2011"
      ]
     },
     "execution_count": 56,
     "metadata": {},
     "output_type": "execute_result"
    }
   ],
   "source": [
    "# a single group can also be selected using get_group()\n",
    "grouped = df.groupby('Team')\n",
    "grouped.get_group('India')"
   ]
  },
  {
   "cell_type": "code",
   "execution_count": 59,
   "metadata": {},
   "outputs": [
    {
     "name": "stdout",
     "output_type": "stream",
     "text": [
      "<class 'pandas.core.frame.DataFrame'>\n",
      "       Rank        Year\n",
      "count   2.0     2.00000\n",
      "mean    2.0  1997.00000\n",
      "std     0.0    19.79899\n",
      "min     2.0  1983.00000\n",
      "25%     2.0  1990.00000\n",
      "50%     2.0  1997.00000\n",
      "75%     2.0  2004.00000\n",
      "max     2.0  2011.00000\n"
     ]
    }
   ],
   "source": [
    "# a single group can also be selected using get_group()\n",
    "grouped = df.groupby('Team')\n",
    "print(type(grouped.get_group('India')))\n",
    "# to get DF summary\n",
    "print(grouped.get_group('India').describe())"
   ]
  },
  {
   "cell_type": "markdown",
   "metadata": {},
   "source": [
    "## Concatenation\n",
    "- process of combining two or more data structures"
   ]
  },
  {
   "cell_type": "code",
   "execution_count": 60,
   "metadata": {},
   "outputs": [
    {
     "name": "stdout",
     "output_type": "stream",
     "text": [
      "DF1: World champions\n",
      "          Team  ICC_rank  World_champions_Year  Points\n",
      "0        India         2                  2011     874\n",
      "1    Australia         3                  2015     787\n",
      "2  West Indies         7                  1979     753\n",
      "3     Pakistan         8                  1992     673\n",
      "4    Sri Lanka         4                  1996     855\n",
      "####################\n",
      "DF2: Chokers\n",
      "           Team  ICC_rank  Points\n",
      "0  South Africa         1     895\n",
      "1   New Zealand         5     764\n",
      "2      Zimbabwe         9     656\n"
     ]
    }
   ],
   "source": [
    "import pandas as pd\n",
    "\n",
    "world_champions={'Team':['India','Australia','West Indies','Pakistan','Sri Lanka'],\n",
    "           'ICC_rank':[2,3,7,8,4],\n",
    "           'World_champions_Year':[2011,2015,1979,1992,1996],\n",
    "           'Points':[874,787,753,673,855]}\n",
    "\n",
    "chokers={'Team':['South Africa','New Zealand','Zimbabwe'],\n",
    "           'ICC_rank':[1,5,9],\n",
    "           'Points':[895,764,656]}\n",
    "df1 = pd.DataFrame(world_champions)\n",
    "df2 = pd.DataFrame(chokers)\n",
    "print(\"DF1: World champions\")\n",
    "print(df1)\n",
    "print(\"#\"*20)\n",
    "print(\"DF2: Chokers\")\n",
    "print(df2)"
   ]
  },
  {
   "cell_type": "code",
   "execution_count": 63,
   "metadata": {},
   "outputs": [
    {
     "data": {
      "text/html": [
       "<div>\n",
       "<style scoped>\n",
       "    .dataframe tbody tr th:only-of-type {\n",
       "        vertical-align: middle;\n",
       "    }\n",
       "\n",
       "    .dataframe tbody tr th {\n",
       "        vertical-align: top;\n",
       "    }\n",
       "\n",
       "    .dataframe thead th {\n",
       "        text-align: right;\n",
       "    }\n",
       "</style>\n",
       "<table border=\"1\" class=\"dataframe\">\n",
       "  <thead>\n",
       "    <tr style=\"text-align: right;\">\n",
       "      <th></th>\n",
       "      <th>ICC_rank</th>\n",
       "      <th>Points</th>\n",
       "      <th>Team</th>\n",
       "      <th>World_champions_Year</th>\n",
       "    </tr>\n",
       "  </thead>\n",
       "  <tbody>\n",
       "    <tr>\n",
       "      <th>0</th>\n",
       "      <td>2</td>\n",
       "      <td>874</td>\n",
       "      <td>India</td>\n",
       "      <td>2011.0</td>\n",
       "    </tr>\n",
       "    <tr>\n",
       "      <th>1</th>\n",
       "      <td>3</td>\n",
       "      <td>787</td>\n",
       "      <td>Australia</td>\n",
       "      <td>2015.0</td>\n",
       "    </tr>\n",
       "    <tr>\n",
       "      <th>2</th>\n",
       "      <td>7</td>\n",
       "      <td>753</td>\n",
       "      <td>West Indies</td>\n",
       "      <td>1979.0</td>\n",
       "    </tr>\n",
       "    <tr>\n",
       "      <th>3</th>\n",
       "      <td>8</td>\n",
       "      <td>673</td>\n",
       "      <td>Pakistan</td>\n",
       "      <td>1992.0</td>\n",
       "    </tr>\n",
       "    <tr>\n",
       "      <th>4</th>\n",
       "      <td>4</td>\n",
       "      <td>855</td>\n",
       "      <td>Sri Lanka</td>\n",
       "      <td>1996.0</td>\n",
       "    </tr>\n",
       "    <tr>\n",
       "      <th>0</th>\n",
       "      <td>1</td>\n",
       "      <td>895</td>\n",
       "      <td>South Africa</td>\n",
       "      <td>NaN</td>\n",
       "    </tr>\n",
       "    <tr>\n",
       "      <th>1</th>\n",
       "      <td>5</td>\n",
       "      <td>764</td>\n",
       "      <td>New Zealand</td>\n",
       "      <td>NaN</td>\n",
       "    </tr>\n",
       "    <tr>\n",
       "      <th>2</th>\n",
       "      <td>9</td>\n",
       "      <td>656</td>\n",
       "      <td>Zimbabwe</td>\n",
       "      <td>NaN</td>\n",
       "    </tr>\n",
       "  </tbody>\n",
       "</table>\n",
       "</div>"
      ],
      "text/plain": [
       "   ICC_rank  Points          Team  World_champions_Year\n",
       "0         2     874         India                2011.0\n",
       "1         3     787     Australia                2015.0\n",
       "2         7     753   West Indies                1979.0\n",
       "3         8     673      Pakistan                1992.0\n",
       "4         4     855     Sri Lanka                1996.0\n",
       "0         1     895  South Africa                   NaN\n",
       "1         5     764   New Zealand                   NaN\n",
       "2         9     656      Zimbabwe                   NaN"
      ]
     },
     "execution_count": 63,
     "metadata": {},
     "output_type": "execute_result"
    }
   ],
   "source": [
    "# concat()\n",
    "concatenated_df = pd.concat([df1, df2], sort=True)\n",
    "concatenated_df"
   ]
  },
  {
   "cell_type": "code",
   "execution_count": 64,
   "metadata": {},
   "outputs": [
    {
     "data": {
      "text/plain": [
       "ICC_rank                    2\n",
       "Points                    874\n",
       "Team                    India\n",
       "World_champions_Year     2011\n",
       "Name: 0, dtype: object"
      ]
     },
     "execution_count": 64,
     "metadata": {},
     "output_type": "execute_result"
    }
   ],
   "source": [
    "# iloc takes index postition from the top.\n",
    "concatenated_df.iloc[0]"
   ]
  },
  {
   "cell_type": "code",
   "execution_count": 65,
   "metadata": {},
   "outputs": [
    {
     "data": {
      "text/plain": [
       "ICC_rank                           1\n",
       "Points                           895\n",
       "Team                    South Africa\n",
       "World_champions_Year             NaN\n",
       "Name: 0, dtype: object"
      ]
     },
     "execution_count": 65,
     "metadata": {},
     "output_type": "execute_result"
    }
   ],
   "source": [
    "concatenated_df.iloc[5]"
   ]
  },
  {
   "cell_type": "code",
   "execution_count": 66,
   "metadata": {},
   "outputs": [
    {
     "data": {
      "text/html": [
       "<div>\n",
       "<style scoped>\n",
       "    .dataframe tbody tr th:only-of-type {\n",
       "        vertical-align: middle;\n",
       "    }\n",
       "\n",
       "    .dataframe tbody tr th {\n",
       "        vertical-align: top;\n",
       "    }\n",
       "\n",
       "    .dataframe thead th {\n",
       "        text-align: right;\n",
       "    }\n",
       "</style>\n",
       "<table border=\"1\" class=\"dataframe\">\n",
       "  <thead>\n",
       "    <tr style=\"text-align: right;\">\n",
       "      <th></th>\n",
       "      <th>ICC_rank</th>\n",
       "      <th>Points</th>\n",
       "      <th>Team</th>\n",
       "      <th>World_champions_Year</th>\n",
       "    </tr>\n",
       "  </thead>\n",
       "  <tbody>\n",
       "    <tr>\n",
       "      <th>0</th>\n",
       "      <td>2</td>\n",
       "      <td>874</td>\n",
       "      <td>India</td>\n",
       "      <td>2011.0</td>\n",
       "    </tr>\n",
       "    <tr>\n",
       "      <th>0</th>\n",
       "      <td>1</td>\n",
       "      <td>895</td>\n",
       "      <td>South Africa</td>\n",
       "      <td>NaN</td>\n",
       "    </tr>\n",
       "  </tbody>\n",
       "</table>\n",
       "</div>"
      ],
      "text/plain": [
       "   ICC_rank  Points          Team  World_champions_Year\n",
       "0         2     874         India                2011.0\n",
       "0         1     895  South Africa                   NaN"
      ]
     },
     "execution_count": 66,
     "metadata": {},
     "output_type": "execute_result"
    }
   ],
   "source": [
    "# access via index value\n",
    "concatenated_df.loc[0]"
   ]
  },
  {
   "cell_type": "code",
   "execution_count": 68,
   "metadata": {},
   "outputs": [
    {
     "name": "stdout",
     "output_type": "stream",
     "text": [
      "DF1: World champions\n",
      "          Team  ICC_rank  World_champions_Year  Points\n",
      "0        India         2                  2011     874\n",
      "1    Australia         3                  2015     787\n",
      "2  West Indies         7                  1979     753\n",
      "3     Pakistan         8                  1992     673\n",
      "4    Sri Lanka         4                  1996     855\n",
      "####################\n",
      "DF2: Chokers\n",
      "           Team  ICC_rank  Points\n",
      "0  South Africa         1     895\n",
      "1   New Zealand         5     764\n",
      "2      Zimbabwe         9     656\n",
      "********** Appending/concatenating *******\n",
      "   ICC_rank  Points          Team  World_champions_Year\n",
      "0         2     874         India                2011.0\n",
      "1         3     787     Australia                2015.0\n",
      "2         7     753   West Indies                1979.0\n",
      "3         8     673      Pakistan                1992.0\n",
      "4         4     855     Sri Lanka                1996.0\n",
      "0         1     895  South Africa                   NaN\n",
      "1         5     764   New Zealand                   NaN\n",
      "2         9     656      Zimbabwe                   NaN\n"
     ]
    }
   ],
   "source": [
    "# 2.concantenation can also be done with the df.append()\n",
    "\n",
    "import pandas as pd\n",
    "\n",
    "world_champions={'Team':['India','Australia','West Indies','Pakistan','Sri Lanka'],\n",
    "           'ICC_rank':[2,3,7,8,4],\n",
    "           'World_champions_Year':[2011,2015,1979,1992,1996],\n",
    "           'Points':[874,787,753,673,855]}\n",
    "\n",
    "chokers={'Team':['South Africa','New Zealand','Zimbabwe'],\n",
    "           'ICC_rank':[1,5,9],\n",
    "           'Points':[895,764,656]}\n",
    "df1 = pd.DataFrame(world_champions)\n",
    "df2 = pd.DataFrame(chokers)\n",
    "print(\"DF1: World champions\")\n",
    "print(df1)\n",
    "print(\"#\"*20)\n",
    "print(\"DF2: Chokers\")\n",
    "print(df2)\n",
    "\n",
    "print(\"********** Appending/concatenating *******\")\n",
    "new_df = df1.append(df2, sort=True)\n",
    "print(new_df)"
   ]
  },
  {
   "cell_type": "code",
   "execution_count": 69,
   "metadata": {},
   "outputs": [
    {
     "data": {
      "text/html": [
       "<div>\n",
       "<style scoped>\n",
       "    .dataframe tbody tr th:only-of-type {\n",
       "        vertical-align: middle;\n",
       "    }\n",
       "\n",
       "    .dataframe tbody tr th {\n",
       "        vertical-align: top;\n",
       "    }\n",
       "\n",
       "    .dataframe thead th {\n",
       "        text-align: right;\n",
       "    }\n",
       "</style>\n",
       "<table border=\"1\" class=\"dataframe\">\n",
       "  <thead>\n",
       "    <tr style=\"text-align: right;\">\n",
       "      <th></th>\n",
       "      <th>Team</th>\n",
       "      <th>ICC_rank</th>\n",
       "      <th>World_champions_Year</th>\n",
       "      <th>Points</th>\n",
       "      <th>Team</th>\n",
       "      <th>ICC_rank</th>\n",
       "      <th>Points</th>\n",
       "    </tr>\n",
       "  </thead>\n",
       "  <tbody>\n",
       "    <tr>\n",
       "      <th>0</th>\n",
       "      <td>India</td>\n",
       "      <td>2</td>\n",
       "      <td>2011</td>\n",
       "      <td>874</td>\n",
       "      <td>South Africa</td>\n",
       "      <td>1.0</td>\n",
       "      <td>895.0</td>\n",
       "    </tr>\n",
       "    <tr>\n",
       "      <th>1</th>\n",
       "      <td>Australia</td>\n",
       "      <td>3</td>\n",
       "      <td>2015</td>\n",
       "      <td>787</td>\n",
       "      <td>New Zealand</td>\n",
       "      <td>5.0</td>\n",
       "      <td>764.0</td>\n",
       "    </tr>\n",
       "    <tr>\n",
       "      <th>2</th>\n",
       "      <td>West Indies</td>\n",
       "      <td>7</td>\n",
       "      <td>1979</td>\n",
       "      <td>753</td>\n",
       "      <td>Zimbabwe</td>\n",
       "      <td>9.0</td>\n",
       "      <td>656.0</td>\n",
       "    </tr>\n",
       "    <tr>\n",
       "      <th>3</th>\n",
       "      <td>Pakistan</td>\n",
       "      <td>8</td>\n",
       "      <td>1992</td>\n",
       "      <td>673</td>\n",
       "      <td>NaN</td>\n",
       "      <td>NaN</td>\n",
       "      <td>NaN</td>\n",
       "    </tr>\n",
       "    <tr>\n",
       "      <th>4</th>\n",
       "      <td>Sri Lanka</td>\n",
       "      <td>4</td>\n",
       "      <td>1996</td>\n",
       "      <td>855</td>\n",
       "      <td>NaN</td>\n",
       "      <td>NaN</td>\n",
       "      <td>NaN</td>\n",
       "    </tr>\n",
       "  </tbody>\n",
       "</table>\n",
       "</div>"
      ],
      "text/plain": [
       "          Team  ICC_rank  World_champions_Year  Points          Team  \\\n",
       "0        India         2                  2011     874  South Africa   \n",
       "1    Australia         3                  2015     787   New Zealand   \n",
       "2  West Indies         7                  1979     753      Zimbabwe   \n",
       "3     Pakistan         8                  1992     673           NaN   \n",
       "4    Sri Lanka         4                  1996     855           NaN   \n",
       "\n",
       "   ICC_rank  Points  \n",
       "0       1.0   895.0  \n",
       "1       5.0   764.0  \n",
       "2       9.0   656.0  \n",
       "3       NaN     NaN  \n",
       "4       NaN     NaN  "
      ]
     },
     "execution_count": 69,
     "metadata": {},
     "output_type": "execute_result"
    }
   ],
   "source": [
    "# axis=1 puts the second df as new columns in concatenation process\n",
    "pd.concat([df1, df2], axis=1)"
   ]
  },
  {
   "cell_type": "code",
   "execution_count": 70,
   "metadata": {},
   "outputs": [
    {
     "name": "stdout",
     "output_type": "stream",
     "text": [
      "          Team  ICC_rank  World_champions_Year  Points          Team  \\\n",
      "0        India         2                  2011     874  South Africa   \n",
      "1    Australia         3                  2015     787   New Zealand   \n",
      "2  West Indies         7                  1979     753      Zimbabwe   \n",
      "3     Pakistan         8                  1992     673           NaN   \n",
      "4    Sri Lanka         4                  1996     855           NaN   \n",
      "\n",
      "   ICC_rank  Points  \n",
      "0       1.0   895.0  \n",
      "1       5.0   764.0  \n",
      "2       9.0   656.0  \n",
      "3       NaN     NaN  \n",
      "4       NaN     NaN  \n"
     ]
    }
   ],
   "source": [
    "new_df = pd.concat([df1, df2], axis=1)\n",
    "print(new_df)"
   ]
  },
  {
   "cell_type": "code",
   "execution_count": 71,
   "metadata": {},
   "outputs": [
    {
     "data": {
      "text/html": [
       "<div>\n",
       "<style scoped>\n",
       "    .dataframe tbody tr th:only-of-type {\n",
       "        vertical-align: middle;\n",
       "    }\n",
       "\n",
       "    .dataframe tbody tr th {\n",
       "        vertical-align: top;\n",
       "    }\n",
       "\n",
       "    .dataframe thead th {\n",
       "        text-align: right;\n",
       "    }\n",
       "</style>\n",
       "<table border=\"1\" class=\"dataframe\">\n",
       "  <thead>\n",
       "    <tr style=\"text-align: right;\">\n",
       "      <th></th>\n",
       "      <th>Team</th>\n",
       "      <th>Team</th>\n",
       "    </tr>\n",
       "  </thead>\n",
       "  <tbody>\n",
       "    <tr>\n",
       "      <th>0</th>\n",
       "      <td>India</td>\n",
       "      <td>South Africa</td>\n",
       "    </tr>\n",
       "    <tr>\n",
       "      <th>1</th>\n",
       "      <td>Australia</td>\n",
       "      <td>New Zealand</td>\n",
       "    </tr>\n",
       "    <tr>\n",
       "      <th>2</th>\n",
       "      <td>West Indies</td>\n",
       "      <td>Zimbabwe</td>\n",
       "    </tr>\n",
       "    <tr>\n",
       "      <th>3</th>\n",
       "      <td>Pakistan</td>\n",
       "      <td>NaN</td>\n",
       "    </tr>\n",
       "    <tr>\n",
       "      <th>4</th>\n",
       "      <td>Sri Lanka</td>\n",
       "      <td>NaN</td>\n",
       "    </tr>\n",
       "  </tbody>\n",
       "</table>\n",
       "</div>"
      ],
      "text/plain": [
       "          Team          Team\n",
       "0        India  South Africa\n",
       "1    Australia   New Zealand\n",
       "2  West Indies      Zimbabwe\n",
       "3     Pakistan           NaN\n",
       "4    Sri Lanka           NaN"
      ]
     },
     "execution_count": 71,
     "metadata": {},
     "output_type": "execute_result"
    }
   ],
   "source": [
    "new_df['Team']  # multiple columns with same name"
   ]
  },
  {
   "cell_type": "markdown",
   "metadata": {},
   "source": [
    "## acces a column using iloc\n"
   ]
  },
  {
   "cell_type": "code",
   "execution_count": 81,
   "metadata": {},
   "outputs": [
    {
     "name": "stdout",
     "output_type": "stream",
     "text": [
      "0          India\n",
      "1      Australia\n",
      "2    West Indies\n",
      "3       Pakistan\n",
      "4      Sri Lanka\n",
      "Name: Team, dtype: object\n",
      "0    South Africa\n",
      "1     New Zealand\n",
      "2        Zimbabwe\n",
      "3             NaN\n",
      "4             NaN\n",
      "Name: Team, dtype: object\n"
     ]
    }
   ],
   "source": [
    "\"\"\"\n",
    "# synatx: .iloc to access columns\n",
    "# 1.df.iloc[:,column_position]\n",
    "# 2.df.iloc[:,[list_of_column_index_positions]]\n",
    "\n",
    "synatx: .loc to access columns\n",
    "# df.loc[:,[list_of_column_names]]\n",
    "\"\"\"\n",
    "\n",
    "team_df = new_df['Team'] \n",
    "#team_df.iloc[:,[0,1]]\n",
    "#team_df.iloc[:,0]\n",
    "print(team_df.iloc[:,0])\n",
    "print(team_df.iloc[:,1])\n",
    "\n"
   ]
  },
  {
   "cell_type": "markdown",
   "metadata": {},
   "source": [
    "## Merging and Joining"
   ]
  },
  {
   "cell_type": "code",
   "execution_count": 88,
   "metadata": {},
   "outputs": [
    {
     "name": "stdout",
     "output_type": "stream",
     "text": [
      "DF1: World champions\n",
      "          Team  ICC_rank  World_champions_Year  Points\n",
      "0        India         2                  2011     874\n",
      "1    Australia         3                  2015     787\n",
      "2  West Indies         7                  1979     753\n",
      "3     Pakistan         8                  1992     673\n",
      "4    Sri Lanka         4                  1996     855\n",
      "####################\n",
      "DF2: Chokers\n",
      "          Team  ICC_rank  Points\n",
      "0        India         2     874\n",
      "1  New Zealand         5     764\n",
      "2     Zimbabwe         9     656\n",
      " *******Default is Inner Join Merge*********\n",
      "    Team  ICC_rank_x  World_champions_Year  Points_x  ICC_rank_y  Points_y\n",
      "0  India           2                  2011       874           2       874\n"
     ]
    }
   ],
   "source": [
    "# inner join returns intersection of two Dataframes.\n",
    "world_champions={'Team':['India','Australia','West Indies','Pakistan','Sri Lanka'],\n",
    "           'ICC_rank':[2,3,7,8,4],\n",
    "           'World_champions_Year':[2011,2015,1979,1992,1996],\n",
    "           'Points':[874,787,753,673,855]}\n",
    "\n",
    "chokers={'Team':['India','New Zealand','Zimbabwe'],\n",
    "           'ICC_rank':[2,5,9],\n",
    "           'Points':[874,764,656]}\n",
    "df1 = pd.DataFrame(world_champions)\n",
    "df2 = pd.DataFrame(chokers)\n",
    "print(\"DF1: World champions\")\n",
    "print(df1)\n",
    "print(\"#\"*20)\n",
    "print(\"DF2: Chokers\")\n",
    "print(df2)\n",
    "print(\" *******Default is Inner Join Merge*********\")\n",
    "print(pd.merge(df1, df2, on='Team'))\n"
   ]
  },
  {
   "cell_type": "code",
   "execution_count": 85,
   "metadata": {},
   "outputs": [
    {
     "name": "stdout",
     "output_type": "stream",
     "text": [
      "DF1: World champions\n",
      "          Team  ICC_rank  World_champions_Year  Points\n",
      "0        India         2                  2011     874\n",
      "1    Australia         3                  2015     787\n",
      "2  West Indies         7                  1979     753\n",
      "3     Pakistan         8                  1992     673\n",
      "4    Sri Lanka         4                  1996     855\n",
      "####################\n",
      "DF2: Chokers\n",
      "          Team  ICC_rank  Points\n",
      "0        India         2     874\n",
      "1  New Zealand         5     764\n",
      "2     Zimbabwe         9     656\n",
      " *******Right Join Merge*********\n",
      "          Team  ICC_rank_x  World_champions_Year  Points_x  ICC_rank_y  \\\n",
      "0        India         2.0                2011.0     874.0           2   \n",
      "1  New Zealand         NaN                   NaN       NaN           5   \n",
      "2     Zimbabwe         NaN                   NaN       NaN           9   \n",
      "\n",
      "   Points_y  \n",
      "0       874  \n",
      "1       764  \n",
      "2       656  \n"
     ]
    }
   ],
   "source": [
    "# right join merges two dataframes based on the keys of the right dataframe\n",
    "world_champions={'Team':['India','Australia','West Indies','Pakistan','Sri Lanka'],\n",
    "           'ICC_rank':[2,3,7,8,4],\n",
    "           'World_champions_Year':[2011,2015,1979,1992,1996],\n",
    "           'Points':[874,787,753,673,855]}\n",
    "\n",
    "chokers={'Team':['India','New Zealand','Zimbabwe'],\n",
    "           'ICC_rank':[2,5,9],\n",
    "           'Points':[874,764,656]}\n",
    "df1 = pd.DataFrame(world_champions)\n",
    "df2 = pd.DataFrame(chokers)\n",
    "print(\"DF1: World champions\")\n",
    "print(df1)\n",
    "print(\"#\"*20)\n",
    "print(\"DF2: Chokers\")\n",
    "print(df2)\n",
    "print(\" *******Right Join Merge*********\")\n",
    "print(pd.merge(df1, df2, on='Team', how='right'))\n"
   ]
  },
  {
   "cell_type": "code",
   "execution_count": 86,
   "metadata": {},
   "outputs": [
    {
     "name": "stdout",
     "output_type": "stream",
     "text": [
      "DF1: World champions\n",
      "          Team  ICC_rank  World_champions_Year  Points\n",
      "0        India         2                  2011     874\n",
      "1    Australia         3                  2015     787\n",
      "2  West Indies         7                  1979     753\n",
      "3     Pakistan         8                  1992     673\n",
      "4    Sri Lanka         4                  1996     855\n",
      "####################\n",
      "DF2: Chokers\n",
      "          Team  ICC_rank  Points\n",
      "0        India         2     874\n",
      "1  New Zealand         5     764\n",
      "2     Zimbabwe         9     656\n",
      " *******Left Join Merge*********\n",
      "          Team  ICC_rank_x  World_champions_Year  Points_x  ICC_rank_y  \\\n",
      "0        India           2                  2011       874         2.0   \n",
      "1    Australia           3                  2015       787         NaN   \n",
      "2  West Indies           7                  1979       753         NaN   \n",
      "3     Pakistan           8                  1992       673         NaN   \n",
      "4    Sri Lanka           4                  1996       855         NaN   \n",
      "\n",
      "   Points_y  \n",
      "0     874.0  \n",
      "1       NaN  \n",
      "2       NaN  \n",
      "3       NaN  \n",
      "4       NaN  \n"
     ]
    }
   ],
   "source": [
    "# left join merges two dataframes based on the keys of the left dataframe\n",
    "world_champions={'Team':['India','Australia','West Indies','Pakistan','Sri Lanka'],\n",
    "           'ICC_rank':[2,3,7,8,4],\n",
    "           'World_champions_Year':[2011,2015,1979,1992,1996],\n",
    "           'Points':[874,787,753,673,855]}\n",
    "\n",
    "chokers={'Team':['India','New Zealand','Zimbabwe'],\n",
    "           'ICC_rank':[2,5,9],\n",
    "           'Points':[874,764,656]}\n",
    "df1 = pd.DataFrame(world_champions)\n",
    "df2 = pd.DataFrame(chokers)\n",
    "print(\"DF1: World champions\")\n",
    "print(df1)\n",
    "print(\"#\"*20)\n",
    "print(\"DF2: Chokers\")\n",
    "print(df2)\n",
    "print(\" *******Left Join Merge*********\")\n",
    "print(pd.merge(df1, df2, on='Team', how='left'))\n"
   ]
  },
  {
   "cell_type": "code",
   "execution_count": 87,
   "metadata": {},
   "outputs": [
    {
     "name": "stdout",
     "output_type": "stream",
     "text": [
      "DF1: World champions\n",
      "          Team  ICC_rank  World_champions_Year  Points\n",
      "0        India         2                  2011     874\n",
      "1    Australia         3                  2015     787\n",
      "2  West Indies         7                  1979     753\n",
      "3     Pakistan         8                  1992     673\n",
      "4    Sri Lanka         4                  1996     855\n",
      "####################\n",
      "DF2: Chokers\n",
      "          Team  ICC_rank  Points\n",
      "0        India         2     874\n",
      "1  New Zealand         5     764\n",
      "2     Zimbabwe         9     656\n",
      " *******outer Join Merge*********\n",
      "          Team  ICC_rank_x  World_champions_Year  Points_x  ICC_rank_y  \\\n",
      "0        India         2.0                2011.0     874.0         2.0   \n",
      "1    Australia         3.0                2015.0     787.0         NaN   \n",
      "2  West Indies         7.0                1979.0     753.0         NaN   \n",
      "3     Pakistan         8.0                1992.0     673.0         NaN   \n",
      "4    Sri Lanka         4.0                1996.0     855.0         NaN   \n",
      "5  New Zealand         NaN                   NaN       NaN         5.0   \n",
      "6     Zimbabwe         NaN                   NaN       NaN         9.0   \n",
      "\n",
      "   Points_y  \n",
      "0     874.0  \n",
      "1       NaN  \n",
      "2       NaN  \n",
      "3       NaN  \n",
      "4       NaN  \n",
      "5     764.0  \n",
      "6     656.0  \n"
     ]
    }
   ],
   "source": [
    "# outer join merges two dataframes based on the full union\n",
    "world_champions={'Team':['India','Australia','West Indies','Pakistan','Sri Lanka'],\n",
    "           'ICC_rank':[2,3,7,8,4],\n",
    "           'World_champions_Year':[2011,2015,1979,1992,1996],\n",
    "           'Points':[874,787,753,673,855]}\n",
    "\n",
    "chokers={'Team':['India','New Zealand','Zimbabwe'],\n",
    "           'ICC_rank':[2,5,9],\n",
    "           'Points':[874,764,656]}\n",
    "df1 = pd.DataFrame(world_champions)\n",
    "df2 = pd.DataFrame(chokers)\n",
    "print(\"DF1: World champions\")\n",
    "print(df1)\n",
    "print(\"#\"*20)\n",
    "print(\"DF2: Chokers\")\n",
    "print(df2)\n",
    "print(\" *******outer Join Merge*********\")\n",
    "print(pd.merge(df1, df2, on='Team', how='outer'))\n"
   ]
  },
  {
   "cell_type": "code",
   "execution_count": 89,
   "metadata": {},
   "outputs": [
    {
     "name": "stdout",
     "output_type": "stream",
     "text": [
      "DF1: World champions\n",
      "          Team  ICC_rank  World_champions_Year  Points\n",
      "0        India         2                  2011     874\n",
      "1    Australia         3                  2015     787\n",
      "2  West Indies         7                  1979     753\n",
      "3     Pakistan         8                  1992     673\n",
      "4    Sri Lanka         4                  1996     855\n",
      "####################\n",
      "DF2: Chokers\n",
      "          Team  ICC_rank  Points\n",
      "0        India         2     874\n",
      "1  New Zealand         5     764\n",
      "2     Zimbabwe         9     656\n",
      " *******Inner Join Merge*********\n",
      "    Team  ICC_rank_x  World_champions_Year  Points_x  ICC_rank_y  Points_y\n",
      "0  India           2                  2011       874           2       874\n"
     ]
    }
   ],
   "source": [
    "# inner join returns intersection of two Dataframes.\n",
    "world_champions={'Team':['India','Australia','West Indies','Pakistan','Sri Lanka'],\n",
    "           'ICC_rank':[2,3,7,8,4],\n",
    "           'World_champions_Year':[2011,2015,1979,1992,1996],\n",
    "           'Points':[874,787,753,673,855]}\n",
    "\n",
    "chokers={'Team':['India','New Zealand','Zimbabwe'],\n",
    "           'ICC_rank':[2,5,9],\n",
    "           'Points':[874,764,656]}\n",
    "df1 = pd.DataFrame(world_champions)\n",
    "df2 = pd.DataFrame(chokers)\n",
    "print(\"DF1: World champions\")\n",
    "print(df1)\n",
    "print(\"#\"*20)\n",
    "print(\"DF2: Chokers\")\n",
    "print(df2)\n",
    "print(\" *******Inner Join Merge*********\")\n",
    "print(pd.merge(df1, df2, on='Team', how='inner'))\n"
   ]
  },
  {
   "cell_type": "markdown",
   "metadata": {},
   "source": [
    "### AllCounries - Data Analysis"
   ]
  },
  {
   "cell_type": "code",
   "execution_count": 2,
   "metadata": {},
   "outputs": [
    {
     "data": {
      "text/html": [
       "<div>\n",
       "<style scoped>\n",
       "    .dataframe tbody tr th:only-of-type {\n",
       "        vertical-align: middle;\n",
       "    }\n",
       "\n",
       "    .dataframe tbody tr th {\n",
       "        vertical-align: top;\n",
       "    }\n",
       "\n",
       "    .dataframe thead th {\n",
       "        text-align: right;\n",
       "    }\n",
       "</style>\n",
       "<table border=\"1\" class=\"dataframe\">\n",
       "  <thead>\n",
       "    <tr style=\"text-align: right;\">\n",
       "      <th></th>\n",
       "      <th>Country</th>\n",
       "      <th>LandArea</th>\n",
       "      <th>Population</th>\n",
       "      <th>GDP</th>\n",
       "      <th>Rural</th>\n",
       "      <th>Internet</th>\n",
       "      <th>BirthRate</th>\n",
       "      <th>DeathRate</th>\n",
       "      <th>ElderlyPop</th>\n",
       "      <th>LifeExpectancy</th>\n",
       "      <th>FemaleLabor</th>\n",
       "      <th>Unemployment</th>\n",
       "    </tr>\n",
       "  </thead>\n",
       "  <tbody>\n",
       "    <tr>\n",
       "      <th>0</th>\n",
       "      <td>Afghanistan</td>\n",
       "      <td>652.86</td>\n",
       "      <td>30.552</td>\n",
       "      <td>665.0</td>\n",
       "      <td>74.1</td>\n",
       "      <td>5.9</td>\n",
       "      <td>34.1</td>\n",
       "      <td>7.8</td>\n",
       "      <td>2.3</td>\n",
       "      <td>60.9</td>\n",
       "      <td>16.2</td>\n",
       "      <td>NaN</td>\n",
       "    </tr>\n",
       "    <tr>\n",
       "      <th>1</th>\n",
       "      <td>Albania</td>\n",
       "      <td>27.40</td>\n",
       "      <td>2.897</td>\n",
       "      <td>4460.0</td>\n",
       "      <td>44.6</td>\n",
       "      <td>60.1</td>\n",
       "      <td>12.9</td>\n",
       "      <td>6.9</td>\n",
       "      <td>10.7</td>\n",
       "      <td>77.5</td>\n",
       "      <td>51.7</td>\n",
       "      <td>13.4</td>\n",
       "    </tr>\n",
       "    <tr>\n",
       "      <th>2</th>\n",
       "      <td>Algeria</td>\n",
       "      <td>2381.74</td>\n",
       "      <td>39.208</td>\n",
       "      <td>5361.0</td>\n",
       "      <td>30.5</td>\n",
       "      <td>16.5</td>\n",
       "      <td>24.3</td>\n",
       "      <td>5.9</td>\n",
       "      <td>4.6</td>\n",
       "      <td>71.0</td>\n",
       "      <td>16.2</td>\n",
       "      <td>11.0</td>\n",
       "    </tr>\n",
       "    <tr>\n",
       "      <th>3</th>\n",
       "      <td>American Samoa</td>\n",
       "      <td>0.20</td>\n",
       "      <td>0.055</td>\n",
       "      <td>NaN</td>\n",
       "      <td>12.7</td>\n",
       "      <td>NaN</td>\n",
       "      <td>NaN</td>\n",
       "      <td>NaN</td>\n",
       "      <td>NaN</td>\n",
       "      <td>NaN</td>\n",
       "      <td>NaN</td>\n",
       "      <td>NaN</td>\n",
       "    </tr>\n",
       "    <tr>\n",
       "      <th>4</th>\n",
       "      <td>Andorra</td>\n",
       "      <td>0.47</td>\n",
       "      <td>0.079</td>\n",
       "      <td>NaN</td>\n",
       "      <td>13.8</td>\n",
       "      <td>94.0</td>\n",
       "      <td>NaN</td>\n",
       "      <td>NaN</td>\n",
       "      <td>NaN</td>\n",
       "      <td>NaN</td>\n",
       "      <td>NaN</td>\n",
       "      <td>NaN</td>\n",
       "    </tr>\n",
       "  </tbody>\n",
       "</table>\n",
       "</div>"
      ],
      "text/plain": [
       "          Country  LandArea  Population     GDP  Rural  Internet  BirthRate  \\\n",
       "0     Afghanistan    652.86      30.552   665.0   74.1       5.9       34.1   \n",
       "1         Albania     27.40       2.897  4460.0   44.6      60.1       12.9   \n",
       "2         Algeria   2381.74      39.208  5361.0   30.5      16.5       24.3   \n",
       "3  American Samoa      0.20       0.055     NaN   12.7       NaN        NaN   \n",
       "4         Andorra      0.47       0.079     NaN   13.8      94.0        NaN   \n",
       "\n",
       "   DeathRate  ElderlyPop  LifeExpectancy  FemaleLabor  Unemployment  \n",
       "0        7.8         2.3            60.9         16.2           NaN  \n",
       "1        6.9        10.7            77.5         51.7          13.4  \n",
       "2        5.9         4.6            71.0         16.2          11.0  \n",
       "3        NaN         NaN             NaN          NaN           NaN  \n",
       "4        NaN         NaN             NaN          NaN           NaN  "
      ]
     },
     "execution_count": 2,
     "metadata": {},
     "output_type": "execute_result"
    }
   ],
   "source": [
    "import pandas as pd\n",
    "data_df = pd.read_csv(\"Allcountries.csv\")\n",
    "data_df.head()"
   ]
  },
  {
   "cell_type": "code",
   "execution_count": 3,
   "metadata": {},
   "outputs": [
    {
     "data": {
      "text/html": [
       "<div>\n",
       "<style scoped>\n",
       "    .dataframe tbody tr th:only-of-type {\n",
       "        vertical-align: middle;\n",
       "    }\n",
       "\n",
       "    .dataframe tbody tr th {\n",
       "        vertical-align: top;\n",
       "    }\n",
       "\n",
       "    .dataframe thead th {\n",
       "        text-align: right;\n",
       "    }\n",
       "</style>\n",
       "<table border=\"1\" class=\"dataframe\">\n",
       "  <thead>\n",
       "    <tr style=\"text-align: right;\">\n",
       "      <th></th>\n",
       "      <th>LandArea</th>\n",
       "      <th>Population</th>\n",
       "      <th>GDP</th>\n",
       "      <th>Rural</th>\n",
       "      <th>Internet</th>\n",
       "      <th>BirthRate</th>\n",
       "      <th>DeathRate</th>\n",
       "      <th>ElderlyPop</th>\n",
       "      <th>LifeExpectancy</th>\n",
       "      <th>FemaleLabor</th>\n",
       "      <th>Unemployment</th>\n",
       "    </tr>\n",
       "  </thead>\n",
       "  <tbody>\n",
       "    <tr>\n",
       "      <th>count</th>\n",
       "      <td>215.000000</td>\n",
       "      <td>215.000000</td>\n",
       "      <td>186.000000</td>\n",
       "      <td>215.000000</td>\n",
       "      <td>203.000000</td>\n",
       "      <td>202.000000</td>\n",
       "      <td>203.000000</td>\n",
       "      <td>195.000000</td>\n",
       "      <td>199.000000</td>\n",
       "      <td>186.000000</td>\n",
       "      <td>108.000000</td>\n",
       "    </tr>\n",
       "    <tr>\n",
       "      <th>mean</th>\n",
       "      <td>604.660335</td>\n",
       "      <td>33.042014</td>\n",
       "      <td>14333.672043</td>\n",
       "      <td>41.228372</td>\n",
       "      <td>43.024138</td>\n",
       "      <td>21.250990</td>\n",
       "      <td>8.072906</td>\n",
       "      <td>7.976923</td>\n",
       "      <td>70.841709</td>\n",
       "      <td>58.076882</td>\n",
       "      <td>9.687963</td>\n",
       "    </tr>\n",
       "    <tr>\n",
       "      <th>std</th>\n",
       "      <td>1759.001021</td>\n",
       "      <td>130.424120</td>\n",
       "      <td>20501.708730</td>\n",
       "      <td>24.478096</td>\n",
       "      <td>29.258941</td>\n",
       "      <td>10.513622</td>\n",
       "      <td>3.133041</td>\n",
       "      <td>5.512164</td>\n",
       "      <td>9.096521</td>\n",
       "      <td>17.079121</td>\n",
       "      <td>6.681859</td>\n",
       "    </tr>\n",
       "    <tr>\n",
       "      <th>min</th>\n",
       "      <td>0.002000</td>\n",
       "      <td>0.010000</td>\n",
       "      <td>226.000000</td>\n",
       "      <td>0.000000</td>\n",
       "      <td>0.900000</td>\n",
       "      <td>7.900000</td>\n",
       "      <td>1.000000</td>\n",
       "      <td>0.400000</td>\n",
       "      <td>45.600000</td>\n",
       "      <td>14.300000</td>\n",
       "      <td>0.200000</td>\n",
       "    </tr>\n",
       "    <tr>\n",
       "      <th>25%</th>\n",
       "      <td>10.858500</td>\n",
       "      <td>0.836500</td>\n",
       "      <td>1846.500000</td>\n",
       "      <td>21.550000</td>\n",
       "      <td>15.350000</td>\n",
       "      <td>12.225000</td>\n",
       "      <td>5.950000</td>\n",
       "      <td>3.400000</td>\n",
       "      <td>65.300000</td>\n",
       "      <td>49.725000</td>\n",
       "      <td>5.175000</td>\n",
       "    </tr>\n",
       "    <tr>\n",
       "      <th>50%</th>\n",
       "      <td>94.280000</td>\n",
       "      <td>6.202000</td>\n",
       "      <td>5736.000000</td>\n",
       "      <td>41.600000</td>\n",
       "      <td>43.500000</td>\n",
       "      <td>19.350000</td>\n",
       "      <td>7.500000</td>\n",
       "      <td>5.500000</td>\n",
       "      <td>73.800000</td>\n",
       "      <td>60.350000</td>\n",
       "      <td>7.800000</td>\n",
       "    </tr>\n",
       "    <tr>\n",
       "      <th>75%</th>\n",
       "      <td>440.310000</td>\n",
       "      <td>21.863000</td>\n",
       "      <td>16072.500000</td>\n",
       "      <td>61.200000</td>\n",
       "      <td>66.600000</td>\n",
       "      <td>27.500000</td>\n",
       "      <td>9.700000</td>\n",
       "      <td>12.300000</td>\n",
       "      <td>77.250000</td>\n",
       "      <td>70.175000</td>\n",
       "      <td>13.400000</td>\n",
       "    </tr>\n",
       "    <tr>\n",
       "      <th>max</th>\n",
       "      <td>16376.870000</td>\n",
       "      <td>1357.380000</td>\n",
       "      <td>110665.000000</td>\n",
       "      <td>91.300000</td>\n",
       "      <td>96.500000</td>\n",
       "      <td>49.700000</td>\n",
       "      <td>17.200000</td>\n",
       "      <td>25.100000</td>\n",
       "      <td>83.800000</td>\n",
       "      <td>89.900000</td>\n",
       "      <td>31.000000</td>\n",
       "    </tr>\n",
       "  </tbody>\n",
       "</table>\n",
       "</div>"
      ],
      "text/plain": [
       "           LandArea   Population            GDP       Rural    Internet  \\\n",
       "count    215.000000   215.000000     186.000000  215.000000  203.000000   \n",
       "mean     604.660335    33.042014   14333.672043   41.228372   43.024138   \n",
       "std     1759.001021   130.424120   20501.708730   24.478096   29.258941   \n",
       "min        0.002000     0.010000     226.000000    0.000000    0.900000   \n",
       "25%       10.858500     0.836500    1846.500000   21.550000   15.350000   \n",
       "50%       94.280000     6.202000    5736.000000   41.600000   43.500000   \n",
       "75%      440.310000    21.863000   16072.500000   61.200000   66.600000   \n",
       "max    16376.870000  1357.380000  110665.000000   91.300000   96.500000   \n",
       "\n",
       "        BirthRate   DeathRate  ElderlyPop  LifeExpectancy  FemaleLabor  \\\n",
       "count  202.000000  203.000000  195.000000      199.000000   186.000000   \n",
       "mean    21.250990    8.072906    7.976923       70.841709    58.076882   \n",
       "std     10.513622    3.133041    5.512164        9.096521    17.079121   \n",
       "min      7.900000    1.000000    0.400000       45.600000    14.300000   \n",
       "25%     12.225000    5.950000    3.400000       65.300000    49.725000   \n",
       "50%     19.350000    7.500000    5.500000       73.800000    60.350000   \n",
       "75%     27.500000    9.700000   12.300000       77.250000    70.175000   \n",
       "max     49.700000   17.200000   25.100000       83.800000    89.900000   \n",
       "\n",
       "       Unemployment  \n",
       "count    108.000000  \n",
       "mean       9.687963  \n",
       "std        6.681859  \n",
       "min        0.200000  \n",
       "25%        5.175000  \n",
       "50%        7.800000  \n",
       "75%       13.400000  \n",
       "max       31.000000  "
      ]
     },
     "execution_count": 3,
     "metadata": {},
     "output_type": "execute_result"
    }
   ],
   "source": [
    "# statistical summary of the DataFrame\n",
    "data_df.describe()"
   ]
  },
  {
   "cell_type": "code",
   "execution_count": 6,
   "metadata": {},
   "outputs": [
    {
     "name": "stdout",
     "output_type": "stream",
     "text": [
      "Algeria 2381.74\n",
      "Argentina 2736.69\n",
      "Australia 7682.3\n",
      "Brazil 8358.14\n",
      "Canada 9093.51\n",
      "China 9388.211\n",
      "Congo, Dem. Rep. 2267.05\n",
      "India 2973.19\n",
      "Kazakhstan 2699.7\n",
      "Russian Federation 16376.87\n",
      "Saudi Arabia 2149.69\n",
      "Sudan 2376.0\n",
      "United States 9147.42\n"
     ]
    }
   ],
   "source": [
    "# list all of the countries with a size greater than 2000 units\n",
    "# Method 1:\n",
    "import pandas as pd\n",
    "data_df = pd.read_csv(\"Allcountries.csv\")\n",
    "selected_data_df = data_df.loc[:,['LandArea', 'Country']]\n",
    "for i in selected_data_df.itertuples():\n",
    "    if i.LandArea > 2000:\n",
    "        print(i.Country, i.LandArea)"
   ]
  },
  {
   "cell_type": "code",
   "execution_count": 9,
   "metadata": {},
   "outputs": [
    {
     "name": "stdout",
     "output_type": "stream",
     "text": [
      "   LandArea         Country\n",
      "0    652.86     Afghanistan\n",
      "1     27.40         Albania\n",
      "2   2381.74         Algeria\n",
      "3      0.20  American Samoa\n",
      "4      0.47         Andorra\n",
      "####################\n",
      "      LandArea             Country\n",
      "2     2381.740             Algeria\n",
      "7     2736.690           Argentina\n",
      "10    7682.300           Australia\n",
      "26    8358.140              Brazil\n",
      "34    9093.510              Canada\n",
      "40    9388.211               China\n",
      "43    2267.050    Congo, Dem. Rep.\n",
      "86    2973.190               India\n",
      "97    2699.700          Kazakhstan\n",
      "158  16376.870  Russian Federation\n",
      "163   2149.690        Saudi Arabia\n",
      "182   2376.000               Sudan\n",
      "204   9147.420       United States\n"
     ]
    }
   ],
   "source": [
    "# method 2\n",
    "print(selected_data_df.head())\n",
    "print(\"#\"*20)\n",
    "print(selected_data_df[selected_data_df['LandArea'] > 2000])"
   ]
  },
  {
   "cell_type": "code",
   "execution_count": 10,
   "metadata": {},
   "outputs": [
    {
     "data": {
      "text/html": [
       "<div>\n",
       "<style scoped>\n",
       "    .dataframe tbody tr th:only-of-type {\n",
       "        vertical-align: middle;\n",
       "    }\n",
       "\n",
       "    .dataframe tbody tr th {\n",
       "        vertical-align: top;\n",
       "    }\n",
       "\n",
       "    .dataframe thead th {\n",
       "        text-align: right;\n",
       "    }\n",
       "</style>\n",
       "<table border=\"1\" class=\"dataframe\">\n",
       "  <thead>\n",
       "    <tr style=\"text-align: right;\">\n",
       "      <th></th>\n",
       "      <th>LandArea</th>\n",
       "      <th>Country</th>\n",
       "    </tr>\n",
       "  </thead>\n",
       "  <tbody>\n",
       "    <tr>\n",
       "      <th>2</th>\n",
       "      <td>2381.74</td>\n",
       "      <td>Algeria</td>\n",
       "    </tr>\n",
       "    <tr>\n",
       "      <th>7</th>\n",
       "      <td>2736.69</td>\n",
       "      <td>Argentina</td>\n",
       "    </tr>\n",
       "    <tr>\n",
       "      <th>43</th>\n",
       "      <td>2267.05</td>\n",
       "      <td>Congo, Dem. Rep.</td>\n",
       "    </tr>\n",
       "    <tr>\n",
       "      <th>86</th>\n",
       "      <td>2973.19</td>\n",
       "      <td>India</td>\n",
       "    </tr>\n",
       "    <tr>\n",
       "      <th>97</th>\n",
       "      <td>2699.70</td>\n",
       "      <td>Kazakhstan</td>\n",
       "    </tr>\n",
       "    <tr>\n",
       "      <th>163</th>\n",
       "      <td>2149.69</td>\n",
       "      <td>Saudi Arabia</td>\n",
       "    </tr>\n",
       "    <tr>\n",
       "      <th>182</th>\n",
       "      <td>2376.00</td>\n",
       "      <td>Sudan</td>\n",
       "    </tr>\n",
       "  </tbody>\n",
       "</table>\n",
       "</div>"
      ],
      "text/plain": [
       "     LandArea           Country\n",
       "2     2381.74           Algeria\n",
       "7     2736.69         Argentina\n",
       "43    2267.05  Congo, Dem. Rep.\n",
       "86    2973.19             India\n",
       "97    2699.70        Kazakhstan\n",
       "163   2149.69      Saudi Arabia\n",
       "182   2376.00             Sudan"
      ]
     },
     "execution_count": 10,
     "metadata": {},
     "output_type": "execute_result"
    }
   ],
   "source": [
    "# putting multiple conditions in the dataframe\n",
    "selected_data_df[(selected_data_df['LandArea'] > 2000) & (selected_data_df['LandArea'] < 5000)]"
   ]
  },
  {
   "cell_type": "code",
   "execution_count": 11,
   "metadata": {},
   "outputs": [
    {
     "data": {
      "text/plain": [
       "130001.97200000001"
      ]
     },
     "execution_count": 11,
     "metadata": {},
     "output_type": "execute_result"
    }
   ],
   "source": [
    "selected_data_df['LandArea'].sum()"
   ]
  },
  {
   "cell_type": "code",
   "execution_count": 12,
   "metadata": {},
   "outputs": [
    {
     "data": {
      "text/plain": [
       "1759.0010208824322"
      ]
     },
     "execution_count": 12,
     "metadata": {},
     "output_type": "execute_result"
    }
   ],
   "source": [
    "# column wise\n",
    "selected_data_df['LandArea'].std()"
   ]
  },
  {
   "cell_type": "code",
   "execution_count": 14,
   "metadata": {},
   "outputs": [
    {
     "data": {
      "text/plain": [
       "16376.87"
      ]
     },
     "execution_count": 14,
     "metadata": {},
     "output_type": "execute_result"
    }
   ],
   "source": [
    "selected_data_df['LandArea'].max()"
   ]
  },
  {
   "cell_type": "code",
   "execution_count": 15,
   "metadata": {},
   "outputs": [
    {
     "data": {
      "text/plain": [
       "0.002"
      ]
     },
     "execution_count": 15,
     "metadata": {},
     "output_type": "execute_result"
    }
   ],
   "source": [
    "selected_data_df['LandArea'].min()"
   ]
  },
  {
   "cell_type": "code",
   "execution_count": 18,
   "metadata": {},
   "outputs": [
    {
     "data": {
      "image/png": "[encoded data removed]",
      "text/plain": [
       "<Figure size 432x288 with 1 Axes>"
      ]
     },
     "metadata": {
      "needs_background": "light"
     },
     "output_type": "display_data"
    }
   ],
   "source": [
    "# is there a correlation between GDP and Birth Rate\n",
    "import matplotlib.pyplot as plt\n",
    "data_df = pd.read_csv('AllCountries.csv')\n",
    "selected_data_df = data_df.loc[:,['Country', 'GDP', 'BirthRate']]\n",
    "x = selected_data_df['GDP']\n",
    "y = selected_data_df['BirthRate']\n",
    "plt.scatter(x,y)\n",
    "plt.xlabel('GDP')\n",
    "plt.ylabel('BirthRate')\n",
    "plt.show()"
   ]
  },
  {
   "cell_type": "code",
   "execution_count": 19,
   "metadata": {},
   "outputs": [
    {
     "data": {
      "image/png": "[encoded data removed]",
      "text/plain": [
       "<Figure size 432x288 with 1 Axes>"
      ]
     },
     "metadata": {
      "needs_background": "light"
     },
     "output_type": "display_data"
    }
   ],
   "source": [
    "# using xlim() to focus from GDP upto 20000.\n",
    "import matplotlib.pyplot as plt\n",
    "data_df = pd.read_csv('AllCountries.csv')\n",
    "selected_data_df = data_df.loc[:,['Country', 'GDP', 'BirthRate']]\n",
    "x = selected_data_df['GDP']\n",
    "y = selected_data_df['BirthRate']\n",
    "plt.scatter(x,y)\n",
    "plt.xlabel('GDP')\n",
    "plt.ylabel('BirthRate')\n",
    "plt.xlim(0,20000)\n",
    "plt.show()"
   ]
  },
  {
   "cell_type": "code",
   "execution_count": 27,
   "metadata": {},
   "outputs": [
    {
     "data": {
      "image/png": "[encoded data removed]",
      "text/plain": [
       "<Figure size 432x288 with 1 Axes>"
      ]
     },
     "metadata": {},
     "output_type": "display_data"
    }
   ],
   "source": [
    "# Find and visualize GDP of ten richest countries\n",
    "import pandas as pd\n",
    "import matplotlib.pyplot as plt\n",
    "data_df = pd.read_csv('AllCountries.csv')\n",
    "selected_data_df = data_df.loc[:,['Country', 'GDP']]\n",
    "sorted_data = selected_data_df.sort_values(by='GDP', ascending=False)\n",
    "top10_GDP_countries = sorted_data.iloc[:10]\n",
    "\n",
    "plt.pie(top10_GDP_countries['GDP'],\n",
    "        labels=top10_GDP_countries['Country'],\n",
    "       autopct='%1.1f%%')\n",
    "plt.show()"
   ]
  },
  {
   "cell_type": "code",
   "execution_count": 28,
   "metadata": {},
   "outputs": [
    {
     "data": {
      "text/plain": [
       "['Country',\n",
       " 'GDP',\n",
       " 'T',\n",
       " '_AXIS_ALIASES',\n",
       " '_AXIS_IALIASES',\n",
       " '_AXIS_LEN',\n",
       " '_AXIS_NAMES',\n",
       " '_AXIS_NUMBERS',\n",
       " '_AXIS_ORDERS',\n",
       " '_AXIS_REVERSED',\n",
       " '_AXIS_SLICEMAP',\n",
       " '__abs__',\n",
       " '__add__',\n",
       " '__and__',\n",
       " '__array__',\n",
       " '__array_wrap__',\n",
       " '__bool__',\n",
       " '__bytes__',\n",
       " '__class__',\n",
       " '__contains__',\n",
       " '__copy__',\n",
       " '__deepcopy__',\n",
       " '__delattr__',\n",
       " '__delitem__',\n",
       " '__dict__',\n",
       " '__dir__',\n",
       " '__div__',\n",
       " '__doc__',\n",
       " '__eq__',\n",
       " '__finalize__',\n",
       " '__floordiv__',\n",
       " '__format__',\n",
       " '__ge__',\n",
       " '__getattr__',\n",
       " '__getattribute__',\n",
       " '__getitem__',\n",
       " '__getstate__',\n",
       " '__gt__',\n",
       " '__hash__',\n",
       " '__iadd__',\n",
       " '__iand__',\n",
       " '__ifloordiv__',\n",
       " '__imod__',\n",
       " '__imul__',\n",
       " '__init__',\n",
       " '__init_subclass__',\n",
       " '__invert__',\n",
       " '__ior__',\n",
       " '__ipow__',\n",
       " '__isub__',\n",
       " '__iter__',\n",
       " '__itruediv__',\n",
       " '__ixor__',\n",
       " '__le__',\n",
       " '__len__',\n",
       " '__lt__',\n",
       " '__matmul__',\n",
       " '__mod__',\n",
       " '__module__',\n",
       " '__mul__',\n",
       " '__ne__',\n",
       " '__neg__',\n",
       " '__new__',\n",
       " '__nonzero__',\n",
       " '__or__',\n",
       " '__pos__',\n",
       " '__pow__',\n",
       " '__radd__',\n",
       " '__rand__',\n",
       " '__rdiv__',\n",
       " '__reduce__',\n",
       " '__reduce_ex__',\n",
       " '__repr__',\n",
       " '__rfloordiv__',\n",
       " '__rmatmul__',\n",
       " '__rmod__',\n",
       " '__rmul__',\n",
       " '__ror__',\n",
       " '__round__',\n",
       " '__rpow__',\n",
       " '__rsub__',\n",
       " '__rtruediv__',\n",
       " '__rxor__',\n",
       " '__setattr__',\n",
       " '__setitem__',\n",
       " '__setstate__',\n",
       " '__sizeof__',\n",
       " '__str__',\n",
       " '__sub__',\n",
       " '__subclasshook__',\n",
       " '__truediv__',\n",
       " '__unicode__',\n",
       " '__weakref__',\n",
       " '__xor__',\n",
       " '_accessors',\n",
       " '_add_numeric_operations',\n",
       " '_add_series_only_operations',\n",
       " '_add_series_or_dataframe_operations',\n",
       " '_agg_by_level',\n",
       " '_agg_doc',\n",
       " '_aggregate',\n",
       " '_aggregate_multiple_funcs',\n",
       " '_align_frame',\n",
       " '_align_series',\n",
       " '_box_col_values',\n",
       " '_box_item_values',\n",
       " '_builtin_table',\n",
       " '_check_inplace_setting',\n",
       " '_check_is_chained_assignment_possible',\n",
       " '_check_label_or_level_ambiguity',\n",
       " '_check_percentile',\n",
       " '_check_setitem_copy',\n",
       " '_clear_item_cache',\n",
       " '_clip_with_one_bound',\n",
       " '_clip_with_scalar',\n",
       " '_combine_const',\n",
       " '_combine_frame',\n",
       " '_combine_match_columns',\n",
       " '_combine_match_index',\n",
       " '_compare_frame',\n",
       " '_consolidate',\n",
       " '_consolidate_inplace',\n",
       " '_construct_axes_dict',\n",
       " '_construct_axes_dict_for_slice',\n",
       " '_construct_axes_dict_from',\n",
       " '_construct_axes_from_arguments',\n",
       " '_constructor',\n",
       " '_constructor_expanddim',\n",
       " '_constructor_sliced',\n",
       " '_convert',\n",
       " '_count_level',\n",
       " '_create_indexer',\n",
       " '_cython_table',\n",
       " '_deprecations',\n",
       " '_dir_additions',\n",
       " '_dir_deletions',\n",
       " '_drop_axis',\n",
       " '_drop_labels_or_levels',\n",
       " '_ensure_valid_index',\n",
       " '_expand_axes',\n",
       " '_find_valid_index',\n",
       " '_from_arrays',\n",
       " '_from_axes',\n",
       " '_get_agg_axis',\n",
       " '_get_axis',\n",
       " '_get_axis_name',\n",
       " '_get_axis_number',\n",
       " '_get_axis_resolvers',\n",
       " '_get_block_manager_axis',\n",
       " '_get_bool_data',\n",
       " '_get_cacher',\n",
       " '_get_index_resolvers',\n",
       " '_get_item_cache',\n",
       " '_get_label_or_level_values',\n",
       " '_get_numeric_data',\n",
       " '_get_value',\n",
       " '_get_values',\n",
       " '_getitem_array',\n",
       " '_getitem_column',\n",
       " '_getitem_frame',\n",
       " '_getitem_multilevel',\n",
       " '_getitem_slice',\n",
       " '_gotitem',\n",
       " '_iget_item_cache',\n",
       " '_indexed_same',\n",
       " '_info_axis',\n",
       " '_info_axis_name',\n",
       " '_info_axis_number',\n",
       " '_info_repr',\n",
       " '_init_dict',\n",
       " '_init_mgr',\n",
       " '_init_ndarray',\n",
       " '_internal_names',\n",
       " '_internal_names_set',\n",
       " '_is_builtin_func',\n",
       " '_is_cached',\n",
       " '_is_copy',\n",
       " '_is_cython_func',\n",
       " '_is_datelike_mixed_type',\n",
       " '_is_label_or_level_reference',\n",
       " '_is_label_reference',\n",
       " '_is_level_reference',\n",
       " '_is_mixed_type',\n",
       " '_is_numeric_mixed_type',\n",
       " '_is_view',\n",
       " '_ix',\n",
       " '_ixs',\n",
       " '_join_compat',\n",
       " '_maybe_cache_changed',\n",
       " '_maybe_update_cacher',\n",
       " '_metadata',\n",
       " '_needs_reindex_multi',\n",
       " '_obj_with_exclusions',\n",
       " '_protect_consolidate',\n",
       " '_reduce',\n",
       " '_reindex_axes',\n",
       " '_reindex_axis',\n",
       " '_reindex_columns',\n",
       " '_reindex_index',\n",
       " '_reindex_multi',\n",
       " '_reindex_with_indexers',\n",
       " '_repr_data_resource_',\n",
       " '_repr_fits_horizontal_',\n",
       " '_repr_fits_vertical_',\n",
       " '_repr_html_',\n",
       " '_repr_latex_',\n",
       " '_reset_cache',\n",
       " '_reset_cacher',\n",
       " '_sanitize_column',\n",
       " '_selected_obj',\n",
       " '_selection',\n",
       " '_selection_list',\n",
       " '_selection_name',\n",
       " '_series',\n",
       " '_set_as_cached',\n",
       " '_set_axis',\n",
       " '_set_axis_name',\n",
       " '_set_is_copy',\n",
       " '_set_item',\n",
       " '_set_value',\n",
       " '_setitem_array',\n",
       " '_setitem_frame',\n",
       " '_setitem_slice',\n",
       " '_setup_axes',\n",
       " '_shallow_copy',\n",
       " '_slice',\n",
       " '_stat_axis',\n",
       " '_stat_axis_name',\n",
       " '_stat_axis_number',\n",
       " '_take',\n",
       " '_to_dict_of_blocks',\n",
       " '_try_aggregate_string_function',\n",
       " '_typ',\n",
       " '_unpickle_frame_compat',\n",
       " '_unpickle_matrix_compat',\n",
       " '_update_inplace',\n",
       " '_validate_dtype',\n",
       " '_values',\n",
       " '_where',\n",
       " '_xs',\n",
       " 'abs',\n",
       " 'add',\n",
       " 'add_prefix',\n",
       " 'add_suffix',\n",
       " 'agg',\n",
       " 'aggregate',\n",
       " 'align',\n",
       " 'all',\n",
       " 'any',\n",
       " 'append',\n",
       " 'apply',\n",
       " 'applymap',\n",
       " 'as_matrix',\n",
       " 'asfreq',\n",
       " 'asof',\n",
       " 'assign',\n",
       " 'astype',\n",
       " 'at',\n",
       " 'at_time',\n",
       " 'axes',\n",
       " 'between_time',\n",
       " 'bfill',\n",
       " 'bool',\n",
       " 'boxplot',\n",
       " 'clip',\n",
       " 'clip_lower',\n",
       " 'clip_upper',\n",
       " 'columns',\n",
       " 'combine',\n",
       " 'combine_first',\n",
       " 'compound',\n",
       " 'copy',\n",
       " 'corr',\n",
       " 'corrwith',\n",
       " 'count',\n",
       " 'cov',\n",
       " 'cummax',\n",
       " 'cummin',\n",
       " 'cumprod',\n",
       " 'cumsum',\n",
       " 'describe',\n",
       " 'diff',\n",
       " 'div',\n",
       " 'divide',\n",
       " 'dot',\n",
       " 'drop',\n",
       " 'drop_duplicates',\n",
       " 'dropna',\n",
       " 'dtypes',\n",
       " 'duplicated',\n",
       " 'empty',\n",
       " 'eq',\n",
       " 'equals',\n",
       " 'eval',\n",
       " 'ewm',\n",
       " 'expanding',\n",
       " 'ffill',\n",
       " 'fillna',\n",
       " 'filter',\n",
       " 'first',\n",
       " 'first_valid_index',\n",
       " 'floordiv',\n",
       " 'from_dict',\n",
       " 'from_records',\n",
       " 'ftypes',\n",
       " 'ge',\n",
       " 'get',\n",
       " 'get_dtype_counts',\n",
       " 'get_ftype_counts',\n",
       " 'get_values',\n",
       " 'groupby',\n",
       " 'gt',\n",
       " 'head',\n",
       " 'hist',\n",
       " 'iat',\n",
       " 'idxmax',\n",
       " 'idxmin',\n",
       " 'iloc',\n",
       " 'index',\n",
       " 'infer_objects',\n",
       " 'info',\n",
       " 'insert',\n",
       " 'interpolate',\n",
       " 'isin',\n",
       " 'isna',\n",
       " 'isnull',\n",
       " 'items',\n",
       " 'iteritems',\n",
       " 'iterrows',\n",
       " 'itertuples',\n",
       " 'ix',\n",
       " 'join',\n",
       " 'keys',\n",
       " 'kurt',\n",
       " 'kurtosis',\n",
       " 'last',\n",
       " 'last_valid_index',\n",
       " 'le',\n",
       " 'loc',\n",
       " 'lookup',\n",
       " 'lt',\n",
       " 'mad',\n",
       " 'mask',\n",
       " 'max',\n",
       " 'mean',\n",
       " 'median',\n",
       " 'melt',\n",
       " 'memory_usage',\n",
       " 'merge',\n",
       " 'min',\n",
       " 'mod',\n",
       " 'mode',\n",
       " 'mul',\n",
       " 'multiply',\n",
       " 'ndim',\n",
       " 'ne',\n",
       " 'nlargest',\n",
       " 'notna',\n",
       " 'notnull',\n",
       " 'nsmallest',\n",
       " 'nunique',\n",
       " 'pct_change',\n",
       " 'pipe',\n",
       " 'pivot',\n",
       " 'pivot_table',\n",
       " 'plot',\n",
       " 'pop',\n",
       " 'pow',\n",
       " 'prod',\n",
       " 'product',\n",
       " 'quantile',\n",
       " 'query',\n",
       " 'radd',\n",
       " 'rank',\n",
       " 'rdiv',\n",
       " 'reindex',\n",
       " 'reindex_axis',\n",
       " 'reindex_like',\n",
       " 'rename',\n",
       " 'rename_axis',\n",
       " 'reorder_levels',\n",
       " 'replace',\n",
       " 'resample',\n",
       " 'reset_index',\n",
       " 'rfloordiv',\n",
       " 'rmod',\n",
       " 'rmul',\n",
       " 'rolling',\n",
       " 'round',\n",
       " 'rpow',\n",
       " 'rsub',\n",
       " 'rtruediv',\n",
       " 'sample',\n",
       " 'select',\n",
       " 'select_dtypes',\n",
       " 'sem',\n",
       " 'set_axis',\n",
       " 'set_index',\n",
       " 'shape',\n",
       " 'shift',\n",
       " 'size',\n",
       " 'skew',\n",
       " 'slice_shift',\n",
       " 'sort_index',\n",
       " 'sort_values',\n",
       " 'squeeze',\n",
       " 'stack',\n",
       " 'std',\n",
       " 'style',\n",
       " 'sub',\n",
       " 'subtract',\n",
       " 'sum',\n",
       " 'swapaxes',\n",
       " 'swaplevel',\n",
       " 'tail',\n",
       " 'take',\n",
       " 'to_clipboard',\n",
       " 'to_csv',\n",
       " 'to_dense',\n",
       " 'to_dict',\n",
       " 'to_excel',\n",
       " 'to_feather',\n",
       " 'to_gbq',\n",
       " 'to_hdf',\n",
       " 'to_html',\n",
       " 'to_json',\n",
       " 'to_latex',\n",
       " 'to_msgpack',\n",
       " 'to_panel',\n",
       " 'to_parquet',\n",
       " 'to_period',\n",
       " 'to_pickle',\n",
       " 'to_records',\n",
       " 'to_sparse',\n",
       " 'to_sql',\n",
       " 'to_stata',\n",
       " 'to_string',\n",
       " 'to_timestamp',\n",
       " 'to_xarray',\n",
       " 'transform',\n",
       " 'transpose',\n",
       " 'truediv',\n",
       " 'truncate',\n",
       " 'tshift',\n",
       " 'tz_convert',\n",
       " 'tz_localize',\n",
       " 'unstack',\n",
       " 'update',\n",
       " 'values',\n",
       " 'var',\n",
       " 'where',\n",
       " 'xs']"
      ]
     },
     "execution_count": 28,
     "metadata": {},
     "output_type": "execute_result"
    }
   ],
   "source": [
    "# fill NaN, None, empty values in your DF\n",
    "df.fillna(<value_to_be_put>)\n",
    "df.fillna(<value_to_be_put>, inplace=True)\n"
   ]
  },
  {
   "cell_type": "code",
   "execution_count": null,
   "metadata": {},
   "outputs": [],
   "source": []
  }
 ],
 "metadata": {
  "kernelspec": {
   "display_name": "Python 3",
   "language": "python",
   "name": "python3"
  },
  "language_info": {
   "codemirror_mode": {
    "name": "ipython",
    "version": 3
   },
   "file_extension": ".py",
   "mimetype": "text/x-python",
   "name": "python",
   "nbconvert_exporter": "python",
   "pygments_lexer": "ipython3",
   "version": "3.7.1"
  }
 },
 "nbformat": 4,
 "nbformat_minor": 2
}
