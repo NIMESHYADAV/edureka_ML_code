{
 "cells": [
  {
   "cell_type": "markdown",
   "metadata": {},
   "source": [
    "# Data Visualization\n",
    "- Refer this video to see the power of data visualization\n",
    "https://www.ted.com/talks/hans_rosling_shows_the_best_stats_you_ve_ever_seen?language=en"
   ]
  },
  {
   "cell_type": "markdown",
   "metadata": {},
   "source": [
    "```matplotlib``` is a python library. It contains the ```pyplot``` module, which is basically a collection of functions such as ```plot```, ```title```, ```show()``` etc. ```pyplot``` is one of the most commonly used module for creating a variety of plots such as line plots, bar plots, histograms etc. "
   ]
  },
  {
   "cell_type": "markdown",
   "metadata": {},
   "source": [
    "## Line plot\n",
    "when is line plot used:\n",
    "1. A line chart is often used to visualize a trend in data over intervals of time – a time series\n",
    "2. x axis can be timeseries data and y axis as continuous data\n",
    "3. used mainly to see the Trends over time i.e time related continuous data.\n",
    "4. It can also used to compare two quantitative data i.e both x and y axis have numerical data."
   ]
  },
  {
   "cell_type": "code",
   "execution_count": 2,
   "metadata": {},
   "outputs": [
    {
     "data": {
      "text/plain": [
       "[<matplotlib.lines.Line2D at 0x119290128>]"
      ]
     },
     "execution_count": 2,
     "metadata": {},
     "output_type": "execute_result"
    }
   ],
   "source": [
    "### Line plot of two continuous values\n",
    "import numpy as np\n",
    "import pandas as pd\n",
    "import matplotlib.pyplot as plt\n",
    "\n",
    "# Plotting two 1-D numpy arrays or two DataFrame columns\n",
    "# returns an array of equally spaced values\n",
    "# numpy.linspace(start, stop, no_of_values)\n",
    "x = np.linspace(5, 100, 200)\n",
    "y = np.linspace(10, 2000, 200)\n",
    "\n",
    "#help(np.linspace)\n",
    "plt.plot(x,y)"
   ]
  },
  {
   "cell_type": "code",
   "execution_count": 3,
   "metadata": {},
   "outputs": [],
   "source": [
    "### Line plot of 1 numerical and 1 categorical data\n"
   ]
  },
  {
   "cell_type": "code",
   "execution_count": null,
   "metadata": {},
   "outputs": [],
   "source": []
  },
  {
   "cell_type": "code",
   "execution_count": null,
   "metadata": {},
   "outputs": [],
   "source": []
  },
  {
   "cell_type": "markdown",
   "metadata": {},
   "source": [
    "- plt.plot() - Create a plot object \n",
    "- plt.show()- Explicit command required to display the plot object\n",
    "- plt.xlabel(), plt.ylabel()- Specify labels for the X and Y axis respectively.\n",
    "- plt.title()- Add a title to the plot object"
   ]
  },
  {
   "cell_type": "markdown",
   "metadata": {},
   "source": [
    "## Figures and Subplots\n",
    "\n",
    "You often need to create multiple plots in the same figure, as we'll see in some upcoming examples.\n",
    "\n",
    "\n",
    "```matplotlib``` has the concept of **figures and subplots** using which you can create *multiple subplots inside the same figure*.   \n",
    "\n",
    "To create multiple plots in the same figure, you can use the method ```plt.subplot(nrows, ncols, nsubplot)```.\n",
    "the numbering starts from the top left element, and moves rightward along each row, and then goes to the next row.\n",
    "\n",
    "**example**: numpy.subplot(2,2,1)\n",
    "Understand 2,2 as an array of two rows and two columns and in each cell there is going to be one sub-plot and the last number is 1 is the sequence number of the sub-plot"
   ]
  },
  {
   "cell_type": "code",
   "execution_count": 4,
   "metadata": {},
   "outputs": [
    {
     "data": {
      "image/png": "[encoded data removed]",
      "text/plain": [
       "<Figure size 504x504 with 3 Axes>"
      ]
     },
     "metadata": {
      "needs_background": "light"
     },
     "output_type": "display_data"
    }
   ],
   "source": [
    "x = np.linspace(1,101,100)\n",
    "y = np.log(x)\n",
    "\n",
    "# to choose the size the of plot\n",
    "plt.figure(figsize=(7,7))\n",
    "plt.subplot(2,2,1)  # 1 means first plot\n",
    "plt.plot(x,y)\n",
    "\n",
    "plt.subplot(2,2,2)  # last 2 means second plot\n",
    "plt.plot(x, y**2)\n",
    "\n",
    "plt.subplot(2,2,3)  # last 2 means second plot\n",
    "plt.plot(x, y**3)\n",
    "plt.show()"
   ]
  },
  {
   "cell_type": "markdown",
   "metadata": {},
   "source": [
    "## Types of Commonly Used Plots\n",
    "\n",
    "Let's now use the retail store's sales data to create some commonly use plots such as:\n",
    "- Boxplots\n",
    "- Histograms\n",
    "- Scatter plots\n",
    "- Bar plots"
   ]
  },
  {
   "cell_type": "markdown",
   "metadata": {},
   "source": [
    "## Box plot\n",
    "- used to see the spread of the data\n",
    "- can see outliers using it, outlier means values being very large or small in comparison to rest of the values.\n",
    "- visualize the quartiles i.e 25% , 50%(median), 75% and maximum value\n",
    "- Used to visualise the variance in the data, as well as to find information on what proportion of the data is above and below the median value.\n",
    "## Details about the box plot:\n",
    "1. Lower line of the box plot is first quartile\n",
    "2. line between is the median value i.e 2nd quartile\n",
    "3. upper line of the box plot if 3rd quartile\n",
    "4. values below and above the lower and upper whiskers are called outliers\n"
   ]
  },
  {
   "cell_type": "code",
   "execution_count": 5,
   "metadata": {},
   "outputs": [
    {
     "data": {
      "text/html": [
       "<div>\n",
       "<style scoped>\n",
       "    .dataframe tbody tr th:only-of-type {\n",
       "        vertical-align: middle;\n",
       "    }\n",
       "\n",
       "    .dataframe tbody tr th {\n",
       "        vertical-align: top;\n",
       "    }\n",
       "\n",
       "    .dataframe thead th {\n",
       "        text-align: right;\n",
       "    }\n",
       "</style>\n",
       "<table border=\"1\" class=\"dataframe\">\n",
       "  <thead>\n",
       "    <tr style=\"text-align: right;\">\n",
       "      <th></th>\n",
       "      <th>Ord_id</th>\n",
       "      <th>Prod_id</th>\n",
       "      <th>Ship_id</th>\n",
       "      <th>Cust_id</th>\n",
       "      <th>Sales</th>\n",
       "      <th>Discount</th>\n",
       "      <th>Order_Quantity</th>\n",
       "      <th>Profit</th>\n",
       "      <th>Shipping_Cost</th>\n",
       "      <th>Product_Base_Margin</th>\n",
       "    </tr>\n",
       "  </thead>\n",
       "  <tbody>\n",
       "    <tr>\n",
       "      <th>0</th>\n",
       "      <td>Ord_5446</td>\n",
       "      <td>Prod_16</td>\n",
       "      <td>SHP_7609</td>\n",
       "      <td>Cust_1818</td>\n",
       "      <td>136.81</td>\n",
       "      <td>0.01</td>\n",
       "      <td>23</td>\n",
       "      <td>-30.51</td>\n",
       "      <td>3.60</td>\n",
       "      <td>0.56</td>\n",
       "    </tr>\n",
       "    <tr>\n",
       "      <th>1</th>\n",
       "      <td>Ord_5406</td>\n",
       "      <td>Prod_13</td>\n",
       "      <td>SHP_7549</td>\n",
       "      <td>Cust_1818</td>\n",
       "      <td>42.27</td>\n",
       "      <td>0.01</td>\n",
       "      <td>13</td>\n",
       "      <td>4.56</td>\n",
       "      <td>0.93</td>\n",
       "      <td>0.54</td>\n",
       "    </tr>\n",
       "    <tr>\n",
       "      <th>2</th>\n",
       "      <td>Ord_5446</td>\n",
       "      <td>Prod_4</td>\n",
       "      <td>SHP_7610</td>\n",
       "      <td>Cust_1818</td>\n",
       "      <td>4701.69</td>\n",
       "      <td>0.00</td>\n",
       "      <td>26</td>\n",
       "      <td>1148.90</td>\n",
       "      <td>2.50</td>\n",
       "      <td>0.59</td>\n",
       "    </tr>\n",
       "    <tr>\n",
       "      <th>3</th>\n",
       "      <td>Ord_5456</td>\n",
       "      <td>Prod_6</td>\n",
       "      <td>SHP_7625</td>\n",
       "      <td>Cust_1818</td>\n",
       "      <td>2337.89</td>\n",
       "      <td>0.09</td>\n",
       "      <td>43</td>\n",
       "      <td>729.34</td>\n",
       "      <td>14.30</td>\n",
       "      <td>0.37</td>\n",
       "    </tr>\n",
       "    <tr>\n",
       "      <th>4</th>\n",
       "      <td>Ord_5485</td>\n",
       "      <td>Prod_17</td>\n",
       "      <td>SHP_7664</td>\n",
       "      <td>Cust_1818</td>\n",
       "      <td>4233.15</td>\n",
       "      <td>0.08</td>\n",
       "      <td>35</td>\n",
       "      <td>1219.87</td>\n",
       "      <td>26.30</td>\n",
       "      <td>0.38</td>\n",
       "    </tr>\n",
       "  </tbody>\n",
       "</table>\n",
       "</div>"
      ],
      "text/plain": [
       "     Ord_id  Prod_id   Ship_id    Cust_id    Sales  Discount  Order_Quantity  \\\n",
       "0  Ord_5446  Prod_16  SHP_7609  Cust_1818   136.81      0.01              23   \n",
       "1  Ord_5406  Prod_13  SHP_7549  Cust_1818    42.27      0.01              13   \n",
       "2  Ord_5446   Prod_4  SHP_7610  Cust_1818  4701.69      0.00              26   \n",
       "3  Ord_5456   Prod_6  SHP_7625  Cust_1818  2337.89      0.09              43   \n",
       "4  Ord_5485  Prod_17  SHP_7664  Cust_1818  4233.15      0.08              35   \n",
       "\n",
       "    Profit  Shipping_Cost  Product_Base_Margin  \n",
       "0   -30.51           3.60                 0.56  \n",
       "1     4.56           0.93                 0.54  \n",
       "2  1148.90           2.50                 0.59  \n",
       "3   729.34          14.30                 0.37  \n",
       "4  1219.87          26.30                 0.38  "
      ]
     },
     "execution_count": 5,
     "metadata": {},
     "output_type": "execute_result"
    }
   ],
   "source": [
    "# Example: Globals sales data\n",
    "df = pd.read_csv(\"./global_sales_data/market_fact.csv\")\n",
    "df.head()"
   ]
  },
  {
   "cell_type": "code",
   "execution_count": 7,
   "metadata": {},
   "outputs": [
    {
     "data": {
      "image/png": "[encoded data removed]",
      "text/plain": [
       "<Figure size 432x288 with 1 Axes>"
      ]
     },
     "metadata": {
      "needs_background": "light"
     },
     "output_type": "display_data"
    }
   ],
   "source": [
    "# minumum value, 1st quartile, 2nd Quartile, 3rd quartile and maximum\n",
    "plt.boxplot(df['Order_Quantity'])\n",
    "plt.show()"
   ]
  },
  {
   "cell_type": "code",
   "execution_count": 9,
   "metadata": {},
   "outputs": [
    {
     "data": {
      "text/plain": [
       "count    8399.000000\n",
       "mean       25.571735\n",
       "std        14.481071\n",
       "min         1.000000\n",
       "25%        13.000000\n",
       "50%        26.000000\n",
       "75%        38.000000\n",
       "max        50.000000\n",
       "Name: Order_Quantity, dtype: float64"
      ]
     },
     "execution_count": 9,
     "metadata": {},
     "output_type": "execute_result"
    }
   ],
   "source": [
    "df['Order_Quantity'].describe()"
   ]
  },
  {
   "cell_type": "code",
   "execution_count": 20,
   "metadata": {},
   "outputs": [
    {
     "data": {
      "image/png": "[encoded data removed]",
      "text/plain": [
       "<Figure size 432x288 with 1 Axes>"
      ]
     },
     "metadata": {
      "needs_background": "light"
     },
     "output_type": "display_data"
    }
   ],
   "source": [
    "# Boxplot of Sales is quite unreadable, since Sales varies \n",
    "# across a wide range\n",
    "plt.boxplot(df['Sales'])\n",
    "plt.show()"
   ]
  },
  {
   "cell_type": "markdown",
   "metadata": {},
   "source": [
    "As you can see, the boxplot of Sales is pretty unreadable, since Sales varies across a wide range as shown below."
   ]
  },
  {
   "cell_type": "code",
   "execution_count": 21,
   "metadata": {},
   "outputs": [
    {
     "data": {
      "text/plain": [
       "count     8399.000000\n",
       "mean      1775.878179\n",
       "std       3585.050525\n",
       "min          2.240000\n",
       "25%        143.195000\n",
       "50%        449.420000\n",
       "75%       1709.320000\n",
       "max      89061.050000\n",
       "Name: Sales, dtype: float64"
      ]
     },
     "execution_count": 21,
     "metadata": {},
     "output_type": "execute_result"
    }
   ],
   "source": [
    "# Range of sales: min is 2.24, median is 449, max is 89061\n",
    "df['Sales'].describe()"
   ]
  },
  {
   "cell_type": "markdown",
   "metadata": {},
   "source": [
    "The solution to this problem is to **change the scale of the axis** (in this case, the y axis) so that the range can fit into the size of the plot.\n",
    "\n",
    "\n",
    "One commonly used technique is to transform an axis into the **logarithmic scale**. You can transform the scale of an axis using ```plt.yscale('log')```."
   ]
  },
  {
   "cell_type": "code",
   "execution_count": 19,
   "metadata": {},
   "outputs": [
    {
     "data": {
      "image/png": "[encoded data removed]",
      "text/plain": [
       "<Figure size 432x288 with 2 Axes>"
      ]
     },
     "metadata": {
      "needs_background": "light"
     },
     "output_type": "display_data"
    }
   ],
   "source": [
    "# Usual (linear) scale subplot\n",
    "plt.subplot(1, 2, 1)\n",
    "plt.boxplot(df['Sales'])\n",
    "\n",
    "\n",
    "# log scale subplot\n",
    "plt.subplot(1, 2, 2)\n",
    "plt.boxplot(df['Sales'])\n",
    "plt.yscale('log')\n",
    "plt.show()"
   ]
  },
  {
   "cell_type": "markdown",
   "metadata": {},
   "source": [
    "Clearly, the log scale subplot is far more readable - you can infer that the minimum sales is around 0, the median is approximtely in the middle of 100 and 1000, and the max is reaching 100,000."
   ]
  },
  {
   "cell_type": "markdown",
   "metadata": {},
   "source": [
    "## Histogram\n",
    "A histogram is a plot that **shows, the underlying frequency distribution of a set of continuous data**. This allows the inspection of the data for its underlying distribution (e.g., normal distribution), outliers, skewness, etc\n",
    "\n",
    "Displays frequency distribution of a single variable. Used to see what fraction of data is around which values.\n",
    "\n",
    "**bins** : bucketing the data into range of values ex:salary range 10k to 40k , 40k to 80k, 80k to 150k so all these are bins.\n",
    "\n",
    "\n",
    "\n",
    "\n"
   ]
  },
  {
   "cell_type": "code",
   "execution_count": 41,
   "metadata": {},
   "outputs": [
    {
     "data": {
      "image/png": "[encoded data removed]",
      "text/plain": [
       "<Figure size 432x288 with 1 Axes>"
      ]
     },
     "metadata": {
      "needs_background": "light"
     },
     "output_type": "display_data"
    }
   ],
   "source": [
    "# Case 1: default bin count is 10\n",
    "\n",
    "plt.hist(df['Discount'])\n",
    "plt.show()\n"
   ]
  },
  {
   "cell_type": "code",
   "execution_count": 47,
   "metadata": {},
   "outputs": [
    {
     "data": {
      "image/png": "[encoded data removed]",
      "text/plain": [
       "<Figure size 432x288 with 1 Axes>"
      ]
     },
     "metadata": {
      "needs_background": "light"
     },
     "output_type": "display_data"
    }
   ],
   "source": [
    "# Case 2: choosing our bin values.\n",
    "\n",
    "plt.hist(df['Discount'], bins=[0.0, 0.05, 0.1, 0.15, 0.2])\n",
    "plt.show()\n",
    "\n",
    "# so here we have chosen 4 bins\n",
    "# bin 1: 0.0 - 0.05\n",
    "# bin 2: 0.0 - 0.1\n",
    "# bin 3: 0.1 - 0.15\n",
    "# bin 4: 0.15 - 0.20\n",
    "\n",
    "# BUT due to no spacing between the bars we are not able to see properly"
   ]
  },
  {
   "cell_type": "code",
   "execution_count": 49,
   "metadata": {},
   "outputs": [
    {
     "data": {
      "image/png": "[encoded data removed]",
      "text/plain": [
       "<Figure size 432x288 with 1 Axes>"
      ]
     },
     "metadata": {
      "needs_background": "light"
     },
     "output_type": "display_data"
    }
   ],
   "source": [
    "# adding spacing between the bars\n",
    "# 'rwidth' param\n",
    "\n",
    "plt.hist(df['Discount'],\n",
    "         bins=[0.0, 0.05, 0.1, 0.15, 0.2],\n",
    "        rwidth=0.95)\n",
    "\n",
    "plt.xlabel(\"Discount\")\n",
    "plt.title(\"Discount Histogram\")\n",
    "plt.show()"
   ]
  },
  {
   "cell_type": "markdown",
   "metadata": {},
   "source": [
    "###  Is height of bar a frequency of values ?\n",
    "Ans: Not necessarily \n",
    "Height of bars would be frequency of values only when the bins are equally spaced and if bins are not equally spaced then instead of height the area under the each bin would be the frequency of each bin.\n",
    "\n",
    "Refer this link: https://statistics.laerd.com/statistical-guides/understanding-histograms.php"
   ]
  },
  {
   "cell_type": "code",
   "execution_count": null,
   "metadata": {},
   "outputs": [],
   "source": []
  }
 ],
 "metadata": {
  "kernelspec": {
   "display_name": "Python 3",
   "language": "python",
   "name": "python3"
  },
  "language_info": {
   "codemirror_mode": {
    "name": "ipython",
    "version": 3
   },
   "file_extension": ".py",
   "mimetype": "text/x-python",
   "name": "python",
   "nbconvert_exporter": "python",
   "pygments_lexer": "ipython3",
   "version": "3.7.3"
  }
 },
 "nbformat": 4,
 "nbformat_minor": 2
}
