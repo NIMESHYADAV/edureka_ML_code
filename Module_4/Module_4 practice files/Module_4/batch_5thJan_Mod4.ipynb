{
 "cells": [
  {
   "cell_type": "markdown",
   "metadata": {},
   "source": [
    "# Numpy"
   ]
  },
  {
   "cell_type": "code",
   "execution_count": 1,
   "metadata": {},
   "outputs": [
    {
     "name": "stdout",
     "output_type": "stream",
     "text": [
      "[11 22 33]\n",
      "<class 'numpy.ndarray'>\n"
     ]
    }
   ],
   "source": [
    "import numpy as np\n",
    "arr = np.array([11, 22, 33])\n",
    "print(arr)\n",
    "print(type(arr)) # 1D array"
   ]
  },
  {
   "cell_type": "code",
   "execution_count": 2,
   "metadata": {},
   "outputs": [
    {
     "data": {
      "text/plain": [
       "array([[11, 22],\n",
       "       [33, 44]])"
      ]
     },
     "execution_count": 2,
     "metadata": {},
     "output_type": "execute_result"
    }
   ],
   "source": [
    "# 2D array\n",
    "arr = np.array([[11,22], [33,44]])\n",
    "arr"
   ]
  },
  {
   "cell_type": "code",
   "execution_count": 3,
   "metadata": {},
   "outputs": [
    {
     "data": {
      "text/plain": [
       "[1, 2, 3, 4, 5, 6, 7, 8, 9]"
      ]
     },
     "execution_count": 3,
     "metadata": {},
     "output_type": "execute_result"
    }
   ],
   "source": [
    "list(range(1,10))"
   ]
  },
  {
   "cell_type": "code",
   "execution_count": 4,
   "metadata": {},
   "outputs": [
    {
     "data": {
      "text/plain": [
       "array([10, 11, 12, 13, 14, 15, 16, 17, 18, 19, 20, 21, 22, 23, 24, 25, 26,\n",
       "       27, 28, 29, 30, 31, 32, 33, 34, 35, 36, 37, 38, 39, 40, 41, 42, 43,\n",
       "       44, 45, 46, 47, 48, 49, 50, 51, 52, 53, 54, 55, 56, 57, 58, 59, 60,\n",
       "       61, 62, 63, 64, 65, 66, 67, 68, 69, 70, 71, 72, 73, 74, 75, 76, 77,\n",
       "       78, 79, 80, 81, 82, 83, 84, 85, 86, 87, 88, 89, 90, 91, 92, 93, 94,\n",
       "       95, 96, 97, 98, 99])"
      ]
     },
     "execution_count": 4,
     "metadata": {},
     "output_type": "execute_result"
    }
   ],
   "source": [
    "np.arange(10, 100)  # arange(start,stop)"
   ]
  },
  {
   "cell_type": "code",
   "execution_count": 6,
   "metadata": {},
   "outputs": [
    {
     "name": "stdout",
     "output_type": "stream",
     "text": [
      "[0. 0. 0. 0. 0. 0.]\n",
      "float64\n"
     ]
    }
   ],
   "source": [
    "# array of zeros\n",
    "arr = np.zeros(6)\n",
    "print(arr)\n",
    "print(arr.dtype)"
   ]
  },
  {
   "cell_type": "code",
   "execution_count": 7,
   "metadata": {},
   "outputs": [
    {
     "name": "stdout",
     "output_type": "stream",
     "text": [
      "[[0. 0. 0. 0.]\n",
      " [0. 0. 0. 0.]\n",
      " [0. 0. 0. 0.]]\n"
     ]
    }
   ],
   "source": [
    "# 2D array of zeros np.zeros((n_rows, n_cols))\n",
    "arr = np.zeros((3,4))\n",
    "print(arr)"
   ]
  },
  {
   "cell_type": "code",
   "execution_count": 8,
   "metadata": {},
   "outputs": [
    {
     "data": {
      "text/plain": [
       "array([ 0.,  5., 10., 15., 20.])"
      ]
     },
     "execution_count": 8,
     "metadata": {},
     "output_type": "execute_result"
    }
   ],
   "source": [
    "# creating a linearly spaced vector\n",
    "# linspace(start,stop,count)\n",
    "np.linspace(0,20,5)"
   ]
  },
  {
   "cell_type": "code",
   "execution_count": 9,
   "metadata": {},
   "outputs": [
    {
     "data": {
      "text/plain": [
       "array([ 0.        ,  6.66666667, 13.33333333, 20.        ])"
      ]
     },
     "execution_count": 9,
     "metadata": {},
     "output_type": "execute_result"
    }
   ],
   "source": [
    "np.linspace(0,20,4)"
   ]
  },
  {
   "cell_type": "code",
   "execution_count": 10,
   "metadata": {},
   "outputs": [
    {
     "data": {
      "text/plain": [
       "array([ 0.        ,  2.22222222,  4.44444444,  6.66666667,  8.88888889,\n",
       "       11.11111111, 13.33333333, 15.55555556, 17.77777778, 20.        ])"
      ]
     },
     "execution_count": 10,
     "metadata": {},
     "output_type": "execute_result"
    }
   ],
   "source": [
    "np.linspace(0,20,10)"
   ]
  },
  {
   "cell_type": "code",
   "execution_count": 13,
   "metadata": {},
   "outputs": [
    {
     "data": {
      "text/plain": [
       "array([], dtype=float64)"
      ]
     },
     "execution_count": 13,
     "metadata": {},
     "output_type": "execute_result"
    }
   ],
   "source": [
    "# empty array\n",
    "np.array([])"
   ]
  },
  {
   "cell_type": "code",
   "execution_count": 14,
   "metadata": {},
   "outputs": [
    {
     "data": {
      "text/plain": [
       "array([1, 2, 3, 4])"
      ]
     },
     "execution_count": 14,
     "metadata": {},
     "output_type": "execute_result"
    }
   ],
   "source": [
    "# creating arrays from existing data\n",
    "a = [1,2,3,4]\n",
    "arr = np.asarray(a)\n",
    "arr"
   ]
  },
  {
   "cell_type": "code",
   "execution_count": 19,
   "metadata": {},
   "outputs": [
    {
     "name": "stdout",
     "output_type": "stream",
     "text": [
      "[1 2 3 4]\n",
      "int8\n"
     ]
    }
   ],
   "source": [
    "# how to give dtype to an array\n",
    "arr = np.array([1,2,3,4],dtype=np.int8)\n",
    "print(arr)\n",
    "print(arr.dtype)"
   ]
  },
  {
   "cell_type": "code",
   "execution_count": 20,
   "metadata": {},
   "outputs": [
    {
     "name": "stdout",
     "output_type": "stream",
     "text": [
      "[1. 2. 3. 4.]\n",
      "float64\n"
     ]
    }
   ],
   "source": [
    "# use float\n",
    "arr = np.array([1,2,3,4],dtype=float)\n",
    "print(arr)\n",
    "print(arr.dtype)"
   ]
  },
  {
   "cell_type": "code",
   "execution_count": 22,
   "metadata": {},
   "outputs": [
    {
     "name": "stdout",
     "output_type": "stream",
     "text": [
      "[0. 0. 0. 0. 0. 0. 0. 0.]\n",
      "[[[0. 0.]\n",
      "  [0. 0.]]\n",
      "\n",
      " [[0. 0.]\n",
      "  [0. 0.]]]\n"
     ]
    }
   ],
   "source": [
    "# restructure a numpy array\n",
    "arr_1D = np.zeros(8)\n",
    "print(arr_1D)\n",
    "\n",
    "# convert this 1D array to 3D array\n",
    "arr_3D = arr_1D.reshape((2,2,2))\n",
    "print(arr_3D)"
   ]
  },
  {
   "cell_type": "code",
   "execution_count": 24,
   "metadata": {},
   "outputs": [
    {
     "name": "stdout",
     "output_type": "stream",
     "text": [
      "[0. 0. 0. 0. 0. 0. 0. 0.]\n",
      "[[[0. 0.]\n",
      "  [0. 0.]]\n",
      "\n",
      " [[0. 0.]\n",
      "  [0. 0.]]]\n",
      "Flattened array\n",
      "[0. 0. 0. 0. 0. 0. 0. 0.]\n"
     ]
    }
   ],
   "source": [
    "# flatten the array\n",
    "arr_1D = np.zeros(8)\n",
    "print(arr_1D)\n",
    "# convert this 1D array to 3D array\n",
    "arr_3D = arr_1D.reshape((2,2,2))\n",
    "print(arr_3D)\n",
    "# convert the 3D array back to 1D array\n",
    "arr = arr_3D.ravel()\n",
    "print(\"Flattened array\")\n",
    "print(arr)"
   ]
  },
  {
   "cell_type": "code",
   "execution_count": 26,
   "metadata": {},
   "outputs": [
    {
     "name": "stdout",
     "output_type": "stream",
     "text": [
      "[[0. 0.]\n",
      " [0. 0.]\n",
      " [0. 0.]\n",
      " [0. 0.]]\n"
     ]
    }
   ],
   "source": [
    "arr_1D = np.zeros(8)\n",
    "\n",
    "arr_2d = arr_1D.reshape((4,2))\n",
    "print(arr_2d)"
   ]
  },
  {
   "cell_type": "code",
   "execution_count": 30,
   "metadata": {},
   "outputs": [
    {
     "name": "stdout",
     "output_type": "stream",
     "text": [
      "[[11 22]\n",
      " [33 44]\n",
      " [55 66]\n",
      " [77 88]]\n"
     ]
    }
   ],
   "source": [
    "arr_1D = np.array([11, 22, 33, 44, 55, 66, 77, 88])\n",
    "\n",
    "arr_2d = arr_1D.reshape((4,2))\n",
    "print(arr_2d)"
   ]
  },
  {
   "cell_type": "code",
   "execution_count": 32,
   "metadata": {},
   "outputs": [
    {
     "name": "stdout",
     "output_type": "stream",
     "text": [
      "a.reshape(shape, order='C')\n",
      "\n",
      "    Returns an array containing the same data with a new shape.\n",
      "\n",
      "    Refer to `numpy.reshape` for full documentation.\n",
      "\n",
      "    See Also\n",
      "    --------\n",
      "    numpy.reshape : equivalent function\n",
      "\n",
      "    Notes\n",
      "    -----\n",
      "    Unlike the free function `numpy.reshape`, this method on `ndarray` allows\n",
      "    the elements of the shape parameter to be passed in as separate arguments.\n",
      "    For example, ``a.reshape(10, 11)`` is equivalent to\n",
      "    ``a.reshape((10, 11))``.\n"
     ]
    }
   ],
   "source": [
    "print(arr_1D.reshape.__doc__)"
   ]
  },
  {
   "cell_type": "markdown",
   "metadata": {},
   "source": [
    "## Indexing"
   ]
  },
  {
   "cell_type": "code",
   "execution_count": 34,
   "metadata": {},
   "outputs": [
    {
     "name": "stdout",
     "output_type": "stream",
     "text": [
      "[ 2  3  4  5  6  7  8  9 10 11 12 13 14 15 16 17 18 19]\n",
      "2\n"
     ]
    }
   ],
   "source": [
    "arr = np.arange(2,20)\n",
    "print(arr)\n"
   ]
  },
  {
   "cell_type": "code",
   "execution_count": 35,
   "metadata": {},
   "outputs": [
    {
     "name": "stdout",
     "output_type": "stream",
     "text": [
      "2\n"
     ]
    }
   ],
   "source": [
    "print(arr[0])  # first value"
   ]
  },
  {
   "cell_type": "code",
   "execution_count": 36,
   "metadata": {},
   "outputs": [
    {
     "data": {
      "text/plain": [
       "19"
      ]
     },
     "execution_count": 36,
     "metadata": {},
     "output_type": "execute_result"
    }
   ],
   "source": [
    "arr[-1]"
   ]
  },
  {
   "cell_type": "code",
   "execution_count": 39,
   "metadata": {},
   "outputs": [
    {
     "name": "stdout",
     "output_type": "stream",
     "text": [
      "[[11 22]\n",
      " [33 44]]\n",
      "22\n",
      "22\n"
     ]
    }
   ],
   "source": [
    "# indexing for 2D array\n",
    "arr = np.array([[11,22],[33,44]])\n",
    "print(arr)\n",
    "print(arr[0][1])  # means first row and second column\n",
    "print(arr[0,1])   # same result"
   ]
  },
  {
   "cell_type": "markdown",
   "metadata": {},
   "source": [
    "## Slicing\n",
    "- same as list/tuple/strings\n",
    "- arr[start:stop:step]"
   ]
  },
  {
   "cell_type": "code",
   "execution_count": 41,
   "metadata": {},
   "outputs": [
    {
     "data": {
      "text/plain": [
       "array([ 1,  2,  3,  4,  5,  6,  7,  8,  9, 10, 11, 12, 13, 14, 15, 16, 17,\n",
       "       18, 19])"
      ]
     },
     "execution_count": 41,
     "metadata": {},
     "output_type": "execute_result"
    }
   ],
   "source": [
    "arr = np.arange(1,20)\n",
    "arr"
   ]
  },
  {
   "cell_type": "code",
   "execution_count": 42,
   "metadata": {},
   "outputs": [
    {
     "data": {
      "text/plain": [
       "array([ 3,  4,  5,  6,  7,  8,  9, 10])"
      ]
     },
     "execution_count": 42,
     "metadata": {},
     "output_type": "execute_result"
    }
   ],
   "source": [
    "arr[2:10]  # same as list"
   ]
  },
  {
   "cell_type": "code",
   "execution_count": 43,
   "metadata": {},
   "outputs": [
    {
     "data": {
      "text/plain": [
       "array([1, 2, 3, 4])"
      ]
     },
     "execution_count": 43,
     "metadata": {},
     "output_type": "execute_result"
    }
   ],
   "source": [
    "arr[:4]  # arr[0], arr[1], arr[2], arr[3]"
   ]
  },
  {
   "cell_type": "code",
   "execution_count": 44,
   "metadata": {},
   "outputs": [
    {
     "data": {
      "text/plain": [
       "array([ 6,  7,  8,  9, 10, 11, 12, 13, 14, 15, 16, 17, 18, 19])"
      ]
     },
     "execution_count": 44,
     "metadata": {},
     "output_type": "execute_result"
    }
   ],
   "source": [
    "arr[5:]  # means fro index 5 till the end of that array"
   ]
  },
  {
   "cell_type": "code",
   "execution_count": 45,
   "metadata": {},
   "outputs": [
    {
     "data": {
      "text/plain": [
       "array([ 2,  5,  8, 11, 14, 17, 20, 23, 26, 29, 32, 35, 38])"
      ]
     },
     "execution_count": 45,
     "metadata": {},
     "output_type": "execute_result"
    }
   ],
   "source": [
    "# method 2 for slicing: slice object\n",
    "# slice(start,stop,step)\n",
    "arr = np.arange(2,40,3)\n",
    "arr"
   ]
  },
  {
   "cell_type": "code",
   "execution_count": 46,
   "metadata": {},
   "outputs": [
    {
     "data": {
      "text/plain": [
       "array([ 5, 14, 23])"
      ]
     },
     "execution_count": 46,
     "metadata": {},
     "output_type": "execute_result"
    }
   ],
   "source": [
    "# creating a slice object which can be reused\n",
    "arr_slice = slice(1, 9, 3)  # value at index 1, 4, 7\n",
    "arr[arr_slice]"
   ]
  },
  {
   "cell_type": "markdown",
   "metadata": {},
   "source": [
    "## slicing in multi-dimensional array"
   ]
  },
  {
   "cell_type": "code",
   "execution_count": 51,
   "metadata": {},
   "outputs": [
    {
     "name": "stdout",
     "output_type": "stream",
     "text": [
      "[[ 11  22  33  44  55]\n",
      " [ 66  77  88  99   0]\n",
      " [ 12  13  14  15  16]\n",
      " [ 17  18  19  20  21]\n",
      " [201 202 203 204 205]]\n"
     ]
    }
   ],
   "source": [
    "arr = np.array([[11,22,33,44,55],[66,77,88,99,0],[12,13,14,15,16],\n",
    "               [17,18,19,20,21],[201,202,203,204,205]])\n",
    "print(arr)"
   ]
  },
  {
   "cell_type": "code",
   "execution_count": 52,
   "metadata": {},
   "outputs": [
    {
     "data": {
      "text/plain": [
       "array([[11, 22],\n",
       "       [66, 77],\n",
       "       [12, 13]])"
      ]
     },
     "execution_count": 52,
     "metadata": {},
     "output_type": "execute_result"
    }
   ],
   "source": [
    "# slicing\n",
    "# # arr[row_slice, column_slice]\n",
    "arr[0:3, 0:2]"
   ]
  },
  {
   "cell_type": "code",
   "execution_count": 56,
   "metadata": {},
   "outputs": [
    {
     "name": "stdout",
     "output_type": "stream",
     "text": [
      "[ 2  5  8 11 14 17 20 23 26 29 32 35 38]\n",
      "[ 5 14 23]\n"
     ]
    }
   ],
   "source": [
    "# accessing multiple values at same type using indexing\n",
    "arr = np.arange(2,40,3)\n",
    "print(arr)\n",
    "print(arr[[1,4,7]])"
   ]
  },
  {
   "cell_type": "markdown",
   "metadata": {},
   "source": [
    "## Numpy array attributes"
   ]
  },
  {
   "cell_type": "code",
   "execution_count": 62,
   "metadata": {},
   "outputs": [
    {
     "name": "stdout",
     "output_type": "stream",
     "text": [
      "[[1 2]\n",
      " [3 4]\n",
      " [5 6]]\n",
      "Shape: (3, 2)\n",
      "Dimensions: 2\n",
      "itemsize: 8\n"
     ]
    }
   ],
   "source": [
    "import numpy as np\n",
    "arr = np.array([[1,2],[3,4],[5,6]])\n",
    "print(arr)\n",
    "print(\"Shape:\",arr.shape)\n",
    "print(\"Dimensions:\", arr.ndim) # length of the shape\n",
    "print(\"itemsize:\", arr.itemsize) # bytes occupied by eac element"
   ]
  },
  {
   "cell_type": "code",
   "execution_count": 64,
   "metadata": {},
   "outputs": [
    {
     "data": {
      "text/plain": [
       "array([[4.9e-324, 9.9e-324],\n",
       "       [1.5e-323, 2.0e-323],\n",
       "       [2.5e-323, 3.0e-323]])"
      ]
     },
     "execution_count": 64,
     "metadata": {},
     "output_type": "execute_result"
    }
   ],
   "source": [
    "# empty array creates an array with junk values\n",
    "np.empty([3,2])"
   ]
  },
  {
   "cell_type": "code",
   "execution_count": 66,
   "metadata": {},
   "outputs": [
    {
     "data": {
      "text/plain": [
       "array([[1, 2],\n",
       "       [3, 4],\n",
       "       [5, 6]])"
      ]
     },
     "execution_count": 66,
     "metadata": {},
     "output_type": "execute_result"
    }
   ],
   "source": [
    "np.empty([3,2], dtype=int)"
   ]
  },
  {
   "cell_type": "markdown",
   "metadata": {},
   "source": [
    "## loading data from text file to an array"
   ]
  },
  {
   "cell_type": "code",
   "execution_count": 68,
   "metadata": {},
   "outputs": [
    {
     "name": "stdout",
     "output_type": "stream",
     "text": [
      "[[1 2 3 4 5 6 7]\n",
      " [2 3 4 5 5 1 8]]\n",
      "(2, 7)\n"
     ]
    }
   ],
   "source": [
    "arr = np.loadtxt(r'/Users/gyanendrakumar/PycharmProjects/Edureka_DS/Module_4/numpy_examples/filex.txt',\n",
    "                dtype=int)\n",
    "print(arr)\n",
    "print(arr.shape)"
   ]
  },
  {
   "cell_type": "markdown",
   "metadata": {},
   "source": [
    "## putting the data from a array to a file"
   ]
  },
  {
   "cell_type": "code",
   "execution_count": 72,
   "metadata": {},
   "outputs": [],
   "source": [
    "arr = np.array([[1,2],[3,4]])\n",
    "#np.savetxt('output_array.txt', arr)\n",
    "#np.savetxt('output_array.txt', arr, fmt=\"%1.2e\")\n",
    "np.savetxt('output_array.txt', arr, fmt=\"%1.2e\", delimiter='$')"
   ]
  },
  {
   "cell_type": "code",
   "execution_count": 73,
   "metadata": {},
   "outputs": [
    {
     "name": "stdout",
     "output_type": "stream",
     "text": [
      "\n",
      "    Save an array to a text file.\n",
      "\n",
      "    Parameters\n",
      "    ----------\n",
      "    fname : filename or file handle\n",
      "        If the filename ends in ``.gz``, the file is automatically saved in\n",
      "        compressed gzip format.  `loadtxt` understands gzipped files\n",
      "        transparently.\n",
      "    X : 1D or 2D array_like\n",
      "        Data to be saved to a text file.\n",
      "    fmt : str or sequence of strs, optional\n",
      "        A single format (%10.5f), a sequence of formats, or a\n",
      "        multi-format string, e.g. 'Iteration %d -- %10.5f', in which\n",
      "        case `delimiter` is ignored. For complex `X`, the legal options\n",
      "        for `fmt` are:\n",
      "\n",
      "        * a single specifier, `fmt='%.4e'`, resulting in numbers formatted\n",
      "          like `' (%s+%sj)' % (fmt, fmt)`\n",
      "        * a full string specifying every real and imaginary part, e.g.\n",
      "          `' %.4e %+.4ej %.4e %+.4ej %.4e %+.4ej'` for 3 columns\n",
      "        * a list of specifiers, one per column - in this case, the real\n",
      "          and imaginary part must have separate specifiers,\n",
      "          e.g. `['%.3e + %.3ej', '(%.15e%+.15ej)']` for 2 columns\n",
      "    delimiter : str, optional\n",
      "        String or character separating columns.\n",
      "    newline : str, optional\n",
      "        String or character separating lines.\n",
      "\n",
      "        .. versionadded:: 1.5.0\n",
      "    header : str, optional\n",
      "        String that will be written at the beginning of the file.\n",
      "\n",
      "        .. versionadded:: 1.7.0\n",
      "    footer : str, optional\n",
      "        String that will be written at the end of the file.\n",
      "\n",
      "        .. versionadded:: 1.7.0\n",
      "    comments : str, optional\n",
      "        String that will be prepended to the ``header`` and ``footer`` strings,\n",
      "        to mark them as comments. Default: '# ',  as expected by e.g.\n",
      "        ``numpy.loadtxt``.\n",
      "\n",
      "        .. versionadded:: 1.7.0\n",
      "    encoding : {None, str}, optional\n",
      "        Encoding used to encode the outputfile. Does not apply to output\n",
      "        streams. If the encoding is something other than 'bytes' or 'latin1'\n",
      "        you will not be able to load the file in NumPy versions < 1.14. Default\n",
      "        is 'latin1'.\n",
      "\n",
      "        .. versionadded:: 1.14.0\n",
      "\n",
      "\n",
      "    See Also\n",
      "    --------\n",
      "    save : Save an array to a binary file in NumPy ``.npy`` format\n",
      "    savez : Save several arrays into an uncompressed ``.npz`` archive\n",
      "    savez_compressed : Save several arrays into a compressed ``.npz`` archive\n",
      "\n",
      "    Notes\n",
      "    -----\n",
      "    Further explanation of the `fmt` parameter\n",
      "    (``%[flag]width[.precision]specifier``):\n",
      "\n",
      "    flags:\n",
      "        ``-`` : left justify\n",
      "\n",
      "        ``+`` : Forces to precede result with + or -.\n",
      "\n",
      "        ``0`` : Left pad the number with zeros instead of space (see width).\n",
      "\n",
      "    width:\n",
      "        Minimum number of characters to be printed. The value is not truncated\n",
      "        if it has more characters.\n",
      "\n",
      "    precision:\n",
      "        - For integer specifiers (eg. ``d,i,o,x``), the minimum number of\n",
      "          digits.\n",
      "        - For ``e, E`` and ``f`` specifiers, the number of digits to print\n",
      "          after the decimal point.\n",
      "        - For ``g`` and ``G``, the maximum number of significant digits.\n",
      "        - For ``s``, the maximum number of characters.\n",
      "\n",
      "    specifiers:\n",
      "        ``c`` : character\n",
      "\n",
      "        ``d`` or ``i`` : signed decimal integer\n",
      "\n",
      "        ``e`` or ``E`` : scientific notation with ``e`` or ``E``.\n",
      "\n",
      "        ``f`` : decimal floating point\n",
      "\n",
      "        ``g,G`` : use the shorter of ``e,E`` or ``f``\n",
      "\n",
      "        ``o`` : signed octal\n",
      "\n",
      "        ``s`` : string of characters\n",
      "\n",
      "        ``u`` : unsigned decimal integer\n",
      "\n",
      "        ``x,X`` : unsigned hexadecimal integer\n",
      "\n",
      "    This explanation of ``fmt`` is not complete, for an exhaustive\n",
      "    specification see [1]_.\n",
      "\n",
      "    References\n",
      "    ----------\n",
      "    .. [1] `Format Specification Mini-Language\n",
      "           <http://docs.python.org/library/string.html#\n",
      "           format-specification-mini-language>`_, Python Documentation.\n",
      "\n",
      "    Examples\n",
      "    --------\n",
      "    >>> x = y = z = np.arange(0.0,5.0,1.0)\n",
      "    >>> np.savetxt('test.out', x, delimiter=',')   # X is an array\n",
      "    >>> np.savetxt('test.out', (x,y,z))   # x,y,z equal sized 1D arrays\n",
      "    >>> np.savetxt('test.out', x, fmt='%1.4e')   # use exponential notation\n",
      "\n",
      "    \n"
     ]
    }
   ],
   "source": [
    "print(np.savetxt.__doc__)"
   ]
  },
  {
   "cell_type": "code",
   "execution_count": 74,
   "metadata": {},
   "outputs": [
    {
     "name": "stdout",
     "output_type": "stream",
     "text": [
      "\n",
      "    Load data from a text file.\n",
      "\n",
      "    Each row in the text file must have the same number of values.\n",
      "\n",
      "    Parameters\n",
      "    ----------\n",
      "    fname : file, str, or pathlib.Path\n",
      "        File, filename, or generator to read.  If the filename extension is\n",
      "        ``.gz`` or ``.bz2``, the file is first decompressed. Note that\n",
      "        generators should return byte strings for Python 3k.\n",
      "    dtype : data-type, optional\n",
      "        Data-type of the resulting array; default: float.  If this is a\n",
      "        structured data-type, the resulting array will be 1-dimensional, and\n",
      "        each row will be interpreted as an element of the array.  In this\n",
      "        case, the number of columns used must match the number of fields in\n",
      "        the data-type.\n",
      "    comments : str or sequence of str, optional\n",
      "        The characters or list of characters used to indicate the start of a\n",
      "        comment. None implies no comments. For backwards compatibility, byte\n",
      "        strings will be decoded as 'latin1'. The default is '#'.\n",
      "    delimiter : str, optional\n",
      "        The string used to separate values. For backwards compatibility, byte\n",
      "        strings will be decoded as 'latin1'. The default is whitespace.\n",
      "    converters : dict, optional\n",
      "        A dictionary mapping column number to a function that will parse the\n",
      "        column string into the desired value.  E.g., if column 0 is a date\n",
      "        string: ``converters = {0: datestr2num}``.  Converters can also be\n",
      "        used to provide a default value for missing data (but see also\n",
      "        `genfromtxt`): ``converters = {3: lambda s: float(s.strip() or 0)}``.\n",
      "        Default: None.\n",
      "    skiprows : int, optional\n",
      "        Skip the first `skiprows` lines; default: 0.\n",
      "    usecols : int or sequence, optional\n",
      "        Which columns to read, with 0 being the first. For example,\n",
      "        ``usecols = (1,4,5)`` will extract the 2nd, 5th and 6th columns.\n",
      "        The default, None, results in all columns being read.\n",
      "\n",
      "        .. versionchanged:: 1.11.0\n",
      "            When a single column has to be read it is possible to use\n",
      "            an integer instead of a tuple. E.g ``usecols = 3`` reads the\n",
      "            fourth column the same way as ``usecols = (3,)`` would.\n",
      "    unpack : bool, optional\n",
      "        If True, the returned array is transposed, so that arguments may be\n",
      "        unpacked using ``x, y, z = loadtxt(...)``.  When used with a structured\n",
      "        data-type, arrays are returned for each field.  Default is False.\n",
      "    ndmin : int, optional\n",
      "        The returned array will have at least `ndmin` dimensions.\n",
      "        Otherwise mono-dimensional axes will be squeezed.\n",
      "        Legal values: 0 (default), 1 or 2.\n",
      "\n",
      "        .. versionadded:: 1.6.0\n",
      "    encoding : str, optional\n",
      "        Encoding used to decode the inputfile. Does not apply to input streams.\n",
      "        The special value 'bytes' enables backward compatibility workarounds\n",
      "        that ensures you receive byte arrays as results if possible and passes\n",
      "        'latin1' encoded strings to converters. Override this value to receive\n",
      "        unicode arrays and pass strings as input to converters.  If set to None\n",
      "        the system default is used. The default value is 'bytes'.\n",
      "\n",
      "        .. versionadded:: 1.14.0\n",
      "\n",
      "    Returns\n",
      "    -------\n",
      "    out : ndarray\n",
      "        Data read from the text file.\n",
      "\n",
      "    See Also\n",
      "    --------\n",
      "    load, fromstring, fromregex\n",
      "    genfromtxt : Load data with missing values handled as specified.\n",
      "    scipy.io.loadmat : reads MATLAB data files\n",
      "\n",
      "    Notes\n",
      "    -----\n",
      "    This function aims to be a fast reader for simply formatted files.  The\n",
      "    `genfromtxt` function provides more sophisticated handling of, e.g.,\n",
      "    lines with missing values.\n",
      "\n",
      "    .. versionadded:: 1.10.0\n",
      "\n",
      "    The strings produced by the Python float.hex method can be used as\n",
      "    input for floats.\n",
      "\n",
      "    Examples\n",
      "    --------\n",
      "    >>> from io import StringIO   # StringIO behaves like a file object\n",
      "    >>> c = StringIO(u\"0 1\\n2 3\")\n",
      "    >>> np.loadtxt(c)\n",
      "    array([[ 0.,  1.],\n",
      "           [ 2.,  3.]])\n",
      "\n",
      "    >>> d = StringIO(u\"M 21 72\\nF 35 58\")\n",
      "    >>> np.loadtxt(d, dtype={'names': ('gender', 'age', 'weight'),\n",
      "    ...                      'formats': ('S1', 'i4', 'f4')})\n",
      "    array([('M', 21, 72.0), ('F', 35, 58.0)],\n",
      "          dtype=[('gender', '|S1'), ('age', '<i4'), ('weight', '<f4')])\n",
      "\n",
      "    >>> c = StringIO(u\"1,0,2\\n3,0,4\")\n",
      "    >>> x, y = np.loadtxt(c, delimiter=',', usecols=(0, 2), unpack=True)\n",
      "    >>> x\n",
      "    array([ 1.,  3.])\n",
      "    >>> y\n",
      "    array([ 2.,  4.])\n",
      "\n",
      "    \n"
     ]
    }
   ],
   "source": [
    "print(np.loadtxt.__doc__)"
   ]
  },
  {
   "cell_type": "code",
   "execution_count": 76,
   "metadata": {},
   "outputs": [
    {
     "name": "stdout",
     "output_type": "stream",
     "text": [
      "[[-1 -1 -1 -1 -1]\n",
      " [-1 -1 -1 -1 -1]\n",
      " [-1 -1 -1 -1 -1]\n",
      " [-1 -1 -1 -1 -1]\n",
      " [-1 -1 -1 -1 -1]\n",
      " [-1 -1 -1 -1 -1]\n",
      " [-1 -1 -1 -1 -1]\n",
      " [-1 -1 -1 -1 -1]\n",
      " [-1 -1 -1 -1 -1]\n",
      " [-1 -1 -1 -1 -1]\n",
      " [-1 -1 -1 -1 -1]\n",
      " [-1 -1 -1 -1 -1]\n",
      " [-1 -1 -1 -1 -1]\n",
      " [-1 -1 -1 -1 -1]\n",
      " [-1 -1 -1 -1 -1]\n",
      " [-1 -1 -1 -1 -1]\n",
      " [-1 -1 -1 -1 -1]\n",
      " [-1 -1 -1 -1 -1]\n",
      " [-1 -1 -1 -1 -1]\n",
      " [-1 -1 -1 -1 -1]\n",
      " [-1 -1 -1 -1 -1]\n",
      " [-1 -1 -1 -1 -1]\n",
      " [-1 -1 -1 -1 -1]\n",
      " [-1 -1 -1 -1 -1]\n",
      " [-1 -1 -1 -1 -1]]\n"
     ]
    }
   ],
   "source": [
    "import numpy as np\n",
    "\n",
    "arr = np.genfromtxt(r'/Users/gyanendrakumar/PycharmProjects/Edureka_DS/Module_4/numpy_examples/newfile.csv',\n",
    "                    delimiter=',',\n",
    "                    dtype=int)\n",
    "print(arr)\n",
    "np.savetxt('out.csv', arr, fmt='%.4e')"
   ]
  },
  {
   "cell_type": "markdown",
   "metadata": {},
   "source": [
    "# Pandas\n",
    "- date 26th Jan"
   ]
  },
  {
   "cell_type": "markdown",
   "metadata": {},
   "source": [
    "## Series"
   ]
  },
  {
   "cell_type": "code",
   "execution_count": 2,
   "metadata": {},
   "outputs": [
    {
     "name": "stdout",
     "output_type": "stream",
     "text": [
      "Series([], dtype: float64)\n",
      "<class 'pandas.core.series.Series'>\n"
     ]
    }
   ],
   "source": [
    "import pandas as pd\n",
    "ser = pd.Series()\n",
    "print(ser)\n",
    "print(type(ser))"
   ]
  },
  {
   "cell_type": "code",
   "execution_count": 3,
   "metadata": {},
   "outputs": [
    {
     "data": {
      "text/plain": [
       "0    11\n",
       "1    22\n",
       "2    33\n",
       "3    44\n",
       "dtype: int64"
      ]
     },
     "execution_count": 3,
     "metadata": {},
     "output_type": "execute_result"
    }
   ],
   "source": [
    "pd.Series([11,22,33,44])"
   ]
  },
  {
   "cell_type": "code",
   "execution_count": 4,
   "metadata": {},
   "outputs": [
    {
     "name": "stdout",
     "output_type": "stream",
     "text": [
      "int64\n"
     ]
    }
   ],
   "source": [
    "ser = pd.Series([11,22,33,44])\n",
    "print(ser.dtype)"
   ]
  },
  {
   "cell_type": "code",
   "execution_count": 5,
   "metadata": {},
   "outputs": [
    {
     "name": "stdout",
     "output_type": "stream",
     "text": [
      "int8\n"
     ]
    }
   ],
   "source": [
    "# choosing dtype\n",
    "import numpy\n",
    "ser = pd.Series([11,22,33,44], dtype=numpy.int8)\n",
    "print(ser.dtype)"
   ]
  },
  {
   "cell_type": "code",
   "execution_count": 6,
   "metadata": {},
   "outputs": [
    {
     "ename": "ValueError",
     "evalue": "invalid literal for int() with base 10: 'atul'",
     "output_type": "error",
     "traceback": [
      "\u001b[0;31m---------------------------------------------------------------------------\u001b[0m",
      "\u001b[0;31mValueError\u001b[0m                                Traceback (most recent call last)",
      "\u001b[0;32m<ipython-input-6-360e095d2374>\u001b[0m in \u001b[0;36m<module>\u001b[0;34m\u001b[0m\n\u001b[1;32m      1\u001b[0m \u001b[0;31m# choosing dtype\u001b[0m\u001b[0;34m\u001b[0m\u001b[0;34m\u001b[0m\u001b[0;34m\u001b[0m\u001b[0m\n\u001b[1;32m      2\u001b[0m \u001b[0;32mimport\u001b[0m \u001b[0mnumpy\u001b[0m\u001b[0;34m\u001b[0m\u001b[0;34m\u001b[0m\u001b[0m\n\u001b[0;32m----> 3\u001b[0;31m \u001b[0mser\u001b[0m \u001b[0;34m=\u001b[0m \u001b[0mpd\u001b[0m\u001b[0;34m.\u001b[0m\u001b[0mSeries\u001b[0m\u001b[0;34m(\u001b[0m\u001b[0;34m[\u001b[0m\u001b[0;36m11\u001b[0m\u001b[0;34m,\u001b[0m\u001b[0;36m22\u001b[0m\u001b[0;34m,\u001b[0m\u001b[0;36m33\u001b[0m\u001b[0;34m,\u001b[0m\u001b[0;36m44\u001b[0m\u001b[0;34m,\u001b[0m\u001b[0;34m'atul'\u001b[0m\u001b[0;34m]\u001b[0m\u001b[0;34m,\u001b[0m \u001b[0mdtype\u001b[0m\u001b[0;34m=\u001b[0m\u001b[0mnumpy\u001b[0m\u001b[0;34m.\u001b[0m\u001b[0mint8\u001b[0m\u001b[0;34m)\u001b[0m\u001b[0;34m\u001b[0m\u001b[0;34m\u001b[0m\u001b[0m\n\u001b[0m\u001b[1;32m      4\u001b[0m \u001b[0mprint\u001b[0m\u001b[0;34m(\u001b[0m\u001b[0mser\u001b[0m\u001b[0;34m.\u001b[0m\u001b[0mdtype\u001b[0m\u001b[0;34m)\u001b[0m\u001b[0;34m\u001b[0m\u001b[0;34m\u001b[0m\u001b[0m\n",
      "\u001b[0;32m~/anaconda3/lib/python3.7/site-packages/pandas/core/series.py\u001b[0m in \u001b[0;36m__init__\u001b[0;34m(self, data, index, dtype, name, copy, fastpath)\u001b[0m\n\u001b[1;32m    273\u001b[0m             \u001b[0;32melse\u001b[0m\u001b[0;34m:\u001b[0m\u001b[0;34m\u001b[0m\u001b[0;34m\u001b[0m\u001b[0m\n\u001b[1;32m    274\u001b[0m                 data = _sanitize_array(data, index, dtype, copy,\n\u001b[0;32m--> 275\u001b[0;31m                                        raise_cast_failure=True)\n\u001b[0m\u001b[1;32m    276\u001b[0m \u001b[0;34m\u001b[0m\u001b[0m\n\u001b[1;32m    277\u001b[0m                 \u001b[0mdata\u001b[0m \u001b[0;34m=\u001b[0m \u001b[0mSingleBlockManager\u001b[0m\u001b[0;34m(\u001b[0m\u001b[0mdata\u001b[0m\u001b[0;34m,\u001b[0m \u001b[0mindex\u001b[0m\u001b[0;34m,\u001b[0m \u001b[0mfastpath\u001b[0m\u001b[0;34m=\u001b[0m\u001b[0;32mTrue\u001b[0m\u001b[0;34m)\u001b[0m\u001b[0;34m\u001b[0m\u001b[0;34m\u001b[0m\u001b[0m\n",
      "\u001b[0;32m~/anaconda3/lib/python3.7/site-packages/pandas/core/series.py\u001b[0m in \u001b[0;36m_sanitize_array\u001b[0;34m(data, index, dtype, copy, raise_cast_failure)\u001b[0m\n\u001b[1;32m   4112\u001b[0m         \u001b[0;32mif\u001b[0m \u001b[0mdtype\u001b[0m \u001b[0;32mis\u001b[0m \u001b[0;32mnot\u001b[0m \u001b[0;32mNone\u001b[0m\u001b[0;34m:\u001b[0m\u001b[0;34m\u001b[0m\u001b[0;34m\u001b[0m\u001b[0m\n\u001b[1;32m   4113\u001b[0m             \u001b[0;32mtry\u001b[0m\u001b[0;34m:\u001b[0m\u001b[0;34m\u001b[0m\u001b[0;34m\u001b[0m\u001b[0m\n\u001b[0;32m-> 4114\u001b[0;31m                 \u001b[0msubarr\u001b[0m \u001b[0;34m=\u001b[0m \u001b[0m_try_cast\u001b[0m\u001b[0;34m(\u001b[0m\u001b[0mdata\u001b[0m\u001b[0;34m,\u001b[0m \u001b[0;32mFalse\u001b[0m\u001b[0;34m)\u001b[0m\u001b[0;34m\u001b[0m\u001b[0;34m\u001b[0m\u001b[0m\n\u001b[0m\u001b[1;32m   4115\u001b[0m             \u001b[0;32mexcept\u001b[0m \u001b[0mException\u001b[0m\u001b[0;34m:\u001b[0m\u001b[0;34m\u001b[0m\u001b[0;34m\u001b[0m\u001b[0m\n\u001b[1;32m   4116\u001b[0m                 \u001b[0;32mif\u001b[0m \u001b[0mraise_cast_failure\u001b[0m\u001b[0;34m:\u001b[0m  \u001b[0;31m# pragma: no cover\u001b[0m\u001b[0;34m\u001b[0m\u001b[0;34m\u001b[0m\u001b[0m\n",
      "\u001b[0;32m~/anaconda3/lib/python3.7/site-packages/pandas/core/series.py\u001b[0m in \u001b[0;36m_try_cast\u001b[0;34m(arr, take_fast_path)\u001b[0m\n\u001b[1;32m   4051\u001b[0m             \u001b[0;32melif\u001b[0m \u001b[0;32mnot\u001b[0m \u001b[0mis_extension_type\u001b[0m\u001b[0;34m(\u001b[0m\u001b[0msubarr\u001b[0m\u001b[0;34m)\u001b[0m\u001b[0;34m:\u001b[0m\u001b[0;34m\u001b[0m\u001b[0;34m\u001b[0m\u001b[0m\n\u001b[1;32m   4052\u001b[0m                 subarr = construct_1d_ndarray_preserving_na(subarr, dtype,\n\u001b[0;32m-> 4053\u001b[0;31m                                                             copy=copy)\n\u001b[0m\u001b[1;32m   4054\u001b[0m         \u001b[0;32mexcept\u001b[0m \u001b[0;34m(\u001b[0m\u001b[0mValueError\u001b[0m\u001b[0;34m,\u001b[0m \u001b[0mTypeError\u001b[0m\u001b[0;34m)\u001b[0m\u001b[0;34m:\u001b[0m\u001b[0;34m\u001b[0m\u001b[0;34m\u001b[0m\u001b[0m\n\u001b[1;32m   4055\u001b[0m             \u001b[0;32mif\u001b[0m \u001b[0mis_categorical_dtype\u001b[0m\u001b[0;34m(\u001b[0m\u001b[0mdtype\u001b[0m\u001b[0;34m)\u001b[0m\u001b[0;34m:\u001b[0m\u001b[0;34m\u001b[0m\u001b[0;34m\u001b[0m\u001b[0m\n",
      "\u001b[0;32m~/anaconda3/lib/python3.7/site-packages/pandas/core/dtypes/cast.py\u001b[0m in \u001b[0;36mconstruct_1d_ndarray_preserving_na\u001b[0;34m(values, dtype, copy)\u001b[0m\n\u001b[1;32m   1255\u001b[0m \u001b[0;34m\u001b[0m\u001b[0m\n\u001b[1;32m   1256\u001b[0m     \"\"\"\n\u001b[0;32m-> 1257\u001b[0;31m     \u001b[0msubarr\u001b[0m \u001b[0;34m=\u001b[0m \u001b[0mnp\u001b[0m\u001b[0;34m.\u001b[0m\u001b[0marray\u001b[0m\u001b[0;34m(\u001b[0m\u001b[0mvalues\u001b[0m\u001b[0;34m,\u001b[0m \u001b[0mdtype\u001b[0m\u001b[0;34m=\u001b[0m\u001b[0mdtype\u001b[0m\u001b[0;34m,\u001b[0m \u001b[0mcopy\u001b[0m\u001b[0;34m=\u001b[0m\u001b[0mcopy\u001b[0m\u001b[0;34m)\u001b[0m\u001b[0;34m\u001b[0m\u001b[0;34m\u001b[0m\u001b[0m\n\u001b[0m\u001b[1;32m   1258\u001b[0m \u001b[0;34m\u001b[0m\u001b[0m\n\u001b[1;32m   1259\u001b[0m     \u001b[0;32mif\u001b[0m \u001b[0mdtype\u001b[0m \u001b[0;32mis\u001b[0m \u001b[0;32mnot\u001b[0m \u001b[0;32mNone\u001b[0m \u001b[0;32mand\u001b[0m \u001b[0mdtype\u001b[0m\u001b[0;34m.\u001b[0m\u001b[0mkind\u001b[0m \u001b[0;32min\u001b[0m \u001b[0;34m(\u001b[0m\u001b[0;34m\"U\"\u001b[0m\u001b[0;34m,\u001b[0m \u001b[0;34m\"S\"\u001b[0m\u001b[0;34m)\u001b[0m\u001b[0;34m:\u001b[0m\u001b[0;34m\u001b[0m\u001b[0;34m\u001b[0m\u001b[0m\n",
      "\u001b[0;31mValueError\u001b[0m: invalid literal for int() with base 10: 'atul'"
     ]
    }
   ],
   "source": [
    "# choosing dtype\n",
    "import numpy\n",
    "ser = pd.Series([11,22,33,44,'atul'], dtype=numpy.int8)\n",
    "print(ser.dtype)"
   ]
  },
  {
   "cell_type": "code",
   "execution_count": 7,
   "metadata": {},
   "outputs": [
    {
     "name": "stdout",
     "output_type": "stream",
     "text": [
      "object\n"
     ]
    }
   ],
   "source": [
    "# heterogeneous data\n",
    "import numpy\n",
    "ser = pd.Series([11,22,33,44,'atul'])\n",
    "print(ser.dtype)"
   ]
  },
  {
   "cell_type": "code",
   "execution_count": 9,
   "metadata": {},
   "outputs": [
    {
     "data": {
      "text/plain": [
       "a    100\n",
       "b    200\n",
       "c    300\n",
       "dtype: int64"
      ]
     },
     "execution_count": 9,
     "metadata": {},
     "output_type": "execute_result"
    }
   ],
   "source": [
    "# use dict to create a Series\n",
    "# dict keys will be the Indexes\n",
    "data = {'a':100, 'b':200, 'c':300}\n",
    "pd.Series(data)"
   ]
  },
  {
   "cell_type": "code",
   "execution_count": 18,
   "metadata": {},
   "outputs": [
    {
     "name": "stdout",
     "output_type": "stream",
     "text": [
      "object\n",
      "a    hello\n",
      "b      bye\n",
      "c       hi\n",
      "dtype: object\n"
     ]
    }
   ],
   "source": [
    "# TODO:\n",
    "# dtype as str\n",
    "# data = {'a':100, 'b':200, 'c':300}\n",
    "\n",
    "import numpy\n",
    "ser = pd.Series({'a':\"hello\", 'b':\"bye\", 'c':\"hi\"}, dtype=str)\n",
    "print(ser.dtype)\n",
    "print(ser)"
   ]
  },
  {
   "cell_type": "markdown",
   "metadata": {},
   "source": [
    "## DataFrames"
   ]
  },
  {
   "cell_type": "code",
   "execution_count": 19,
   "metadata": {},
   "outputs": [
    {
     "data": {
      "text/html": [
       "<div>\n",
       "<style scoped>\n",
       "    .dataframe tbody tr th:only-of-type {\n",
       "        vertical-align: middle;\n",
       "    }\n",
       "\n",
       "    .dataframe tbody tr th {\n",
       "        vertical-align: top;\n",
       "    }\n",
       "\n",
       "    .dataframe thead th {\n",
       "        text-align: right;\n",
       "    }\n",
       "</style>\n",
       "<table border=\"1\" class=\"dataframe\">\n",
       "  <thead>\n",
       "    <tr style=\"text-align: right;\">\n",
       "      <th></th>\n",
       "      <th>0</th>\n",
       "    </tr>\n",
       "  </thead>\n",
       "  <tbody>\n",
       "    <tr>\n",
       "      <th>0</th>\n",
       "      <td>10</td>\n",
       "    </tr>\n",
       "    <tr>\n",
       "      <th>1</th>\n",
       "      <td>20</td>\n",
       "    </tr>\n",
       "    <tr>\n",
       "      <th>2</th>\n",
       "      <td>30</td>\n",
       "    </tr>\n",
       "    <tr>\n",
       "      <th>3</th>\n",
       "      <td>40</td>\n",
       "    </tr>\n",
       "  </tbody>\n",
       "</table>\n",
       "</div>"
      ],
      "text/plain": [
       "    0\n",
       "0  10\n",
       "1  20\n",
       "2  30\n",
       "3  40"
      ]
     },
     "execution_count": 19,
     "metadata": {},
     "output_type": "execute_result"
    }
   ],
   "source": [
    "df = pd.DataFrame([10,20,30,40])\n",
    "df"
   ]
  },
  {
   "cell_type": "code",
   "execution_count": 20,
   "metadata": {},
   "outputs": [
    {
     "data": {
      "text/html": [
       "<div>\n",
       "<style scoped>\n",
       "    .dataframe tbody tr th:only-of-type {\n",
       "        vertical-align: middle;\n",
       "    }\n",
       "\n",
       "    .dataframe tbody tr th {\n",
       "        vertical-align: top;\n",
       "    }\n",
       "\n",
       "    .dataframe thead th {\n",
       "        text-align: right;\n",
       "    }\n",
       "</style>\n",
       "<table border=\"1\" class=\"dataframe\">\n",
       "  <thead>\n",
       "    <tr style=\"text-align: right;\">\n",
       "      <th></th>\n",
       "      <th>a</th>\n",
       "      <th>b</th>\n",
       "      <th>c</th>\n",
       "    </tr>\n",
       "  </thead>\n",
       "  <tbody>\n",
       "    <tr>\n",
       "      <th>0</th>\n",
       "      <td>11</td>\n",
       "      <td>22</td>\n",
       "      <td>NaN</td>\n",
       "    </tr>\n",
       "    <tr>\n",
       "      <th>1</th>\n",
       "      <td>33</td>\n",
       "      <td>44</td>\n",
       "      <td>55.0</td>\n",
       "    </tr>\n",
       "  </tbody>\n",
       "</table>\n",
       "</div>"
      ],
      "text/plain": [
       "    a   b     c\n",
       "0  11  22   NaN\n",
       "1  33  44  55.0"
      ]
     },
     "execution_count": 20,
     "metadata": {},
     "output_type": "execute_result"
    }
   ],
   "source": [
    "# list of dicts\n",
    "data = [{'a':11, 'b':22}, {'a':33, 'b':44, 'c':55}]\n",
    "df = pd.DataFrame(data)\n",
    "df"
   ]
  },
  {
   "cell_type": "code",
   "execution_count": 21,
   "metadata": {},
   "outputs": [],
   "source": [
    "# NaN : not a number"
   ]
  },
  {
   "cell_type": "code",
   "execution_count": 24,
   "metadata": {},
   "outputs": [
    {
     "name": "stdout",
     "output_type": "stream",
     "text": [
      "         a   b     c\n",
      "first   11  22   NaN\n",
      "second  33  44  55.0\n",
      "a      int64\n",
      "b      int64\n",
      "c    float64\n",
      "dtype: object\n"
     ]
    }
   ],
   "source": [
    "# list of dicts with user defined indexes\n",
    "data = [{'a':11, 'b':22}, {'a':33, 'b':44, 'c':55}]\n",
    "df = pd.DataFrame(data, index=['first', 'second'])\n",
    "print(df)\n",
    "print(df.dtypes)"
   ]
  },
  {
   "cell_type": "code",
   "execution_count": 26,
   "metadata": {},
   "outputs": [
    {
     "name": "stdout",
     "output_type": "stream",
     "text": [
      "    one  two\n",
      "a  11.0   44\n",
      "b  22.0   55\n",
      "c  33.0   66\n",
      "d   NaN   77\n"
     ]
    }
   ],
   "source": [
    "# dict  with series\n",
    "data = {'one': pd.Series([11,22,33], index=['a', 'b', 'c']),\n",
    "       'two':pd.Series([44,55,66,77], index=['a', 'b', 'c', 'd'])}\n",
    "\n",
    "df = pd.DataFrame(data)\n",
    "print(df)\n",
    "                                             \n",
    "        \n"
   ]
  },
  {
   "cell_type": "code",
   "execution_count": 28,
   "metadata": {},
   "outputs": [
    {
     "name": "stdout",
     "output_type": "stream",
     "text": [
      "<class 'pandas.core.series.Series'>\n",
      "a    11.0\n",
      "b    22.0\n",
      "c    33.0\n",
      "d     NaN\n",
      "Name: one, dtype: float64\n"
     ]
    }
   ],
   "source": [
    "# Accessing a column in a Data frame\n",
    "data = {'one': pd.Series([11,22,33], index=['a', 'b', 'c']),\n",
    "       'two':pd.Series([44,55,66,77], index=['a', 'b', 'c', 'd'])}\n",
    "\n",
    "df = pd.DataFrame(data)\n",
    "col = df['one']  # just pass the column name as you access a key-val in dict\n",
    "print(type(col))\n",
    "print(col)\n",
    "          "
   ]
  },
  {
   "cell_type": "code",
   "execution_count": 31,
   "metadata": {},
   "outputs": [
    {
     "name": "stdout",
     "output_type": "stream",
     "text": [
      "    one  two  suparna\n",
      "a  11.0   44       11\n",
      "b  22.0   55       22\n",
      "c  33.0   66       33\n",
      "d   NaN   77       44\n",
      "##########\n",
      "    one  two  suparna  Sasika\n",
      "a  11.0   44       11   300.0\n",
      "b  22.0   55       22   100.0\n",
      "c  33.0   66       33   200.0\n",
      "d   NaN   77       44     NaN\n"
     ]
    }
   ],
   "source": [
    "# Column Addition/Updation\n",
    "# If column is present already the it would be updated\n",
    "# if column is missing then it would be created\n",
    "data = {'one': pd.Series([11,22,33], index=['a', 'b', 'c']),\n",
    "       'two':pd.Series([44,55,66,77], index=['a', 'b', 'c', 'd'])}\n",
    "\n",
    "df = pd.DataFrame(data)\n",
    "# creating a new column\n",
    "df['suparna'] = [11,22,33,44]\n",
    "print(df)\n",
    "print(\"#\"*10)\n",
    "df[\"Sasika\"] = pd.Series([100,200,300], index=['b', 'c', 'a'])\n",
    "print(df)\n"
   ]
  },
  {
   "cell_type": "code",
   "execution_count": 33,
   "metadata": {},
   "outputs": [
    {
     "data": {
      "text/html": [
       "<div>\n",
       "<style scoped>\n",
       "    .dataframe tbody tr th:only-of-type {\n",
       "        vertical-align: middle;\n",
       "    }\n",
       "\n",
       "    .dataframe tbody tr th {\n",
       "        vertical-align: top;\n",
       "    }\n",
       "\n",
       "    .dataframe thead th {\n",
       "        text-align: right;\n",
       "    }\n",
       "</style>\n",
       "<table border=\"1\" class=\"dataframe\">\n",
       "  <thead>\n",
       "    <tr style=\"text-align: right;\">\n",
       "      <th></th>\n",
       "      <th>one</th>\n",
       "      <th>two</th>\n",
       "    </tr>\n",
       "  </thead>\n",
       "  <tbody>\n",
       "    <tr>\n",
       "      <th>a</th>\n",
       "      <td>100</td>\n",
       "      <td>44</td>\n",
       "    </tr>\n",
       "    <tr>\n",
       "      <th>b</th>\n",
       "      <td>200</td>\n",
       "      <td>55</td>\n",
       "    </tr>\n",
       "    <tr>\n",
       "      <th>c</th>\n",
       "      <td>300</td>\n",
       "      <td>66</td>\n",
       "    </tr>\n",
       "    <tr>\n",
       "      <th>d</th>\n",
       "      <td>400</td>\n",
       "      <td>77</td>\n",
       "    </tr>\n",
       "  </tbody>\n",
       "</table>\n",
       "</div>"
      ],
      "text/plain": [
       "   one  two\n",
       "a  100   44\n",
       "b  200   55\n",
       "c  300   66\n",
       "d  400   77"
      ]
     },
     "execution_count": 33,
     "metadata": {},
     "output_type": "execute_result"
    }
   ],
   "source": [
    "# updating a column\n",
    "# If column is present already the it would be updated\n",
    "data = {'one': pd.Series([11,22,33], index=['a', 'b', 'c']),\n",
    "       'two':pd.Series([44,55,66,77], index=['a', 'b', 'c', 'd'])}\n",
    "\n",
    "df = pd.DataFrame(data)\n",
    "df['one'] = [100, 200, 300, 400] # updating as column is present already\n",
    "df"
   ]
  },
  {
   "cell_type": "code",
   "execution_count": 34,
   "metadata": {},
   "outputs": [
    {
     "name": "stdout",
     "output_type": "stream",
     "text": [
      "    one  two\n",
      "a  11.0   44\n",
      "b  22.0   55\n",
      "c  33.0   66\n",
      "d   NaN   77\n",
      "##########\n",
      "    one  two  hemendra\n",
      "a  11.0   44       NaN\n",
      "b  22.0   55       NaN\n",
      "c  33.0   66       NaN\n",
      "d   NaN   77       NaN\n"
     ]
    }
   ],
   "source": [
    "data = {'one': pd.Series([11,22,33], index=['a', 'b', 'c']),\n",
    "       'two':pd.Series([44,55,66,77], index=['a', 'b', 'c', 'd'])}\n",
    "\n",
    "df = pd.DataFrame(data)\n",
    "print(df)\n",
    "print(\"#\"*10)\n",
    "df['hemendra'] = pd.Series([10, 20], index=['e', 'f'])\n",
    "print(df)"
   ]
  },
  {
   "cell_type": "code",
   "execution_count": 35,
   "metadata": {},
   "outputs": [
    {
     "name": "stdout",
     "output_type": "stream",
     "text": [
      "    one  two  suparna\n",
      "a  11.0   44      NaN\n",
      "b  22.0   55      NaN\n",
      "c  33.0   66      NaN\n",
      "d   NaN   77      NaN\n"
     ]
    }
   ],
   "source": [
    "data = {'one': pd.Series([11,22,33], index=['a', 'b', 'c']),\n",
    "       'two':pd.Series([44,55,66,77], index=['a', 'b', 'c', 'd'])}\n",
    "\n",
    "df = pd.DataFrame(data)\n",
    "# creating a new column\n",
    "df['suparna'] = pd.Series([10, 20], index=['e', 'f'])\n",
    "print(df)"
   ]
  },
  {
   "cell_type": "code",
   "execution_count": 36,
   "metadata": {},
   "outputs": [
    {
     "name": "stdout",
     "output_type": "stream",
     "text": [
      "    one  two\n",
      "a  11.0   44\n",
      "b  22.0   55\n",
      "c  33.0   66\n",
      "d   NaN   77\n",
      "   two\n",
      "a   44\n",
      "b   55\n",
      "c   66\n",
      "d   77\n"
     ]
    }
   ],
   "source": [
    "# deleting a column\n",
    "data = {'one': pd.Series([11,22,33], index=['a', 'b', 'c']),\n",
    "       'two':pd.Series([44,55,66,77], index=['a', 'b', 'c', 'd'])}\n",
    "\n",
    "df = pd.DataFrame(data)\n",
    "print(df)\n",
    "#delete\n",
    "del(df['one'])\n",
    "print(df)"
   ]
  },
  {
   "cell_type": "code",
   "execution_count": 40,
   "metadata": {},
   "outputs": [
    {
     "name": "stdout",
     "output_type": "stream",
     "text": [
      "    one  two\n",
      "a  11.0   44\n",
      "b  22.0   55\n",
      "c  33.0   66\n",
      "d   NaN   77\n",
      "*****deleting the column****\n",
      "a    44\n",
      "b    55\n",
      "c    66\n",
      "d    77\n",
      "Name: two, dtype: int64\n",
      "***** Updated DF *********\n",
      "    one\n",
      "a  11.0\n",
      "b  22.0\n",
      "c  33.0\n",
      "d   NaN\n"
     ]
    }
   ],
   "source": [
    "# delete using a pop(<column_name>)\n",
    "data = {'one': pd.Series([11,22,33], index=['a', 'b', 'c']),\n",
    "       'two':pd.Series([44,55,66,77], index=['a', 'b', 'c', 'd'])}\n",
    "\n",
    "df = pd.DataFrame(data)\n",
    "print(df)\n",
    "print(\"*****deleting the column****\")\n",
    "print(df.pop('two'))\n",
    "print(\"***** Updated DF *********\")\n",
    "print(df)"
   ]
  },
  {
   "cell_type": "code",
   "execution_count": 44,
   "metadata": {},
   "outputs": [
    {
     "name": "stdout",
     "output_type": "stream",
     "text": [
      "*** original DF***\n",
      "    one  two\n",
      "a  11.0   44\n",
      "b  22.0   55\n",
      "c  33.0   66\n",
      "d   NaN   77\n",
      "***Access the row **\n",
      "one    11.0\n",
      "two    44.0\n",
      "Name: a, dtype: float64\n",
      "<class 'pandas.core.series.Series'>\n",
      "*** Accessing row with numeric index\n",
      "one    11.0\n",
      "two    44.0\n",
      "Name: a, dtype: float64\n"
     ]
    }
   ],
   "source": [
    "# DataFrame - Row selection\n",
    "# M1: df.loc[<str_row_index>] # df.loc['a'], row with index name as 'a'\n",
    "# M2: df.iloc[integer_index] ex: df.iloc[2]\n",
    "# row with index position from the top: 2(3rd row)\n",
    "data = {'one': pd.Series([11,22,33], index=['a', 'b', 'c']),\n",
    "       'two':pd.Series([44,55,66,77], index=['a', 'b', 'c', 'd'])}\n",
    "\n",
    "df = pd.DataFrame(data)\n",
    "print(\"*** original DF***\")\n",
    "print(df)\n",
    "print(\"***Access the row **\")\n",
    "print(df.loc['a'])\n",
    "print(type(df.loc['a']))\n",
    "print(\"*** Accessing row with numeric index\")\n",
    "print(df.iloc[0])"
   ]
  },
  {
   "cell_type": "code",
   "execution_count": 55,
   "metadata": {},
   "outputs": [
    {
     "name": "stdout",
     "output_type": "stream",
     "text": [
      "Original DF ******\n",
      "    one  two  three\n",
      "a  11.0   44   88.0\n",
      "b  22.0   55   99.0\n",
      "c  33.0   66  101.0\n",
      "d   NaN   77    NaN\n",
      "**********Appended DF**********\n",
      "    one  three  two\n",
      "a  11.0   88.0   44\n",
      "b  22.0   99.0   55\n",
      "c  33.0  101.0   66\n",
      "d   NaN    NaN   77\n",
      "0   NaN   20.0   10\n",
      "1   NaN   40.0   30\n",
      "one      11.0\n",
      "three    88.0\n",
      "two      44.0\n",
      "Name: a, dtype: float64\n",
      "one       NaN\n",
      "three    20.0\n",
      "two      10.0\n",
      "Name: 0, dtype: float64\n"
     ]
    }
   ],
   "source": [
    "# Adding a new row in an existing DF\n",
    "# append()\n",
    "data = {'one': pd.Series([11,22,33], index=['a', 'b', 'c']),\n",
    "       'two':pd.Series([44,55,66,77], index=['a', 'b', 'c', 'd']),\n",
    "       'three': pd.Series([88,99,101], index=['a', 'b', 'c'])}\n",
    "\n",
    "df = pd.DataFrame(data)\n",
    "print(\"Original DF ******\")\n",
    "print(df)\n",
    "\n",
    "# creating a row that we wish to append\n",
    "new_row = pd.DataFrame([[10, 20], [30,40]], columns=['two', 'three'])\n",
    "\n",
    "# appending\n",
    "new_df = df.append(new_row, sort=True)\n",
    "print(\"**********Appended DF**********\")\n",
    "print(new_df)\n",
    "print(new_df.iloc[0])\n",
    "print(new_df.loc[0])"
   ]
  },
  {
   "cell_type": "code",
   "execution_count": 56,
   "metadata": {},
   "outputs": [
    {
     "data": {
      "text/plain": [
       "one       NaN\n",
       "three    20.0\n",
       "two      10.0\n",
       "Name: 0, dtype: float64"
      ]
     },
     "execution_count": 56,
     "metadata": {},
     "output_type": "execute_result"
    }
   ],
   "source": [
    "new_df.iloc[4]"
   ]
  },
  {
   "cell_type": "code",
   "execution_count": 61,
   "metadata": {},
   "outputs": [
    {
     "name": "stdout",
     "output_type": "stream",
     "text": [
      "#### original DF ***\n",
      "    one  two  three\n",
      "a  11.0   44   88.0\n",
      "b  22.0   55   99.0\n",
      "c  33.0   66  101.0\n",
      "d   NaN   77    NaN\n",
      "**** new df ****\n",
      "    one  two  three\n",
      "b  22.0   55   99.0\n",
      "c  33.0   66  101.0\n",
      "d   NaN   77    NaN\n",
      "******OLD DF remains intact********\n",
      "    one  two  three\n",
      "a  11.0   44   88.0\n",
      "b  22.0   55   99.0\n",
      "c  33.0   66  101.0\n",
      "d   NaN   77    NaN\n"
     ]
    }
   ],
   "source": [
    "# row deletion\n",
    "data = {'one': pd.Series([11,22,33], index=['a', 'b', 'c']),\n",
    "       'two':pd.Series([44,55,66,77], index=['a', 'b', 'c', 'd']),\n",
    "       'three': pd.Series([88,99,101], index=['a', 'b', 'c'])}\n",
    "\n",
    "df = pd.DataFrame(data)\n",
    "print(\"#### original DF ***\")\n",
    "print(df)\n",
    "new_df = df.drop('a')\n",
    "print(\"**** new df ****\")\n",
    "print(new_df)\n",
    "print(\"******OLD DF remains intact********\")\n",
    "print(df)\n",
    "\n"
   ]
  },
  {
   "cell_type": "code",
   "execution_count": 62,
   "metadata": {},
   "outputs": [
    {
     "name": "stdout",
     "output_type": "stream",
     "text": [
      "\n",
      "        Drop specified labels from rows or columns.\n",
      "\n",
      "        Remove rows or columns by specifying label names and corresponding\n",
      "        axis, or by specifying directly index or column names. When using a\n",
      "        multi-index, labels on different levels can be removed by specifying\n",
      "        the level.\n",
      "\n",
      "        Parameters\n",
      "        ----------\n",
      "        labels : single label or list-like\n",
      "            Index or column labels to drop.\n",
      "        axis : {0 or 'index', 1 or 'columns'}, default 0\n",
      "            Whether to drop labels from the index (0 or 'index') or\n",
      "            columns (1 or 'columns').\n",
      "        index, columns : single label or list-like\n",
      "            Alternative to specifying axis (``labels, axis=1``\n",
      "            is equivalent to ``columns=labels``).\n",
      "\n",
      "            .. versionadded:: 0.21.0\n",
      "        level : int or level name, optional\n",
      "            For MultiIndex, level from which the labels will be removed.\n",
      "        inplace : bool, default False\n",
      "            If True, do operation inplace and return None.\n",
      "        errors : {'ignore', 'raise'}, default 'raise'\n",
      "            If 'ignore', suppress error and only existing labels are\n",
      "            dropped.\n",
      "\n",
      "        Returns\n",
      "        -------\n",
      "        dropped : pandas.DataFrame\n",
      "\n",
      "        See Also\n",
      "        --------\n",
      "        DataFrame.loc : Label-location based indexer for selection by label.\n",
      "        DataFrame.dropna : Return DataFrame with labels on given axis omitted\n",
      "            where (all or any) data are missing\n",
      "        DataFrame.drop_duplicates : Return DataFrame with duplicate rows\n",
      "            removed, optionally only considering certain columns\n",
      "        Series.drop : Return Series with specified index labels removed.\n",
      "\n",
      "        Raises\n",
      "        ------\n",
      "        KeyError\n",
      "            If none of the labels are found in the selected axis\n",
      "\n",
      "        Examples\n",
      "        --------\n",
      "        >>> df = pd.DataFrame(np.arange(12).reshape(3,4),\n",
      "        ...                   columns=['A', 'B', 'C', 'D'])\n",
      "        >>> df\n",
      "           A  B   C   D\n",
      "        0  0  1   2   3\n",
      "        1  4  5   6   7\n",
      "        2  8  9  10  11\n",
      "\n",
      "        Drop columns\n",
      "\n",
      "        >>> df.drop(['B', 'C'], axis=1)\n",
      "           A   D\n",
      "        0  0   3\n",
      "        1  4   7\n",
      "        2  8  11\n",
      "\n",
      "        >>> df.drop(columns=['B', 'C'])\n",
      "           A   D\n",
      "        0  0   3\n",
      "        1  4   7\n",
      "        2  8  11\n",
      "\n",
      "        Drop a row by index\n",
      "\n",
      "        >>> df.drop([0, 1])\n",
      "           A  B   C   D\n",
      "        2  8  9  10  11\n",
      "\n",
      "        Drop columns and/or rows of MultiIndex DataFrame\n",
      "\n",
      "        >>> midx = pd.MultiIndex(levels=[['lama', 'cow', 'falcon'],\n",
      "        ...                              ['speed', 'weight', 'length']],\n",
      "        ...                      labels=[[0, 0, 0, 1, 1, 1, 2, 2, 2],\n",
      "        ...                              [0, 1, 2, 0, 1, 2, 0, 1, 2]])\n",
      "        >>> df = pd.DataFrame(index=midx, columns=['big', 'small'],\n",
      "        ...                   data=[[45, 30], [200, 100], [1.5, 1], [30, 20],\n",
      "        ...                         [250, 150], [1.5, 0.8], [320, 250],\n",
      "        ...                         [1, 0.8], [0.3,0.2]])\n",
      "        >>> df\n",
      "                        big     small\n",
      "        lama    speed   45.0    30.0\n",
      "                weight  200.0   100.0\n",
      "                length  1.5     1.0\n",
      "        cow     speed   30.0    20.0\n",
      "                weight  250.0   150.0\n",
      "                length  1.5     0.8\n",
      "        falcon  speed   320.0   250.0\n",
      "                weight  1.0     0.8\n",
      "                length  0.3     0.2\n",
      "\n",
      "        >>> df.drop(index='cow', columns='small')\n",
      "                        big\n",
      "        lama    speed   45.0\n",
      "                weight  200.0\n",
      "                length  1.5\n",
      "        falcon  speed   320.0\n",
      "                weight  1.0\n",
      "                length  0.3\n",
      "\n",
      "        >>> df.drop(index='length', level=1)\n",
      "                        big     small\n",
      "        lama    speed   45.0    30.0\n",
      "                weight  200.0   100.0\n",
      "        cow     speed   30.0    20.0\n",
      "                weight  250.0   150.0\n",
      "        falcon  speed   320.0   250.0\n",
      "                weight  1.0     0.8\n",
      "        \n"
     ]
    }
   ],
   "source": [
    "print(df.drop.__doc__)"
   ]
  },
  {
   "cell_type": "code",
   "execution_count": 71,
   "metadata": {},
   "outputs": [
    {
     "name": "stdout",
     "output_type": "stream",
     "text": [
      "#### original DF ***\n",
      "    one  two  three\n",
      "a  11.0   44   88.0\n",
      "b  22.0   55   99.0\n",
      "c  33.0   66  101.0\n",
      "d   NaN   77    NaN\n",
      "    one  two  three\n",
      "c  33.0   66  101.0\n",
      "d   NaN   77    NaN\n"
     ]
    }
   ],
   "source": [
    "# Deleting an row by providing an index position\n",
    "data = {'one': pd.Series([11,22,33], index=['a', 'b', 'c']),\n",
    "       'two':pd.Series([44,55,66,77], index=['a', 'b', 'c', 'd']),\n",
    "       'three': pd.Series([88,99,101], index=['a', 'b', 'c'])}\n",
    "\n",
    "df = pd.DataFrame(data)\n",
    "print(\"#### original DF ***\")\n",
    "print(df)\n",
    "print(df.drop(df.index[[0,1]]))\n",
    "\n",
    "\n"
   ]
  },
  {
   "cell_type": "code",
   "execution_count": 72,
   "metadata": {},
   "outputs": [
    {
     "data": {
      "text/plain": [
       "Index(['a', 'b', 'c', 'd'], dtype='object')"
      ]
     },
     "execution_count": 72,
     "metadata": {},
     "output_type": "execute_result"
    }
   ],
   "source": [
    "df.index"
   ]
  },
  {
   "cell_type": "code",
   "execution_count": 74,
   "metadata": {},
   "outputs": [
    {
     "name": "stdout",
     "output_type": "stream",
     "text": [
      "#### original DF ***\n",
      "    one  two  three\n",
      "a  11.0   44   88.0\n",
      "b  22.0   55   99.0\n",
      "c  33.0   66  101.0\n",
      "d   NaN   77    NaN\n",
      "    one\n",
      "a  11.0\n",
      "b  22.0\n",
      "c  33.0\n",
      "d   NaN\n"
     ]
    }
   ],
   "source": [
    "# delete an column using drop() by using parameter 'columns'\n",
    "data = {'one': pd.Series([11,22,33], index=['a', 'b', 'c']),\n",
    "       'two':pd.Series([44,55,66,77], index=['a', 'b', 'c', 'd']),\n",
    "       'three': pd.Series([88,99,101], index=['a', 'b', 'c'])}\n",
    "\n",
    "df = pd.DataFrame(data)\n",
    "print(\"#### original DF ***\")\n",
    "print(df)\n",
    "print(\"deleting the columns\")\n",
    "print(df.drop(columns=['two', 'three']))\n"
   ]
  },
  {
   "cell_type": "code",
   "execution_count": 77,
   "metadata": {},
   "outputs": [
    {
     "name": "stdout",
     "output_type": "stream",
     "text": [
      "#### original DF ***\n",
      "    one  two  three\n",
      "a  11.0   44   88.0\n",
      "b  22.0   55   99.0\n",
      "c  33.0   66  101.0\n",
      "d   NaN   77    NaN\n",
      "*****deleting the columns****\n",
      "    one\n",
      "a  11.0\n",
      "b  22.0\n",
      "c  33.0\n",
      "d   NaN\n"
     ]
    }
   ],
   "source": [
    "# delete an column using drop() by using parameter 'axis=1' to indicate\n",
    "# that we are going to work on columns.\n",
    "data = {'one': pd.Series([11,22,33], index=['a', 'b', 'c']),\n",
    "       'two':pd.Series([44,55,66,77], index=['a', 'b', 'c', 'd']),\n",
    "       'three': pd.Series([88,99,101], index=['a', 'b', 'c'])}\n",
    "\n",
    "df = pd.DataFrame(data)\n",
    "print(\"#### original DF ***\")\n",
    "print(df)\n",
    "print(\"*****deleting the columns****\")\n",
    "print(df.drop(['two', 'three'], axis=1))\n"
   ]
  },
  {
   "cell_type": "code",
   "execution_count": 78,
   "metadata": {},
   "outputs": [
    {
     "name": "stdout",
     "output_type": "stream",
     "text": [
      "               Braund              Mr. Owen Harris   1\n",
      "0           Heikkinen                  Miss. Laina   0\n",
      "1               Allen            Mr. William Henry   0\n",
      "2               Moran                    Mr. James   0\n",
      "3            McCarthy                Mr. Timothy J   0\n",
      "4             Bonnell              Miss. Elizabeth   0\n",
      "5           Andersson             Mr. Anders Johan   0\n",
      "6            Williams           Mr. Charles Eugene   1\n",
      "7          Masselmani                  Mrs. Fatima   0\n",
      "8              Fynney                 Mr. Joseph J   0\n",
      "9             Beesley                 Mr. Lawrence   0\n",
      "10             Sloper         Mr. William Thompson   0\n",
      "11               Emir            Mr. Farred Chehab   0\n",
      "12           Todoroff                    Mr. Lalio   0\n",
      "13          Uruchurtu                Don. Manuel E   1\n",
      "14              Glynn            Miss. Mary Agatha   0\n",
      "15            Wheadon                 Mr. Edward H   0\n",
      "16              Meyer             Mr. Edgar Joseph   0\n",
      "17          Holverson          Mr. Alexander Oskar   0\n",
      "18              Mamee                    Mr. Hanna   0\n",
      "19             Kraeff                  Mr. Theodor   0\n",
      "20             Rogers             Mr. William John   1\n",
      "21             Lennon                    Mr. Denis   0\n",
      "22             Samaan                  Mr. Youssef   0\n",
      "23              Ostby      Mr. Engelhart Cornelius   0\n",
      "24            Woolner                     Mr. Hugh   0\n",
      "25              Novel                 Mr. Mansouer   0\n",
      "26         Sirayanian                    Mr. Orsen   0\n",
      "27              Icard                 Miss. Amelie   1\n",
      "28             Harris          Mr. Henry Birkhardt   0\n",
      "29            Stewart                 Mr. Albert A   0\n",
      "..                ...                           ... ..\n",
      "501        Augustsson                   Mr. Albert   0\n",
      "502           Compton           Miss. Sara Rebecca   0\n",
      "503            Sirota                  Mr. Maurice   1\n",
      "504              Chip                    Mr. Chang   0\n",
      "505          Marechal                   Mr. Pierre   0\n",
      "506          Serepeca                Miss. Augusta   0\n",
      "507     Lemberopolous                  Mr. Peter L   0\n",
      "508            Abbing                  Mr. Anthony   0\n",
      "509              Sage           Mr. Douglas Bullen   0\n",
      "510           Markoff                    Mr. Marin   1\n",
      "511            Harper                    Rev. John   0\n",
      "512          Svensson                    Mr. Johan   0\n",
      "513              Daly             Mr. Peter Denis    0\n",
      "514              Razi                   Mr. Raihed   0\n",
      "515            Hansen              Mr. Claus Peter   0\n",
      "516              Gill             Mr. John William   0\n",
      "517      Duran y More               Miss. Asuncion   1\n",
      "518          Roebling   Mr. Washington Augustus II   0\n",
      "519     van Melkebeke                 Mr. Philemon   0\n",
      "520            Balkic                    Mr. Cerin   0\n",
      "521          Carlsson               Mr. Frans Olof   0\n",
      "522   Vander Cruyssen                   Mr. Victor   0\n",
      "523            Laleff                   Mr. Kristo   0\n",
      "524            Markun                   Mr. Johann   1\n",
      "525          Dahlberg           Miss. Gerda Ulrika   0\n",
      "526          Banfield          Mr. Frederick James   0\n",
      "527          Sutehall                 Mr. Henry Jr   0\n",
      "528          Montvila                  Rev. Juozas   0\n",
      "529              Behr              Mr. Karl Howell   0\n",
      "530            Dooley                  Mr. Patrick   0\n",
      "\n",
      "[531 rows x 3 columns]\n"
     ]
    }
   ],
   "source": [
    "# Importing Data from CSV to DF\n",
    "import pandas as pd\n",
    "df = pd.read_csv('vipin.csv')\n",
    "print(df)"
   ]
  },
  {
   "cell_type": "code",
   "execution_count": 79,
   "metadata": {},
   "outputs": [
    {
     "data": {
      "text/html": [
       "<div>\n",
       "<style scoped>\n",
       "    .dataframe tbody tr th:only-of-type {\n",
       "        vertical-align: middle;\n",
       "    }\n",
       "\n",
       "    .dataframe tbody tr th {\n",
       "        vertical-align: top;\n",
       "    }\n",
       "\n",
       "    .dataframe thead th {\n",
       "        text-align: right;\n",
       "    }\n",
       "</style>\n",
       "<table border=\"1\" class=\"dataframe\">\n",
       "  <thead>\n",
       "    <tr style=\"text-align: right;\">\n",
       "      <th></th>\n",
       "      <th>Braund</th>\n",
       "      <th>Mr. Owen Harris</th>\n",
       "      <th>1</th>\n",
       "    </tr>\n",
       "  </thead>\n",
       "  <tbody>\n",
       "    <tr>\n",
       "      <th>0</th>\n",
       "      <td>Heikkinen</td>\n",
       "      <td>Miss. Laina</td>\n",
       "      <td>0</td>\n",
       "    </tr>\n",
       "    <tr>\n",
       "      <th>1</th>\n",
       "      <td>Allen</td>\n",
       "      <td>Mr. William Henry</td>\n",
       "      <td>0</td>\n",
       "    </tr>\n",
       "    <tr>\n",
       "      <th>2</th>\n",
       "      <td>Moran</td>\n",
       "      <td>Mr. James</td>\n",
       "      <td>0</td>\n",
       "    </tr>\n",
       "    <tr>\n",
       "      <th>3</th>\n",
       "      <td>McCarthy</td>\n",
       "      <td>Mr. Timothy J</td>\n",
       "      <td>0</td>\n",
       "    </tr>\n",
       "    <tr>\n",
       "      <th>4</th>\n",
       "      <td>Bonnell</td>\n",
       "      <td>Miss. Elizabeth</td>\n",
       "      <td>0</td>\n",
       "    </tr>\n",
       "  </tbody>\n",
       "</table>\n",
       "</div>"
      ],
      "text/plain": [
       "       Braund     Mr. Owen Harris   1\n",
       "0   Heikkinen         Miss. Laina   0\n",
       "1       Allen   Mr. William Henry   0\n",
       "2       Moran           Mr. James   0\n",
       "3    McCarthy       Mr. Timothy J   0\n",
       "4     Bonnell     Miss. Elizabeth   0"
      ]
     },
     "execution_count": 79,
     "metadata": {},
     "output_type": "execute_result"
    }
   ],
   "source": [
    "df.head() # prints first 5 rows"
   ]
  },
  {
   "cell_type": "code",
   "execution_count": 82,
   "metadata": {},
   "outputs": [
    {
     "name": "stdout",
     "output_type": "stream",
     "text": [
      "            0                    1  2\n",
      "0      Braund     Mr. Owen Harris   1\n",
      "1   Heikkinen         Miss. Laina   0\n",
      "2       Allen   Mr. William Henry   0\n",
      "3       Moran           Mr. James   0\n",
      "4    McCarthy       Mr. Timothy J   0\n"
     ]
    }
   ],
   "source": [
    "import pandas as pd\n",
    "df = pd.read_csv('vipin.csv', header=None)\n",
    "print(df.head())"
   ]
  },
  {
   "cell_type": "code",
   "execution_count": 81,
   "metadata": {},
   "outputs": [
    {
     "name": "stdout",
     "output_type": "stream",
     "text": [
      "\n",
      "Read CSV (comma-separated) file into DataFrame\n",
      "\n",
      "Also supports optionally iterating or breaking of the file\n",
      "into chunks.\n",
      "\n",
      "Additional help can be found in the `online docs for IO Tools\n",
      "<http://pandas.pydata.org/pandas-docs/stable/io.html>`_.\n",
      "\n",
      "Parameters\n",
      "----------\n",
      "filepath_or_buffer : str, pathlib.Path, py._path.local.LocalPath or any \\\n",
      "object with a read() method (such as a file handle or StringIO)\n",
      "    The string could be a URL. Valid URL schemes include http, ftp, s3, and\n",
      "    file. For file URLs, a host is expected. For instance, a local file could\n",
      "    be file://localhost/path/to/table.csv\n",
      "sep : str, default ','\n",
      "    Delimiter to use. If sep is None, the C engine cannot automatically detect\n",
      "    the separator, but the Python parsing engine can, meaning the latter will\n",
      "    be used and automatically detect the separator by Python's builtin sniffer\n",
      "    tool, ``csv.Sniffer``. In addition, separators longer than 1 character and\n",
      "    different from ``'\\s+'`` will be interpreted as regular expressions and\n",
      "    will also force the use of the Python parsing engine. Note that regex\n",
      "    delimiters are prone to ignoring quoted data. Regex example: ``'\\r\\t'``\n",
      "delimiter : str, default ``None``\n",
      "    Alternative argument name for sep.\n",
      "delim_whitespace : boolean, default False\n",
      "    Specifies whether or not whitespace (e.g. ``' '`` or ``'\\t'``) will be\n",
      "    used as the sep. Equivalent to setting ``sep='\\s+'``. If this option\n",
      "    is set to True, nothing should be passed in for the ``delimiter``\n",
      "    parameter.\n",
      "\n",
      "    .. versionadded:: 0.18.1 support for the Python parser.\n",
      "\n",
      "header : int or list of ints, default 'infer'\n",
      "    Row number(s) to use as the column names, and the start of the\n",
      "    data.  Default behavior is to infer the column names: if no names\n",
      "    are passed the behavior is identical to ``header=0`` and column\n",
      "    names are inferred from the first line of the file, if column\n",
      "    names are passed explicitly then the behavior is identical to\n",
      "    ``header=None``. Explicitly pass ``header=0`` to be able to\n",
      "    replace existing names. The header can be a list of integers that\n",
      "    specify row locations for a multi-index on the columns\n",
      "    e.g. [0,1,3]. Intervening rows that are not specified will be\n",
      "    skipped (e.g. 2 in this example is skipped). Note that this\n",
      "    parameter ignores commented lines and empty lines if\n",
      "    ``skip_blank_lines=True``, so header=0 denotes the first line of\n",
      "    data rather than the first line of the file.\n",
      "names : array-like, default None\n",
      "    List of column names to use. If file contains no header row, then you\n",
      "    should explicitly pass header=None. Duplicates in this list will cause\n",
      "    a ``UserWarning`` to be issued.\n",
      "index_col : int or sequence or False, default None\n",
      "    Column to use as the row labels of the DataFrame. If a sequence is given, a\n",
      "    MultiIndex is used. If you have a malformed file with delimiters at the end\n",
      "    of each line, you might consider index_col=False to force pandas to _not_\n",
      "    use the first column as the index (row names)\n",
      "usecols : list-like or callable, default None\n",
      "    Return a subset of the columns. If list-like, all elements must either\n",
      "    be positional (i.e. integer indices into the document columns) or strings\n",
      "    that correspond to column names provided either by the user in `names` or\n",
      "    inferred from the document header row(s). For example, a valid list-like\n",
      "    `usecols` parameter would be [0, 1, 2] or ['foo', 'bar', 'baz']. Element\n",
      "    order is ignored, so ``usecols=[0, 1]`` is the same as ``[1, 0]``.\n",
      "    To instantiate a DataFrame from ``data`` with element order preserved use\n",
      "    ``pd.read_csv(data, usecols=['foo', 'bar'])[['foo', 'bar']]`` for columns\n",
      "    in ``['foo', 'bar']`` order or\n",
      "    ``pd.read_csv(data, usecols=['foo', 'bar'])[['bar', 'foo']]``\n",
      "    for ``['bar', 'foo']`` order.\n",
      "\n",
      "    If callable, the callable function will be evaluated against the column\n",
      "    names, returning names where the callable function evaluates to True. An\n",
      "    example of a valid callable argument would be ``lambda x: x.upper() in\n",
      "    ['AAA', 'BBB', 'DDD']``. Using this parameter results in much faster\n",
      "    parsing time and lower memory usage.\n",
      "squeeze : boolean, default False\n",
      "    If the parsed data only contains one column then return a Series\n",
      "prefix : str, default None\n",
      "    Prefix to add to column numbers when no header, e.g. 'X' for X0, X1, ...\n",
      "mangle_dupe_cols : boolean, default True\n",
      "    Duplicate columns will be specified as 'X', 'X.1', ...'X.N', rather than\n",
      "    'X'...'X'. Passing in False will cause data to be overwritten if there\n",
      "    are duplicate names in the columns.\n",
      "dtype : Type name or dict of column -> type, default None\n",
      "    Data type for data or columns. E.g. {'a': np.float64, 'b': np.int32}\n",
      "    Use `str` or `object` together with suitable `na_values` settings\n",
      "    to preserve and not interpret dtype.\n",
      "    If converters are specified, they will be applied INSTEAD\n",
      "    of dtype conversion.\n",
      "engine : {'c', 'python'}, optional\n",
      "    Parser engine to use. The C engine is faster while the python engine is\n",
      "    currently more feature-complete.\n",
      "converters : dict, default None\n",
      "    Dict of functions for converting values in certain columns. Keys can either\n",
      "    be integers or column labels\n",
      "true_values : list, default None\n",
      "    Values to consider as True\n",
      "false_values : list, default None\n",
      "    Values to consider as False\n",
      "skipinitialspace : boolean, default False\n",
      "    Skip spaces after delimiter.\n",
      "skiprows : list-like or integer or callable, default None\n",
      "    Line numbers to skip (0-indexed) or number of lines to skip (int)\n",
      "    at the start of the file.\n",
      "\n",
      "    If callable, the callable function will be evaluated against the row\n",
      "    indices, returning True if the row should be skipped and False otherwise.\n",
      "    An example of a valid callable argument would be ``lambda x: x in [0, 2]``.\n",
      "skipfooter : int, default 0\n",
      "    Number of lines at bottom of file to skip (Unsupported with engine='c')\n",
      "nrows : int, default None\n",
      "    Number of rows of file to read. Useful for reading pieces of large files\n",
      "na_values : scalar, str, list-like, or dict, default None\n",
      "    Additional strings to recognize as NA/NaN. If dict passed, specific\n",
      "    per-column NA values.  By default the following values are interpreted as\n",
      "    NaN: '', '#N/A', '#N/A N/A', '#NA', '-1.#IND', '-1.#QNAN', '-NaN', '-nan',\n",
      "    '1.#IND', '1.#QNAN', 'N/A', 'NA', 'NULL', 'NaN', 'n/a', 'nan',\n",
      "    'null'.\n",
      "keep_default_na : bool, default True\n",
      "    Whether or not to include the default NaN values when parsing the data.\n",
      "    Depending on whether `na_values` is passed in, the behavior is as follows:\n",
      "\n",
      "    * If `keep_default_na` is True, and `na_values` are specified, `na_values`\n",
      "      is appended to the default NaN values used for parsing.\n",
      "    * If `keep_default_na` is True, and `na_values` are not specified, only\n",
      "      the default NaN values are used for parsing.\n",
      "    * If `keep_default_na` is False, and `na_values` are specified, only\n",
      "      the NaN values specified `na_values` are used for parsing.\n",
      "    * If `keep_default_na` is False, and `na_values` are not specified, no\n",
      "      strings will be parsed as NaN.\n",
      "\n",
      "    Note that if `na_filter` is passed in as False, the `keep_default_na` and\n",
      "    `na_values` parameters will be ignored.\n",
      "na_filter : boolean, default True\n",
      "    Detect missing value markers (empty strings and the value of na_values). In\n",
      "    data without any NAs, passing na_filter=False can improve the performance\n",
      "    of reading a large file\n",
      "verbose : boolean, default False\n",
      "    Indicate number of NA values placed in non-numeric columns\n",
      "skip_blank_lines : boolean, default True\n",
      "    If True, skip over blank lines rather than interpreting as NaN values\n",
      "parse_dates : boolean or list of ints or names or list of lists or dict, default False\n",
      "\n",
      "    * boolean. If True -> try parsing the index.\n",
      "    * list of ints or names. e.g. If [1, 2, 3] -> try parsing columns 1, 2, 3\n",
      "      each as a separate date column.\n",
      "    * list of lists. e.g.  If [[1, 3]] -> combine columns 1 and 3 and parse as\n",
      "      a single date column.\n",
      "    * dict, e.g. {'foo' : [1, 3]} -> parse columns 1, 3 as date and call result\n",
      "      'foo'\n",
      "\n",
      "    If a column or index contains an unparseable date, the entire column or\n",
      "    index will be returned unaltered as an object data type. For non-standard\n",
      "    datetime parsing, use ``pd.to_datetime`` after ``pd.read_csv``\n",
      "\n",
      "    Note: A fast-path exists for iso8601-formatted dates.\n",
      "infer_datetime_format : boolean, default False\n",
      "    If True and `parse_dates` is enabled, pandas will attempt to infer the\n",
      "    format of the datetime strings in the columns, and if it can be inferred,\n",
      "    switch to a faster method of parsing them. In some cases this can increase\n",
      "    the parsing speed by 5-10x.\n",
      "keep_date_col : boolean, default False\n",
      "    If True and `parse_dates` specifies combining multiple columns then\n",
      "    keep the original columns.\n",
      "date_parser : function, default None\n",
      "    Function to use for converting a sequence of string columns to an array of\n",
      "    datetime instances. The default uses ``dateutil.parser.parser`` to do the\n",
      "    conversion. Pandas will try to call `date_parser` in three different ways,\n",
      "    advancing to the next if an exception occurs: 1) Pass one or more arrays\n",
      "    (as defined by `parse_dates`) as arguments; 2) concatenate (row-wise) the\n",
      "    string values from the columns defined by `parse_dates` into a single array\n",
      "    and pass that; and 3) call `date_parser` once for each row using one or\n",
      "    more strings (corresponding to the columns defined by `parse_dates`) as\n",
      "    arguments.\n",
      "dayfirst : boolean, default False\n",
      "    DD/MM format dates, international and European format\n",
      "iterator : boolean, default False\n",
      "    Return TextFileReader object for iteration or getting chunks with\n",
      "    ``get_chunk()``.\n",
      "chunksize : int, default None\n",
      "    Return TextFileReader object for iteration.\n",
      "    See the `IO Tools docs\n",
      "    <http://pandas.pydata.org/pandas-docs/stable/io.html#io-chunking>`_\n",
      "    for more information on ``iterator`` and ``chunksize``.\n",
      "compression : {'infer', 'gzip', 'bz2', 'zip', 'xz', None}, default 'infer'\n",
      "    For on-the-fly decompression of on-disk data. If 'infer' and\n",
      "    `filepath_or_buffer` is path-like, then detect compression from the\n",
      "    following extensions: '.gz', '.bz2', '.zip', or '.xz' (otherwise no\n",
      "    decompression). If using 'zip', the ZIP file must contain only one data\n",
      "    file to be read in. Set to None for no decompression.\n",
      "\n",
      "    .. versionadded:: 0.18.1 support for 'zip' and 'xz' compression.\n",
      "\n",
      "thousands : str, default None\n",
      "    Thousands separator\n",
      "decimal : str, default '.'\n",
      "    Character to recognize as decimal point (e.g. use ',' for European data).\n",
      "float_precision : string, default None\n",
      "    Specifies which converter the C engine should use for floating-point\n",
      "    values. The options are `None` for the ordinary converter,\n",
      "    `high` for the high-precision converter, and `round_trip` for the\n",
      "    round-trip converter.\n",
      "lineterminator : str (length 1), default None\n",
      "    Character to break file into lines. Only valid with C parser.\n",
      "quotechar : str (length 1), optional\n",
      "    The character used to denote the start and end of a quoted item. Quoted\n",
      "    items can include the delimiter and it will be ignored.\n",
      "quoting : int or csv.QUOTE_* instance, default 0\n",
      "    Control field quoting behavior per ``csv.QUOTE_*`` constants. Use one of\n",
      "    QUOTE_MINIMAL (0), QUOTE_ALL (1), QUOTE_NONNUMERIC (2) or QUOTE_NONE (3).\n",
      "doublequote : boolean, default ``True``\n",
      "   When quotechar is specified and quoting is not ``QUOTE_NONE``, indicate\n",
      "   whether or not to interpret two consecutive quotechar elements INSIDE a\n",
      "   field as a single ``quotechar`` element.\n",
      "escapechar : str (length 1), default None\n",
      "    One-character string used to escape delimiter when quoting is QUOTE_NONE.\n",
      "comment : str, default None\n",
      "    Indicates remainder of line should not be parsed. If found at the beginning\n",
      "    of a line, the line will be ignored altogether. This parameter must be a\n",
      "    single character. Like empty lines (as long as ``skip_blank_lines=True``),\n",
      "    fully commented lines are ignored by the parameter `header` but not by\n",
      "    `skiprows`. For example, if ``comment='#'``, parsing\n",
      "    ``#empty\\na,b,c\\n1,2,3`` with ``header=0`` will result in 'a,b,c' being\n",
      "    treated as the header.\n",
      "encoding : str, default None\n",
      "    Encoding to use for UTF when reading/writing (ex. 'utf-8'). `List of Python\n",
      "    standard encodings\n",
      "    <https://docs.python.org/3/library/codecs.html#standard-encodings>`_\n",
      "dialect : str or csv.Dialect instance, default None\n",
      "    If provided, this parameter will override values (default or not) for the\n",
      "    following parameters: `delimiter`, `doublequote`, `escapechar`,\n",
      "    `skipinitialspace`, `quotechar`, and `quoting`. If it is necessary to\n",
      "    override values, a ParserWarning will be issued. See csv.Dialect\n",
      "    documentation for more details.\n",
      "tupleize_cols : boolean, default False\n",
      "    .. deprecated:: 0.21.0\n",
      "       This argument will be removed and will always convert to MultiIndex\n",
      "\n",
      "    Leave a list of tuples on columns as is (default is to convert to\n",
      "    a MultiIndex on the columns)\n",
      "error_bad_lines : boolean, default True\n",
      "    Lines with too many fields (e.g. a csv line with too many commas) will by\n",
      "    default cause an exception to be raised, and no DataFrame will be returned.\n",
      "    If False, then these \"bad lines\" will dropped from the DataFrame that is\n",
      "    returned.\n",
      "warn_bad_lines : boolean, default True\n",
      "    If error_bad_lines is False, and warn_bad_lines is True, a warning for each\n",
      "    \"bad line\" will be output.\n",
      "low_memory : boolean, default True\n",
      "    Internally process the file in chunks, resulting in lower memory use\n",
      "    while parsing, but possibly mixed type inference.  To ensure no mixed\n",
      "    types either set False, or specify the type with the `dtype` parameter.\n",
      "    Note that the entire file is read into a single DataFrame regardless,\n",
      "    use the `chunksize` or `iterator` parameter to return the data in chunks.\n",
      "    (Only valid with C parser)\n",
      "memory_map : boolean, default False\n",
      "    If a filepath is provided for `filepath_or_buffer`, map the file object\n",
      "    directly onto memory and access the data directly from there. Using this\n",
      "    option can improve performance because there is no longer any I/O overhead.\n",
      "\n",
      "Returns\n",
      "-------\n",
      "result : DataFrame or TextParser\n",
      "\n",
      "\n"
     ]
    }
   ],
   "source": [
    "print(pd.read_csv.__doc__)"
   ]
  },
  {
   "cell_type": "code",
   "execution_count": 83,
   "metadata": {},
   "outputs": [
    {
     "name": "stdout",
     "output_type": "stream",
     "text": [
      "   MiddleName             FullName  value\n",
      "0      Braund     Mr. Owen Harris       1\n",
      "1   Heikkinen         Miss. Laina       0\n",
      "2       Allen   Mr. William Henry       0\n",
      "3       Moran           Mr. James       0\n",
      "4    McCarthy       Mr. Timothy J       0\n"
     ]
    }
   ],
   "source": [
    "# give column name of our choice\n",
    "# use 'names'\n",
    "df = pd.read_csv('vipin.csv', header=None, names=['MiddleName', 'FullName','value'])\n",
    "print(df.head())"
   ]
  },
  {
   "cell_type": "code",
   "execution_count": 84,
   "metadata": {},
   "outputs": [
    {
     "name": "stdout",
     "output_type": "stream",
     "text": [
      "           MiddleName                      FullName  value\n",
      "0               Moran                    Mr. James       0\n",
      "1            McCarthy                Mr. Timothy J       0\n",
      "2             Bonnell              Miss. Elizabeth       0\n",
      "3           Andersson             Mr. Anders Johan       0\n",
      "4            Williams           Mr. Charles Eugene       1\n",
      "5          Masselmani                  Mrs. Fatima       0\n",
      "6              Fynney                 Mr. Joseph J       0\n",
      "7             Beesley                 Mr. Lawrence       0\n",
      "8              Sloper         Mr. William Thompson       0\n",
      "9                Emir            Mr. Farred Chehab       0\n",
      "10           Todoroff                    Mr. Lalio       0\n",
      "11          Uruchurtu                Don. Manuel E       1\n",
      "12              Glynn            Miss. Mary Agatha       0\n",
      "13            Wheadon                 Mr. Edward H       0\n",
      "14              Meyer             Mr. Edgar Joseph       0\n",
      "15          Holverson          Mr. Alexander Oskar       0\n",
      "16              Mamee                    Mr. Hanna       0\n",
      "17             Kraeff                  Mr. Theodor       0\n",
      "18             Rogers             Mr. William John       1\n",
      "19             Lennon                    Mr. Denis       0\n",
      "20             Samaan                  Mr. Youssef       0\n",
      "21              Ostby      Mr. Engelhart Cornelius       0\n",
      "22            Woolner                     Mr. Hugh       0\n",
      "23              Novel                 Mr. Mansouer       0\n",
      "24         Sirayanian                    Mr. Orsen       0\n",
      "25              Icard                 Miss. Amelie       1\n",
      "26             Harris          Mr. Henry Birkhardt       0\n",
      "27            Stewart                 Mr. Albert A       0\n",
      "28           Moubarek               Master. Gerios       0\n",
      "29               Kink                  Mr. Vincenz       0\n",
      "..                ...                           ...    ...\n",
      "499        Augustsson                   Mr. Albert       0\n",
      "500           Compton           Miss. Sara Rebecca       0\n",
      "501            Sirota                  Mr. Maurice       1\n",
      "502              Chip                    Mr. Chang       0\n",
      "503          Marechal                   Mr. Pierre       0\n",
      "504          Serepeca                Miss. Augusta       0\n",
      "505     Lemberopolous                  Mr. Peter L       0\n",
      "506            Abbing                  Mr. Anthony       0\n",
      "507              Sage           Mr. Douglas Bullen       0\n",
      "508           Markoff                    Mr. Marin       1\n",
      "509            Harper                    Rev. John       0\n",
      "510          Svensson                    Mr. Johan       0\n",
      "511              Daly             Mr. Peter Denis        0\n",
      "512              Razi                   Mr. Raihed       0\n",
      "513            Hansen              Mr. Claus Peter       0\n",
      "514              Gill             Mr. John William       0\n",
      "515      Duran y More               Miss. Asuncion       1\n",
      "516          Roebling   Mr. Washington Augustus II       0\n",
      "517     van Melkebeke                 Mr. Philemon       0\n",
      "518            Balkic                    Mr. Cerin       0\n",
      "519          Carlsson               Mr. Frans Olof       0\n",
      "520   Vander Cruyssen                   Mr. Victor       0\n",
      "521            Laleff                   Mr. Kristo       0\n",
      "522            Markun                   Mr. Johann       1\n",
      "523          Dahlberg           Miss. Gerda Ulrika       0\n",
      "524          Banfield          Mr. Frederick James       0\n",
      "525          Sutehall                 Mr. Henry Jr       0\n",
      "526          Montvila                  Rev. Juozas       0\n",
      "527              Behr              Mr. Karl Howell       0\n",
      "528            Dooley                  Mr. Patrick       0\n",
      "\n",
      "[529 rows x 3 columns]\n"
     ]
    }
   ],
   "source": [
    "# skiprows=count , skips that many rows from the top\n",
    "df = pd.read_csv('vipin.csv',\n",
    "                 header=None,\n",
    "                 names=['MiddleName', 'FullName','value'],\n",
    "                skiprows=3)\n",
    "print(df)"
   ]
  },
  {
   "cell_type": "code",
   "execution_count": 87,
   "metadata": {},
   "outputs": [
    {
     "data": {
      "text/html": [
       "<div>\n",
       "<style scoped>\n",
       "    .dataframe tbody tr th:only-of-type {\n",
       "        vertical-align: middle;\n",
       "    }\n",
       "\n",
       "    .dataframe tbody tr th {\n",
       "        vertical-align: top;\n",
       "    }\n",
       "\n",
       "    .dataframe thead th {\n",
       "        text-align: right;\n",
       "    }\n",
       "</style>\n",
       "<table border=\"1\" class=\"dataframe\">\n",
       "  <thead>\n",
       "    <tr style=\"text-align: right;\">\n",
       "      <th></th>\n",
       "      <th>0</th>\n",
       "      <th>1</th>\n",
       "      <th>2</th>\n",
       "    </tr>\n",
       "  </thead>\n",
       "  <tbody>\n",
       "    <tr>\n",
       "      <th>0</th>\n",
       "      <td>hello</td>\n",
       "      <td>bye</td>\n",
       "      <td>hi</td>\n",
       "    </tr>\n",
       "    <tr>\n",
       "      <th>1</th>\n",
       "      <td>abc</td>\n",
       "      <td>def</td>\n",
       "      <td>ravi</td>\n",
       "    </tr>\n",
       "  </tbody>\n",
       "</table>\n",
       "</div>"
      ],
      "text/plain": [
       "        0      1      2\n",
       "0  hello    bye      hi\n",
       "1    abc    def    ravi"
      ]
     },
     "execution_count": 87,
     "metadata": {},
     "output_type": "execute_result"
    }
   ],
   "source": [
    "# reading files which are not csv\n",
    "df = pd.read_csv('giridhar.txt', sep='$',header=None)\n",
    "df"
   ]
  },
  {
   "cell_type": "code",
   "execution_count": 90,
   "metadata": {},
   "outputs": [
    {
     "data": {
      "text/html": [
       "<div>\n",
       "<style scoped>\n",
       "    .dataframe tbody tr th:only-of-type {\n",
       "        vertical-align: middle;\n",
       "    }\n",
       "\n",
       "    .dataframe tbody tr th {\n",
       "        vertical-align: top;\n",
       "    }\n",
       "\n",
       "    .dataframe thead th {\n",
       "        text-align: right;\n",
       "    }\n",
       "</style>\n",
       "<table border=\"1\" class=\"dataframe\">\n",
       "  <thead>\n",
       "    <tr style=\"text-align: right;\">\n",
       "      <th></th>\n",
       "      <th>0</th>\n",
       "      <th>1</th>\n",
       "      <th>2</th>\n",
       "    </tr>\n",
       "  </thead>\n",
       "  <tbody>\n",
       "    <tr>\n",
       "      <th>0</th>\n",
       "      <td>hello</td>\n",
       "      <td>bye</td>\n",
       "      <td>hi</td>\n",
       "    </tr>\n",
       "    <tr>\n",
       "      <th>1</th>\n",
       "      <td>abc</td>\n",
       "      <td>def</td>\n",
       "      <td>ravi</td>\n",
       "    </tr>\n",
       "    <tr>\n",
       "      <th>2</th>\n",
       "      <td>hello</td>\n",
       "      <td>address{name,streeet}</td>\n",
       "      <td>xyz</td>\n",
       "    </tr>\n",
       "  </tbody>\n",
       "</table>\n",
       "</div>"
      ],
      "text/plain": [
       "        0                      1      2\n",
       "0  hello                    bye      hi\n",
       "1    abc                    def    ravi\n",
       "2   hello  address{name,streeet}    xyz"
      ]
     },
     "execution_count": 90,
     "metadata": {},
     "output_type": "execute_result"
    }
   ],
   "source": [
    "df = pd.read_csv('giridhar.txt', sep='$',header=None)\n",
    "df"
   ]
  },
  {
   "cell_type": "code",
   "execution_count": 91,
   "metadata": {},
   "outputs": [],
   "source": [
    "# Export the data into csv file or any delimited value\n",
    "df = pd.read_csv('giridhar.txt', sep='$',header=None)\n",
    "df.to_csv('giridhar_out.csv')"
   ]
  },
  {
   "cell_type": "code",
   "execution_count": 93,
   "metadata": {},
   "outputs": [],
   "source": [
    "df = pd.read_csv('giridhar.txt', sep='$',header=None)\n",
    "df.to_csv('giridhar_out.csv',header=None,index=None)"
   ]
  },
  {
   "cell_type": "markdown",
   "metadata": {},
   "source": [
    "## DataVisualization"
   ]
  },
  {
   "cell_type": "code",
   "execution_count": 95,
   "metadata": {},
   "outputs": [
    {
     "data": {
      "image/png": "[encoded data removed]",
      "text/plain": [
       "<Figure size 432x288 with 1 Axes>"
      ]
     },
     "metadata": {
      "needs_background": "light"
     },
     "output_type": "display_data"
    }
   ],
   "source": [
    "import matplotlib.pyplot as plt\n",
    "\n",
    "plt.plot([11,22,33,44])\n",
    "plt.show()\n"
   ]
  },
  {
   "cell_type": "code",
   "execution_count": 96,
   "metadata": {},
   "outputs": [
    {
     "data": {
      "image/png": "[encoded data removed]",
      "text/plain": [
       "<Figure size 432x288 with 1 Axes>"
      ]
     },
     "metadata": {
      "needs_background": "light"
     },
     "output_type": "display_data"
    }
   ],
   "source": [
    "# both x and y axis values\n",
    "import matplotlib.pyplot as plt\n",
    "\n",
    "x = [0,1,2,3]\n",
    "y = [elem**2 for elem in x]\n",
    "plt.plot(x,y)\n",
    "plt.show()\n"
   ]
  },
  {
   "cell_type": "code",
   "execution_count": 98,
   "metadata": {},
   "outputs": [
    {
     "data": {
      "image/png": "[encoded data removed]",
      "text/plain": [
       "<Figure size 432x288 with 1 Axes>"
      ]
     },
     "metadata": {
      "needs_background": "light"
     },
     "output_type": "display_data"
    }
   ],
   "source": [
    "# both x and y axis values\n",
    "import matplotlib.pyplot as plt\n",
    "import numpy as np\n",
    "x = np.arange(0,5, 0.01)\n",
    "y = [elem**2 for elem in x]\n",
    "plt.plot(x,y)\n",
    "plt.show()\n"
   ]
  },
  {
   "cell_type": "code",
   "execution_count": 99,
   "metadata": {},
   "outputs": [
    {
     "data": {
      "image/png": "[encoded data removed]",
      "text/plain": [
       "<Figure size 432x288 with 1 Axes>"
      ]
     },
     "metadata": {
      "needs_background": "light"
     },
     "output_type": "display_data"
    }
   ],
   "source": [
    "# Multiline plots\n",
    "# both x and y axis values in multiple calls\n",
    "import matplotlib.pyplot as plt\n",
    "\n",
    "x = range(5)  # [0,1,2,3,4]\n",
    "\n",
    "plt.plot(x, [elem for elem in x])\n",
    "plt.plot(x, [elem**2 for elem in x ])\n",
    "plt.plot(x, [elem**3 for elem in x])\n",
    "plt.show()\n"
   ]
  },
  {
   "cell_type": "code",
   "execution_count": 100,
   "metadata": {},
   "outputs": [
    {
     "data": {
      "image/png": "[encoded data removed]",
      "text/plain": [
       "<Figure size 432x288 with 1 Axes>"
      ]
     },
     "metadata": {
      "needs_background": "light"
     },
     "output_type": "display_data"
    }
   ],
   "source": [
    "# Multiline plots\n",
    "# both x and y axis values in a single call\n",
    "import matplotlib.pyplot as plt\n",
    "\n",
    "x = range(5)  # [0,1,2,3,4]\n",
    "\n",
    "plt.plot(x, [elem for elem in x],\n",
    "        x, [elem**2 for elem in x ],\n",
    "        x, [elem**3 for elem in x])\n",
    "\n",
    "plt.show()\n"
   ]
  },
  {
   "cell_type": "code",
   "execution_count": 101,
   "metadata": {},
   "outputs": [
    {
     "data": {
      "image/png": "[encoded data removed]",
      "text/plain": [
       "<Figure size 432x288 with 1 Axes>"
      ]
     },
     "metadata": {
      "needs_background": "light"
     },
     "output_type": "display_data"
    }
   ],
   "source": [
    "# Adding Grid\n",
    "import matplotlib.pyplot as plt\n",
    "\n",
    "x = range(5)  # [0,1,2,3,4]\n",
    "\n",
    "plt.plot(x, [elem for elem in x],\n",
    "        x, [elem**2 for elem in x ],\n",
    "        x, [elem**3 for elem in x])\n",
    "\n",
    "plt.grid(True)\n",
    "plt.show()\n"
   ]
  },
  {
   "cell_type": "code",
   "execution_count": 102,
   "metadata": {},
   "outputs": [
    {
     "data": {
      "image/png": "[encoded data removed]",
      "text/plain": [
       "<Figure size 432x288 with 1 Axes>"
      ]
     },
     "metadata": {
      "needs_background": "light"
     },
     "output_type": "display_data"
    }
   ],
   "source": [
    "# Limiting the axes\n",
    "import matplotlib.pyplot as plt\n",
    "\n",
    "x = range(5)  # [0,1,2,3,4]\n",
    "\n",
    "plt.plot(x, [elem for elem in x],\n",
    "        x, [elem**2 for elem in x ],\n",
    "        x, [elem**3 for elem in x])\n",
    "plt.grid(True)\n",
    "\n",
    "plt.axis([-1, 3, -1,10])\n",
    "plt.show()\n"
   ]
  },
  {
   "cell_type": "code",
   "execution_count": 103,
   "metadata": {},
   "outputs": [
    {
     "data": {
      "image/png": "[encoded data removed]",
      "text/plain": [
       "<Figure size 432x288 with 1 Axes>"
      ]
     },
     "metadata": {
      "needs_background": "light"
     },
     "output_type": "display_data"
    }
   ],
   "source": [
    "# Limiting the axes\n",
    "# Method 2\n",
    "import matplotlib.pyplot as plt\n",
    "\n",
    "x = range(5)  # [0,1,2,3,4]\n",
    "\n",
    "plt.plot(x, [elem for elem in x],\n",
    "        x, [elem**2 for elem in x ],\n",
    "        x, [elem**3 for elem in x])\n",
    "plt.grid(True)\n",
    "\n",
    "plt.xlim(-1, 4)\n",
    "plt.ylim(-1, 20)\n",
    "plt.show()\n"
   ]
  },
  {
   "cell_type": "code",
   "execution_count": 105,
   "metadata": {},
   "outputs": [
    {
     "data": {
      "image/png": "[encoded data removed]",
      "text/plain": [
       "<Figure size 432x288 with 1 Axes>"
      ]
     },
     "metadata": {
      "needs_background": "light"
     },
     "output_type": "display_data"
    }
   ],
   "source": [
    "# adding labels to axes\n",
    "import matplotlib.pyplot as plt\n",
    "\n",
    "x = range(5)  # [0,1,2,3,4]\n",
    "\n",
    "plt.plot(x, [elem for elem in x],\n",
    "        x, [elem**2 for elem in x ],\n",
    "        x, [elem**3 for elem in x])\n",
    "plt.grid(True)\n",
    "\n",
    "plt.xlabel('X-Axis')\n",
    "plt.ylabel('Y-axis')\n",
    "plt.show()\n"
   ]
  },
  {
   "cell_type": "code",
   "execution_count": 106,
   "metadata": {},
   "outputs": [
    {
     "data": {
      "image/png": "[encoded data removed]",
      "text/plain": [
       "<Figure size 432x288 with 1 Axes>"
      ]
     },
     "metadata": {
      "needs_background": "light"
     },
     "output_type": "display_data"
    }
   ],
   "source": [
    "# adding Title to graph\n",
    "import matplotlib.pyplot as plt\n",
    "\n",
    "x = range(5)  # [0,1,2,3,4]\n",
    "\n",
    "plt.plot(x, [elem for elem in x],\n",
    "        x, [elem**2 for elem in x ],\n",
    "        x, [elem**3 for elem in x])\n",
    "plt.grid(True)\n",
    "\n",
    "plt.xlabel('X-Axis')\n",
    "plt.ylabel('Y-axis')\n",
    "\n",
    "plt.title(\"Polynomial Graph\")\n",
    "plt.show()\n"
   ]
  },
  {
   "cell_type": "code",
   "execution_count": 107,
   "metadata": {},
   "outputs": [
    {
     "data": {
      "image/png": "[encoded data removed]",
      "text/plain": [
       "<Figure size 432x288 with 1 Axes>"
      ]
     },
     "metadata": {
      "needs_background": "light"
     },
     "output_type": "display_data"
    }
   ],
   "source": [
    "# adding labels to axes\n",
    "import matplotlib.pyplot as plt\n",
    "\n",
    "x = range(5)  # [0,1,2,3,4]\n",
    "\n",
    "plt.plot(x, [elem for elem in x], label='Linear')\n",
    "plt.plot(x, [elem**2 for elem in x ], label='square')\n",
    "plt.plot(x, [elem**3 for elem in x], label='cube')\n",
    "plt.grid(True)\n",
    "\n",
    "plt.xlabel('X-Axis')\n",
    "plt.ylabel('Y-axis')\n",
    "plt.title(\"Polynomial Graph\")\n",
    "\n",
    "plt.legend() #####\n",
    "plt.show()\n"
   ]
  },
  {
   "cell_type": "code",
   "execution_count": 108,
   "metadata": {},
   "outputs": [
    {
     "data": {
      "image/png": "[encoded data removed]",
      "text/plain": [
       "<Figure size 432x288 with 1 Axes>"
      ]
     },
     "metadata": {
      "needs_background": "light"
     },
     "output_type": "display_data"
    }
   ],
   "source": [
    "# saving plot\n",
    "import matplotlib.pyplot as plt\n",
    "\n",
    "x = range(5)  # [0,1,2,3,4]\n",
    "\n",
    "plt.plot(x, [elem for elem in x], label='Linear')\n",
    "plt.plot(x, [elem**2 for elem in x ], label='square')\n",
    "plt.plot(x, [elem**3 for elem in x], label='cube')\n",
    "plt.grid(True)\n",
    "\n",
    "plt.xlabel('X-Axis')\n",
    "plt.ylabel('Y-axis')\n",
    "plt.title(\"Polynomial Graph\")\n",
    "plt.legend()\n",
    "\n",
    "plt.savefig('ravi.png')\n",
    "plt.show()\n"
   ]
  },
  {
   "cell_type": "code",
   "execution_count": 110,
   "metadata": {},
   "outputs": [
    {
     "name": "stdout",
     "output_type": "stream",
     "text": [
      "[[-6.55890945e-01  2.26414352e-03 -9.31850086e-01 ... -1.11967906e+00\n",
      "  -3.70147041e-01 -7.85745672e-01]\n",
      " [-8.67354769e-01  9.12204384e-01 -1.60035554e+00 ...  1.38445836e+00\n",
      "  -6.81882267e-01 -8.00973866e-01]\n",
      " [-1.69652571e+00 -9.89349078e-01 -1.71179403e+00 ... -1.28744819e+00\n",
      "   1.27493176e+00 -1.89944787e-01]\n",
      " ...\n",
      " [-1.05574194e+00  2.25012896e+00  2.02686658e-01 ...  5.36589774e-01\n",
      "  -5.35069032e-01 -2.04701326e-01]\n",
      " [ 1.36979076e+00  3.93906495e-01 -1.10882072e+00 ...  2.68052088e-01\n",
      "   2.34785414e+00  1.59550013e-01]\n",
      " [ 1.00641479e-01 -2.78221801e-01  1.64383016e-01 ... -1.71540566e+00\n",
      "  -9.57478862e-01 -4.86591664e-01]]\n"
     ]
    },
    {
     "data": {
      "image/png": "[encoded data removed]",
      "text/plain": [
       "<Figure size 432x288 with 1 Axes>"
      ]
     },
     "metadata": {
      "needs_background": "light"
     },
     "output_type": "display_data"
    }
   ],
   "source": [
    "# Histogram\n",
    "import matplotlib.pyplot as plt\n",
    "import numpy as np\n",
    "\n",
    "y = numpy.random.randn(100,100)\n",
    "print(y)\n",
    "plt.hist(y)\n",
    "plt.show()"
   ]
  },
  {
   "cell_type": "code",
   "execution_count": 111,
   "metadata": {},
   "outputs": [
    {
     "data": {
      "image/png": "[encoded data removed]",
      "text/plain": [
       "<Figure size 432x288 with 1 Axes>"
      ]
     },
     "metadata": {
      "needs_background": "light"
     },
     "output_type": "display_data"
    }
   ],
   "source": [
    "# Histogram with user defined bin value\n",
    "import matplotlib.pyplot as plt\n",
    "import numpy as np\n",
    "\n",
    "y = numpy.random.randn(100,100)\n",
    "plt.hist(y, 20)\n",
    "plt.show()"
   ]
  },
  {
   "cell_type": "code",
   "execution_count": 112,
   "metadata": {},
   "outputs": [
    {
     "data": {
      "image/png": "[encoded data removed]",
      "text/plain": [
       "<Figure size 432x288 with 1 Axes>"
      ]
     },
     "metadata": {
      "needs_background": "light"
     },
     "output_type": "display_data"
    }
   ],
   "source": [
    "# Histogram with user defined bin value\n",
    "import matplotlib.pyplot as plt\n",
    "import numpy as np\n",
    "\n",
    "y = numpy.random.randn(100,100)\n",
    "plt.hist(y, 100)\n",
    "plt.show()"
   ]
  },
  {
   "cell_type": "code",
   "execution_count": 113,
   "metadata": {},
   "outputs": [
    {
     "data": {
      "image/png": "[encoded data removed]",
      "text/plain": [
       "<Figure size 432x288 with 1 Axes>"
      ]
     },
     "metadata": {
      "needs_background": "light"
     },
     "output_type": "display_data"
    }
   ],
   "source": [
    "# Bar chart\n",
    "import matplotlib.pyplot as plt\n",
    "\n",
    "plt.bar([1,2,3],[10,20,40])\n",
    "plt.show()"
   ]
  },
  {
   "cell_type": "code",
   "execution_count": 116,
   "metadata": {},
   "outputs": [
    {
     "data": {
      "image/png": "[encoded data removed]",
      "text/plain": [
       "<Figure size 432x288 with 1 Axes>"
      ]
     },
     "metadata": {
      "needs_background": "light"
     },
     "output_type": "display_data"
    }
   ],
   "source": [
    "# Bar chart with names of the Bar\n",
    "import matplotlib.pyplot as plt\n",
    "data_dict = {'Population India': 120, 'USA': 40, 'Sri-lanka':20}\n",
    "for i,key in enumerate(data_dict):\n",
    "    plt.bar(i, data_dict[key])\n",
    "\n",
    "#plt.xticks([0,1,2], data_dict.keys())\n",
    "plt.xticks(np.arange(len(data_dict)), data_dict.keys())\n",
    "\n",
    "plt.show()"
   ]
  },
  {
   "cell_type": "code",
   "execution_count": 117,
   "metadata": {},
   "outputs": [
    {
     "data": {
      "image/png": "[encoded data removed]",
      "text/plain": [
       "<Figure size 216x216 with 1 Axes>"
      ]
     },
     "metadata": {},
     "output_type": "display_data"
    }
   ],
   "source": [
    "# pie chart\n",
    "import matplotlib.pyplot as plt\n",
    "plt.figure(figsize=(3,3))\n",
    "x = [45, 26, 9]\n",
    "my_labels = ['bikes', 'cars', 'buses']\n",
    "\n",
    "plt.pie(x, labels=my_labels)\n",
    "\n",
    "plt.show()"
   ]
  },
  {
   "cell_type": "code",
   "execution_count": 118,
   "metadata": {},
   "outputs": [
    {
     "data": {
      "text/plain": [
       "0.5625"
      ]
     },
     "execution_count": 118,
     "metadata": {},
     "output_type": "execute_result"
    }
   ],
   "source": [
    "45/(45+26+9)  # bike percentage"
   ]
  },
  {
   "cell_type": "code",
   "execution_count": 122,
   "metadata": {},
   "outputs": [
    {
     "data": {
      "image/png": "[encoded data removed]",
      "text/plain": [
       "<Figure size 432x288 with 1 Axes>"
      ]
     },
     "metadata": {},
     "output_type": "display_data"
    }
   ],
   "source": [
    "# percentage in pie chart\n",
    "import matplotlib.pyplot as plt\n",
    "\n",
    "names = ['Cars', 'Buses', 'Bikes', 'Motorcycles']\n",
    "\n",
    "\n",
    "plt.pie([29, 21, 47, 35],\n",
    "        labels=names,\n",
    "        autopct='%1.2f%%'\n",
    ")\n",
    "\n",
    "plt.show()\n"
   ]
  },
  {
   "cell_type": "code",
   "execution_count": 127,
   "metadata": {},
   "outputs": [
    {
     "data": {
      "image/png": "[encoded data removed]",
      "text/plain": [
       "<Figure size 432x288 with 1 Axes>"
      ]
     },
     "metadata": {},
     "output_type": "display_data"
    }
   ],
   "source": [
    "# highlight a portion of the pie chart\n",
    "# explode\n",
    "\n",
    "import matplotlib.pyplot as plt\n",
    "\n",
    "names = ['Cars', 'Buses', 'Bikes', 'Motorcycles']\n",
    "\n",
    "\n",
    "plt.pie([29, 21, 47, 35],\n",
    "        explode=(0,0.5,0,0),\n",
    "        labels=names,\n",
    "        autopct='%1.2f%%'\n",
    ")\n",
    "\n",
    "plt.show()\n",
    "\n"
   ]
  },
  {
   "cell_type": "code",
   "execution_count": 128,
   "metadata": {},
   "outputs": [
    {
     "data": {
      "image/png": "[encoded data removed]",
      "text/plain": [
       "<Figure size 432x288 with 1 Axes>"
      ]
     },
     "metadata": {
      "needs_background": "light"
     },
     "output_type": "display_data"
    }
   ],
   "source": [
    "# scatter plot\n",
    "import matplotlib.pyplot as plt\n",
    "import numpy as np\n",
    "\n",
    "x = np.random.rand(100)\n",
    "y = np.random.rand(100)\n",
    "plt.scatter(x,y)\n",
    "plt.show()"
   ]
  },
  {
   "cell_type": "code",
   "execution_count": 131,
   "metadata": {},
   "outputs": [
    {
     "data": {
      "image/png": "[encoded data removed]",
      "text/plain": [
       "<Figure size 432x288 with 1 Axes>"
      ]
     },
     "metadata": {
      "needs_background": "light"
     },
     "output_type": "display_data"
    }
   ],
   "source": [
    "# Styling the graphs\n",
    "#1. colours\n",
    "import matplotlib.pyplot as plt\n",
    "import numpy as np\n",
    "y = np.arange(1,5)\n",
    "plt.plot(y, 'y')\n",
    "plt.plot(y+10, 'm')\n",
    "plt.plot(y+20, 'c')\n",
    "plt.show()"
   ]
  },
  {
   "cell_type": "code",
   "execution_count": 132,
   "metadata": {},
   "outputs": [
    {
     "data": {
      "image/png": "[encoded data removed]",
      "text/plain": [
       "<Figure size 432x288 with 1 Axes>"
      ]
     },
     "metadata": {
      "needs_background": "light"
     },
     "output_type": "display_data"
    }
   ],
   "source": [
    "# Line styling\n",
    "import matplotlib.pyplot as plt\n",
    "import numpy as np\n",
    "y = np.arange(1,5)\n",
    "plt.plot(y,'--',\n",
    "        y*2, '-.',\n",
    "        y*5, ':')\n",
    "plt.show()"
   ]
  },
  {
   "cell_type": "code",
   "execution_count": 133,
   "metadata": {
    "scrolled": true
   },
   "outputs": [
    {
     "data": {
      "image/png": "[encoded data removed]",
      "text/plain": [
       "<Figure size 432x288 with 1 Axes>"
      ]
     },
     "metadata": {
      "needs_background": "light"
     },
     "output_type": "display_data"
    }
   ],
   "source": [
    "# Shapes\n",
    "import matplotlib.pyplot as plt\n",
    "import numpy as np\n",
    "y = np.arange(1,5)\n",
    "plt.plot(y, '*',\n",
    "        y+1, 'o',\n",
    "        y+2, 'D',\n",
    "        y+3, '^',\n",
    "        y+4,'s')\n",
    "plt.show()"
   ]
  },
  {
   "cell_type": "code",
   "execution_count": null,
   "metadata": {},
   "outputs": [],
   "source": []
  }
 ],
 "metadata": {
  "kernelspec": {
   "display_name": "Python 3",
   "language": "python",
   "name": "python3"
  },
  "language_info": {
   "codemirror_mode": {
    "name": "ipython",
    "version": 3
   },
   "file_extension": ".py",
   "mimetype": "text/x-python",
   "name": "python",
   "nbconvert_exporter": "python",
   "pygments_lexer": "ipython3",
   "version": "3.6.5"
  }
 },
 "nbformat": 4,
 "nbformat_minor": 2
}
