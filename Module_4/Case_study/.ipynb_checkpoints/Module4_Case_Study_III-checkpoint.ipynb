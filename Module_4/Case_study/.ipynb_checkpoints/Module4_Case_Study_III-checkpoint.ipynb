{
 "cells": [
  {
   "cell_type": "code",
   "execution_count": null,
   "metadata": {},
   "outputs": [],
   "source": [
    "import pandas as pd\n",
    "import numpy as np\n",
    "import matplotlib.pyplot as plt"
   ]
  },
  {
   "cell_type": "markdown",
   "metadata": {},
   "source": [
    "### Q1. You are given a dataset, which is present in the LMS, containing the number of hurricanes occurring in the United States along the coast of the Atlantic. Load the data from the dataset into your program and plot a Bar Graph of the data, taking the Year as the x-axis and the number of hurricanes occurring as the Y-axis.  \n",
    " "
   ]
  },
  {
   "cell_type": "code",
   "execution_count": null,
   "metadata": {},
   "outputs": [],
   "source": [
    "hurricane = pd.read_csv(r'C:\\Users\\nimesh.yadav\\Desktop\\Python\\Module_4\\Datasets\\Hurricanes.csv')\n",
    "hurricane.head()"
   ]
  },
  {
   "cell_type": "code",
   "execution_count": null,
   "metadata": {},
   "outputs": [],
   "source": [
    "plt.bar(hurricane['Year'],hurricane['Hurricanes'])\n",
    "plt.xlabel('Year')\n",
    "plt.ylabel('Number of Hurricanes')\n",
    "plt.title('Hurricanes occuring every year ')\n",
    "#plt.xticks(rotation = 90)\n",
    "plt.show()"
   ]
  },
  {
   "cell_type": "markdown",
   "metadata": {},
   "source": [
    "### Q2. The dataset given, records data of city temperatures over the years’ 2014 and 2015. Plot the histogram of the temperatures over this period for the cities of San Francisco and Moscow. "
   ]
  },
  {
   "cell_type": "code",
   "execution_count": null,
   "metadata": {},
   "outputs": [],
   "source": [
    "city_temp = pd.read_csv(r'C:\\Users\\nimesh.yadav\\Desktop\\Python\\Module_4\\Datasets\\CityTemps.csv')\n",
    "city_temp.head()"
   ]
  },
  {
   "cell_type": "code",
   "execution_count": null,
   "metadata": {},
   "outputs": [],
   "source": [
    "plt.hist([city_temp.Moscow,city_temp['San Francisco']],label=['Moscow','San Francisco'])\n",
    "plt.xlabel('Temperatures range')\n",
    "plt.ylabel('Frequency of temperature in given Years')\n",
    "plt.title('Frequecy of Temp. range in year of 2014 and 2015')\n",
    "plt.legend()\n",
    "plt.show()"
   ]
  },
  {
   "cell_type": "markdown",
   "metadata": {},
   "source": [
    "### Q3. Create csv file from the data file available in LMS which goes by the name ‘M4_assign_dataset’ and read this file into a pandas data frame"
   ]
  },
  {
   "cell_type": "code",
   "execution_count": null,
   "metadata": {},
   "outputs": [],
   "source": [
    "pd.read_csv(r'C:\\Users\\nimesh.yadav\\Desktop\\Python\\Module_4\\os96pz8d4p\\data_file.txt',sep=\",\").to_csv(\n",
    "    r'C:\\Users\\nimesh.yadav\\Desktop\\Python\\Module_4\\Case_study\\M4_assign_dataset.csv',index=None\n",
    ")"
   ]
  },
  {
   "cell_type": "code",
   "execution_count": null,
   "metadata": {},
   "outputs": [],
   "source": [
    "df = pd.read_csv(r'C:\\Users\\nimesh.yadav\\Desktop\\Python\\Module_4\\Case_study\\M4_assign_dataset.csv')\n",
    "df.head()"
   ]
  },
  {
   "cell_type": "markdown",
   "metadata": {},
   "source": [
    "### Q4. Let the x axis data points and y axis data points are\n",
    "- X = [1,2,3,4] \n",
    "- y = [20, 21, 20.5, 20.8]"
   ]
  },
  {
   "cell_type": "code",
   "execution_count": null,
   "metadata": {},
   "outputs": [],
   "source": [
    "X = np.array([1,2,3,4])\n",
    "y = np.array([20,21,5,20,8])"
   ]
  },
  {
   "cell_type": "code",
   "execution_count": null,
   "metadata": {},
   "outputs": [],
   "source": [
    "# 5.1: Draw a Simple plot\n",
    "\n",
    "plt.plot(X)\n",
    "plt.show()\n",
    "plt.plot(y)\n",
    "plt.show()"
   ]
  },
  {
   "cell_type": "code",
   "execution_count": null,
   "metadata": {},
   "outputs": [],
   "source": [
    "# 5.2: Configure the line and markers in simple plot\n",
    "plt.plot(X,linestyle='--',marker='o',color='b')\n",
    "plt.show()\n",
    "plt.plot(y,linestyle='--',marker='o',color='r')\n",
    "plt.show()"
   ]
  },
  {
   "cell_type": "code",
   "execution_count": null,
   "metadata": {},
   "outputs": [],
   "source": [
    "# 5.3: configure the axes\n",
    "# 5.4: Give title of Graph & labels of x axis and y axis \n",
    "plt.plot(X)\n",
    "plt.axis([0,2,0,3])\n",
    "plt.xlabel('Index position')\n",
    "plt.ylabel('Elements value in X array')\n",
    "plt.title('X array plot with Limiting axes')\n",
    "plt.show()\n",
    "plt.plot(y)\n",
    "plt.axis([0,3,2,15])\n",
    "plt.xlabel('Index position')\n",
    "plt.ylabel('Elements value in y array')\n",
    "plt.title('y array plot with Limiting axes')\n",
    "plt.show()"
   ]
  },
  {
   "cell_type": "code",
   "execution_count": null,
   "metadata": {},
   "outputs": [],
   "source": [
    "## 5.5: Give error bar if  y_error = [0.12, 0.13, 0.2, 0.1]\n",
    "## 5.6: define width, height as figsize=(4,5) DPI and adjust plot dpi=100 \n",
    "## 5.7: Give a font size of 14\n",
    "\n",
    "y_error = [0.12, 0.13, 0.2, 0.1]\n",
    "plt.figure(figsize=(4,5),dpi=100)\n",
    "plt.rc('font',size = 14)\n",
    "plt.bar(X,y_error)\n",
    "plt.title('Errors for given input')\n",
    "plt.xlabel('Input X')\n",
    "plt.ylabel('Output Y')\n",
    "plt.show()"
   ]
  },
  {
   "cell_type": "code",
   "execution_count": null,
   "metadata": {},
   "outputs": [],
   "source": [
    "## 5.8: Draw a scatter graph of any 50 random values of x and y axis \n",
    "a = np.random.randint(0,10,50)\n",
    "b = np.random.randint(0,30,50)\n",
    "plt.scatter(a,b)\n",
    "plt.title('Scatter graph of any 50 random values')\n",
    "plt.show()"
   ]
  },
  {
   "cell_type": "code",
   "execution_count": null,
   "metadata": {},
   "outputs": [],
   "source": [
    "## 5.9: Create a dataframe from following data \n",
    "df = pd.DataFrame({'first_name': ['Jason', 'Molly', 'Tina', 'Jake', 'Amy'],\n",
    "                   'last_name': ['Miller', 'Jacobson', 'Ali', 'Milner', 'Cooze'],\n",
    "                   'female': [0, 1, 1, 0, 1], 'age': [42, 52, 36, 24, 73],\n",
    "                   'preTestScore': [4, 24, 31, 2, 3], 'postTestScore': [25, 94, 57, 62, 70]})\n",
    "df"
   ]
  },
  {
   "cell_type": "code",
   "execution_count": null,
   "metadata": {},
   "outputs": [],
   "source": [
    "## Draw a Scatterplot of preTestScore and postTestScore, with the size of each point determined by age\n",
    "scores = [tuple(df['preTestScore']),tuple(df['postTestScore'])]\n",
    "for x,y in zip(df['age'],scores):\n",
    "    plt.scatter(x*len(y),y)\n",
    "plt.xticks([1,2])\n",
    "\n",
    "plt.axes().set_xticklabels(['preTestScore','postTestScore'])\n",
    "plt.title(\"preTestScore vs Age\")\n",
    "\n",
    "plt.show()"
   ]
  },
  {
   "cell_type": "code",
   "execution_count": null,
   "metadata": {},
   "outputs": [],
   "source": []
  }
 ],
 "metadata": {
  "kernelspec": {
   "display_name": "Python 3",
   "language": "python",
   "name": "python3"
  },
  "language_info": {
   "codemirror_mode": {
    "name": "ipython",
    "version": 3
   },
   "file_extension": ".py",
   "mimetype": "text/x-python",
   "name": "python",
   "nbconvert_exporter": "python",
   "pygments_lexer": "ipython3",
   "version": "3.6.5"
  }
 },
 "nbformat": 4,
 "nbformat_minor": 2
}
